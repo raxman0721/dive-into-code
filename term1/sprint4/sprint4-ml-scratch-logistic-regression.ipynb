{
 "cells": [
  {
   "cell_type": "code",
   "execution_count": 1,
   "metadata": {
    "ExecuteTime": {
     "end_time": "2019-05-19T09:29:49.766686Z",
     "start_time": "2019-05-19T09:29:48.184117Z"
    }
   },
   "outputs": [],
   "source": [
    "import math\n",
    "import numpy as np\n",
    "import pandas as pd\n",
    "import matplotlib.pyplot as plt\n",
    "%matplotlib inline\n",
    "import japanize_matplotlib\n",
    "import seaborn as sns\n",
    "from sklearn.datasets import load_iris\n",
    "from sklearn.preprocessing import PolynomialFeatures\n",
    "from sklearn.linear_model import LinearRegression\n",
    "from sklearn.model_selection import train_test_split\n",
    "from sklearn.preprocessing import StandardScaler\n",
    "import sys\n",
    "sys.path.append(\n",
    "    '/Users/takahashiakira/Documents/DIC/diveintocode-ml/ ml-scratch/model')\n",
    "sys.path.append(\n",
    "    '/Users/takahashiakira/Documents/DIC/diveintocode-ml/ ml-scratch/utils')\n",
    "from split import train_test_split\n",
    "from decision_region import decision_region2"
   ]
  },
  {
   "cell_type": "markdown",
   "metadata": {
    "heading_collapsed": true
   },
   "source": [
    "# 【問題1】ロジスティック回帰のクラスを作成する"
   ]
  },
  {
   "cell_type": "markdown",
   "metadata": {
    "heading_collapsed": true,
    "hidden": true
   },
   "source": [
    "## シグモイド関数"
   ]
  },
  {
   "cell_type": "markdown",
   "metadata": {
    "hidden": true
   },
   "source": [
    "コーディング  \n",
    "シグモイド関数を実装しましょう。  \n",
    "\n",
    "$$ g(z) = \\frac{1}{1+e^{−z}} $$  \n",
    "\n",
    "正しく動作しているかを確認するために、この関数に-10から10の値を入力したときの出力をプロットしておいてください。"
   ]
  },
  {
   "cell_type": "code",
   "execution_count": 2,
   "metadata": {
    "ExecuteTime": {
     "end_time": "2019-05-19T09:29:49.771673Z",
     "start_time": "2019-05-19T09:29:49.769072Z"
    },
    "code_folding": [],
    "hidden": true
   },
   "outputs": [],
   "source": [
    "#　シグモイド関数を数式の通り作成\n",
    "def sigmoid(z):\n",
    "    return 1 / (1 + (math.e**-z))"
   ]
  },
  {
   "cell_type": "code",
   "execution_count": 3,
   "metadata": {
    "ExecuteTime": {
     "end_time": "2019-05-19T09:29:50.152826Z",
     "start_time": "2019-05-19T09:29:49.773451Z"
    },
    "hidden": true,
    "scrolled": true
   },
   "outputs": [
    {
     "data": {
      "text/plain": [
       "Text(0.5, 1.0, 'シグモイド曲線')"
      ]
     },
     "execution_count": 3,
     "metadata": {},
     "output_type": "execute_result"
    },
    {
     "data": {
      "image/png": "[encoded data removed]",
      "text/plain": [
       "<Figure size 432x288 with 1 Axes>"
      ]
     },
     "metadata": {
      "needs_background": "light"
     },
     "output_type": "display_data"
    }
   ],
   "source": [
    "# -10から10までの値を検証\n",
    "sample = np.arange(-10, 10.01, 0.01)\n",
    "# 関数を通して出力\n",
    "g = sigmoid(sample)\n",
    "# 可視化\n",
    "sns.lineplot(x=sample, y=g, lw=5)\n",
    "plt.title('シグモイド曲線')"
   ]
  },
  {
   "cell_type": "markdown",
   "metadata": {
    "heading_collapsed": true,
    "hidden": true
   },
   "source": [
    "## 目的関数"
   ]
  },
  {
   "cell_type": "markdown",
   "metadata": {
    "hidden": true
   },
   "source": [
    "以下の数式で表されるロジスティック回帰の目的関数Jを実装してください。この数式には正則化項が含まれています。\n",
    "\n",
    "$$ h_θ(x) = g(θ^T x).\\\\ $$\n",
    "\n",
    "$$ g(z) = \\frac{1}{1+e^{−z}}.\\\\ $$\n",
    "\n",
    "$$ J(\\theta)=  \\frac{1}{m}  \\sum_{i=1}^{m}[−y^{(i)} log(h_θ(x^{(i)})) − (1−y^{(i)}) log(1−h_θ(x^{(i)}))] + \\frac{λ}{2m}\\sum_{j=1}^n\n",
    "θ^2_j.\\\\ $$"
   ]
  },
  {
   "cell_type": "markdown",
   "metadata": {
    "hidden": true
   },
   "source": [
    "$ m $: 入力されるデータの数  \n",
    "$ h_θ() $ : 仮定関数  \n",
    "$ x $ : 特徴量ベクトル  \n",
    "$ θ $ : パラメータベクトル  \n",
    "$ g() $ : シグモイド関数  \n",
    "$ x^{(i)} $ : i番目のサンプルの特徴量ベクトル  \n",
    "$ y^{(i)} $ : i番目のサンプルの正解ラベル  \n",
    "$ θ_j $ : j番目のパラメータ（重み）  \n",
    "$ n $ : 特徴量の数  \n",
    "$ λ $ : 正則化パラメータ"
   ]
  },
  {
   "cell_type": "markdown",
   "metadata": {
    "hidden": true
   },
   "source": [
    "### まずは仮定関数を作成"
   ]
  },
  {
   "cell_type": "markdown",
   "metadata": {
    "hidden": true
   },
   "source": [
    "$$ h_θ(\\mathbf{X}) = g(\\mathbf{X}\\cdot \\mathbf{θ}^T).\\\\ $$"
   ]
  },
  {
   "cell_type": "code",
   "execution_count": 4,
   "metadata": {
    "ExecuteTime": {
     "end_time": "2019-05-19T09:29:50.157287Z",
     "start_time": "2019-05-19T09:29:50.154215Z"
    },
    "hidden": true
   },
   "outputs": [],
   "source": [
    "# 仮定関数を作成\n",
    "def _rogit_hypothesis(X, theta):\n",
    "    \"\"\"\n",
    "    ロジスティック回帰の仮定関数を計算する\n",
    "\n",
    "    Parameters\n",
    "    ----------\n",
    "    X : 次の形のndarray, shape (n_samples, n_features)\n",
    "      学習データ\n",
    "    theta:次の形のndarray, shape (1,n_features)    \n",
    "    パラメータ\n",
    "\n",
    "    Returns\n",
    "    -------\n",
    "    output :次の形のndarray, shape (n_samples, 1)\n",
    "      ロジスティック回帰の仮定関数による推定結果\n",
    "\n",
    "    \"\"\"\n",
    "    # outputの算出。線形回帰の入力にそれぞれシグモイド関数を入れるだけ\n",
    "    output = sigmoid(np.dot(X, theta.T))\n",
    "    return output"
   ]
  },
  {
   "cell_type": "code",
   "execution_count": 5,
   "metadata": {
    "ExecuteTime": {
     "end_time": "2019-05-19T09:29:50.163874Z",
     "start_time": "2019-05-19T09:29:50.159008Z"
    },
    "hidden": true
   },
   "outputs": [
    {
     "data": {
      "text/plain": [
       "array([[0.71281681],\n",
       "       [0.97980702],\n",
       "       [0.99894687],\n",
       "       [0.99994607],\n",
       "       [0.99999724],\n",
       "       [0.99999986],\n",
       "       [0.99999999],\n",
       "       [1.        ],\n",
       "       [1.        ],\n",
       "       [1.        ]])"
      ]
     },
     "execution_count": 5,
     "metadata": {},
     "output_type": "execute_result"
    }
   ],
   "source": [
    "# 動作確認\n",
    "# X(10,3)のサンプルを作成\n",
    "X = np.arange(30).reshape(10, 3)\n",
    "# theta(1,3)\n",
    "theta = np.random.rand(3).reshape(1, 3)\n",
    "# 関数の入力\n",
    "out = _rogit_hypothesis(X, theta)\n",
    "out"
   ]
  },
  {
   "cell_type": "markdown",
   "metadata": {
    "hidden": true
   },
   "source": [
    "確率っぽく出力された"
   ]
  },
  {
   "cell_type": "markdown",
   "metadata": {
    "hidden": true
   },
   "source": [
    "### 目的関数を作成"
   ]
  },
  {
   "cell_type": "markdown",
   "metadata": {
    "hidden": true
   },
   "source": [
    "$$ J(\\theta)=  \\frac{1}{m}  \\sum[−\\mathbf{y}\\cdot log(output) − (1−\\mathbf{y}) log(1−output))] + \\frac{λ}{2m}\\sum_{j=1}^n\n",
    "θ^2_j.\\\\ $$"
   ]
  },
  {
   "cell_type": "code",
   "execution_count": 6,
   "metadata": {
    "ExecuteTime": {
     "end_time": "2019-05-19T09:29:50.170062Z",
     "start_time": "2019-05-19T09:29:50.165179Z"
    },
    "code_folding": [],
    "hidden": true
   },
   "outputs": [],
   "source": [
    "def cloth_entropy(output, y, l2, theta):\n",
    "    \"\"\"\n",
    "    クロスエントロピーの出力\n",
    "\n",
    "    Parameters\n",
    "    ----------\n",
    "    output :次の形のndarray, shape (n_samples, 1)\n",
    "      ロジスティック回帰の仮定関数による推定結果\n",
    "    y : 次の形のndarray, shape (n_samples,)\n",
    "      正解値\n",
    "    l2 : float\n",
    "        正則化\n",
    "    theta:次の形のndarray, shape (1,n_features)    \n",
    "    パラメータ\n",
    "\n",
    "    Returns\n",
    "    ----------\n",
    "    mse : numpy.float\n",
    "      平均二乗誤差\n",
    "    \"\"\"\n",
    "    # サンプル数\n",
    "    m = len(y)\n",
    "    # yのreshape\n",
    "    y = y.reshape(-1, 1)\n",
    "    # 左側の式のΣを取る前\n",
    "    errors = -y * np.log(output) - (1 - y) * np.log(1 - output)\n",
    "    # その合計の平均\n",
    "    mokuteki = errors.sum() / m\n",
    "    # 正則化項\n",
    "    l2_norm = (l2 / (2 * m)) * (np.sum(theta**2))\n",
    "    # ２つを足す\n",
    "    syuturyoku = mokuteki + l2_norm\n",
    "\n",
    "    return syuturyoku"
   ]
  },
  {
   "cell_type": "code",
   "execution_count": 7,
   "metadata": {
    "ExecuteTime": {
     "end_time": "2019-05-19T09:29:50.178753Z",
     "start_time": "2019-05-19T09:29:50.173112Z"
    },
    "hidden": true,
    "scrolled": false
   },
   "outputs": [
    {
     "data": {
      "text/plain": [
       "3.463489370080235"
      ]
     },
     "execution_count": 7,
     "metadata": {},
     "output_type": "execute_result"
    }
   ],
   "source": [
    "# 仮真値の作成\n",
    "y = np.concatenate([np.zeros(5), np.ones(5)]).reshape(-1, 1)\n",
    "cloth_entropy(out, y, 0.001, theta)"
   ]
  },
  {
   "cell_type": "markdown",
   "metadata": {
    "hidden": true
   },
   "source": [
    "多分大丈夫"
   ]
  },
  {
   "cell_type": "markdown",
   "metadata": {
    "heading_collapsed": true,
    "hidden": true
   },
   "source": [
    "## 最急降下法"
   ]
  },
  {
   "cell_type": "code",
   "execution_count": 8,
   "metadata": {
    "ExecuteTime": {
     "end_time": "2019-05-19T09:29:50.184139Z",
     "start_time": "2019-05-19T09:29:50.180291Z"
    },
    "hidden": true
   },
   "outputs": [],
   "source": [
    "def _gradient_descent(X_copy, output, y, l2, coef_):\n",
    "    \"\"\"\n",
    "    最急降下法の計算\n",
    "    Parameters\n",
    "    ----------\n",
    "    X_copy : 次の形のndarray, shape (n_samples,1+n_features)\n",
    "    説明変数の頭に全て１を加えたもの   \n",
    "    error : 次の形のndarray, shape (n_samples,)\n",
    "    誤差\n",
    "    eturns\n",
    "    ----------\n",
    "    coef_ : 次の形のndarray, shape (1,n_features)\n",
    "    更新後のパラメータ\n",
    "    \"\"\"\n",
    "    errors = output - y\n",
    "    # 各勾配を計算\n",
    "    grads = np.dot(errors.T, X_copy) / len(X_copy)\n",
    "    # それぞれのcoef_を更新する。\n",
    "    coef_ -= grads\n",
    "    # 更にcoefが１以上のものに正則化項を加える。\n",
    "    coef_[:, 1:] -= l2 / len(X_copy) * coef_[:, 1:]\n",
    "    return coef_, grads"
   ]
  },
  {
   "cell_type": "code",
   "execution_count": 9,
   "metadata": {
    "ExecuteTime": {
     "end_time": "2019-05-19T09:29:50.195215Z",
     "start_time": "2019-05-19T09:29:50.186399Z"
    },
    "hidden": true
   },
   "outputs": [],
   "source": [
    "# データをロード\n",
    "data = load_iris()\n",
    "# 特徴量をdfとして作成\n",
    "X = pd.DataFrame(data.data, columns=data.feature_names)\n",
    "# ターゲットをdfとして作成\n",
    "y = pd.DataFrame(data.target, columns=['Species'])\n",
    "# Xとyを結合\n",
    "df = X.join(y)\n",
    "df = df[df.Species != 2].reset_index(drop=True)\n",
    "\n",
    "X = df.drop('Species', axis=1).values\n",
    "y = df.Species.values"
   ]
  },
  {
   "cell_type": "code",
   "execution_count": 10,
   "metadata": {
    "ExecuteTime": {
     "end_time": "2019-05-19T09:29:50.201353Z",
     "start_time": "2019-05-19T09:29:50.197261Z"
    },
    "hidden": true
   },
   "outputs": [],
   "source": [
    "# あやめを使う\n",
    "scaler = StandardScaler()\n",
    "X_std = scaler.fit_transform(X)\n",
    "# Xを複製する\n",
    "X_copy = X_std.copy()\n",
    "# all1の定数の追加\n",
    "X_copy = np.hstack((np.ones((len(X), 1)), X_copy))\n",
    "# Xの特徴量の\n",
    "n_features = X_copy.shape[1]\n",
    "# 仮coef_の作成（初期値はランダム）\n",
    "coef_ = np.random.rand(1, n_features)\n",
    "y = y.reshape(-1, 1)"
   ]
  },
  {
   "cell_type": "code",
   "execution_count": 11,
   "metadata": {
    "ExecuteTime": {
     "end_time": "2019-05-19T09:29:50.205597Z",
     "start_time": "2019-05-19T09:29:50.202797Z"
    },
    "hidden": true
   },
   "outputs": [],
   "source": [
    "def pred(X, coef_):\n",
    "    return sigmoid(\n",
    "        (coef_[:, 0] + np.sum(coef_[:, 1:] * X, axis=1)).reshape(len(X), 1))"
   ]
  },
  {
   "cell_type": "code",
   "execution_count": 12,
   "metadata": {
    "ExecuteTime": {
     "end_time": "2019-05-19T09:29:50.213333Z",
     "start_time": "2019-05-19T09:29:50.206999Z"
    },
    "hidden": true,
    "scrolled": true
   },
   "outputs": [
    {
     "name": "stdout",
     "output_type": "stream",
     "text": [
      "[[ 0.03779315 -0.08676017  0.16377024 -0.15637251 -0.15235097]]\n",
      "[[0.30465915 0.31526114 0.00877512 0.97577703 1.01466284]]\n",
      "[[0.12819954]\n",
      " [0.11660946]\n",
      " [0.10086402]\n",
      " [0.10875034]\n",
      " [0.1229801 ]\n",
      " [0.23189812]\n",
      " [0.12075965]\n",
      " [0.13004777]\n",
      " [0.09332783]\n",
      " [0.10565789]\n",
      " [0.15479165]\n",
      " [0.12656974]\n",
      " [0.09494002]\n",
      " [0.0627022 ]\n",
      " [0.15480057]\n",
      " [0.23584545]\n",
      " [0.18720959]\n",
      " [0.14975417]\n",
      " [0.22587028]\n",
      " [0.15931297]\n",
      " [0.17254172]\n",
      " [0.18471121]\n",
      " [0.0807178 ]\n",
      " [0.23570635]\n",
      " [0.15075783]\n",
      " [0.1370217 ]\n",
      " [0.18663926]\n",
      " [0.14185826]\n",
      " [0.13360674]\n",
      " [0.12081914]\n",
      " [0.12596004]\n",
      " [0.20715747]\n",
      " [0.12246088]\n",
      " [0.15360907]\n",
      " [0.12396142]\n",
      " [0.10840034]\n",
      " [0.14342606]\n",
      " [0.10026117]\n",
      " [0.08790596]\n",
      " [0.13573678]\n",
      " [0.1354552 ]\n",
      " [0.10692413]\n",
      " [0.08820182]\n",
      " [0.24800692]\n",
      " [0.22929675]\n",
      " [0.13080367]\n",
      " [0.14478092]\n",
      " [0.10253383]\n",
      " [0.14844117]\n",
      " [0.12238526]\n",
      " [0.96812628]\n",
      " [0.9593966 ]\n",
      " [0.97535228]\n",
      " [0.88104077]\n",
      " [0.96345973]\n",
      " [0.92045628]\n",
      " [0.96864944]\n",
      " [0.66663246]\n",
      " [0.95084863]\n",
      " [0.87807747]\n",
      " [0.70481046]\n",
      " [0.93755093]\n",
      " [0.84632166]\n",
      " [0.95090533]\n",
      " [0.85718856]\n",
      " [0.95523981]\n",
      " [0.94068549]\n",
      " [0.84345334]\n",
      " [0.9545782 ]\n",
      " [0.83573694]\n",
      " [0.97490964]\n",
      " [0.9095205 ]\n",
      " [0.96677942]\n",
      " [0.93092188]\n",
      " [0.93466935]\n",
      " [0.95299808]\n",
      " [0.96691766]\n",
      " [0.98212048]\n",
      " [0.95070679]\n",
      " [0.77329329]\n",
      " [0.81876029]\n",
      " [0.77900434]\n",
      " [0.87098822]\n",
      " [0.9718624 ]\n",
      " [0.9349296 ]\n",
      " [0.95887216]\n",
      " [0.96905322]\n",
      " [0.93510916]\n",
      " [0.89399844]\n",
      " [0.88142638]\n",
      " [0.89071134]\n",
      " [0.94774011]\n",
      " [0.87820466]\n",
      " [0.67711125]\n",
      " [0.89974358]\n",
      " [0.88783748]\n",
      " [0.90442947]\n",
      " [0.92837411]\n",
      " [0.68375141]\n",
      " [0.89825118]]\n"
     ]
    }
   ],
   "source": [
    "out = _rogit_hypothesis(X_copy, coef_)\n",
    "coef_, grads = _gradient_descent(X_copy, out, y, l2=0.1, coef_=coef_)\n",
    "y_pred = pred(X_std, coef_)\n",
    "print(grads)\n",
    "print(coef_)\n",
    "print(y_pred)"
   ]
  },
  {
   "cell_type": "markdown",
   "metadata": {
    "heading_collapsed": true,
    "hidden": true
   },
   "source": [
    "## 実装"
   ]
  },
  {
   "cell_type": "code",
   "execution_count": 13,
   "metadata": {
    "ExecuteTime": {
     "end_time": "2019-05-19T09:29:50.237939Z",
     "start_time": "2019-05-19T09:29:50.215306Z"
    },
    "hidden": true
   },
   "outputs": [],
   "source": [
    "class ScratchLogisticRegression():\n",
    "    \"\"\"\n",
    "    ロジスティック回帰のスクラッチ実装\n",
    "\n",
    "    Parameters\n",
    "    ----------\n",
    "    num_iter : int\n",
    "      イテレーション数\n",
    "    lr : float\n",
    "      学習率\n",
    "    fit_intercept : bool\n",
    "      バイアス項を入れない場合はFalse\n",
    "    verbose : bool\n",
    "      学習過程を出力する場合はTrue\n",
    "\n",
    "    Attributes\n",
    "    ----------\n",
    "    self.coef_ : 次の形のndarray, shape (n_features,)\n",
    "      パラメータ\n",
    "    self.intercept : 次の形のndarray, shape (1)\n",
    "      切片\n",
    "    self.entropy : 次の形のndarray, shape (self._iter,)\n",
    "      学習用データに対する損失の記録\n",
    "    self._sum_grad: 次の形のndarray, shape (self._iter,)\n",
    "      学習注の勾配合計の推移\n",
    "\n",
    "    \"\"\"\n",
    "\n",
    "    def __init__(self,\n",
    "                 num_iter=1000,\n",
    "                 lr=1e-2,\n",
    "                 l2=1e-2,\n",
    "                 fit_intercept=True,\n",
    "                 verbose=False):\n",
    "        # ハイパーパラメータを属性として記録\n",
    "        self._iter = num_iter\n",
    "        self._lr = lr\n",
    "        self._l2 = l2\n",
    "        self._fit_intercept = fit_intercept\n",
    "        self._verbose = verbose\n",
    "        self.coef_ = None  # 仮coef_の作成（初期値はランダム）\n",
    "        self.r_score = None \n",
    "        self.intercept = None\n",
    "\n",
    "        # エントロピーを記録する配列を用意\n",
    "        self.entropy = np.zeros(self._iter)\n",
    "\n",
    "        # 勾配合計を記録する配列を作成\n",
    "        self._sum_grad = np.zeros(self._iter)\n",
    "\n",
    "    #　シグモイド関数を数式の通り作成\n",
    "    def _sigmoid(self, z):\n",
    "        return 1 / (1 + (math.e**-z))\n",
    "\n",
    "    # ロジスティック回帰の仮定関数\n",
    "    def _rogit_hypothesis(self, X):\n",
    "        \"\"\"\n",
    "        ロジスティック回帰の仮定関数を計算する\n",
    "\n",
    "        Parameters\n",
    "        ----------\n",
    "        X : 次の形のndarray, shape (n_samples, n_features)\n",
    "          学習データ\n",
    "        coef_:次の形のndarray, shape (1,n_features)    \n",
    "        パラメータ\n",
    "\n",
    "        Returns\n",
    "        -------\n",
    "        output :次の形のndarray, shape (n_samples, 1)\n",
    "          ロジスティック回帰の仮定関数による推定結果\n",
    "\n",
    "        \"\"\"\n",
    "        # outputの算出。ロジスティック回帰の入力にそれぞれシグモイド関数を入れるだけ\n",
    "        output = self._sigmoid(np.dot(X, self.coef_.T))\n",
    "        return output\n",
    "\n",
    "    # クロスエントロピー関数\n",
    "    def _cross_entropy(self, output, y):\n",
    "        \"\"\"\n",
    "        クロスエントロピーの出力\n",
    "\n",
    "        Parameters\n",
    "        ----------\n",
    "        output :次の形のndarray, shape (n_samples, 1)\n",
    "          ロジスティック回帰の仮定関数による推定結果\n",
    "        y : 次の形のndarray, shape (n_samples,)\n",
    "          正解値\n",
    "        l2 : float\n",
    "            正則化\n",
    "        coef_:次の形のndarray, shape (1,n_features)    \n",
    "        パラメータ\n",
    "\n",
    "        Returns\n",
    "        ----------\n",
    "        mse : numpy.float\n",
    "          平均二乗誤差\n",
    "        \"\"\"\n",
    "        # yのreshape\n",
    "        y = y.reshape(-1, 1)\n",
    "        # 左側の式のΣを取る前\n",
    "        entropy = np.sum(-y * np.log(output) -\n",
    "                         (1 - y) * np.log(1 - output)) / len(y)\n",
    "        return entropy\n",
    "\n",
    "    def _gradient_descent(self, X, output, y):\n",
    "        \"\"\"\n",
    "        最急降下法の計算\n",
    "        Parameters\n",
    "        ----------\n",
    "        X : 次の形のndarray, shape (n_samples,n_features)\n",
    "        説明変数\n",
    "        error : 次の形のndarray, shape (n_samples,)\n",
    "        誤差\n",
    "        returns\n",
    "        ----------\n",
    "        coef_ : 次の形のndarray, shape (1,n_features)\n",
    "        更新後のパラメータ\n",
    "        \"\"\"\n",
    "\n",
    "        errors = output - y  # 予測との誤差を算出\n",
    "        grads = np.dot(errors.T, X) / len(X)  # Xに誤差をかけて勾配を算出\n",
    "        self.coef_ -= self._lr * grads  # 勾配に学習率をかけたものをcoef_から引いて更新する\n",
    "        return grads\n",
    "\n",
    "    def fit(self, X, y, grad_thre=0.001, l2=1e-2):\n",
    "        \"\"\"\n",
    "        ロジスティック回帰を学習する。\n",
    "\n",
    "        Parameters\n",
    "        ----------\n",
    "        X : 次の形のndarray, shape (n_samples, n_features)\n",
    "            学習用データの特徴量\n",
    "        y : 次の形のndarray, shape (n_samples, )\n",
    "            学習用データの正解値\n",
    "        grad_thre : float\n",
    "            勾配が一定の値以下になったらイテレーションを止めるしきい値\n",
    "        \"\"\"\n",
    "        # エントロピーを記録する配列を用意\n",
    "        self.entropy = np.zeros(self._iter)\n",
    "        self._l2 = l2\n",
    "\n",
    "        # 学習前の準備\n",
    "        X_copy = X.copy()  # X_copyを作成\n",
    "        if self._fit_intercept == True:  # バイアス項が必要な場合はXに1を追加\n",
    "            X_copy = np.hstack((np.ones((len(X), 1)), X_copy))\n",
    "        self.coef_ = np.random.rand(1, X_copy.shape[1])  # 仮coef_の作成（初期値はランダム）\n",
    "        y = y.reshape(-1, 1)  # yをリシェイプ\n",
    "\n",
    "        # 学習開始\n",
    "        for i in range(self._iter):\n",
    "            y_pred_prob = self._rogit_hypothesis(X_copy)  # y_predを算出\n",
    "            self.entropy[i] = self._cross_entropy(\n",
    "                y_pred_prob, y)  # エントロピーを格納\n",
    "            grads = self._gradient_descent(X_copy, y_pred_prob,\n",
    "                                                       y)  # coefを更新\n",
    "\n",
    "            # 正則化項を追加、fit_interceptによって方法が異なる。\n",
    "            if self._fit_intercept:\n",
    "                self.coef_[:, 1:] -= self._lr * (self._l2 / \\\n",
    "                    X_copy.shape[0]) * self.coef_[:, 1:]\n",
    "            else:\n",
    "                self.coef_ -= self._lr * (self._l2 / X_copy.shape[0]) * self.coef_\n",
    "\n",
    "            # 勾配合計をリストに格納\n",
    "            self._sum_grad[i] = grads.sum()\n",
    "\n",
    "            # verboseをTrueにした際は学習過程を出力(100回に一回)\n",
    "            if self._verbose:\n",
    "                if i % 100 == 0:\n",
    "                    print('entropy:{:,.3}'.format(self.entropy[i]))\n",
    "\n",
    "            # 勾配の絶対値がそれなりにひくくなったらイテレーションを止める。\n",
    "            if abs(grads.sum()) < grad_thre:\n",
    "                print('grad < {:,.6}'.format(grad_thre))\n",
    "                print('iter {:,}回で学習終了'.format(i))\n",
    "                break\n",
    "\n",
    "            # 最後まで学習した場合も終了メッセージ\n",
    "            if i == self._iter - 1:\n",
    "                print('iter {:,}回で学習終了'.format(i))\n",
    "\n",
    "        # イテレーションが途中で止まった場合は初めに用意していて残った0配列を削除する\n",
    "        self.entropy = self.entropy[self.entropy != 0]\n",
    "        self._sum_grad = self._sum_grad[self._sum_grad != 0]\n",
    "\n",
    "        # 決定係数を取得する\n",
    "        self.r_score = 1 - (self.entropy[-1] / y.var())\n",
    "\n",
    "        # interceptをcoefから渡して上げる。\n",
    "        if self._fit_intercept == True:\n",
    "            self.intercept = self.coef_[:, 0]\n",
    "\n",
    "\n",
    "    def predict(self, X):\n",
    "        \"\"\"\n",
    "        ロジスティック回帰を使い推定する。\n",
    "\n",
    "        Parameters\n",
    "        ----------\n",
    "        X : 次の形のndarray, shape (n_samples, n_features)\n",
    "            サンプル\n",
    "\n",
    "        Returns\n",
    "        -------\n",
    "        pred:  次の形のndarray, shape (n_samples, 1)\n",
    "            ロジスティック回帰による推定結果\n",
    "        \"\"\"\n",
    "\n",
    "        # バイアスがある場合とない場合でpred結果分け\n",
    "        if self._fit_intercept == True:\n",
    "            pred = np.round(\n",
    "                self._sigmoid(\n",
    "                    (self.coef_[:, 0] +\n",
    "                     np.sum(self.coef_[:, 1:] * X, axis=1)).reshape(len(X),\n",
    "                                                                    1)))\n",
    "        else:\n",
    "            pred = np.round(\n",
    "                _sigmoid(np.sum((self.coef_ * X), axis=1).reshape(len(X), 1)))\n",
    "        return pred\n",
    "    \n",
    "    def predict_prob(self, X):\n",
    "        \"\"\"\n",
    "        ロジスティック回帰を使い確率を推定する。\n",
    "\n",
    "        Parameters\n",
    "        ----------\n",
    "        X : 次の形のndarray, shape (n_samples, n_features)\n",
    "            サンプル\n",
    "\n",
    "        Returns\n",
    "        -------\n",
    "        pred:  次の形のndarray, shape (n_samples, 1)\n",
    "            ロジスティック回帰による推定結果\n",
    "        \"\"\"\n",
    "\n",
    "        # バイアスがある場合とない場合でpred結果分け\n",
    "        if self._fit_intercept == True:\n",
    "            pred = self._sigmoid(\n",
    "                    (self.coef_[:, 0] +\n",
    "                     np.sum(self.coef_[:, 1:] * X, axis=1)).reshape(len(X),\n",
    "                                                                    1))\n",
    "        else:\n",
    "            pred = self._sigmoid(np.sum((self.coef_ * X), axis=1).reshape(len(X), 1))\n",
    "        return pred"
   ]
  },
  {
   "cell_type": "code",
   "execution_count": 14,
   "metadata": {
    "ExecuteTime": {
     "end_time": "2019-05-19T09:29:50.297410Z",
     "start_time": "2019-05-19T09:29:50.239790Z"
    },
    "hidden": true,
    "scrolled": false
   },
   "outputs": [
    {
     "name": "stdout",
     "output_type": "stream",
     "text": [
      "iter 999回で学習終了\n"
     ]
    }
   ],
   "source": [
    "scrath = ScratchLogisticRegression()\n",
    "scrath.fit(X, y)"
   ]
  },
  {
   "cell_type": "code",
   "execution_count": 15,
   "metadata": {
    "ExecuteTime": {
     "end_time": "2019-05-19T09:29:50.303054Z",
     "start_time": "2019-05-19T09:29:50.298669Z"
    },
    "hidden": true,
    "scrolled": true
   },
   "outputs": [],
   "source": [
    "slr = ScratchLogisticRegression()\n",
    "X1 = X[:, :2]\n",
    "X_train, X_test, y_train, y_test = train_test_split(\n",
    "    X1, y, scaler=True)  # train_test_splitの際に標準化をしている"
   ]
  },
  {
   "cell_type": "code",
   "execution_count": 16,
   "metadata": {
    "ExecuteTime": {
     "end_time": "2019-05-19T09:29:50.353956Z",
     "start_time": "2019-05-19T09:29:50.304591Z"
    },
    "hidden": true
   },
   "outputs": [
    {
     "name": "stdout",
     "output_type": "stream",
     "text": [
      "grad < 0.001\n",
      "iter 871回で学習終了\n"
     ]
    }
   ],
   "source": [
    "slr.fit(X_train, y_train)"
   ]
  },
  {
   "cell_type": "markdown",
   "metadata": {
    "heading_collapsed": true
   },
   "source": [
    "# 【問題2】学習曲線のプロット"
   ]
  },
  {
   "cell_type": "code",
   "execution_count": 17,
   "metadata": {
    "ExecuteTime": {
     "end_time": "2019-05-19T09:29:50.358990Z",
     "start_time": "2019-05-19T09:29:50.355268Z"
    },
    "hidden": true
   },
   "outputs": [],
   "source": [
    "# 学習曲線をプロットする関数\n",
    "def loss_plot(train_loss,\n",
    "              val_loss=None,\n",
    "              title='学習曲線',\n",
    "              train_label='train_loss',\n",
    "              test_label='test_loss'):\n",
    "    # lossのリストを入れればプロットする\n",
    "    sns.lineplot(data=train_loss, label=train_label, lw=5)\n",
    "    # もし検証データがあればそれを入れた場合にもプロットする\n",
    "    if val_loss is not None:\n",
    "        sns.lineplot(data=val_loss, label=test_label, lw=5)\n",
    "    plt.title(title)"
   ]
  },
  {
   "cell_type": "code",
   "execution_count": 18,
   "metadata": {
    "ExecuteTime": {
     "end_time": "2019-05-19T09:29:50.612453Z",
     "start_time": "2019-05-19T09:29:50.360371Z"
    },
    "hidden": true
   },
   "outputs": [
    {
     "data": {
      "image/png": "[encoded data removed]",
      "text/plain": [
       "<Figure size 432x288 with 1 Axes>"
      ]
     },
     "metadata": {
      "needs_background": "light"
     },
     "output_type": "display_data"
    }
   ],
   "source": [
    "loss_plot(slr.entropy)"
   ]
  },
  {
   "cell_type": "markdown",
   "metadata": {},
   "source": [
    "# 【問題3】指標値の算出"
   ]
  },
  {
   "cell_type": "markdown",
   "metadata": {
    "heading_collapsed": true
   },
   "source": [
    "# 【問題4】決定領域の可視化"
   ]
  },
  {
   "cell_type": "code",
   "execution_count": 19,
   "metadata": {
    "ExecuteTime": {
     "end_time": "2019-05-19T09:29:50.930268Z",
     "start_time": "2019-05-19T09:29:50.614384Z"
    },
    "hidden": true
   },
   "outputs": [
    {
     "data": {
      "image/png": "[encoded data removed]",
      "text/plain": [
       "<Figure size 720x360 with 3 Axes>"
      ]
     },
     "metadata": {
      "needs_background": "light"
     },
     "output_type": "display_data"
    },
    {
     "data": {
      "text/html": [
       "<div>\n",
       "<style scoped>\n",
       "    .dataframe tbody tr th:only-of-type {\n",
       "        vertical-align: middle;\n",
       "    }\n",
       "\n",
       "    .dataframe tbody tr th {\n",
       "        vertical-align: top;\n",
       "    }\n",
       "\n",
       "    .dataframe thead th {\n",
       "        text-align: right;\n",
       "    }\n",
       "</style>\n",
       "<table border=\"1\" class=\"dataframe\">\n",
       "  <thead>\n",
       "    <tr style=\"text-align: right;\">\n",
       "      <th></th>\n",
       "      <th>f1-score</th>\n",
       "      <th>precision</th>\n",
       "      <th>recall</th>\n",
       "      <th>support</th>\n",
       "    </tr>\n",
       "  </thead>\n",
       "  <tbody>\n",
       "    <tr>\n",
       "      <th>0</th>\n",
       "      <td>1.000</td>\n",
       "      <td>1.000</td>\n",
       "      <td>1.000</td>\n",
       "      <td>35.000</td>\n",
       "    </tr>\n",
       "    <tr>\n",
       "      <th>1</th>\n",
       "      <td>1.000</td>\n",
       "      <td>1.000</td>\n",
       "      <td>1.000</td>\n",
       "      <td>45.000</td>\n",
       "    </tr>\n",
       "    <tr>\n",
       "      <th>micro avg</th>\n",
       "      <td>1.000</td>\n",
       "      <td>1.000</td>\n",
       "      <td>1.000</td>\n",
       "      <td>80.000</td>\n",
       "    </tr>\n",
       "    <tr>\n",
       "      <th>macro avg</th>\n",
       "      <td>1.000</td>\n",
       "      <td>1.000</td>\n",
       "      <td>1.000</td>\n",
       "      <td>80.000</td>\n",
       "    </tr>\n",
       "    <tr>\n",
       "      <th>weighted avg</th>\n",
       "      <td>1.000</td>\n",
       "      <td>1.000</td>\n",
       "      <td>1.000</td>\n",
       "      <td>80.000</td>\n",
       "    </tr>\n",
       "  </tbody>\n",
       "</table>\n",
       "</div>"
      ],
      "text/plain": [
       "              f1-score  precision  recall  support\n",
       "0                1.000      1.000   1.000   35.000\n",
       "1                1.000      1.000   1.000   45.000\n",
       "micro avg        1.000      1.000   1.000   80.000\n",
       "macro avg        1.000      1.000   1.000   80.000\n",
       "weighted avg     1.000      1.000   1.000   80.000"
      ]
     },
     "execution_count": 19,
     "metadata": {},
     "output_type": "execute_result"
    }
   ],
   "source": [
    "decision_region2(X_train=X_train, y_train=y_train, model=slr)"
   ]
  },
  {
   "cell_type": "markdown",
   "metadata": {
    "hidden": true
   },
   "source": [
    "### sklearnを使った場合"
   ]
  },
  {
   "cell_type": "code",
   "execution_count": 20,
   "metadata": {
    "ExecuteTime": {
     "end_time": "2019-05-19T09:29:51.283634Z",
     "start_time": "2019-05-19T09:29:50.931769Z"
    },
    "hidden": true
   },
   "outputs": [
    {
     "name": "stderr",
     "output_type": "stream",
     "text": [
      "/Users/takahashiakira/.pyenv/versions/anaconda3-2019.03/lib/python3.7/site-packages/sklearn/linear_model/logistic.py:433: FutureWarning: Default solver will be changed to 'lbfgs' in 0.22. Specify a solver to silence this warning.\n",
      "  FutureWarning)\n",
      "/Users/takahashiakira/.pyenv/versions/anaconda3-2019.03/lib/python3.7/site-packages/sklearn/utils/validation.py:761: DataConversionWarning: A column-vector y was passed when a 1d array was expected. Please change the shape of y to (n_samples, ), for example using ravel().\n",
      "  y = column_or_1d(y, warn=True)\n"
     ]
    },
    {
     "data": {
      "image/png": "[encoded data removed]",
      "text/plain": [
       "<Figure size 720x360 with 3 Axes>"
      ]
     },
     "metadata": {
      "needs_background": "light"
     },
     "output_type": "display_data"
    },
    {
     "data": {
      "text/html": [
       "<div>\n",
       "<style scoped>\n",
       "    .dataframe tbody tr th:only-of-type {\n",
       "        vertical-align: middle;\n",
       "    }\n",
       "\n",
       "    .dataframe tbody tr th {\n",
       "        vertical-align: top;\n",
       "    }\n",
       "\n",
       "    .dataframe thead th {\n",
       "        text-align: right;\n",
       "    }\n",
       "</style>\n",
       "<table border=\"1\" class=\"dataframe\">\n",
       "  <thead>\n",
       "    <tr style=\"text-align: right;\">\n",
       "      <th></th>\n",
       "      <th>f1-score</th>\n",
       "      <th>precision</th>\n",
       "      <th>recall</th>\n",
       "      <th>support</th>\n",
       "    </tr>\n",
       "  </thead>\n",
       "  <tbody>\n",
       "    <tr>\n",
       "      <th>0</th>\n",
       "      <td>1.000</td>\n",
       "      <td>1.000</td>\n",
       "      <td>1.000</td>\n",
       "      <td>35.000</td>\n",
       "    </tr>\n",
       "    <tr>\n",
       "      <th>1</th>\n",
       "      <td>1.000</td>\n",
       "      <td>1.000</td>\n",
       "      <td>1.000</td>\n",
       "      <td>45.000</td>\n",
       "    </tr>\n",
       "    <tr>\n",
       "      <th>micro avg</th>\n",
       "      <td>1.000</td>\n",
       "      <td>1.000</td>\n",
       "      <td>1.000</td>\n",
       "      <td>80.000</td>\n",
       "    </tr>\n",
       "    <tr>\n",
       "      <th>macro avg</th>\n",
       "      <td>1.000</td>\n",
       "      <td>1.000</td>\n",
       "      <td>1.000</td>\n",
       "      <td>80.000</td>\n",
       "    </tr>\n",
       "    <tr>\n",
       "      <th>weighted avg</th>\n",
       "      <td>1.000</td>\n",
       "      <td>1.000</td>\n",
       "      <td>1.000</td>\n",
       "      <td>80.000</td>\n",
       "    </tr>\n",
       "  </tbody>\n",
       "</table>\n",
       "</div>"
      ],
      "text/plain": [
       "              f1-score  precision  recall  support\n",
       "0                1.000      1.000   1.000   35.000\n",
       "1                1.000      1.000   1.000   45.000\n",
       "micro avg        1.000      1.000   1.000   80.000\n",
       "macro avg        1.000      1.000   1.000   80.000\n",
       "weighted avg     1.000      1.000   1.000   80.000"
      ]
     },
     "execution_count": 20,
     "metadata": {},
     "output_type": "execute_result"
    }
   ],
   "source": [
    "from sklearn.linear_model import LogisticRegression\n",
    "lr = LogisticRegression()\n",
    "lr.fit(X_train, y_train)\n",
    "decision_region2(X_train=X_train, y_train=y_train, model=lr)"
   ]
  },
  {
   "cell_type": "markdown",
   "metadata": {
    "hidden": true
   },
   "source": [
    "## OK"
   ]
  },
  {
   "cell_type": "markdown",
   "metadata": {
    "heading_collapsed": true
   },
   "source": [
    "# 【問題6】分類と回帰"
   ]
  },
  {
   "cell_type": "markdown",
   "metadata": {
    "hidden": true
   },
   "source": [
    "分類と回帰の違い"
   ]
  },
  {
   "cell_type": "markdown",
   "metadata": {
    "ExecuteTime": {
     "end_time": "2019-05-19T09:42:53.257003Z",
     "start_time": "2019-05-19T09:42:53.253704Z"
    },
    "hidden": true
   },
   "source": [
    "分類問題の場合は出力を確率として表現するのでそこが大きく違ってくる。\n",
    "誤差も同様に、確率として出力された値と、正解ラベルの差を誤差として使用する。正しい確率を高めていく。"
   ]
  }
 ],
 "metadata": {
  "kernelspec": {
   "display_name": "Python 3",
   "language": "python",
   "name": "python3"
  },
  "language_info": {
   "codemirror_mode": {
    "name": "ipython",
    "version": 3
   },
   "file_extension": ".py",
   "mimetype": "text/x-python",
   "name": "python",
   "nbconvert_exporter": "python",
   "pygments_lexer": "ipython3",
   "version": "3.7.3"
  },
  "varInspector": {
   "cols": {
    "lenName": 16,
    "lenType": 16,
    "lenVar": 40
   },
   "kernels_config": {
    "python": {
     "delete_cmd_postfix": "",
     "delete_cmd_prefix": "del ",
     "library": "var_list.py",
     "varRefreshCmd": "print(var_dic_list())"
    },
    "r": {
     "delete_cmd_postfix": ") ",
     "delete_cmd_prefix": "rm(",
     "library": "var_list.r",
     "varRefreshCmd": "cat(var_dic_list()) "
    }
   },
   "types_to_exclude": [
    "module",
    "function",
    "builtin_function_or_method",
    "instance",
    "_Feature"
   ],
   "window_display": false
  }
 },
 "nbformat": 4,
 "nbformat_minor": 2
}
