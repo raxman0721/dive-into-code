{
 "cells": [
  {
   "cell_type": "markdown",
   "metadata": {},
   "source": [
    "# sprint13課題 深層学習スクラッチ畳み込みニューラルネットワーク２"
   ]
  },
  {
   "cell_type": "markdown",
   "metadata": {},
   "source": [
    "NumPyなど最低限のライブラリのみを使いアルゴリズムを実装していきます。  \n",
    "Sprint12では1次元畳み込み層を実装しましたが、Sprint13では画像に対して一般的に使われる2次元畳み込み層を実装します。  \n",
    "また、プーリング層なども作成することで、CNNの基本形を完成させます。"
   ]
  },
  {
   "cell_type": "markdown",
   "metadata": {},
   "source": [
    "**データセットの用意**\n",
    "引き続きMNISTデータセットを使用します。2次元畳み込み層へは、28×28の状態で入力します。  \n",
    "今回は白黒画像であるからチャンネルは1つしかありませんが、チャンネル方向の軸は用意しておく必要があります。  \n",
    "(n_samples, n_channels, height, width)のNCHWの形にする。"
   ]
  },
  {
   "cell_type": "markdown",
   "metadata": {},
   "source": [
    "**CNN分類器クラスの作成**\n",
    "2次元畳み込みニューラルネットワークモデルのクラスScratch2dCNNClassifierを作成する。"
   ]
  },
  {
   "cell_type": "markdown",
   "metadata": {},
   "source": [
    "# 【問題1】2次元畳み込み層の作成"
   ]
  },
  {
   "cell_type": "markdown",
   "metadata": {},
   "source": [
    "Sprint12で作成した1次元畳み込み層を発展させ、2次元畳み込み層のクラスConv2dを作成してください。  \n",
    "フォワードプロパゲーションの数式は以下のようになります。"
   ]
  },
  {
   "cell_type": "markdown",
   "metadata": {},
   "source": [
    "$$\n",
    "a_{i,j,m} = \\sum_{k=0}^{K-1}\\sum_{s=0}^{F_{h}-1}\\sum_{t=0}^{F_{w}-1}x_{(i+s),(j+t),k}w_{s,t,k,m}+b_{m}\n",
    "$$"
   ]
  },
  {
   "cell_type": "markdown",
   "metadata": {},
   "source": [
    "$a_{i,j,m}$ : 出力される配列のi行j列、mチャンネルの値  \n",
    "i : 配列の行方向のインデックス  \n",
    "j : 配列の列方向のインデックス  \n",
    "m : 出力チャンネルのインデックス  \n",
    "K : 入力チャンネル数  \n",
    "$F_h,F_w$ : 高さ方向（h）と幅方向（w）のフィルタのサイズ  \n",
    "$x_{(i+s),(j+t),k}$ : 入力の配列の(i+s)行(j+t)列、kチャンネルの値  \n",
    "$w_{s,t,k,m}$ : 重みの配列のs行t列目。kチャンネルの入力に対して、mチャンネルへ出力する重み  \n",
    "$b_m$ : mチャンネルへの出力のバイアス項  \n",
    "全てスカラーです。  \n",
    "\n",
    "次に更新式です。1次元畳み込み層や全結合層と同じ形です。"
   ]
  },
  {
   "cell_type": "markdown",
   "metadata": {},
   "source": [
    "$$\n",
    "w_{s,t,k,m}^{\\prime} = w_{s,t,k,m} - \\alpha \\frac{\\partial L}{\\partial w_{s,t,k,m}} \\\\\n",
    "b_{m}^{\\prime} = b_{m} - \\alpha \\frac{\\partial L}{\\partial b_{m}}\n",
    "$$"
   ]
  },
  {
   "cell_type": "markdown",
   "metadata": {},
   "source": [
    "$α$ : 学習率  \n",
    "$\\frac{∂L}{∂w_{s,t,k,m}} : w_{s,t,k,m}$ に関する損失 L の勾配  \n",
    "$\\frac{∂L}{∂b_m} : b_m$ に関する損失 L の勾配\n",
    "勾配 $\\frac{∂L}{∂w_{s,t,k,m}} や \\frac{∂L}{∂b_m}$ を求めるためのバックプロパゲーションの数式が以下である。"
   ]
  },
  {
   "cell_type": "markdown",
   "metadata": {},
   "source": [
    "$$\n",
    "\\frac{\\partial L}{\\partial w_{s,t,k,m}} = \\sum_{i=0}^{N_{out,h}-1}\\sum_{j=0}^{N_{out,w}-1} \\frac{\\partial L}{\\partial a_{i,j,m}}x_{(i+s)(j+t),k}\\\\\n",
    "\\frac{\\partial L}{\\partial b_{m}} = \\sum_{i=0}^{N_{out,h}-1}\\sum_{j=0}^{N_{out,w}-1}\\frac{\\partial L}{\\partial a_{i,j,m}}\n",
    "$$"
   ]
  },
  {
   "cell_type": "markdown",
   "metadata": {},
   "source": [
    "$\\frac{∂L}{∂a_i}$ : 勾配の配列のi行j列、mチャンネルの値  \n",
    "$N_{out,h},N_{out,w}$ : 高さ方向（h）と幅方向（w）の出力のサイズ  \n",
    "前の層に流す誤差の数式は以下です。"
   ]
  },
  {
   "cell_type": "markdown",
   "metadata": {},
   "source": [
    "$$\n",
    "\\frac{\\partial L}{\\partial x_{i,j,k}} = \\sum_{m=0}^{M-1}\\sum_{s=0}^{F_{h}-1}\\sum_{t=0}^{F_{w}-1} \\frac{\\partial L}{\\partial a_{(i-s),(j-t),m}}w_{s,t,k,m}\n",
    "$$"
   ]
  },
  {
   "cell_type": "markdown",
   "metadata": {},
   "source": [
    "$\\frac{∂L}{∂x_{i,j,k}} $: 前の層に流す誤差の配列のi列j行、kチャンネルの値\n",
    "M : 出力チャンネル数  \n",
    "ただし、$i−s<0 または i−s>N_{out,h}−1 または j−t<0または j−t>N_{out,w}−1 のとき\\frac{∂L}{∂a_{(i−s),(j−t),m}}=0 です。$"
   ]
  },
  {
   "cell_type": "code",
   "execution_count": 2,
   "metadata": {
    "ExecuteTime": {
     "end_time": "2019-07-16T02:11:30.695633Z",
     "start_time": "2019-07-16T02:11:24.697075Z"
    }
   },
   "outputs": [
    {
     "name": "stderr",
     "output_type": "stream",
     "text": [
      "Using TensorFlow backend.\n"
     ]
    }
   ],
   "source": [
    "#インポート\n",
    "from tqdm import tqdm_notebook as tqdm\n",
    "import pyprind\n",
    "import numpy as np\n",
    "import seaborn as sns\n",
    "from sklearn.model_selection import train_test_split\n",
    "from sklearn.metrics import accuracy_score\n",
    "import matplotlib.pyplot as plt\n",
    "from keras.datasets import fashion_mnist\n",
    "from keras.datasets import mnist\n",
    "from sklearn.preprocessing import OneHotEncoder\n",
    "%matplotlib inline"
   ]
  },
  {
   "cell_type": "code",
   "execution_count": 3,
   "metadata": {
    "ExecuteTime": {
     "end_time": "2019-07-16T02:11:30.743515Z",
     "start_time": "2019-07-16T02:11:30.700892Z"
    }
   },
   "outputs": [],
   "source": [
    "class Conv2d:\n",
    "    \"\"\"\n",
    "    2次元畳み込み層クラス\n",
    "    \n",
    "    Parameters\n",
    "    ----------\n",
    "    FN : int\n",
    "      出力チャンネル数（フィルターの個数）\n",
    "    FH : int\n",
    "      フィルターの高さ\n",
    "    FW : int\n",
    "      フィルターの幅\n",
    "    S : int (default: 1)\n",
    "      ストライド\n",
    "    P : int (default: 0)\n",
    "      パディング\n",
    "\n",
    "    Attributes\n",
    "    ----------\n",
    "    group : 'conv'\n",
    "      layerの種類\n",
    "    \n",
    "    \"\"\"\n",
    "\n",
    "    def __init__(self,\n",
    "                 FN=3,\n",
    "                 FH=3,\n",
    "                 FW=3,\n",
    "                 P=0,\n",
    "                 S=1):\n",
    "        # 初期化\n",
    "        # initializerのメソッドを使い、self.Wとself.Bを初期化する           \n",
    "        self.FH = FH\n",
    "        self.FW = FW\n",
    "        self.FN = FN\n",
    "        self.P = P\n",
    "        self.S = S\n",
    "        self.group = 'conv'\n",
    "        \n",
    "    def initialize(self, input_dim,summary, init_type, optimizer, sigma=1e-2, lr=1e-2):\n",
    "        \"\"\"\n",
    "        W,B,initializer,optimizerを初期化するメソッド\n",
    "        \n",
    "        Parameters\n",
    "        ----------        \n",
    "        input_dim :次の形のtuple, (入力チャンネル,高さ,横幅)\n",
    "            入力サイズ\n",
    "        summary: bool\n",
    "            Trueにするとshapeを出力\n",
    "        initializer: class \n",
    "            initializerのクラス\n",
    "        optimizer: \n",
    "            optimizerのクラス\n",
    "        sigma:float\n",
    "            Simpleinitializerを選んだ時のパラメータ\n",
    "            \n",
    "        Return\n",
    "        ----------\n",
    "        out_dim:次の形のtuple, (出力チャンネル,OH,OW)\n",
    "        \"\"\"\n",
    "        #出力サイズを計算する。\n",
    "        C, H, W = input_dim\n",
    "        OH = out_calc(H, self.P, self.FH, self.S)\n",
    "        OW = out_calc(W, self.P, self.FW, self.S)\n",
    "        out_dim = (self.FN, OH, OW)\n",
    "        \n",
    "        #初期値を設定する。\n",
    "        initializer = Initializer(init_type, C * self.FH * self.FW, sigma)\n",
    "        self.W = initializer.W(self.FN, C, self.FH, self.FW)\n",
    "        self.B = initializer.B(self.FN)\n",
    "        if summary:\n",
    "            print(self.group,'layer shape={}, param={}'.format(out_dim, self.FH*self.FW*C*self.FN+self.FN))\n",
    "                \n",
    "        #optimizerを設定する。\n",
    "        self.optimizer = optimizer(lr)\n",
    "        return out_dim \n",
    "\n",
    "    def forward(self, X):\n",
    "        \"\"\"\n",
    "        フォワード\n",
    "        Parameters\n",
    "        ----------\n",
    "        X : 次の形のndarray, shape (N,C,高さ,横幅)\n",
    "            入力値\n",
    "        W: 次の形のndarray, shape (FN,C,FH,FW)\n",
    "            重み\n",
    "\n",
    "        Returns\n",
    "        ----------\n",
    "        out : 次の形のndarray, shape (N、FN,OH, OW)\n",
    "            出力\n",
    "        \"\"\"\n",
    "        X_copy = X.copy()\n",
    "        self.X_shape = X_copy.shape #バックワードで使うのでshapeを保存しておく。\n",
    "        self.X_out = im2patch(X_copy, self.FH, self.FW, self.S, self.P)  \n",
    "        # X_out.shape(N, C, OH(dAをかける), OW(dAをかける), input_h(Wをかける), input_w(Wをかける))\n",
    "        out = np.tensordot(self.X_out, self.W, axes=[[1, 4, 5], [1, 2, 3]]) \n",
    "        out = out.transpose([0, 3, 1, 2])  # (N、FN,OH, OW) の形に直す\n",
    "        out += self.B[np.newaxis, :, np.newaxis, np.newaxis] #FN分だけBをブロードキャストして足す。\n",
    "\n",
    "        return out\n",
    "\n",
    "    def backward(self, dA):\n",
    "        \"\"\"\n",
    "        バックワード\n",
    "        Parameters\n",
    "        ----------\n",
    "        dA : 次の形のndarray, shape (N、FN,OH, OW)\n",
    "            後ろから流れてきた勾配\n",
    "        Returns\n",
    "        ----------\n",
    "        dW: 次の形のndarray, shape (FN,C,FH,FW)\n",
    "            前に流すWの勾配\n",
    "        dB : 次の形のndarray, shape (N,FN)\n",
    "            前に流すBの勾配\n",
    "        dX : 次の形のndarray, shape (N,C,高さ,横幅)\n",
    "            前に流すWの勾配\n",
    "\n",
    "        \"\"\"\n",
    "        #勾配を計算\n",
    "        self.dW = np.tensordot(dA, self.X_out, axes=[[0, 2, 3], [0, 2,3]])  #N,OH,OWの軸でテンソルドットする。\n",
    "        self.dB = np.sum(dA, axis=(-1, -2))  # (N、FN)を残してsum\n",
    "        # 出力を計算\n",
    "        out = np.tensordot(dA, self.W, axes=[1, 0])#FNの軸でdot積\n",
    "        out = out.transpose(0, 3, 1,2, 4, 5)\n",
    "        # out.shape(N,C,OH, OW, FH, FW)\n",
    "        dX = patch2im(out, self.X_shape, self.S, self.P)\n",
    "\n",
    "        # 更新\n",
    "        self = self.optimizer.update(self)\n",
    "\n",
    "        return dX\n",
    "\n",
    "#         思い出ゾーン\n",
    "#         #dXの計算\n",
    "#         # 0パディング的なことをしてフィルターサイズ-1分だけ周りを0で埋める。\n",
    "#         dA_s = np.P(dA[:,:],[(0,0),(0,0),(self.FW-1,self.FW-1),(self.FH-1,self.FH-1)],'constant')\n",
    "#         out = np.zeros((self.N, self.FN, self.in_h, self.in_w, self.FH, self.FW))\n",
    "#         for y in range(self.in_h):\n",
    "#             y_max = y + self.S*self.FH\n",
    "#             for x in range(self.in_w):\n",
    "#                 x_max = x + self.S*self.FW\n",
    "#                 out[:, :, y, x, :, :] = dA_s[:, :, y:y_max:self.S, x:x_max:self.S]\n",
    "#         out = out[:,:,:,:,::-1,::-1] #(N,FN,in_h,in_w,FH,FW)\n",
    "#         self.dX = np.tensordot(out, self.W,axes=[[1,4,5],[0,2,3]]) #f_nとself.FWの軸を使って残りをdot積する。\n",
    "#         self.dX = self.dX.transpose([0,3,1,2]) #(N、C、in_h, in_w)"
   ]
  },
  {
   "cell_type": "markdown",
   "metadata": {},
   "source": [
    "# 【問題2】2次元畳み込み後の出力サイズ"
   ]
  },
  {
   "cell_type": "markdown",
   "metadata": {},
   "source": [
    "畳み込みを行うと特徴マップのサイズが変化します。どのように変化するかは以下の数式から求められます。この計算を行う関数を作成してください。"
   ]
  },
  {
   "cell_type": "markdown",
   "metadata": {},
   "source": [
    "$$\n",
    "N_{h,out} =  \\frac{N_{h,in}+2P_{h}-F_{h}}{S_{h}} + 1\\\\\n",
    "N_{w,out} =  \\frac{N_{w,in}+2P_{w}-F_{w}}{S_{w}} + 1\n",
    "$$"
   ]
  },
  {
   "cell_type": "markdown",
   "metadata": {},
   "source": [
    "$N_{out} : 出力のサイズ（特徴量の数）\\\\\n",
    "N_{in} : 入力のサイズ（特徴量の数）\\\\\n",
    "P : ある方向へのパディングの数\\\\\n",
    "F : フィルタのサイズ\\\\\n",
    "S : ストライドのサイズ\\\\\n",
    "h が高さ方向、w が幅方向である$"
   ]
  },
  {
   "cell_type": "code",
   "execution_count": 4,
   "metadata": {
    "ExecuteTime": {
     "end_time": "2019-07-16T02:11:30.794666Z",
     "start_time": "2019-07-16T02:11:30.780265Z"
    }
   },
   "outputs": [],
   "source": [
    "def out_calc(n_in, P=0, FS=3, S=1):\n",
    "    \"\"\"\n",
    "    出力サイズの計算。1次元。\n",
    "    n_in: int\n",
    "        特徴量の数\n",
    "    p: int(0)\n",
    "        パディングの数\n",
    "    FS:int(3)\n",
    "        フィルタのサイズ\n",
    "    s: int(1)\n",
    "        ストライドのサイズ        \n",
    "    \"\"\"\n",
    "    return int(((n_in + 2 * P - FS) / S) + 1)"
   ]
  },
  {
   "cell_type": "markdown",
   "metadata": {},
   "source": [
    "# 【問題3】最大プーリング層の作成"
   ]
  },
  {
   "cell_type": "markdown",
   "metadata": {},
   "source": [
    "最大プーリング層のクラスMaxPool2Dを作成してください。  \n",
    "プーリング層は数式で表さない方が分かりやすい部分もありますが、フォワードプロパゲーションの数式は以下のようになります。"
   ]
  },
  {
   "cell_type": "markdown",
   "metadata": {},
   "source": [
    "$$\n",
    "a_{i,j,k} = \\max_{(p,q)\\in P_{i,j}}x_{p,q,k}\n",
    "$$"
   ]
  },
  {
   "cell_type": "markdown",
   "metadata": {},
   "source": [
    "$P_{i,j} : i行j列への出力する場合の入力配列のインデックスの集合。 S_h×S_w の範囲内の行（p）と列（q）\\\\\n",
    "S_h,S_w : 高さ方向（h）と幅方向（w）のストライドのサイズ\\\\\n",
    "(p,q)∈P_{i,j} : P_{i,j} に含まれる行（p）と列（q）のインデックス\\\\\n",
    "a_{i,j,m} : 出力される配列のi行j列、kチャンネルの値\\\\\n",
    "x_{p,q,k} : 入力の配列のp行q列、kチャンネルの値\\\\\n",
    "ある範囲の中でチャンネル方向の軸は残したまま最大値を計算することになります。\\\\\n",
    "バックプロパゲーションのためには、フォワードプロパゲーションのときの最大値のインデックス  \n",
    "(p,q) を保持しておく必要があります。\\\\\n",
    "フォワード時に最大値を持っていた箇所にそのままの誤差を流し、そこ以外には0を入れるためです。  \n",
    "$"
   ]
  },
  {
   "cell_type": "code",
   "execution_count": 5,
   "metadata": {
    "ExecuteTime": {
     "end_time": "2019-07-16T02:11:30.840931Z",
     "start_time": "2019-07-16T02:11:30.797773Z"
    }
   },
   "outputs": [],
   "source": [
    "class MaxPool2D:\n",
    "    \"\"\"\n",
    "    最大プーリング層のクラス\n",
    "        \n",
    "    Parameters\n",
    "    ----------\n",
    "    PH : int\n",
    "      フィルターの高さ\n",
    "    PW : int\n",
    "      フィルターの幅\n",
    "    S : int (default: 1)\n",
    "      ストライド\n",
    "    P : int (default: 0)\n",
    "      パディング\n",
    "\n",
    "    Attributes\n",
    "    ----------\n",
    "    group : 'pooling'\n",
    "      layerの種類\n",
    "    \"\"\"\n",
    "\n",
    "    def __init__(self, PH=2, PW=2, P=0, S=2):\n",
    "        self.PH = PH\n",
    "        self.PW = PW\n",
    "        self.S = S\n",
    "        self.P = P\n",
    "        self.arg_max = None\n",
    "        self.group = 'pooling'\n",
    "        \n",
    "    def initialize(self, input_dim,summary, *args, **kargs):\n",
    "        \"\"\"\n",
    "        出力サイズを出力するメソッド\n",
    "        [*args, **kargs]はダミー\n",
    "        Return\n",
    "        ----------\n",
    "        out_dim:次の形のtuple, (出力チャンネル,OH,OW)\n",
    "        \"\"\"\n",
    "        #出力サイズを計算する。\n",
    "        C, H, W = input_dim\n",
    "        OH = out_calc(H, self.P, self.PH, self.S)\n",
    "        OW = out_calc(W, self.P, self.PW, self.S)\n",
    "        out_dim = (C, OH, OW)\n",
    "        if summary:\n",
    "            print(self.group,'layer shape=',out_dim)\n",
    "            \n",
    "        return out_dim\n",
    "        \n",
    "\n",
    "    def forward(self, X):\n",
    "        \"\"\"\n",
    "        フォワード\n",
    "        Parameters\n",
    "        ----------\n",
    "        X : 次の形のndarray, shape (N,C,高さ,横幅)\n",
    "        W: 次の形のndarray, shape (filter_n,C,PH,PW)\n",
    "\n",
    "        Returns\n",
    "        ----------\n",
    "        A : 次の形のndarray, shape (N、C,OH, OW)\n",
    "            出力\n",
    "        \n",
    "        \"\"\"\n",
    "        N, C, H, W = X.shape\n",
    "        self.X_shape = X.shape#バックワードで使用        \n",
    "        self.X_out = im2patch(X, self.PH, self.PW, self.S, self.P)  \n",
    "        self.X_out = self.X_out.reshape(self.X_out.shape[:-2]+(-1, )) # X_out.shape(N, C, OH, OW, PH*PW(この軸にプーリングによって抽出された値が格納される。))\n",
    "        self.argmax = np.argmax(self.X_out, axis=-1)#最後の軸のmax_indexを保存する\n",
    "        A = np.max(self.X_out, axis=-1)\n",
    "        return A\n",
    "        \n",
    "    def backward(self, dA):\n",
    "        \"\"\"\n",
    "        dA : 次の形のndarray, shape (N、C,OH, OW)\n",
    "            後ろから流れてきた勾配\n",
    "            \n",
    "        Returns\n",
    "        ----------\n",
    "        out : 次の形のndarray, shape (N、C,IH, IW)\n",
    "            出力\n",
    "        \n",
    "        \"\"\"\n",
    "                \n",
    "        pool_size = self.PH * self.PW\n",
    "        \n",
    "        dmax = np.empty((dA.size, pool_size))\n",
    "        dmax[np.arange(self.argmax.size), self.argmax.flatten()] = dA.flatten()\n",
    "        dmax = dmax.reshape(dA.shape + (self.PH, self.PW)) # (N, C, OH, OW, PH, PW)\n",
    "        out = patch2im(dmax, self.X_shape, self.S, self.P)\n",
    "        return out"
   ]
  },
  {
   "cell_type": "markdown",
   "metadata": {},
   "source": [
    "# 【問題4】平滑化"
   ]
  },
  {
   "cell_type": "markdown",
   "metadata": {},
   "source": [
    "平滑化するためのクラスFlatten()を作成してください。\n",
    "フォワードのときはチャンネル、高さ、幅の3次元を1次元にreshapeします。その値は記録しておき、バックワードのときに再びreshapeによって形を戻します。"
   ]
  },
  {
   "cell_type": "code",
   "execution_count": 6,
   "metadata": {
    "ExecuteTime": {
     "end_time": "2019-07-16T02:11:30.861818Z",
     "start_time": "2019-07-16T02:11:30.846569Z"
    }
   },
   "outputs": [],
   "source": [
    "class Flatten:\n",
    "    \"\"\"\n",
    "    平滑化するクラス\n",
    "        \n",
    "    Parameters\n",
    "    ----------\n",
    "\n",
    "    Attributes\n",
    "    ----------\n",
    "    group : 'flatten'\n",
    "      layerの種類\n",
    "    \"\"\"\n",
    "    def __init__(self):\n",
    "        # 初期化    \n",
    "        self.group = 'flatten'\n",
    "        \n",
    "    def initialize(self, input_dim,summary, *args, **kargs):\n",
    "        \"\"\"\n",
    "        出力サイズを出力するメソッド\n",
    "        [*args, **kargs]はダミー    \n",
    "        Return\n",
    "        ----------\n",
    "        out_dim:次の形のtuple, (出力チャンネル,OH,OW)\n",
    "        \"\"\"\n",
    "        #出力サイズを計算する。\n",
    "        C, H, W = input_dim\n",
    "        if summary:\n",
    "            print(self.group,'layer shape=', (C*H*W))\n",
    "\n",
    "        return C*H*W\n",
    "\n",
    "        \n",
    "    def forward(self, X):\n",
    "        \"\"\"\n",
    "        フォワード\n",
    "        Parameters\n",
    "        ----------\n",
    "        X : 次の形のndarray, shape (N,C,高さ,横幅)\n",
    "\n",
    "        Returns\n",
    "        ----------\n",
    "        A : 次の形のndarray, shape (N、C*高さ*横幅)\n",
    "            出力\n",
    "        \"\"\"\n",
    "        self.X_shape = X.shape #バックワードで使用\n",
    "        out = X.reshape(len(X), -1) #サンプルサイズだけ残してflatへ\n",
    "        return out\n",
    "    \n",
    "    def backward(self, dout):\n",
    "        \"\"\"\n",
    "        バックワード\n",
    "        Parameters\n",
    "        ----------\n",
    "        dout: 次の形のndarray, shape(N, n_nodes)\n",
    "\n",
    "        Returns\n",
    "        ----------\n",
    "        A : 次の形のndarray, shape (N、C,高さ,横幅)\n",
    "            出力\n",
    "        \"\"\"\n",
    "                \n",
    "        dout = dout.reshape(self.X_shape)\n",
    "        return dout\n",
    "        "
   ]
  },
  {
   "cell_type": "markdown",
   "metadata": {},
   "source": [
    "# 【問題5】学習・推定"
   ]
  },
  {
   "cell_type": "markdown",
   "metadata": {
    "ExecuteTime": {
     "end_time": "2019-06-25T11:15:46.831820Z",
     "start_time": "2019-06-25T11:15:46.828371Z"
    }
   },
   "source": [
    "作成したConv2dを使用してMNISTの分類を学習・推定してください。  \n",
    "この段階では精度は気にせず、動くことを確認してください。"
   ]
  },
  {
   "cell_type": "markdown",
   "metadata": {},
   "source": [
    "## 以前のsprintまでのクラスとその他必要なクラス(im2patch等)を作成する"
   ]
  },
  {
   "cell_type": "code",
   "execution_count": 7,
   "metadata": {
    "ExecuteTime": {
     "end_time": "2019-07-16T02:11:32.220989Z",
     "start_time": "2019-07-16T02:11:32.208577Z"
    }
   },
   "outputs": [],
   "source": [
    "def im2patch(input_data, FH, FW, S=1, P=0):\n",
    "    \"\"\"\n",
    "    ストライドした後の配列を出してくれる関数\n",
    "\n",
    "    Parameters\n",
    "    ----------\n",
    "    input_data : (データ数, チャンネル, 高さ, 幅)の4次元配列からなる入力データ\n",
    "    FH : フィルターの高さ\n",
    "    FW : フィルターの幅\n",
    "    S : ストライド\n",
    "    P : パディング\n",
    "\n",
    "    Returns\n",
    "    -------\n",
    "    patch : shape(データ数, チャンネル, OH(dAをかける), OW(dAをかける), FH(Wをかける), FW(Wをかける)) \n",
    "    \"\"\"\n",
    "    N, C, H, W = input_data.shape\n",
    "    OH = out_calc(H, P, FH, S)\n",
    "    OW = out_calc(W, P, FW, S)\n",
    "    img = np.pad(input_data, [(0, 0), (0, 0), (P, P), (P, P)],'constant')\n",
    "    patch = np.empty((N, C, OH, OW, FH, FW))\n",
    "    #出力サイズ(OH,OW)の軸を固定してフィルター(FH,HW)を掛けた部分を代入していく\n",
    "    for y in range(OH):\n",
    "        IH = y * S\n",
    "        IH_max = IH + FH\n",
    "        for x in range(OW):\n",
    "            IW = x * S\n",
    "            IW_max = IW + FW\n",
    "            patch[:, :, y, x, :, :] = img[:, :, IH:IH_max, IW:IW_max]\n",
    "    return patch\n",
    "\n",
    "\n",
    "def patch2im(input_data, input_shape, S=1, P=0):\n",
    "    \"\"\"\n",
    "    ストライドした後の配列を出してくれる関数\n",
    "\n",
    "    Parameters\n",
    "    ----------\n",
    "    input_data : (データ数,チャンネル数, OH, OW,FH, FW)の6次元配列からなる入力データ\n",
    "    input_shape:(データ数,チャンネル数、高さ、横幅)\n",
    "    S : ストライド\n",
    "    P : パディング\n",
    "\n",
    "    Returns\n",
    "    -------\n",
    "    back\n",
    "    out : shape(データ数, チャンネル, IH, IW)\n",
    "    \"\"\"\n",
    "    N, C, H, W = input_shape\n",
    "    _, _,  OH, OW, FH, FW = input_data.shape\n",
    "    im = np.empty((N, C, H + 2 * P, W + 2 * P ))\n",
    "    # im2patchと逆のことをする。\n",
    "    for y in range(OH):\n",
    "        IH = y * S\n",
    "        IH_max = IH + FH \n",
    "        for x in range(OW):\n",
    "            IW = x * S\n",
    "            IW_max = IW + FW\n",
    "            im[:, :, IH:IH_max, IW:IW_max] += input_data[:, :, y, x, :, :]\n",
    "\n",
    "    return im[:, :, P:P + H, P:P + W]"
   ]
  },
  {
   "cell_type": "code",
   "execution_count": 8,
   "metadata": {
    "ExecuteTime": {
     "end_time": "2019-07-16T02:11:32.898221Z",
     "start_time": "2019-07-16T02:11:32.885652Z"
    }
   },
   "outputs": [],
   "source": [
    "class GetMiniBatch:\n",
    "    \"\"\"\n",
    "    ミニバッチを取得するイテレータ\n",
    "\n",
    "    Parameters\n",
    "    ----------\n",
    "    X : 次の形のndarray, shape (n_samples, n_features)\n",
    "      学習データ\n",
    "    y : 次の形のndarray, shape (n_samples, 1)\n",
    "      正解値\n",
    "    batch_size : int\n",
    "      バッチサイズ\n",
    "    \"\"\"\n",
    "    def __init__(self, X, y, batch_size = 10):\n",
    "        self.batch_size = batch_size\n",
    "        shuffle_index = np.random.permutation(np.arange(X.shape[0]))\n",
    "        self.X = X[shuffle_index]\n",
    "        self.y = y[shuffle_index]\n",
    "        self._stop = np.ceil(X.shape[0]/self.batch_size).astype(np.int)\n",
    "\n",
    "    def __len__(self):\n",
    "        return self._stop\n",
    "\n",
    "    def __getitem__(self,item):\n",
    "        p0 = item*self.batch_size\n",
    "        p1 = item*self.batch_size + self.batch_size\n",
    "        return self.X[p0:p1], self.y[p0:p1]        \n",
    "\n",
    "    def __iter__(self):\n",
    "        self._counter = 0\n",
    "        return self\n",
    "\n",
    "    def __next__(self):\n",
    "        if self._counter >= self._stop:\n",
    "            raise StopIteration()\n",
    "        p0 = self._counter*self.batch_size\n",
    "        p1 = self._counter*self.batch_size + self.batch_size\n",
    "        self._counter += 1\n",
    "        return self.X[p0:p1], self.y[p0:p1]"
   ]
  },
  {
   "cell_type": "code",
   "execution_count": 9,
   "metadata": {
    "ExecuteTime": {
     "end_time": "2019-07-16T02:11:33.433609Z",
     "start_time": "2019-07-16T02:11:33.420403Z"
    }
   },
   "outputs": [],
   "source": [
    "class FC:\n",
    "    \"\"\"\n",
    "    ノード数pre_nodesからnodesへの全結合層\n",
    "    Parameters\n",
    "    ----------\n",
    "    nodes : int\n",
    "      層のノード数\n",
    "    \n",
    "    Attributes\n",
    "    ----------\n",
    "    group : 'FC'\n",
    "      layerの種類\n",
    "    \"\"\"\n",
    "    def __init__(self, nodes):\n",
    "        self.nodes = nodes\n",
    "        self.group = 'FC'\n",
    "        \n",
    "    def initialize(self, pre_nodes, summary, init_type, optimizer, sigma=1e-2, lr=1e-2):\n",
    "        \"\"\"\n",
    "        重み、バイアスを初期化して出力数を渡してあげる\n",
    "        Parameters\n",
    "        ----------\n",
    "        input_dim :次の形のtuple, (入力チャンネル,高さ,横幅)\n",
    "            入力サイズ\n",
    "        initializer: class\n",
    "            initializerのクラス\n",
    "        optimizer: class\n",
    "            optimizerのクラス\n",
    "        lr : float(1e-2)\n",
    "            optimizerに渡す学習率\n",
    "        sigma : float(1e-2)\n",
    "            Simpleinitializerを選んだ時のパラメータ\n",
    "        \"\"\"\n",
    "        \n",
    "        #初期値を設定する。\n",
    "        initializer = Initializer(init_type, pre_nodes, sigma)\n",
    "        self.W = initializer.W(pre_nodes, self.nodes)\n",
    "        self.B = initializer.B(self.nodes)\n",
    "        \n",
    "        if summary:\n",
    "            print(self.group,'layer shape={}, param={}'.format(self.W.shape,pre_nodes*self.nodes+self.nodes))\n",
    "\n",
    "        #optimizerを設定する。\n",
    "        self.optimizer = optimizer(lr)\n",
    "        \n",
    "        return self.nodes\n",
    "\n",
    "    def forward(self, X):\n",
    "        \"\"\"\n",
    "        フォワード\n",
    "        Parameters\n",
    "        ----------\n",
    "        X : 次の形のndarray, shape (batch_size, pre_nodes)\n",
    "            入力\n",
    "        Returns\n",
    "        ----------\n",
    "        A : 次の形のndarray, shape (batch_size, nodes)\n",
    "            出力\n",
    "        \"\"\"        \n",
    "        self.Z = X.copy()\n",
    "        A = X @ self.W + self.B\n",
    "        return A\n",
    "    def backward(self, dA):\n",
    "        \"\"\"\n",
    "        バックワード\n",
    "        Parameters\n",
    "        ----------\n",
    "        dA : 次の形のndarray, shape (batch_size, nodes)\n",
    "            後ろから流れてきた勾配\n",
    "        Returns\n",
    "        ----------\n",
    "        dZ : 次の形のndarray, shape (batch_size, pre_nodes)\n",
    "            前に流す勾配\n",
    "        \"\"\"\n",
    "        self.dB = dA\n",
    "        self.dW = self.Z.T @ dA\n",
    "        dZ = dA @ self.W.T\n",
    "        # 重みを更新\n",
    "        self = self.optimizer.update(self)\n",
    "        return dZ"
   ]
  },
  {
   "cell_type": "markdown",
   "metadata": {},
   "source": [
    "### 最適化手法"
   ]
  },
  {
   "cell_type": "code",
   "execution_count": 10,
   "metadata": {
    "ExecuteTime": {
     "end_time": "2019-07-16T02:11:34.707323Z",
     "start_time": "2019-07-16T02:11:34.701717Z"
    }
   },
   "outputs": [],
   "source": [
    "class SGD:\n",
    "    \"\"\"\n",
    "    確率的勾配降下法\n",
    "    Parameters\n",
    "    ----------\n",
    "    lr : 学習率\n",
    "    \"\"\"\n",
    "    def __init__(self, lr):\n",
    "        self.lr = lr\n",
    "    def update(self, layer):\n",
    "        \"\"\"\n",
    "        ある層の重みやバイアスの更新\n",
    "        Parameters\n",
    "        ----------\n",
    "        layer : 更新前の層のインスタンス\n",
    "\n",
    "        Returns\n",
    "        ----------\n",
    "        layer : 更新後の層のインスタンス\n",
    "        \"\"\"\n",
    "        \n",
    "        layer.W -= self.lr * (layer.dW / layer.dB.shape[0])\n",
    "        layer.B -= self.lr * np.mean(layer.dB, axis=0)\n",
    "        return layer"
   ]
  },
  {
   "cell_type": "code",
   "execution_count": 11,
   "metadata": {
    "ExecuteTime": {
     "end_time": "2019-07-16T02:11:35.242730Z",
     "start_time": "2019-07-16T02:11:35.233012Z"
    }
   },
   "outputs": [],
   "source": [
    "class AdaGrad:\n",
    "    \"\"\"\n",
    "    AdaGrad\n",
    "    Parameters\n",
    "    ----------\n",
    "    lr : 学習率\n",
    "    \"\"\"\n",
    "    def __init__(self, lr):\n",
    "        self.lr = lr\n",
    "        self.H_w = 0 #最初は0\n",
    "        self.H_b = 0\n",
    "    def update(self, layer):\n",
    "        \"\"\"\n",
    "        ある層の重みやバイアスの更新\n",
    "        Parameters\n",
    "        ----------\n",
    "        layer : 更新前の層のインスタンス\n",
    "\n",
    "        Returns\n",
    "        ----------\n",
    "        layer : 更新後の層のインスタンス\n",
    "        \"\"\"\n",
    "        dW_mean = layer.dW / layer.dB.shape[0] #行列\n",
    "        dB_mean = np.mean(layer.dB, axis=0)\n",
    "        #重みの更新\n",
    "        self.H_w += dW_mean * dW_mean # Hを更新\n",
    "        layer.W -= self.lr * dW_mean / (np.sqrt(self.H_w) + 1e-7)\n",
    "        \n",
    "        self.H_b +=  dB_mean * dB_mean        \n",
    "        layer.B -= self.lr * dB_mean / (np.sqrt(self.H_b) + 1e-7)\n",
    "        \n",
    "        return layer"
   ]
  },
  {
   "cell_type": "markdown",
   "metadata": {},
   "source": [
    "### 活性化関数"
   ]
  },
  {
   "cell_type": "code",
   "execution_count": 12,
   "metadata": {
    "ExecuteTime": {
     "end_time": "2019-07-16T02:11:36.359066Z",
     "start_time": "2019-07-16T02:11:36.351849Z"
    }
   },
   "outputs": [],
   "source": [
    "class Sigmoid:\n",
    "    \"\"\"\n",
    "    　シグモイド関数の活性化関数\n",
    "    Parameters\n",
    "    ----------\n",
    "    \"\"\"\n",
    "    def __init__(self):\n",
    "        self.Z = None\n",
    "        self.group = 'activation'\n",
    "    def forward(self, A):\n",
    "        \"\"\"\n",
    "        フォワードプロパゲーションのときのメソッド\n",
    "        Parameters\n",
    "        ----------\n",
    "        A : 全結合後の行列 shapeはどんな形でも大丈夫\n",
    "\n",
    "        Returns\n",
    "        ----------\n",
    "        Z : 活性化後の行列　元のshapeを保持\n",
    "        \"\"\"\n",
    "        self.Z = 1 / (1 + np.exp(-A))\n",
    "        return self.Z\n",
    "    \n",
    "    def backward(self, dZ):\n",
    "        \"\"\"\n",
    "        バックワード\n",
    "        Parameters\n",
    "        ----------\n",
    "        dZ : 全結合後の行列  shapeはどんな形でも大丈夫\n",
    "\n",
    "        Returns\n",
    "        ----------\n",
    "        dA : 活性化後の行列　元のshapeを保持\n",
    "        \"\"\"\n",
    "        dA = dZ * (1 - self.Z) * self.Z\n",
    "        return dA"
   ]
  },
  {
   "cell_type": "code",
   "execution_count": 13,
   "metadata": {
    "ExecuteTime": {
     "end_time": "2019-07-16T02:11:36.988207Z",
     "start_time": "2019-07-16T02:11:36.980920Z"
    }
   },
   "outputs": [],
   "source": [
    "class Tanh:\n",
    "    \"\"\"\n",
    "    ハイパボリックタンジェント関数\n",
    "    Parameters\n",
    "    ----------\n",
    "    \"\"\"\n",
    "    def __init__(self):\n",
    "        self.Z = None\n",
    "        self.group = 'activation'\n",
    "\n",
    "    def forward(self, A):\n",
    "        \"\"\"\n",
    "        フォワードプロパゲーションのときのメソッド\n",
    "        Parameters\n",
    "        ----------\n",
    "        A : 全結合後の行列 shapeはどんな形でも大丈夫\n",
    "\n",
    "        Returns\n",
    "        ----------\n",
    "        Z : 活性化後の行列 元のshapeを保持\n",
    "        \"\"\"\n",
    "        self.Z = np.tanh(A)\n",
    "        return self.Z\n",
    "    \n",
    "    def backward(self, dZ):\n",
    "        \"\"\"\n",
    "        バックワード\n",
    "        Parameters\n",
    "        ----------\n",
    "        dZ : 全結合後の行列 shapeはどんな形でも大丈夫\n",
    "\n",
    "        Returns\n",
    "        ----------\n",
    "        dA : 活性化後の行列　元のshapeを保持\n",
    "        \"\"\"\n",
    "        dA = dZ * (1 - self.Z ** 2)\n",
    "        return dA"
   ]
  },
  {
   "cell_type": "code",
   "execution_count": 14,
   "metadata": {
    "ExecuteTime": {
     "end_time": "2019-07-16T02:11:37.537759Z",
     "start_time": "2019-07-16T02:11:37.532358Z"
    }
   },
   "outputs": [],
   "source": [
    "class Relu:\n",
    "    \"\"\"\n",
    "    ReLU関数の活性化関数\n",
    "    Parameters\n",
    "    ----------\n",
    "    \"\"\"\n",
    "    def __init__(self):\n",
    "        self.group = 'activation'\n",
    "        self.mask = None\n",
    "\n",
    "    def forward(self, A):\n",
    "        \"\"\"\n",
    "        フォワードプロパゲーションのときのメソッド\n",
    "        Parameters\n",
    "        ----------\n",
    "        A : 全結合後の行列 shapeはどんな形でも大丈夫\n",
    "\n",
    "        Returns\n",
    "        ----------\n",
    "        Z : 活性化後の行列　元のshapeを保持\n",
    "        \"\"\"\n",
    "        self.mask = A <= 0\n",
    "        Z = A.copy()\n",
    "        Z[self.mask] = 0\n",
    "        return  Z\n",
    "\n",
    "    \n",
    "    def backward(self, dZ):\n",
    "        \"\"\"\n",
    "        バックワード\n",
    "        Parameters\n",
    "        ----------\n",
    "        dZ : 全結合後の行列shapeはどんな形でも大丈夫\n",
    "\n",
    "        Returns\n",
    "        ----------\n",
    "        dA : 活性化後の行列　元のshapeを保持\n",
    "        \"\"\"\n",
    "        dZ[self.mask] = 0\n",
    "        \n",
    "        return dZ"
   ]
  },
  {
   "cell_type": "code",
   "execution_count": 38,
   "metadata": {
    "ExecuteTime": {
     "end_time": "2019-07-16T02:25:23.750171Z",
     "start_time": "2019-07-16T02:25:23.732892Z"
    }
   },
   "outputs": [],
   "source": [
    "class Softmax:\n",
    "    \"\"\"\n",
    "    ソフトマックス関数の活性化関数\n",
    "    Parameters\n",
    "    ----------\n",
    "    \"\"\"\n",
    "    def __init__(self):\n",
    "        self.Z = None\n",
    "        self.entropy = None # バッチ単位でのエントロピー\n",
    "        self.group = 'activation'\n",
    "        \n",
    "    def forward(self, A):\n",
    "        \"\"\"\n",
    "        フォワードプロパゲーションのときのメソッド\n",
    "        Parameters\n",
    "        ----------\n",
    "        A : 全結合後の行列 shape(batch_size, pre_nodes)\n",
    "\n",
    "        Returns\n",
    "        ----------\n",
    "        Z : 活性化後の行列　shape(batch_size,  pre_nodes)\n",
    "        \"\"\"\n",
    "        c = np.max(A, axis=1,keepdims=True)\n",
    "        self.Z = np.exp(A-c) / np.sum(np.exp(A-c), axis=1).reshape(-1, 1)\n",
    "        return self.Z\n",
    "    \n",
    "    def backward(self, Y):\n",
    "        \"\"\"\n",
    "        バックワードと交差エントロピーを計算\n",
    "        Parameters\n",
    "        ----------\n",
    "        dZ : 全結合後の行列 shape(batch_size, pre_nodes)\n",
    "\n",
    "        Returns\n",
    "        ----------\n",
    "        dA : 活性化後の行列　shape(batch_size,  pre_nodes)\n",
    "        \"\"\"\n",
    "        #勾配はこっち\n",
    "        dA = self.Z - Y\n",
    "        return dA\n",
    "    \n",
    "    def loss(self, Y):\n",
    "        entropy = -np.sum(Y * np.log(self.Z + 1e-5), axis=1) #サンプル毎のエントロピー(batch_size,)\n",
    "        entropy = entropy.sum() / len(entropy)  # スカラー\n",
    "        return entropy"
   ]
  },
  {
   "cell_type": "markdown",
   "metadata": {},
   "source": [
    "### 初期値の設定クラス"
   ]
  },
  {
   "cell_type": "code",
   "execution_count": 16,
   "metadata": {
    "ExecuteTime": {
     "end_time": "2019-07-16T02:11:39.072418Z",
     "start_time": "2019-07-16T02:11:39.063393Z"
    }
   },
   "outputs": [],
   "source": [
    "class Initializer:\n",
    "    \"\"\"\n",
    "    ガウス分布によるシンプルな初期値設定\n",
    "    Parameters\n",
    "    ----------\n",
    "    sigma : float\n",
    "      ガウス分布の標準偏差\n",
    "    \"\"\"\n",
    "    def __init__(self, init_type, pre_nodes, sigma):\n",
    "        if init_type == 'simple':\n",
    "            self.sigma = sigma\n",
    "        elif init_type == 'Xavier':\n",
    "            self.sigma = 1 / np.sqrt(pre_nodes)\n",
    "        elif init_type == 'He':\n",
    "            self.sigma = np.sqrt(2 / pre_nodes)\n",
    "\n",
    "    def W(self,*args):\n",
    "        \"\"\"\n",
    "        重みの初期化\n",
    "        Parameters\n",
    "        ----------\n",
    "        args : int\n",
    "          ノード数や、チャンネル数等必要なサイズを入力\n",
    "        Returns\n",
    "        ----------\n",
    "        W :次の形のndarray, shape (args)\n",
    "            重み\n",
    "        \"\"\"\n",
    "        W = self.sigma * np.random.standard_normal(size=args)\n",
    "        return W\n",
    "    def B(self, *args):\n",
    "        \"\"\"\n",
    "        バイアスの初期化\n",
    "        Parameters\n",
    "        ----------\n",
    "        args : int\n",
    "          ノード数等を入力。入力した形の必要なサイズを入力\n",
    "        Returns\n",
    "        ----------\n",
    "        B :次の形のndarray, shape (args)\n",
    "            バイアス\n",
    "        \"\"\"\n",
    "        B = self.sigma * np.random.standard_normal(size=args)\n",
    "        return B"
   ]
  },
  {
   "cell_type": "markdown",
   "metadata": {},
   "source": [
    "## 全てをまとめたクラスの作成"
   ]
  },
  {
   "cell_type": "code",
   "execution_count": 39,
   "metadata": {
    "ExecuteTime": {
     "end_time": "2019-07-16T02:30:56.563773Z",
     "start_time": "2019-07-16T02:30:56.533435Z"
    }
   },
   "outputs": [],
   "source": [
    "class Scratch2dCNNClassifier:\n",
    "    \"\"\"\n",
    "    ディープなニューラルネットワーク分類器\n",
    "    層を増やすことが出来る。\n",
    "    バッチをランダムで抽出する。\n",
    "    エポック毎にバッチを取り直すことも可能。\n",
    "    \n",
    "    Parameters\n",
    "    ----------\n",
    "    batch_size : int　(30)\n",
    "        バッチサイズ\n",
    "    n_epoch : int (100)\n",
    "        エポック数\n",
    "    e_threshold : float(1e-2)\n",
    "        エポック途中終了の為のエントロピーの閾値\n",
    "    n_iter : int(1000)\n",
    "        1エポック辺りのイテレーション数\n",
    "    repeat_batch_process : bool(True)\n",
    "        Trueの場合１エポック毎にバッチをランダムに取り直す。\n",
    "    restore_extraction:bool(True)\n",
    "        学習するバッチをランダム抽出する際に復元か、非復元か選ぶ。基本は復元(ブートストラップ)\n",
    "    seed : int(0)\n",
    "        ランダムシード\n",
    "        \n",
    "    Attributes\n",
    "    ----------\n",
    "    entropy : shape(n_epoch, n_iter)\n",
    "        1バッチごとのエントロピー\n",
    "    layers : list\n",
    "        layerのリスト\n",
    "    \n",
    "    \"\"\"\n",
    "\n",
    "    def __init__(\n",
    "        self,\n",
    "        batch_size=30,\n",
    "        n_epochs=100,\n",
    "        e_threshold=1e-2,\n",
    "        n_iter=1000,\n",
    "        repeat_batch_process=True,\n",
    "        restore_extraction=True,\n",
    "        seed=0\n",
    "    ):\n",
    "        self._n_iter = n_iter\n",
    "        self._repeat_batch_process = repeat_batch_process\n",
    "        self._restore_extraction = restore_extraction\n",
    "        self._batch_size = batch_size\n",
    "        self._n_epochs = n_epochs\n",
    "        self._e_threshold = e_threshold  # 誤差の閾値        \n",
    "        self.entropy = None\n",
    "        self.epoch_entropy_mean = None\n",
    "                            \n",
    "    def sequential(self,*layers):\n",
    "        \"\"\"\n",
    "        layerをつなげるメソッド。\n",
    "        \"\"\"\n",
    "        self.layers = []        \n",
    "        for layer in layers:\n",
    "            self.layers.append(layer)\n",
    "            \n",
    "    def initialize(self, input_dim, summary, init_type, optimizer, sigma=1e-2, lr=1e-2):\n",
    "        \"\"\"\n",
    "        それぞれのlayerの初期化メソッド\n",
    "        活性化層以外の層のinitializeメソッドを使う。\n",
    "        \"\"\"\n",
    "        for layer in self.layers:\n",
    "            if layer.group != 'activation':\n",
    "                input_dim = layer.initialize(input_dim,summary, init_type, optimizer, sigma=sigma, lr=lr)\n",
    "        \n",
    "\n",
    "    def fit(self, X, y, validation_split=0.1):\n",
    "        \"\"\"\n",
    "        NNを学習する。\n",
    "\n",
    "        Parameters\n",
    "        ----------\n",
    "        X : 次の形のndarray, shape (n_samples, チャンネル数,高さ,幅)\n",
    "            学習用データの特徴量\n",
    "        y : 次の形のndarray, shape (n_samples, クラス)\n",
    "            学習用データの正解値\n",
    "        \n",
    "        \"\"\"\n",
    "        \n",
    "        # trainとvalにデータを分ける。        \n",
    "        split_index = int(X.shape[0] * validation_split)\n",
    "        X_train = X[split_index:]\n",
    "        y_train = y[split_index:]\n",
    "        X_val = X[:split_index]\n",
    "        y_val = y[:split_index]\n",
    "        \n",
    "        # yの値をワンホットエンコーディングする。        \n",
    "        enc = OneHotEncoder(handle_unknown='ignore', sparse=False)\n",
    "        y_train_one_hot = enc.fit_transform(y_train[:, np.newaxis])\n",
    "        y_val_one_hot = enc.transform(y_val[:, np.newaxis])\n",
    "        \n",
    "\n",
    "        # リピートしない場合はここでミニバッチ化\n",
    "        if self._repeat_batch_process == False:\n",
    "            train_batch = GetMiniBatch(X_train, y_train_one_hot,\n",
    "                                       batch_size=self._batch_size) \n",
    "        # バッチをランダム取得するためのindexを取得\n",
    "        batch_index = np.random.choice(int(X_train.shape[0] / self._batch_size),\n",
    "                                       self._n_iter,\n",
    "                                       replace=self._restore_extraction)  # n_iterのindex\n",
    "        self.train_loss = []  # 1エポックの平均のlossの入れ物\n",
    "        self.val_loss = []  # 1エポックの平均のlossの入れ物\n",
    "        self.train_acc = []\n",
    "        self.val_acc = []\n",
    "\n",
    "        # 学習開始\n",
    "        for epoch in tqdm(range(self._n_epochs)):\n",
    "            if self._repeat_batch_process:\n",
    "                train_batch = GetMiniBatch(\n",
    "                    X_train, y_train_one_hot, batch_size=self._batch_size)  # バッチに分ける。\n",
    "            for i, index in enumerate(batch_index):\n",
    "                X_batch, y_batch = train_batch[index][0].copy(\n",
    "                ), train_batch[index][1].copy()\n",
    "                # フォワードプロパゲーション\n",
    "                for layer_index in range(len(self.layers)):\n",
    "                    X_batch = self.layers[layer_index].forward(X_batch)\n",
    "                # バックプロパゲーション\n",
    "                for layer_index in range(1, len(self.layers) + 1):\n",
    "                    y_batch = self.layers[-layer_index].backward(y_batch)\n",
    "            \n",
    "            # エポックごとにlossとaccを計算\n",
    "            tr_pred = self.predict(X_train)\n",
    "            tr_loss = self.layers[-1].loss(y_train_one_hot)\n",
    "            val_pred = self.predict(X_val)\n",
    "            val_loss = self.layers[-1].loss(y_val_one_hot)\n",
    "            tr_acc = np.sum(y_train == tr_pred) / X_train.shape[0]\n",
    "            val_acc = np.sum(y_val == val_pred) / X_val.shape[0]\n",
    "            self.train_loss.append(tr_loss)\n",
    "            self.val_loss.append(val_loss)\n",
    "            self.train_acc.append(tr_acc)\n",
    "            self.val_acc.append(val_acc)\n",
    "            print('{}エポック目のloss= {:.5f}'.format(epoch,tr_loss))\n",
    "            # 誤差が閾値以下になったらエポック終了\n",
    "            if tr_loss < self._e_threshold:  \n",
    "                print('lossが{:.3f}より低いよ！'.format(self._e_threshold))\n",
    "                break\n",
    "                \n",
    "    def predict(self, X):\n",
    "        \"\"\"\n",
    "        NNで予測する。\n",
    "\n",
    "        Parameters\n",
    "        ----------\n",
    "        X : 次の形のndarray, shape (n_samples, チャンネル数,高さ,幅)\n",
    "            学習用データの特徴量        \n",
    "        \"\"\"\n",
    "\n",
    "        # フォワードプロパゲーション\n",
    "        out = X.copy()\n",
    "        for layer in range(len(self.layers)):\n",
    "            out = self.layers[layer].forward(out)\n",
    "\n",
    "        return np.argmax(out, axis=1)"
   ]
  },
  {
   "cell_type": "markdown",
   "metadata": {},
   "source": [
    "### 試す"
   ]
  },
  {
   "cell_type": "code",
   "execution_count": 53,
   "metadata": {
    "ExecuteTime": {
     "end_time": "2019-07-16T02:59:50.209457Z",
     "start_time": "2019-07-16T02:59:49.670848Z"
    }
   },
   "outputs": [],
   "source": [
    "(X_train, y_train), (X_test, y_test) = mnist.load_data()\n",
    "X_train = X_train / 255\n",
    "X_test = X_test / 255"
   ]
  },
  {
   "cell_type": "code",
   "execution_count": 54,
   "metadata": {
    "ExecuteTime": {
     "end_time": "2019-07-16T02:59:50.223262Z",
     "start_time": "2019-07-16T02:59:50.220712Z"
    }
   },
   "outputs": [],
   "source": [
    "X_train = np.expand_dims(X_train, 1)"
   ]
  },
  {
   "cell_type": "code",
   "execution_count": 55,
   "metadata": {
    "ExecuteTime": {
     "end_time": "2019-07-16T02:59:50.573020Z",
     "start_time": "2019-07-16T02:59:50.569997Z"
    }
   },
   "outputs": [],
   "source": [
    "cnn2d = Scratch2dCNNClassifier(batch_size=32,\n",
    "                                n_epochs=5,\n",
    "                                n_iter=100,\n",
    "                                repeat_batch_process=False,\n",
    "                                restore_extraction=False,\n",
    "                                seed=0)"
   ]
  },
  {
   "cell_type": "code",
   "execution_count": 43,
   "metadata": {
    "ExecuteTime": {
     "end_time": "2019-07-16T02:31:23.803206Z",
     "start_time": "2019-07-16T02:31:23.775855Z"
    }
   },
   "outputs": [
    {
     "name": "stdout",
     "output_type": "stream",
     "text": [
      "conv layer shape=(6, 30, 30), param=60\n",
      "pooling layer shape= (6, 16, 16)\n",
      "flatten layer shape= 1536\n",
      "FC layer shape=(1536, 128), param=196736\n",
      "FC layer shape=(128, 50), param=6450\n",
      "FC layer shape=(50, 10), param=510\n"
     ]
    }
   ],
   "source": [
    "cnn2d.sequential(\n",
    "    Conv2d(FN=6,FH=3, FW=3,  P=2, S=1), \n",
    "    Relu(),\n",
    "    MaxPool2D(PH=2, PW=2, P=1,S=2),\n",
    "    Flatten(), \n",
    "    FC(128),\n",
    "    Relu(),\n",
    "    FC(50), \n",
    "    Relu(),\n",
    "    FC(10), \n",
    "    Softmax()\n",
    ")\n",
    "\n",
    "input_dim = (1, 28, 28)\n",
    "cnn2d.initialize(input_dim, summary=True, init_type='He', optimizer=AdaGrad, lr=1e-2)"
   ]
  },
  {
   "cell_type": "code",
   "execution_count": 44,
   "metadata": {
    "ExecuteTime": {
     "end_time": "2019-07-16T02:41:01.930131Z",
     "start_time": "2019-07-16T02:31:25.199986Z"
    },
    "scrolled": false
   },
   "outputs": [
    {
     "data": {
      "application/vnd.jupyter.widget-view+json": {
       "model_id": "af929c2cfced447f8b8883e76e9d57d5",
       "version_major": 2,
       "version_minor": 0
      },
      "text/plain": [
       "HBox(children=(IntProgress(value=0, max=5), HTML(value='')))"
      ]
     },
     "metadata": {},
     "output_type": "display_data"
    },
    {
     "name": "stdout",
     "output_type": "stream",
     "text": [
      "0エポック目のloss= 0.41756\n",
      "1エポック目のloss= 0.32645\n",
      "2エポック目のloss= 0.29020\n",
      "3エポック目のloss= 0.27127\n",
      "4エポック目のloss= 0.25873\n"
     ]
    }
   ],
   "source": [
    "cnn2d.fit(X_train, y_train,0.1)"
   ]
  },
  {
   "cell_type": "code",
   "execution_count": 60,
   "metadata": {
    "ExecuteTime": {
     "end_time": "2019-07-16T03:27:05.978939Z",
     "start_time": "2019-07-16T03:27:05.973327Z"
    }
   },
   "outputs": [
    {
     "data": {
      "text/plain": [
       "(10000, 1, 28, 28)"
      ]
     },
     "execution_count": 60,
     "metadata": {},
     "output_type": "execute_result"
    }
   ],
   "source": [
    "X_test = np.expand_dims(X_test, 1)\n",
    "X_test.shape"
   ]
  },
  {
   "cell_type": "code",
   "execution_count": 49,
   "metadata": {
    "ExecuteTime": {
     "end_time": "2019-07-16T02:59:15.060488Z",
     "start_time": "2019-07-16T02:59:08.247508Z"
    }
   },
   "outputs": [
    {
     "data": {
      "text/plain": [
       "0.9237"
      ]
     },
     "execution_count": 49,
     "metadata": {},
     "output_type": "execute_result"
    }
   ],
   "source": [
    "(cnn2d.predict(X_test) == y_test).sum() / len(X_test)"
   ]
  },
  {
   "cell_type": "markdown",
   "metadata": {},
   "source": [
    "精度が中途半端。。。\n",
    "そして微妙に遅い。"
   ]
  },
  {
   "cell_type": "markdown",
   "metadata": {},
   "source": [
    "# 【問題6】（アドバンス課題）LeNet"
   ]
  },
  {
   "cell_type": "markdown",
   "metadata": {},
   "source": [
    "サブサンプリングとは現在のプーリングに相当するものです。現代風に以下のように作ってみることにします。活性化関数も当時はシグモイド関数ですが、ReLUとします。\n",
    "\n",
    "- 畳み込み層　出力チャンネル数6、フィルタサイズ5×5、ストライド1\n",
    "- ReLU\n",
    "- 最大プーリング\n",
    "- 畳み込み層　出力チャンネル数16、フィルタサイズ5×5、ストライド1\n",
    "- ReLU\n",
    "- 最大プーリング\n",
    "- 平滑化\n",
    "- 全結合層　出力ノード数120\n",
    "- ReLU\n",
    "- 全結合層　出力ノード数84\n",
    "- ReLU\n",
    "- 全結合層　出力ノード数10\n",
    "- ソフトマックス関数"
   ]
  },
  {
   "cell_type": "code",
   "execution_count": 56,
   "metadata": {
    "ExecuteTime": {
     "end_time": "2019-07-16T02:59:58.094581Z",
     "start_time": "2019-07-16T02:59:58.091505Z"
    }
   },
   "outputs": [],
   "source": [
    "cnn2d = Scratch2dCNNClassifier(batch_size=100,\n",
    "                                n_epochs=5,\n",
    "                                n_iter=100,\n",
    "                                repeat_batch_process=False,\n",
    "                                restore_extraction=False,\n",
    "                                seed=0)"
   ]
  },
  {
   "cell_type": "code",
   "execution_count": 57,
   "metadata": {
    "ExecuteTime": {
     "end_time": "2019-07-16T02:59:58.959127Z",
     "start_time": "2019-07-16T02:59:58.949188Z"
    }
   },
   "outputs": [
    {
     "name": "stdout",
     "output_type": "stream",
     "text": [
      "conv layer shape=(6, 24, 24), param=156\n",
      "pooling layer shape= (6, 12, 12)\n",
      "conv layer shape=(16, 8, 8), param=2416\n",
      "pooling layer shape= (16, 4, 4)\n",
      "flatten layer shape= 256\n",
      "FC layer shape=(256, 120), param=30840\n",
      "FC layer shape=(120, 84), param=10164\n",
      "FC layer shape=(84, 10), param=850\n"
     ]
    }
   ],
   "source": [
    "cnn2d.sequential(\n",
    "    Conv2d(FN=6,FH=5, FW=5,  P=0, S=1), \n",
    "    Relu(),\n",
    "    MaxPool2D(PH=2, PW=2, P=0,S=2),\n",
    "    Conv2d(FN=16,FH=5, FW=5,  P=0, S=1), \n",
    "    Relu(),\n",
    "    MaxPool2D(PH=2, PW=2, P=0,S=2),\n",
    "    Flatten(), \n",
    "    FC(120),\n",
    "    Relu(),\n",
    "    FC(84), \n",
    "    Relu(),\n",
    "    FC(10), \n",
    "    Softmax()\n",
    ")\n",
    "\n",
    "input_dim = (1, 28, 28)\n",
    "cnn2d.initialize(input_dim, summary=True, init_type='He', optimizer=AdaGrad, lr=1e-2)"
   ]
  },
  {
   "cell_type": "code",
   "execution_count": 58,
   "metadata": {
    "ExecuteTime": {
     "end_time": "2019-07-16T03:04:17.766579Z",
     "start_time": "2019-07-16T03:00:00.340817Z"
    },
    "scrolled": false
   },
   "outputs": [
    {
     "data": {
      "application/vnd.jupyter.widget-view+json": {
       "model_id": "8bb2aa51666847a0960e4178a0e321ed",
       "version_major": 2,
       "version_minor": 0
      },
      "text/plain": [
       "HBox(children=(IntProgress(value=0, max=5), HTML(value='')))"
      ]
     },
     "metadata": {},
     "output_type": "display_data"
    },
    {
     "name": "stdout",
     "output_type": "stream",
     "text": [
      "0エポック目のloss= 0.46207\n",
      "1エポック目のloss= 0.40284\n",
      "2エポック目のloss= 0.36847\n",
      "3エポック目のloss= 0.35104\n",
      "4エポック目のloss= 0.34091\n"
     ]
    }
   ],
   "source": [
    "cnn2d.fit(X_train, y_train)"
   ]
  },
  {
   "cell_type": "code",
   "execution_count": 61,
   "metadata": {
    "ExecuteTime": {
     "end_time": "2019-07-16T03:27:15.272835Z",
     "start_time": "2019-07-16T03:27:08.987437Z"
    }
   },
   "outputs": [
    {
     "data": {
      "text/plain": [
       "0.9106"
      ]
     },
     "execution_count": 61,
     "metadata": {},
     "output_type": "execute_result"
    }
   ],
   "source": [
    "(cnn2d.predict(X_test) == y_test).sum() / len(X_test)"
   ]
  },
  {
   "cell_type": "markdown",
   "metadata": {},
   "source": [
    "これも精度が中途半端。。。"
   ]
  },
  {
   "cell_type": "markdown",
   "metadata": {},
   "source": [
    "#### 間違った数字を調べていく。"
   ]
  },
  {
   "cell_type": "code",
   "execution_count": 62,
   "metadata": {
    "ExecuteTime": {
     "end_time": "2019-07-16T03:27:28.343979Z",
     "start_time": "2019-07-16T03:27:16.186896Z"
    }
   },
   "outputs": [
    {
     "data": {
      "text/plain": [
       "(array([0, 1, 2, 3, 4, 5, 6, 7, 8, 9], dtype=uint8),\n",
       " array([ 34,  33,  96,  82, 100, 151,  54, 136, 126,  82]))"
      ]
     },
     "execution_count": 62,
     "metadata": {},
     "output_type": "execute_result"
    }
   ],
   "source": [
    "false_X = X_test[cnn2d.predict(X_test) != y_test]\n",
    "false_y = y_test[cnn2d.predict(X_test) != y_test]\n",
    "np.unique(false_y,return_counts=True)"
   ]
  },
  {
   "cell_type": "code",
   "execution_count": 63,
   "metadata": {
    "ExecuteTime": {
     "end_time": "2019-07-16T03:28:14.738751Z",
     "start_time": "2019-07-16T03:28:13.523898Z"
    },
    "scrolled": false
   },
   "outputs": [
    {
     "data": {
      "image/png": "[encoded data removed]",
      "text/plain": [
       "<Figure size 432x288 with 1 Axes>"
      ]
     },
     "metadata": {
      "needs_background": "light"
     },
     "output_type": "display_data"
    },
    {
     "data": {
      "image/png": "[encoded data removed]",
      "text/plain": [
       "<Figure size 432x288 with 1 Axes>"
      ]
     },
     "metadata": {
      "needs_background": "light"
     },
     "output_type": "display_data"
    },
    {
     "data": {
      "image/png": "[encoded data removed]",
      "text/plain": [
       "<Figure size 432x288 with 1 Axes>"
      ]
     },
     "metadata": {
      "needs_background": "light"
     },
     "output_type": "display_data"
    },
    {
     "data": {
      "image/png": "[encoded data removed]",
      "text/plain": [
       "<Figure size 432x288 with 1 Axes>"
      ]
     },
     "metadata": {
      "needs_background": "light"
     },
     "output_type": "display_data"
    },
    {
     "data": {
      "image/png": "[encoded data removed]",
      "text/plain": [
       "<Figure size 432x288 with 1 Axes>"
      ]
     },
     "metadata": {
      "needs_background": "light"
     },
     "output_type": "display_data"
    },
    {
     "data": {
      "image/png": "[encoded data removed]",
      "text/plain": [
       "<Figure size 432x288 with 1 Axes>"
      ]
     },
     "metadata": {
      "needs_background": "light"
     },
     "output_type": "display_data"
    },
    {
     "data": {
      "image/png": "[encoded data removed]",
      "text/plain": [
       "<Figure size 432x288 with 1 Axes>"
      ]
     },
     "metadata": {
      "needs_background": "light"
     },
     "output_type": "display_data"
    },
    {
     "data": {
      "image/png": "[encoded data removed]",
      "text/plain": [
       "<Figure size 432x288 with 1 Axes>"
      ]
     },
     "metadata": {
      "needs_background": "light"
     },
     "output_type": "display_data"
    },
    {
     "data": {
      "image/png": "[encoded data removed]",
      "text/plain": [
       "<Figure size 432x288 with 1 Axes>"
      ]
     },
     "metadata": {
      "needs_background": "light"
     },
     "output_type": "display_data"
    },
    {
     "data": {
      "image/png": "[encoded data removed]",
      "text/plain": [
       "<Figure size 432x288 with 1 Axes>"
      ]
     },
     "metadata": {
      "needs_background": "light"
     },
     "output_type": "display_data"
    }
   ],
   "source": [
    "import matplotlib.pyplot as plt\n",
    "%matplotlib inline\n",
    "for i in range(10):\n",
    "    index = i\n",
    "    image = false_X[index].reshape(28,28)\n",
    "    # X_train[index]: (784,)\n",
    "    # image: (28, 28)\n",
    "    plt.imshow(image, 'gray')\n",
    "    plt.title('label : {}'.format(false_y[index]))\n",
    "    plt.show()"
   ]
  },
  {
   "cell_type": "markdown",
   "metadata": {},
   "source": [
    "間違った数字に偏りが若干ある気もするが、無い気もする。"
   ]
  },
  {
   "cell_type": "markdown",
   "metadata": {},
   "source": [
    "可視化してもあまり良くわからない。"
   ]
  },
  {
   "cell_type": "markdown",
   "metadata": {},
   "source": [
    "### 更に精度改善を目指す"
   ]
  },
  {
   "cell_type": "code",
   "execution_count": 64,
   "metadata": {
    "ExecuteTime": {
     "end_time": "2019-07-16T03:28:29.071786Z",
     "start_time": "2019-07-16T03:28:29.068184Z"
    }
   },
   "outputs": [],
   "source": [
    "cnn2d = Scratch2dCNNClassifier(batch_size=100,\n",
    "                                n_epochs=5,\n",
    "                                n_iter=500,\n",
    "                                repeat_batch_process=False,\n",
    "                                restore_extraction=False,\n",
    "                                seed=0)"
   ]
  },
  {
   "cell_type": "code",
   "execution_count": 65,
   "metadata": {
    "ExecuteTime": {
     "end_time": "2019-07-16T03:28:33.071884Z",
     "start_time": "2019-07-16T03:28:33.024806Z"
    }
   },
   "outputs": [
    {
     "name": "stdout",
     "output_type": "stream",
     "text": [
      "conv layer shape=(16, 26, 26), param=416\n",
      "pooling layer shape= (16, 13, 13)\n",
      "flatten layer shape= 2704\n",
      "FC layer shape=(2704, 512), param=1384960\n",
      "FC layer shape=(512, 256), param=131328\n",
      "FC layer shape=(256, 10), param=2570\n"
     ]
    }
   ],
   "source": [
    "cnn2d.sequential(\n",
    "    Conv2d(FN=16,FH=5, FW=5,  P=1, S=1), \n",
    "    Relu(),\n",
    "    MaxPool2D(PH=2, PW=2, P=0,S=2),\n",
    "    Flatten(), \n",
    "    FC(512),\n",
    "    Relu(),\n",
    "    FC(256), \n",
    "    Relu(),\n",
    "    FC(10), \n",
    "    Softmax()\n",
    ")\n",
    "\n",
    "input_dim = (1, 28, 28)\n",
    "cnn2d.initialize(input_dim, summary=True, init_type='He', optimizer=AdaGrad, lr=1e-2)"
   ]
  },
  {
   "cell_type": "code",
   "execution_count": 66,
   "metadata": {
    "ExecuteTime": {
     "end_time": "2019-07-16T03:40:43.676280Z",
     "start_time": "2019-07-16T03:28:41.624528Z"
    },
    "scrolled": false
   },
   "outputs": [
    {
     "data": {
      "application/vnd.jupyter.widget-view+json": {
       "model_id": "ca7cae68e2da480c9335d3cfe93964b0",
       "version_major": 2,
       "version_minor": 0
      },
      "text/plain": [
       "HBox(children=(IntProgress(value=0, max=5), HTML(value='')))"
      ]
     },
     "metadata": {},
     "output_type": "display_data"
    },
    {
     "name": "stdout",
     "output_type": "stream",
     "text": [
      "0エポック目のloss= 0.13204\n",
      "1エポック目のloss= 0.09676\n",
      "2エポック目のloss= 0.07459\n",
      "3エポック目のloss= 0.06067\n",
      "4エポック目のloss= 0.04966\n"
     ]
    }
   ],
   "source": [
    "cnn2d.fit(X_train, y_train,0.1)"
   ]
  },
  {
   "cell_type": "code",
   "execution_count": 67,
   "metadata": {
    "ExecuteTime": {
     "end_time": "2019-07-16T03:40:52.735679Z",
     "start_time": "2019-07-16T03:40:43.754388Z"
    }
   },
   "outputs": [
    {
     "data": {
      "text/plain": [
       "0.9773"
      ]
     },
     "execution_count": 67,
     "metadata": {},
     "output_type": "execute_result"
    }
   ],
   "source": [
    "(cnn2d.predict(X_test) == y_test).sum() / len(X_test)"
   ]
  },
  {
   "cell_type": "markdown",
   "metadata": {},
   "source": [
    "**FC層のnode数を増やしたら精度が出た！**"
   ]
  },
  {
   "cell_type": "markdown",
   "metadata": {},
   "source": [
    "# 【問題7】出力サイズとパラメータ数の計算"
   ]
  },
  {
   "cell_type": "markdown",
   "metadata": {},
   "source": [
    "CNNモデルを構築する際には、全結合層に入力する段階で特徴量がいくつになっているかを事前に計算する必要があります。  \n",
    "\n",
    "また、巨大なモデルを扱うようになると、メモリや計算速度の関係でパラメータ数の計算は必須になってきます。  \n",
    "フレームワークでは各層のパラメータ数を表示させることが可能ですが、意味を理解していなくては適切な調整が行えません。  \n",
    "\n",
    "以下の3つの畳み込み層の出力サイズとパラメータ数を計算してください。パラメータ数についてはバイアス項も考えてください。  "
   ]
  },
  {
   "cell_type": "markdown",
   "metadata": {
    "ExecuteTime": {
     "end_time": "2019-06-26T10:40:36.753077Z",
     "start_time": "2019-06-26T10:40:36.748298Z"
    }
   },
   "source": [
    "1.\n",
    "\n",
    "- 入力サイズ : 144×144, 3チャンネル\n",
    "- フィルタサイズ : 3×3, 6チャンネル\n",
    "- ストライド : 1\n",
    "- パディング : なし\n",
    "\n",
    "2.\n",
    "\n",
    "- 入力サイズ : 60×60, 24チャンネル\n",
    "- フィルタサイズ : 3×3, 48チャンネル\n",
    "- ストライド　: 1\n",
    "- パディング : なし\n",
    "\n",
    "3.\n",
    "\n",
    "- 入力サイズ : 20×20, 10チャンネル\n",
    "- フィルタサイズ: 3×3, 20チャンネル\n",
    "- ストライド : 2\n",
    "- パディング : なし"
   ]
  },
  {
   "cell_type": "code",
   "execution_count": 68,
   "metadata": {
    "ExecuteTime": {
     "end_time": "2019-07-16T05:34:39.750933Z",
     "start_time": "2019-07-16T05:34:39.511824Z"
    }
   },
   "outputs": [],
   "source": [
    "cnn2d = Scratch2dCNNClassifier(batch_size=100,\n",
    "                                n_epochs=5,\n",
    "                                n_iter=500,\n",
    "                                repeat_batch_process=False,\n",
    "                                restore_extraction=False,\n",
    "                                seed=0)"
   ]
  },
  {
   "cell_type": "code",
   "execution_count": 69,
   "metadata": {
    "ExecuteTime": {
     "end_time": "2019-07-16T05:34:39.763401Z",
     "start_time": "2019-07-16T05:34:39.754087Z"
    }
   },
   "outputs": [
    {
     "name": "stdout",
     "output_type": "stream",
     "text": [
      "conv layer shape=(6, 142, 142), param=168\n"
     ]
    }
   ],
   "source": [
    "# 1\n",
    "cnn2d.sequential(\n",
    "    Conv2d(FN=6,FH=3, FW=3,  P=0, S=1))\n",
    "\n",
    "input_dim = (3, 144, 144)\n",
    "cnn2d.initialize(input_dim, summary=True, init_type='He', optimizer=AdaGrad, lr=1e-2)"
   ]
  },
  {
   "cell_type": "code",
   "execution_count": 70,
   "metadata": {
    "ExecuteTime": {
     "end_time": "2019-07-16T05:34:40.729092Z",
     "start_time": "2019-07-16T05:34:40.721347Z"
    }
   },
   "outputs": [
    {
     "name": "stdout",
     "output_type": "stream",
     "text": [
      "conv layer shape=(48, 58, 58), param=10416\n"
     ]
    }
   ],
   "source": [
    "cnn2d.sequential(\n",
    "    Conv2d(FN=48,FH=3, FW=3,  P=0, S=1))\n",
    "\n",
    "input_dim = (24, 60, 60)\n",
    "cnn2d.initialize(input_dim, summary=True, init_type='He', optimizer=AdaGrad, lr=1e-2)"
   ]
  },
  {
   "cell_type": "code",
   "execution_count": 71,
   "metadata": {
    "ExecuteTime": {
     "end_time": "2019-07-16T05:34:41.404331Z",
     "start_time": "2019-07-16T05:34:41.397996Z"
    }
   },
   "outputs": [
    {
     "name": "stdout",
     "output_type": "stream",
     "text": [
      "conv layer shape=(20, 18, 18), param=1820\n"
     ]
    }
   ],
   "source": [
    "cnn2d.sequential(\n",
    "    Conv2d(FN=20,FH=3, FW=3,  P=0, S=1))\n",
    "\n",
    "input_dim = (10, 20, 20)\n",
    "cnn2d.initialize(input_dim, summary=True, init_type='He', optimizer=AdaGrad, lr=1e-2)"
   ]
  }
 ],
 "metadata": {
  "kernelspec": {
   "display_name": "Python 3",
   "language": "python",
   "name": "python3"
  },
  "language_info": {
   "codemirror_mode": {
    "name": "ipython",
    "version": 3
   },
   "file_extension": ".py",
   "mimetype": "text/x-python",
   "name": "python",
   "nbconvert_exporter": "python",
   "pygments_lexer": "ipython3",
   "version": "3.7.3"
  },
  "nbTranslate": {
   "displayLangs": [
    "*"
   ],
   "hotkey": "alt-t",
   "langInMainMenu": true,
   "sourceLang": "en",
   "targetLang": "fr",
   "useGoogleTranslate": true
  },
  "varInspector": {
   "cols": {
    "lenName": 16,
    "lenType": 16,
    "lenVar": 40
   },
   "kernels_config": {
    "python": {
     "delete_cmd_postfix": "",
     "delete_cmd_prefix": "del ",
     "library": "var_list.py",
     "varRefreshCmd": "print(var_dic_list())"
    },
    "r": {
     "delete_cmd_postfix": ") ",
     "delete_cmd_prefix": "rm(",
     "library": "var_list.r",
     "varRefreshCmd": "cat(var_dic_list()) "
    }
   },
   "position": {
    "height": "584.219px",
    "left": "695.896px",
    "right": "20px",
    "top": "120px",
    "width": "351.771px"
   },
   "types_to_exclude": [
    "module",
    "function",
    "builtin_function_or_method",
    "instance",
    "_Feature"
   ],
   "window_display": false
  }
 },
 "nbformat": 4,
 "nbformat_minor": 2
}
