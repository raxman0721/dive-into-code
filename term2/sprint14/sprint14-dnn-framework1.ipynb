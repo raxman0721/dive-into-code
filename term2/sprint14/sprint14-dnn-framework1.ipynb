{
 "cells": [
  {
   "cell_type": "markdown",
   "metadata": {
    "heading_collapsed": true
   },
   "source": [
    "# sprint14課題 ディープラーニングフレームワーク1"
   ]
  },
  {
   "cell_type": "code",
   "execution_count": 1,
   "metadata": {
    "ExecuteTime": {
     "end_time": "2019-06-30T04:32:43.039778Z",
     "start_time": "2019-06-30T04:32:41.779034Z"
    },
    "hidden": true
   },
   "outputs": [],
   "source": [
    "#インポート\n",
    "import numpy as np\n",
    "import pandas as pd\n",
    "from sklearn.model_selection import train_test_split\n",
    "from sklearn.preprocessing import StandardScaler\n",
    "from sklearn.metrics import mean_squared_error\n",
    "from sklearn.metrics import r2_score\n",
    "import matplotlib as mpl\n",
    "%matplotlib inline\n",
    "import seaborn as sns\n",
    "from tqdm import tqdm_notebook as tqdm"
   ]
  },
  {
   "cell_type": "markdown",
   "metadata": {
    "heading_collapsed": true
   },
   "source": [
    "# TensorFlow入門1 基本的な仕組み\n",
    "\n",
    "## 簡単な計算 \n",
    "簡単な計算をさせてみます。TensorFlowの基本的な流れです。"
   ]
  },
  {
   "cell_type": "code",
   "execution_count": 2,
   "metadata": {
    "ExecuteTime": {
     "end_time": "2019-06-30T04:32:44.641912Z",
     "start_time": "2019-06-30T04:32:43.731245Z"
    },
    "hidden": true
   },
   "outputs": [
    {
     "name": "stdout",
     "output_type": "stream",
     "text": [
      "12\n"
     ]
    }
   ],
   "source": [
    "import tensorflow as tf\n",
    "\n",
    "a = tf.constant(5)\n",
    "b = tf.constant(7)\n",
    "add = tf.add(a, b)\n",
    "\n",
    "sess = tf.Session()\n",
    "output = sess.run(add)\n",
    "print(output) # 12\n",
    "sess.close()"
   ]
  },
  {
   "cell_type": "markdown",
   "metadata": {
    "hidden": true
   },
   "source": [
    "7行目のsess = tf.Session()からsess.close()はwithを使って以下のように書くこともできます。"
   ]
  },
  {
   "cell_type": "code",
   "execution_count": 3,
   "metadata": {
    "ExecuteTime": {
     "end_time": "2019-06-30T04:32:44.707556Z",
     "start_time": "2019-06-30T04:32:44.702536Z"
    },
    "hidden": true
   },
   "outputs": [
    {
     "name": "stdout",
     "output_type": "stream",
     "text": [
      "12\n"
     ]
    }
   ],
   "source": [
    "with tf.Session() as sess:\n",
    "    output = sess.run(add)\n",
    "    print(output) # 12"
   ]
  },
  {
   "cell_type": "markdown",
   "metadata": {
    "hidden": true
   },
   "source": [
    "比較のために、NumPyでも同じ計算をさせてみます。"
   ]
  },
  {
   "cell_type": "code",
   "execution_count": 4,
   "metadata": {
    "ExecuteTime": {
     "end_time": "2019-06-30T04:32:45.587180Z",
     "start_time": "2019-06-30T04:32:45.582917Z"
    },
    "hidden": true
   },
   "outputs": [
    {
     "name": "stdout",
     "output_type": "stream",
     "text": [
      "12\n"
     ]
    }
   ],
   "source": [
    "import numpy as np\n",
    "a_n = np.array(5)\n",
    "b_n = np.array(7)\n",
    "output_n = np.add(a_n, b_n)\n",
    "print(output_n) # 12"
   ]
  },
  {
   "cell_type": "markdown",
   "metadata": {
    "hidden": true
   },
   "source": [
    "このような簡単な計算例ではNumPyの方が短く記述可能です。  \n",
    "TensorFlowの真価が発揮されるのは学習を行うような計算の際ですが、ここでは簡単な計算を例に理解を深めていくことにします。\n",
    "\n",
    "## TensorFlowの手順\n",
    "TensorFlowの手順は以下のようになっています。\n",
    "\n",
    "- データフローグラフを構築する \n",
    "- データを入力して計算する  \n",
    "\n",
    "簡単な計算の例でそれぞれを解説します。\n",
    "\n",
    "## データフローグラフの構築\n",
    "サンプルコードの以下の部分でデータフローグラフを構築しています。"
   ]
  },
  {
   "cell_type": "code",
   "execution_count": 5,
   "metadata": {
    "ExecuteTime": {
     "end_time": "2019-06-30T04:32:46.352939Z",
     "start_time": "2019-06-30T04:32:46.347691Z"
    },
    "hidden": true
   },
   "outputs": [],
   "source": [
    "a = tf.constant(5)\n",
    "b = tf.constant(7)\n",
    "add = tf.add(a, b)"
   ]
  },
  {
   "cell_type": "markdown",
   "metadata": {
    "hidden": true
   },
   "source": [
    "定数aと定数bを定義し、それらを足し算するデータフローグラフです。  \n",
    "NumPyであれば3行で計算まで行いますが、TensorFlowでは実際の計算までは進みません。  \n",
    "それぞれをprintしてみても、エッジ（Tensor）の説明が返されるだけです。"
   ]
  },
  {
   "cell_type": "code",
   "execution_count": 6,
   "metadata": {
    "ExecuteTime": {
     "end_time": "2019-06-30T04:32:46.881527Z",
     "start_time": "2019-06-30T04:32:46.878082Z"
    },
    "hidden": true
   },
   "outputs": [
    {
     "name": "stdout",
     "output_type": "stream",
     "text": [
      "Tensor(\"Const_2:0\", shape=(), dtype=int32)\n",
      "Tensor(\"Add_1:0\", shape=(), dtype=int32)\n"
     ]
    }
   ],
   "source": [
    "print(a) # Tensor(\"Const:0\", shape=(), dtype=int32)\n",
    "print(add) # Tensor(\"Add:0\", shape=(), dtype=int32)"
   ]
  },
  {
   "cell_type": "markdown",
   "metadata": {
    "hidden": true
   },
   "source": [
    "### データを入力して計算\n",
    "データフローグラフの計算を行う際にはセッションという概念が登場します。\n",
    "\n",
    "まずSessionオブジェクトを作成します。"
   ]
  },
  {
   "cell_type": "code",
   "execution_count": 7,
   "metadata": {
    "ExecuteTime": {
     "end_time": "2019-06-30T04:32:47.380825Z",
     "start_time": "2019-06-30T04:32:47.377700Z"
    },
    "hidden": true
   },
   "outputs": [],
   "source": [
    "sess = tf.Session()"
   ]
  },
  {
   "cell_type": "markdown",
   "metadata": {
    "hidden": true
   },
   "source": [
    "そして、sess.run()の中にエッジ（Tensor）を入れます。  \n",
    "そうすることで、そのエッジ（Tensor）がどのような値を持つかが返ってきます。"
   ]
  },
  {
   "cell_type": "code",
   "execution_count": 8,
   "metadata": {
    "ExecuteTime": {
     "end_time": "2019-06-30T04:32:47.873286Z",
     "start_time": "2019-06-30T04:32:47.868587Z"
    },
    "hidden": true
   },
   "outputs": [
    {
     "name": "stdout",
     "output_type": "stream",
     "text": [
      "12\n"
     ]
    }
   ],
   "source": [
    "output = sess.run(add)\n",
    "print(output) # 12"
   ]
  },
  {
   "cell_type": "markdown",
   "metadata": {
    "hidden": true
   },
   "source": [
    "データフローグラフやセッションの概念は、次のテキストでより複雑な計算を実装していくことで理解を深めます。\n",
    "\n",
    "## TensorFlowにおける値の扱い方\n",
    "TensorFlowが値を扱う上で独自の概念として、placeholderとValiableがあります。\n",
    "\n",
    "**placeholder**\n",
    "\n",
    "placeholderはデータフローグラフの構築時には値が決まっていないものに使います。  \n",
    "最初は配列の形だけ定義しておいて後から値を入れて使う空箱のような存在です。   \n",
    "学習ごとに違う値が入る入力データや正解データなどに用いられます。\n",
    "\n",
    "サンプルコードをplaceholderを使用したものに書き換えてみます。"
   ]
  },
  {
   "cell_type": "code",
   "execution_count": 9,
   "metadata": {
    "ExecuteTime": {
     "end_time": "2019-06-30T04:32:48.531059Z",
     "start_time": "2019-06-30T04:32:48.521553Z"
    },
    "hidden": true
   },
   "outputs": [
    {
     "name": "stdout",
     "output_type": "stream",
     "text": [
      "12\n"
     ]
    }
   ],
   "source": [
    "c = tf.placeholder(tf.int32)\n",
    "d = tf.placeholder(tf.int32)\n",
    "add = tf.add(c, d)\n",
    "\n",
    "sess = tf.Session()\n",
    "output = sess.run(add, feed_dict={c:5, d:7})\n",
    "print(output) # 12"
   ]
  },
  {
   "cell_type": "markdown",
   "metadata": {
    "hidden": true
   },
   "source": [
    "セッションを実行する際に引数feed_dictを使い、placeholderに入れる値を辞書型で指定します。  \n",
    "ここを書き換えることで異なる計算が可能になります。"
   ]
  },
  {
   "cell_type": "code",
   "execution_count": 10,
   "metadata": {
    "ExecuteTime": {
     "end_time": "2019-06-30T04:32:49.017333Z",
     "start_time": "2019-06-30T04:32:49.013078Z"
    },
    "hidden": true
   },
   "outputs": [
    {
     "name": "stdout",
     "output_type": "stream",
     "text": [
      "52\n"
     ]
    }
   ],
   "source": [
    "output = sess.run(add, feed_dict={c:20, d:32})\n",
    "print(output) # 52"
   ]
  },
  {
   "cell_type": "markdown",
   "metadata": {
    "hidden": true
   },
   "source": [
    "今回の簡単な例では定数とplaceholderの違いは感じられませんが、ミニバッチ学習を行うような場合を想定すると、必要性がわかります。  \n",
    "\n",
    "**Valiable**\n",
    "\n",
    "Valiableはplaceholderとは違い、データフローグラフの構築時にも値を持ち、更新を行うものに対して使います。  \n",
    "学習するパラメータ（重み、バイアス）に用いられます。  \n",
    "\n",
    "**constant**\n",
    "\n",
    "確認になりますが、placeholderでもValiableでもないただの値は定数constantとして扱います。\n",
    "\n",
    "## TensorFlowにおける演算\n",
    "サンプルコードではtf.add()を使用していますが、NumPyなどと同様に+を使用することも可能です。"
   ]
  },
  {
   "cell_type": "code",
   "execution_count": 11,
   "metadata": {
    "ExecuteTime": {
     "end_time": "2019-06-30T04:32:49.493063Z",
     "start_time": "2019-06-30T04:32:49.489605Z"
    },
    "hidden": true
   },
   "outputs": [],
   "source": [
    "add = a + b # tf.add(a, b)に等しい"
   ]
  },
  {
   "cell_type": "markdown",
   "metadata": {
    "hidden": true
   },
   "source": [
    "TensorFlowではNumPyなどと同様に様々な関数が用意されています。  \n",
    "\n",
    "## セッションの終了  \n",
    "最後にセッションは終了させます。"
   ]
  },
  {
   "cell_type": "code",
   "execution_count": 12,
   "metadata": {
    "ExecuteTime": {
     "end_time": "2019-06-30T04:32:49.899279Z",
     "start_time": "2019-06-30T04:32:49.896829Z"
    },
    "hidden": true
   },
   "outputs": [],
   "source": [
    "sess.close()"
   ]
  },
  {
   "cell_type": "markdown",
   "metadata": {
    "hidden": true
   },
   "source": [
    "セッションのインスタンス化から終了までに対して、with構文を使うことも可能です。"
   ]
  },
  {
   "cell_type": "code",
   "execution_count": 13,
   "metadata": {
    "ExecuteTime": {
     "end_time": "2019-06-30T04:32:50.322040Z",
     "start_time": "2019-06-30T04:32:50.314039Z"
    },
    "hidden": true
   },
   "outputs": [
    {
     "data": {
      "text/plain": [
       "12"
      ]
     },
     "execution_count": 13,
     "metadata": {},
     "output_type": "execute_result"
    }
   ],
   "source": [
    "with tf.Session() as sess:\n",
    "    out = sess.run(add) # ここに計算の実行コードを入れていく\n",
    "\n",
    "out"
   ]
  },
  {
   "cell_type": "markdown",
   "metadata": {
    "heading_collapsed": true
   },
   "source": [
    "# TensorFlow入門2 ロジスティック回帰実装\n",
    "\n",
    "TensorFlowを使いロジスティック回帰を実装していきます。  \n",
    "入門1では単純な足し算でしたが、ここでは学習を伴う計算を行います。\n",
    "\n",
    "## 論理回路\n",
    "簡単な題材として、ロジスティック回帰による論理回路の再現を行います。  \n",
    "論理回路は2つの値を入力し、1つの値を出力する関数のようなものです。  \n",
    "入力も出力も0か1のみで表され、入力される組み合わせによって出力する値が変わります。  \n",
    "\n",
    "ANDゲートは入力された2つの値が両方とも1だった場合、出力が1となり、それ以外の組み合わせでは0を出力します。\n",
    "\n",
    "## データの作成\n",
    "最初に学習用のトレーニングデータをNumPyにより作成しておきます。  \n",
    "ANDゲートでは入力が2次元で出力が1次元となります。  \n",
    "2つの入力が1のときだけ1を出力し、それ以外は0を出力するので以下のように定義できます。"
   ]
  },
  {
   "cell_type": "code",
   "execution_count": 14,
   "metadata": {
    "ExecuteTime": {
     "end_time": "2019-06-30T04:32:51.338837Z",
     "start_time": "2019-06-30T04:32:51.334620Z"
    },
    "hidden": true
   },
   "outputs": [],
   "source": [
    "x_train = np.array([[0,0],[0,1],[1,0],[1,1]])\n",
    "y_train = np.array([[0],[0],[0],[1]])"
   ]
  },
  {
   "cell_type": "markdown",
   "metadata": {
    "hidden": true
   },
   "source": [
    "TensorFlowによる実装に必要な次の2つのことを順番に見ていきます。\n",
    "\n",
    "- データフローグラフを構築する\n",
    "- データを入力して計算する \n",
    "\n",
    "## データフローグラフの構築\n",
    "まずはデータフローグラフを構築します。  \n",
    "\n",
    "学習データをTensorFlowのデータフローグラフに入力するための placeholder を用意しましょう。  \n",
    "placeholderはデータフローグラフを作成する段階では値が決まっていない、空箱のような存在でした。"
   ]
  },
  {
   "cell_type": "code",
   "execution_count": 15,
   "metadata": {
    "ExecuteTime": {
     "end_time": "2019-06-30T04:32:52.155323Z",
     "start_time": "2019-06-30T04:32:52.150124Z"
    },
    "hidden": true
   },
   "outputs": [],
   "source": [
    "x = tf.placeholder(tf.float32, [None, 2])\n",
    "t = tf.placeholder(tf.float32, [None, 1])"
   ]
  },
  {
   "cell_type": "markdown",
   "metadata": {
    "hidden": true
   },
   "source": [
    "第一引数のtf.float32で行列要素の数値のデータ型を指定しています。  \n",
    "第二引数の[None,2]で行列の形を指定しています。ここで定義されている2はデータの次元を表しています。  \n",
    "Noneの部分はデータ数を表す部分です。今回のANDゲートの場合のデータ数は[0,0],[0,1],[1,0],[1,1]の4つしかないのでNoneの部分を[4,2]としても問題はありません。  \n",
    "しかし、任意の数のデータを入れられるように、一般的にはNoneを使います。\n",
    "\n",
    "重みとバイアスの Valiable を用意します。  \n",
    "Valiableとして用意するということは、これらが学習により更新を行う値であることを示します。\n",
    "\n"
   ]
  },
  {
   "cell_type": "code",
   "execution_count": 16,
   "metadata": {
    "ExecuteTime": {
     "end_time": "2019-06-30T04:32:52.615322Z",
     "start_time": "2019-06-30T04:32:52.604628Z"
    },
    "hidden": true
   },
   "outputs": [
    {
     "name": "stdout",
     "output_type": "stream",
     "text": [
      "WARNING:tensorflow:From /Users/takahashiakira/.pyenv/versions/anaconda3-2019.03/lib/python3.7/site-packages/tensorflow/python/framework/op_def_library.py:263: colocate_with (from tensorflow.python.framework.ops) is deprecated and will be removed in a future version.\n",
      "Instructions for updating:\n",
      "Colocations handled automatically by placer.\n"
     ]
    }
   ],
   "source": [
    "W = tf.Variable(tf.zeros([2,1]))\n",
    "b = tf.Variable(tf.zeros([1]))"
   ]
  },
  {
   "cell_type": "markdown",
   "metadata": {
    "hidden": true
   },
   "source": [
    "ここで、tf.Variable()の中でtf.zeros()という関数を呼び出していますが、初期値として0を入れているということです。  \n",
    "\n",
    "次にモデルの出力y（＝仮定関数）と目的関数を定義します。  \n",
    "\n",
    "ロジスティック回帰の式は以下でした。ここでは正則化項は抜かしています。  \n",
    "\n",
    "$$\n",
    "h_θ(x) = g(θ^T x).\\\\\n",
    "g(z) = \\frac{1}{1+e^{−z}}.\\\\\n",
    "J(\\theta)=  \\frac{1}{m}  \\sum_{i=1}^{m}[−y^{(i)} log(h_θ(x^{(i)})) − (1−y^{(i)}) log(1−h_θ(x^{(i)}))]\n",
    "$$\n",
    "\n",
    "$\n",
    "m : 入力されるデータの数\\\\\n",
    "h_θ() : 仮定関数\\\\\n",
    "x : 特徴量ベクトル\\\\\n",
    "θ : パラメータベクトル\\\\\n",
    "g() : シグモイド関数\\\\\n",
    "x^{(i)} : i番目のサンプルの特徴量ベクトル\\\\\n",
    "y^{(i)}: i番目のサンプルの正解ラベル\\\\\n",
    "θ_j : j番目のパラメータ（重み）\\\\\n",
    "n : 特徴量の数\\\\\n",
    "$\n",
    "\n",
    "\n",
    "これをTensorFlowで記述すると次のようになります。"
   ]
  },
  {
   "cell_type": "code",
   "execution_count": 17,
   "metadata": {
    "ExecuteTime": {
     "end_time": "2019-06-30T04:32:53.102382Z",
     "start_time": "2019-06-30T04:32:53.090562Z"
    },
    "hidden": true
   },
   "outputs": [],
   "source": [
    "y = tf.sigmoid(tf.matmul(x, W) + b)\n",
    "cross_entropy = tf.reduce_sum(-t * tf.log(y) - (1 - t) * tf.log(1 - y))"
   ]
  },
  {
   "cell_type": "markdown",
   "metadata": {
    "hidden": true
   },
   "source": [
    "tf.matmul()はNumPyにおけるnp.dot()に相当するベクトルの内積や、行列積を計算するためのメソッドです。\n",
    "\n",
    "なお、例えば回帰問題で二乗和誤差関数を使用するのであれば、tf.reduce_sum(tf.square(y - t))というように定義できます。  \n",
    "\n",
    "ここまでで、入力のための空箱であるplaceholderと学習可能なValiableをメソッドで結ぶことができました。  \n",
    "\n",
    "学習を行うために、勾配降下法を用いてパラメータを最適化するためのコードを加えます。  \n",
    "目的関数をGradientDescentOptimizerに渡します。"
   ]
  },
  {
   "cell_type": "code",
   "execution_count": 18,
   "metadata": {
    "ExecuteTime": {
     "end_time": "2019-06-30T04:32:53.564881Z",
     "start_time": "2019-06-30T04:32:53.513148Z"
    },
    "hidden": true
   },
   "outputs": [],
   "source": [
    "train_step = tf.train.GradientDescentOptimizer(0.1).minimize(cross_entropy)"
   ]
  },
  {
   "cell_type": "markdown",
   "metadata": {
    "hidden": true
   },
   "source": [
    "GradientDescentOptimizer()は引数で学習率を指定しています。  \n",
    "\n",
    "学習後の結果の正解が正しいかどうかの判定と正解率の計算もデータフローグラフとして定義できます。"
   ]
  },
  {
   "cell_type": "code",
   "execution_count": 19,
   "metadata": {
    "ExecuteTime": {
     "end_time": "2019-06-30T04:32:53.974577Z",
     "start_time": "2019-06-30T04:32:53.964798Z"
    },
    "hidden": true
   },
   "outputs": [],
   "source": [
    "correct_prediction = tf.equal(tf.sign(y - 0.5), tf.sign(t - 0.5))\n",
    "accuracy = tf.reduce_mean(tf.cast(correct_prediction, tf.float32))"
   ]
  },
  {
   "cell_type": "markdown",
   "metadata": {
    "hidden": true
   },
   "source": [
    "1行目で結果が正解かどうか判定しています。一つ一つ見ていきましょう。  \n",
    "まずtf.equal()は引数に指定された2つの値が等しいかどうかを判定してくれます。  \n",
    "返り値はBool値です。tf.sign()は引数の値が正なら1、0なら0、負なら-1を返します。  \n",
    "yが0.5以上かどうかで結果が決まるので、y-0.5とt-0.5の符号を比較しています。  \n",
    "\n",
    "2行目は正解率を計算するためのコードです。  \n",
    "tf.reduce_mean()は多次元配列の各成分の平均を計算する関数です。tf.cast()でBool値を0,1に変換しています。  \n",
    "つまりここでは正解で1、不正解で0と判定された配列の平均値をとっているので正解率を表していることになります。\n",
    "以上で学習のための準備は終わりです。データフローグラフをコードで定義できました。\n",
    "\n",
    "## データを入力して計算\n",
    "セッションを準備してパラメータを最適化する計算を行います。"
   ]
  },
  {
   "cell_type": "code",
   "execution_count": 20,
   "metadata": {
    "ExecuteTime": {
     "end_time": "2019-06-30T04:32:54.457429Z",
     "start_time": "2019-06-30T04:32:54.445576Z"
    },
    "hidden": true
   },
   "outputs": [],
   "source": [
    "sess = tf.Session()\n",
    "sess.run(tf.global_variables_initializer())"
   ]
  },
  {
   "cell_type": "markdown",
   "metadata": {
    "hidden": true
   },
   "source": [
    "まずセッションのインスタンスを作成します。  \n",
    "そして、tf.global_variables_initializer()によって上で定義したtf.Variable()の値(重み・バイアス)を初期化します。  \n",
    "実行する際にはsess.run()を使います。\n",
    "\n",
    "学習を行います。今回は1000回繰り返すことにします。"
   ]
  },
  {
   "cell_type": "code",
   "execution_count": 21,
   "metadata": {
    "ExecuteTime": {
     "end_time": "2019-06-30T04:32:55.791891Z",
     "start_time": "2019-06-30T04:32:55.497299Z"
    },
    "hidden": true
   },
   "outputs": [
    {
     "name": "stdout",
     "output_type": "stream",
     "text": [
      "epoch: 0, Accuracy: 0.750000\n",
      "epoch: 100, Accuracy: 1.000000\n",
      "epoch: 200, Accuracy: 1.000000\n",
      "epoch: 300, Accuracy: 1.000000\n",
      "epoch: 400, Accuracy: 1.000000\n",
      "epoch: 500, Accuracy: 1.000000\n",
      "epoch: 600, Accuracy: 1.000000\n",
      "epoch: 700, Accuracy: 1.000000\n",
      "epoch: 800, Accuracy: 1.000000\n",
      "epoch: 900, Accuracy: 1.000000\n"
     ]
    }
   ],
   "source": [
    " for epoch in range(1000):\n",
    "    sess.run(train_step, feed_dict={\n",
    "        x:x_train,\n",
    "        t:y_train\n",
    "    })\n",
    "# 100回ごとに正解率を表示\n",
    "    if epoch % 100 == 0:\n",
    "        acc_val = sess.run(\n",
    "            accuracy, feed_dict={\n",
    "                x:x_train,\n",
    "                t:y_train})\n",
    "        print ('epoch: %d, Accuracy: %f'\n",
    "               %(epoch, acc_val))"
   ]
  },
  {
   "cell_type": "markdown",
   "metadata": {
    "hidden": true
   },
   "source": [
    "2行目、sess.run()に上で定義したtrain_stepを入れることで、勾配降下法による学習を行っています。  \n",
    "\n",
    "8行目はsess.run()にaccuracyを入れることで、正解率を計算しています。  \n",
    "計算結果がNumPy形式で返ってきているので、これをprintします。  \n",
    "\n",
    "形だけ定義していたplaceholderのxとtの中には値が何も入っていません。  \n",
    "placeholderに値を設定するためにsess.run()のパラメータでfeed_dictを指定します。  \n",
    "例えば、feed_dict={x:x_train,t:y_train})と書くことで空箱だったxにx_trainの値が入り、tにy_trainの値が入ります。  \n",
    "\n",
    "表示結果を見てみると、正解率が100%でうまく学習できているように見えます。  \n",
    "\n",
    "最後に各サンプルの計算結果を確認してロジスティック回帰の実装を終わります。  \n",
    "先ほどのaccuracyと同様、実行することで計算結果が返ってくるためprintします。"
   ]
  },
  {
   "cell_type": "code",
   "execution_count": 22,
   "metadata": {
    "ExecuteTime": {
     "end_time": "2019-06-30T04:32:56.845196Z",
     "start_time": "2019-06-30T04:32:56.828840Z"
    },
    "hidden": true
   },
   "outputs": [
    {
     "name": "stdout",
     "output_type": "stream",
     "text": [
      "[[ True]\n",
      " [ True]\n",
      " [ True]\n",
      " [ True]]\n",
      "[[1.9651403e-04]\n",
      " [4.9049813e-02]\n",
      " [4.9049813e-02]\n",
      " [9.3120378e-01]]\n"
     ]
    }
   ],
   "source": [
    "#学習結果が正しいか確認\n",
    "classified = sess.run(correct_prediction, feed_dict={\n",
    "    x:x_train,\n",
    "    t:y_train\n",
    "})\n",
    "#出力yの確認\n",
    "prob = sess.run(y, feed_dict={\n",
    "    x:x_train,\n",
    "    t:y_train\n",
    "})\n",
    "\n",
    "print(classified)\n",
    "# [[ True]\n",
    "# [ True]\n",
    "# [ True]\n",
    "# [ True]]\n",
    "\n",
    "print(prob)\n",
    "# [[  1.96514215e-04]\n",
    "# [  4.90498319e-02]\n",
    "# [  4.90498319e-02]\n",
    "# [  9.31203783e-01]]\n"
   ]
  },
  {
   "cell_type": "markdown",
   "metadata": {
    "hidden": true
   },
   "source": [
    "classifiedの結果は全てTrueで正しく学習されていることがわかります。  \n",
    "probは上からほぼ[0,0,0,1]となっています。今回活性化関数に用いたのはシグモイド関数ですので出力yは確率として表示されています。上から3つは1になる確率がほぼ0％、一番下の1つは93％程度の確率で1になるということになります。  \n",
    "\n",
    "Wとbが学習後どのような値になっているかも見ておきましょう。Variableもsess.run()に入れることで値を確認できます。"
   ]
  },
  {
   "cell_type": "code",
   "execution_count": 23,
   "metadata": {
    "ExecuteTime": {
     "end_time": "2019-06-30T04:32:58.029454Z",
     "start_time": "2019-06-30T04:32:58.020830Z"
    },
    "hidden": true
   },
   "outputs": [
    {
     "name": "stdout",
     "output_type": "stream",
     "text": [
      "W: [[5.569955]\n",
      " [5.569955]]\n",
      "b: [-8.53458]\n"
     ]
    }
   ],
   "source": [
    "print('W:', sess.run(W))\n",
    "print('b:', sess.run(b))"
   ]
  },
  {
   "cell_type": "markdown",
   "metadata": {
    "hidden": true
   },
   "source": [
    "### 途中の値が見たい場合  \n",
    "デバッグのために途中の値が見たい場合もあります。  \n",
    "例えば、y = tf.sigmoid(tf.matmul(x, W) + b)のtf.matmul(x, W)の部分が見たいといったことを考えます。  \n",
    "\n",
    "出力yがsess.run(y, feed_dict={x:x_train, t:y_train})で見れたことと同様の行えば良いため、次のようなコードになります。\n",
    "\n"
   ]
  },
  {
   "cell_type": "code",
   "execution_count": 24,
   "metadata": {
    "ExecuteTime": {
     "end_time": "2019-06-30T04:32:59.175592Z",
     "start_time": "2019-06-30T04:32:59.162791Z"
    },
    "hidden": true
   },
   "outputs": [
    {
     "name": "stdout",
     "output_type": "stream",
     "text": [
      "[[ 0.      ]\n",
      " [ 5.569955]\n",
      " [ 5.569955]\n",
      " [11.13991 ]]\n"
     ]
    }
   ],
   "source": [
    "mat = tf.matmul(x, W)\n",
    "y = tf.sigmoid(mat + b)\n",
    "print(sess.run(mat, feed_dict={\n",
    "    x:x_train,\n",
    "    t:y_train\n",
    "}))"
   ]
  },
  {
   "cell_type": "markdown",
   "metadata": {
    "hidden": true
   },
   "source": [
    "データフローグラフを構築し、それをsess.run()で実行するという流れはここでも同じです。\n",
    "\n",
    "## セッションの終了\n",
    "最後にセッションは終了させます。"
   ]
  },
  {
   "cell_type": "code",
   "execution_count": 25,
   "metadata": {
    "ExecuteTime": {
     "end_time": "2019-06-30T04:33:00.679476Z",
     "start_time": "2019-06-30T04:33:00.675370Z"
    },
    "hidden": true
   },
   "outputs": [],
   "source": [
    "sess.close()"
   ]
  },
  {
   "cell_type": "markdown",
   "metadata": {
    "heading_collapsed": true
   },
   "source": [
    "# Sprint14課題 ディープラーニングフレームワーク1\n",
    "\n",
    "# 【問題1】スクラッチを振り返る"
   ]
  },
  {
   "cell_type": "markdown",
   "metadata": {
    "hidden": true
   },
   "source": [
    "ここまでのスクラッチを振り返り、ディープラーニングを実装するためにはどのようなものが必要だったかを列挙してください。"
   ]
  },
  {
   "cell_type": "markdown",
   "metadata": {
    "hidden": true
   },
   "source": [
    "- 重みの初期化\n",
    "- 重みの初期化の方法の選択\n",
    "- ミニバッチに変換\n",
    "- ノード数の設定\n",
    "- 全結合層の作成\n",
    "- 活性化関数の作成、選択、最後はソフトマックス\n",
    "- フォワードプロパゲーション\n",
    "- 交差エントロピー関数の作成\n",
    "- 誤差の算出\n",
    "- 誤差の伝達(バックプロパゲーション)\n",
    "- 重み、バイアスの更新\n",
    "- 学習率の設定、更新(最適化手法の設定)\n",
    "- エポックのループ"
   ]
  },
  {
   "cell_type": "markdown",
   "metadata": {
    "heading_collapsed": true
   },
   "source": [
    "# 【問題2】スクラッチとTensorFlowの対応を考える\n",
    "\n",
    "先ほど列挙した「ディープラーニングを実装するために必要なもの」がTensorFlowではどう実装されているかを確認してください。  \n",
    "それを簡単に言葉でまとめてください。単純な一対一の対応であるとは限りません。  \n",
    "\n",
    "- 重みの初期化 = init = tf.global_variables_initializer()\n",
    "- 重みの初期化の方法の選択 =  tf.initializers.\n",
    "- ミニバッチに変換 = tf外でやる\n",
    "- ノード数の設定 = tf外でやる\n",
    "- 全結合層の作成 = tf.add(tf.matmul(x, weights['w1']), biases['b1'])\n",
    "- 活性化関数の作成、選択、最後はソフトマックス = tf.nn.relu(layer_1) , tf.nn.softmax\n",
    "- フォワードプロパゲーション = logits = example_net(X)\n",
    "- 交差エントロピー関数の作成 = tf.nn.softmax_cross_entropy_with_logits(labels=Y, logits=logits)  # クロスエントロピー\n",
    "- 誤差の算出 = tf.nn.softmax_cross_entropy_with_logits(labels=Y, logits=logits)  # クロスエントロピー\n",
    "- 誤差の伝達(バックプロパゲーション) =  optimizer.minimize(loss_op)\n",
    "- 重み、バイアスの更新 =  optimizer.minimize(loss_op)\n",
    "- 学習率の設定、更新(最適化手法の設定) = tf.train.AdamOptimizer\n",
    "- エポックのループ =　計算グラフの実行時にやる。 "
   ]
  },
  {
   "cell_type": "markdown",
   "metadata": {
    "heading_collapsed": true
   },
   "source": [
    "# 【問題3】3種類全ての目的変数を使用したIrisのモデルを作成\n",
    "\n",
    "サンプルコードと同じくこの中のtrain.csvを使用してください。目的変数はSpeciesに含まれる3種類全てを使います。  \n",
    "2クラスの分類と3クラス以上の分類の違いを考慮してください。  \n",
    "それがTensorFlowでどのように書き換えられるかを公式ドキュメントなどを参考に調べてください。"
   ]
  },
  {
   "cell_type": "code",
   "execution_count": 27,
   "metadata": {
    "ExecuteTime": {
     "end_time": "2019-06-30T04:34:10.488201Z",
     "start_time": "2019-06-30T04:34:09.978616Z"
    },
    "hidden": true,
    "scrolled": false
   },
   "outputs": [
    {
     "name": "stdout",
     "output_type": "stream",
     "text": [
      "WARNING:tensorflow:From <ipython-input-27-faaad3209a9b>:110: softmax_cross_entropy_with_logits (from tensorflow.python.ops.nn_ops) is deprecated and will be removed in a future version.\n",
      "Instructions for updating:\n",
      "\n",
      "Future major versions of TensorFlow will allow gradients to flow\n",
      "into the labels input on backprop by default.\n",
      "\n",
      "See `tf.nn.softmax_cross_entropy_with_logits_v2`.\n",
      "\n",
      "Epoch 0, loss : 204.5121, val_loss : 50.5585, acc : 0.227, val_acc : 0.375\n",
      "Epoch 1, loss : 34.5976, val_loss : 36.9925, acc : 0.533, val_acc : 0.625\n",
      "Epoch 2, loss : 26.2654, val_loss : 5.4695, acc : 0.553, val_acc : 0.792\n",
      "Epoch 3, loss : 13.0735, val_loss : 2.1136, acc : 0.620, val_acc : 0.750\n",
      "Epoch 4, loss : 5.0886, val_loss : 1.5364, acc : 0.737, val_acc : 0.917\n",
      "Epoch 5, loss : 3.9707, val_loss : 2.7702, acc : 0.777, val_acc : 0.875\n",
      "Epoch 6, loss : 3.1937, val_loss : 4.0975, acc : 0.797, val_acc : 0.833\n",
      "Epoch 7, loss : 1.6724, val_loss : 2.2084, acc : 0.893, val_acc : 0.917\n",
      "Epoch 8, loss : 1.0646, val_loss : 1.4672, acc : 0.970, val_acc : 0.875\n",
      "Epoch 9, loss : 0.4058, val_loss : 1.8035, acc : 0.950, val_acc : 0.917\n",
      "Epoch 10, loss : 0.7666, val_loss : 2.7053, acc : 0.923, val_acc : 0.875\n",
      "Epoch 11, loss : 0.8519, val_loss : 1.2731, acc : 0.960, val_acc : 0.833\n",
      "Epoch 12, loss : 0.3291, val_loss : 1.1330, acc : 0.940, val_acc : 0.917\n",
      "Epoch 13, loss : 0.6942, val_loss : 3.2441, acc : 0.903, val_acc : 0.875\n",
      "Epoch 14, loss : 0.5930, val_loss : 1.3172, acc : 0.950, val_acc : 0.917\n",
      "Epoch 15, loss : 0.2358, val_loss : 2.6125, acc : 0.950, val_acc : 0.917\n",
      "Epoch 16, loss : 0.4076, val_loss : 1.5829, acc : 0.960, val_acc : 0.917\n",
      "Epoch 17, loss : 0.2269, val_loss : 2.1764, acc : 0.960, val_acc : 0.917\n",
      "Epoch 18, loss : 0.2503, val_loss : 2.2619, acc : 0.960, val_acc : 0.917\n",
      "Epoch 19, loss : 0.2869, val_loss : 1.4877, acc : 0.960, val_acc : 0.917\n",
      "Epoch 20, loss : 0.2731, val_loss : 2.5808, acc : 0.960, val_acc : 0.917\n",
      "Epoch 21, loss : 0.2566, val_loss : 2.2113, acc : 0.970, val_acc : 0.917\n",
      "Epoch 22, loss : 0.2167, val_loss : 2.0170, acc : 0.970, val_acc : 0.917\n",
      "Epoch 23, loss : 0.2339, val_loss : 2.0192, acc : 0.970, val_acc : 0.917\n",
      "Epoch 24, loss : 0.1208, val_loss : 1.8088, acc : 0.970, val_acc : 0.917\n",
      "Epoch 25, loss : 0.0998, val_loss : 1.5213, acc : 0.970, val_acc : 0.917\n",
      "Epoch 26, loss : 0.2899, val_loss : 2.7850, acc : 0.960, val_acc : 0.917\n",
      "Epoch 27, loss : 0.3446, val_loss : 0.7003, acc : 0.970, val_acc : 0.917\n",
      "Epoch 28, loss : 0.1380, val_loss : 0.3742, acc : 0.980, val_acc : 0.875\n",
      "Epoch 29, loss : 0.3097, val_loss : 1.1066, acc : 0.970, val_acc : 0.917\n",
      "test_acc : 0.967\n"
     ]
    }
   ],
   "source": [
    "\"\"\"\n",
    "TensorFlowで実装したニューラルネットワークを使いIrisデータセットを2値分類する\n",
    "\"\"\"\n",
    "import pandas as pd\n",
    "import numpy as np\n",
    "from sklearn.model_selection import train_test_split\n",
    "import tensorflow as tf\n",
    "\n",
    "# データセットの読み込み\n",
    "dataset_path =\"Iris.csv\"\n",
    "df = pd.read_csv(dataset_path)\n",
    "# データフレームから条件抽出\n",
    "y = df[\"Species\"]\n",
    "X = df.loc[:, [\"SepalLengthCm\", \"SepalWidthCm\", \"PetalLengthCm\", \"PetalWidthCm\"]]\n",
    "y = np.array(y)\n",
    "X = np.array(X)\n",
    "# ラベルを数値に変換\n",
    "y = np.array(pd.get_dummies(y))\n",
    "\n",
    "# trainとtestに分割\n",
    "X_train, X_test, y_train, y_test = train_test_split(X, y, test_size=0.2, random_state=0)\n",
    "# さらにtrainとvalに分割\n",
    "X_train, X_val, y_train, y_val = train_test_split(X_train, y_train, test_size=0.2, random_state=0)\n",
    "\n",
    "class GetMiniBatch:\n",
    "    \"\"\"\n",
    "    ミニバッチを取得するイテレータ\n",
    "\n",
    "    Parameters\n",
    "    ----------\n",
    "    X : 次の形のndarray, shape (n_samples, n_features)\n",
    "      学習データ\n",
    "    y : 次の形のndarray, shape (n_samples, 1)\n",
    "      正解値\n",
    "    batch_size : int\n",
    "      バッチサイズ\n",
    "    seed : int\n",
    "      NumPyの乱数のシード\n",
    "    \"\"\"\n",
    "    def __init__(self, X, y, batch_size = 10, seed=0):\n",
    "        self.batch_size = batch_size\n",
    "        np.random.seed(seed)\n",
    "        shuffle_index = np.random.permutation(np.arange(X.shape[0]))\n",
    "        self.X = X[shuffle_index]\n",
    "        self.y = y[shuffle_index]\n",
    "        self._stop = np.ceil(X.shape[0]/self.batch_size).astype(np.int)\n",
    "    def __len__(self):\n",
    "        return self._stop\n",
    "    def __getitem__(self,item):\n",
    "        p0 = item*self.batch_size\n",
    "        p1 = item*self.batch_size + self.batch_size\n",
    "        return self.X[p0:p1], self.y[p0:p1]        \n",
    "    def __iter__(self):\n",
    "        self._counter = 0\n",
    "        return self\n",
    "    def __next__(self):\n",
    "        if self._counter >= self._stop:\n",
    "            raise StopIteration()\n",
    "        p0 = self._counter*self.batch_size\n",
    "        p1 = self._counter*self.batch_size + self.batch_size\n",
    "        self._counter += 1\n",
    "        return self.X[p0:p1], self.y[p0:p1]\n",
    "\n",
    "\n",
    "# ハイパーパラメータの設定\n",
    "learning_rate = 0.01\n",
    "batch_size = 10\n",
    "num_epochs = 30\n",
    "\n",
    "n_hidden1 = 50\n",
    "n_hidden2 = 100\n",
    "n_input = X_train.shape[1]\n",
    "n_classes = 3\n",
    "\n",
    "# 計算グラフに渡す引数の形を決める\n",
    "X = tf.placeholder(\"float\", [None, n_input])\n",
    "Y = tf.placeholder(\"float\", [None, n_classes])\n",
    "\n",
    "# trainのミニバッチイテレータ\n",
    "get_mini_batch_train = GetMiniBatch(X_train, y_train, batch_size=batch_size)\n",
    "n_samples = len(get_mini_batch_train)\n",
    "def example_net(x):\n",
    "    \"\"\"\n",
    "    単純な3層ニューラルネットワーク\n",
    "    \"\"\"\n",
    "\n",
    "    # 重みとバイアスの宣言\n",
    "    weights = {\n",
    "        'w1': tf.Variable(tf.random_normal([n_input, n_hidden1])),\n",
    "        'w2': tf.Variable(tf.random_normal([n_hidden1, n_hidden2])),\n",
    "        'w3': tf.Variable(tf.random_normal([n_hidden2, n_classes]))\n",
    "    }\n",
    "    biases = {\n",
    "        'b1': tf.Variable(tf.random_normal([n_hidden1])),\n",
    "        'b2': tf.Variable(tf.random_normal([n_hidden2])),\n",
    "        'b3': tf.Variable(tf.random_normal([n_classes]))\n",
    "    }\n",
    "\n",
    "    layer_1 = tf.add(tf.matmul(x, weights['w1']), biases['b1'])\n",
    "    layer_1 = tf.nn.relu(layer_1)\n",
    "    layer_2 = tf.add(tf.matmul(layer_1, weights['w2']), biases['b2'])\n",
    "    layer_2 = tf.nn.relu(layer_2)\n",
    "    layer_output = tf.matmul(layer_2, weights['w3']) + biases['b3'] # tf.addと+は等価である\n",
    "    return layer_output\n",
    "\n",
    "# ネットワーク構造の読み込み                               \n",
    "logits = example_net(X)\n",
    "\n",
    "# 目的関数\n",
    "softmax = tf.nn.softmax_cross_entropy_with_logits(labels=Y, logits=logits)  # クロスエントロピー\n",
    "loss_op = tf.reduce_mean(softmax)\n",
    "# 最適化手法\n",
    "optimizer = tf.train.AdamOptimizer(learning_rate=learning_rate)\n",
    "train_op = optimizer.minimize(loss_op)\n",
    "\n",
    "# 推定結果\n",
    "correct_pred = tf.equal(tf.argmax(Y, 1), tf.argmax(tf.nn.softmax(logits), 1))\n",
    "# 指標値計算\n",
    "accuracy = tf.reduce_mean(tf.cast(correct_pred, tf.float32))\n",
    "\n",
    "# variableの初期化\n",
    "init = tf.global_variables_initializer()\n",
    "\n",
    "\n",
    "# 計算グラフの実行\n",
    "with tf.Session() as sess:\n",
    "    sess.run(init)\n",
    "    for epoch in range(num_epochs):\n",
    "        # エポックごとにループ\n",
    "        total_batch = np.ceil(X_train.shape[0]/batch_size).astype(np.int)\n",
    "        total_loss = 0\n",
    "        total_acc = 0\n",
    "        for i, (mini_batch_x, mini_batch_y) in enumerate(get_mini_batch_train):\n",
    "            # ミニバッチごとにループ\n",
    "            sess.run(train_op, feed_dict={X: mini_batch_x, Y: mini_batch_y})\n",
    "            loss, acc = sess.run([loss_op, accuracy], feed_dict={X: mini_batch_x, Y: mini_batch_y})\n",
    "            total_loss += loss\n",
    "            total_acc += acc\n",
    "        total_loss /= n_samples\n",
    "        total_acc /= n_samples\n",
    "        val_loss, val_acc = sess.run([loss_op, accuracy], feed_dict={X: X_val, Y: y_val})\n",
    "        print(\"Epoch {}, loss : {:.4f}, val_loss : {:.4f}, acc : {:.3f}, val_acc : {:.3f}\".format(epoch, total_loss, val_loss, total_acc, val_acc))\n",
    "    test_acc = sess.run(accuracy, feed_dict={X: X_test, Y: y_test})\n",
    "    print(\"test_acc : {:.3f}\".format(test_acc))\n"
   ]
  },
  {
   "cell_type": "markdown",
   "metadata": {
    "hidden": true
   },
   "source": [
    "それなりに分類出来た。"
   ]
  },
  {
   "cell_type": "markdown",
   "metadata": {
    "heading_collapsed": true
   },
   "source": [
    "# 【問題4】House Pricesのモデルを作成\n",
    "回帰問題のデータセットであるHouse Pricesを使用したモデルを作成してください。\n",
    "\n",
    "[House Prices: Advanced Regression Techniques](https://www.kaggle.com/c/house-prices-advanced-regression-techniques/data)  \n",
    "\n",
    "この中のtrain.csvをダウンロードし、目的変数としてSalePrice、説明変数として、GrLivAreaとYearBuiltを使ってください。  \n",
    "説明変数はさらに増やしても構いません。\n",
    "\n",
    "分類問題と回帰問題の違いを考慮してください。"
   ]
  },
  {
   "cell_type": "code",
   "execution_count": 28,
   "metadata": {
    "ExecuteTime": {
     "end_time": "2019-06-30T04:34:18.740406Z",
     "start_time": "2019-06-30T04:34:18.703313Z"
    },
    "hidden": true,
    "scrolled": true
   },
   "outputs": [
    {
     "data": {
      "text/html": [
       "<div>\n",
       "<style scoped>\n",
       "    .dataframe tbody tr th:only-of-type {\n",
       "        vertical-align: middle;\n",
       "    }\n",
       "\n",
       "    .dataframe tbody tr th {\n",
       "        vertical-align: top;\n",
       "    }\n",
       "\n",
       "    .dataframe thead th {\n",
       "        text-align: right;\n",
       "    }\n",
       "</style>\n",
       "<table border=\"1\" class=\"dataframe\">\n",
       "  <thead>\n",
       "    <tr style=\"text-align: right;\">\n",
       "      <th></th>\n",
       "      <th>YearBuilt</th>\n",
       "      <th>GrLivArea</th>\n",
       "      <th>SalePrice</th>\n",
       "    </tr>\n",
       "  </thead>\n",
       "  <tbody>\n",
       "    <tr>\n",
       "      <th>0</th>\n",
       "      <td>2003</td>\n",
       "      <td>1710</td>\n",
       "      <td>208500</td>\n",
       "    </tr>\n",
       "    <tr>\n",
       "      <th>1</th>\n",
       "      <td>1976</td>\n",
       "      <td>1262</td>\n",
       "      <td>181500</td>\n",
       "    </tr>\n",
       "    <tr>\n",
       "      <th>2</th>\n",
       "      <td>2001</td>\n",
       "      <td>1786</td>\n",
       "      <td>223500</td>\n",
       "    </tr>\n",
       "    <tr>\n",
       "      <th>3</th>\n",
       "      <td>1915</td>\n",
       "      <td>1717</td>\n",
       "      <td>140000</td>\n",
       "    </tr>\n",
       "    <tr>\n",
       "      <th>4</th>\n",
       "      <td>2000</td>\n",
       "      <td>2198</td>\n",
       "      <td>250000</td>\n",
       "    </tr>\n",
       "    <tr>\n",
       "      <th>5</th>\n",
       "      <td>1993</td>\n",
       "      <td>1362</td>\n",
       "      <td>143000</td>\n",
       "    </tr>\n",
       "    <tr>\n",
       "      <th>6</th>\n",
       "      <td>2004</td>\n",
       "      <td>1694</td>\n",
       "      <td>307000</td>\n",
       "    </tr>\n",
       "    <tr>\n",
       "      <th>7</th>\n",
       "      <td>1973</td>\n",
       "      <td>2090</td>\n",
       "      <td>200000</td>\n",
       "    </tr>\n",
       "    <tr>\n",
       "      <th>8</th>\n",
       "      <td>1931</td>\n",
       "      <td>1774</td>\n",
       "      <td>129900</td>\n",
       "    </tr>\n",
       "    <tr>\n",
       "      <th>9</th>\n",
       "      <td>1939</td>\n",
       "      <td>1077</td>\n",
       "      <td>118000</td>\n",
       "    </tr>\n",
       "    <tr>\n",
       "      <th>10</th>\n",
       "      <td>1965</td>\n",
       "      <td>1040</td>\n",
       "      <td>129500</td>\n",
       "    </tr>\n",
       "    <tr>\n",
       "      <th>11</th>\n",
       "      <td>2005</td>\n",
       "      <td>2324</td>\n",
       "      <td>345000</td>\n",
       "    </tr>\n",
       "    <tr>\n",
       "      <th>12</th>\n",
       "      <td>1962</td>\n",
       "      <td>912</td>\n",
       "      <td>144000</td>\n",
       "    </tr>\n",
       "    <tr>\n",
       "      <th>13</th>\n",
       "      <td>2006</td>\n",
       "      <td>1494</td>\n",
       "      <td>279500</td>\n",
       "    </tr>\n",
       "    <tr>\n",
       "      <th>14</th>\n",
       "      <td>1960</td>\n",
       "      <td>1253</td>\n",
       "      <td>157000</td>\n",
       "    </tr>\n",
       "    <tr>\n",
       "      <th>15</th>\n",
       "      <td>1929</td>\n",
       "      <td>854</td>\n",
       "      <td>132000</td>\n",
       "    </tr>\n",
       "    <tr>\n",
       "      <th>16</th>\n",
       "      <td>1970</td>\n",
       "      <td>1004</td>\n",
       "      <td>149000</td>\n",
       "    </tr>\n",
       "    <tr>\n",
       "      <th>17</th>\n",
       "      <td>1967</td>\n",
       "      <td>1296</td>\n",
       "      <td>90000</td>\n",
       "    </tr>\n",
       "    <tr>\n",
       "      <th>18</th>\n",
       "      <td>2004</td>\n",
       "      <td>1114</td>\n",
       "      <td>159000</td>\n",
       "    </tr>\n",
       "    <tr>\n",
       "      <th>19</th>\n",
       "      <td>1958</td>\n",
       "      <td>1339</td>\n",
       "      <td>139000</td>\n",
       "    </tr>\n",
       "    <tr>\n",
       "      <th>20</th>\n",
       "      <td>2005</td>\n",
       "      <td>2376</td>\n",
       "      <td>325300</td>\n",
       "    </tr>\n",
       "    <tr>\n",
       "      <th>21</th>\n",
       "      <td>1930</td>\n",
       "      <td>1108</td>\n",
       "      <td>139400</td>\n",
       "    </tr>\n",
       "    <tr>\n",
       "      <th>22</th>\n",
       "      <td>2002</td>\n",
       "      <td>1795</td>\n",
       "      <td>230000</td>\n",
       "    </tr>\n",
       "    <tr>\n",
       "      <th>23</th>\n",
       "      <td>1976</td>\n",
       "      <td>1060</td>\n",
       "      <td>129900</td>\n",
       "    </tr>\n",
       "    <tr>\n",
       "      <th>24</th>\n",
       "      <td>1968</td>\n",
       "      <td>1060</td>\n",
       "      <td>154000</td>\n",
       "    </tr>\n",
       "    <tr>\n",
       "      <th>25</th>\n",
       "      <td>2007</td>\n",
       "      <td>1600</td>\n",
       "      <td>256300</td>\n",
       "    </tr>\n",
       "    <tr>\n",
       "      <th>26</th>\n",
       "      <td>1951</td>\n",
       "      <td>900</td>\n",
       "      <td>134800</td>\n",
       "    </tr>\n",
       "    <tr>\n",
       "      <th>27</th>\n",
       "      <td>2007</td>\n",
       "      <td>1704</td>\n",
       "      <td>306000</td>\n",
       "    </tr>\n",
       "    <tr>\n",
       "      <th>28</th>\n",
       "      <td>1957</td>\n",
       "      <td>1600</td>\n",
       "      <td>207500</td>\n",
       "    </tr>\n",
       "    <tr>\n",
       "      <th>29</th>\n",
       "      <td>1927</td>\n",
       "      <td>520</td>\n",
       "      <td>68500</td>\n",
       "    </tr>\n",
       "    <tr>\n",
       "      <th>...</th>\n",
       "      <td>...</td>\n",
       "      <td>...</td>\n",
       "      <td>...</td>\n",
       "    </tr>\n",
       "    <tr>\n",
       "      <th>1430</th>\n",
       "      <td>2005</td>\n",
       "      <td>1838</td>\n",
       "      <td>192140</td>\n",
       "    </tr>\n",
       "    <tr>\n",
       "      <th>1431</th>\n",
       "      <td>1976</td>\n",
       "      <td>958</td>\n",
       "      <td>143750</td>\n",
       "    </tr>\n",
       "    <tr>\n",
       "      <th>1432</th>\n",
       "      <td>1927</td>\n",
       "      <td>968</td>\n",
       "      <td>64500</td>\n",
       "    </tr>\n",
       "    <tr>\n",
       "      <th>1433</th>\n",
       "      <td>2000</td>\n",
       "      <td>1792</td>\n",
       "      <td>186500</td>\n",
       "    </tr>\n",
       "    <tr>\n",
       "      <th>1434</th>\n",
       "      <td>1977</td>\n",
       "      <td>1126</td>\n",
       "      <td>160000</td>\n",
       "    </tr>\n",
       "    <tr>\n",
       "      <th>1435</th>\n",
       "      <td>1962</td>\n",
       "      <td>1537</td>\n",
       "      <td>174000</td>\n",
       "    </tr>\n",
       "    <tr>\n",
       "      <th>1436</th>\n",
       "      <td>1971</td>\n",
       "      <td>864</td>\n",
       "      <td>120500</td>\n",
       "    </tr>\n",
       "    <tr>\n",
       "      <th>1437</th>\n",
       "      <td>2008</td>\n",
       "      <td>1932</td>\n",
       "      <td>394617</td>\n",
       "    </tr>\n",
       "    <tr>\n",
       "      <th>1438</th>\n",
       "      <td>1957</td>\n",
       "      <td>1236</td>\n",
       "      <td>149700</td>\n",
       "    </tr>\n",
       "    <tr>\n",
       "      <th>1439</th>\n",
       "      <td>1979</td>\n",
       "      <td>1725</td>\n",
       "      <td>197000</td>\n",
       "    </tr>\n",
       "    <tr>\n",
       "      <th>1440</th>\n",
       "      <td>1922</td>\n",
       "      <td>2555</td>\n",
       "      <td>191000</td>\n",
       "    </tr>\n",
       "    <tr>\n",
       "      <th>1441</th>\n",
       "      <td>2004</td>\n",
       "      <td>848</td>\n",
       "      <td>149300</td>\n",
       "    </tr>\n",
       "    <tr>\n",
       "      <th>1442</th>\n",
       "      <td>2008</td>\n",
       "      <td>2007</td>\n",
       "      <td>310000</td>\n",
       "    </tr>\n",
       "    <tr>\n",
       "      <th>1443</th>\n",
       "      <td>1916</td>\n",
       "      <td>952</td>\n",
       "      <td>121000</td>\n",
       "    </tr>\n",
       "    <tr>\n",
       "      <th>1444</th>\n",
       "      <td>2004</td>\n",
       "      <td>1422</td>\n",
       "      <td>179600</td>\n",
       "    </tr>\n",
       "    <tr>\n",
       "      <th>1445</th>\n",
       "      <td>1966</td>\n",
       "      <td>913</td>\n",
       "      <td>129000</td>\n",
       "    </tr>\n",
       "    <tr>\n",
       "      <th>1446</th>\n",
       "      <td>1962</td>\n",
       "      <td>1188</td>\n",
       "      <td>157900</td>\n",
       "    </tr>\n",
       "    <tr>\n",
       "      <th>1447</th>\n",
       "      <td>1995</td>\n",
       "      <td>2090</td>\n",
       "      <td>240000</td>\n",
       "    </tr>\n",
       "    <tr>\n",
       "      <th>1448</th>\n",
       "      <td>1910</td>\n",
       "      <td>1346</td>\n",
       "      <td>112000</td>\n",
       "    </tr>\n",
       "    <tr>\n",
       "      <th>1449</th>\n",
       "      <td>1970</td>\n",
       "      <td>630</td>\n",
       "      <td>92000</td>\n",
       "    </tr>\n",
       "    <tr>\n",
       "      <th>1450</th>\n",
       "      <td>1974</td>\n",
       "      <td>1792</td>\n",
       "      <td>136000</td>\n",
       "    </tr>\n",
       "    <tr>\n",
       "      <th>1451</th>\n",
       "      <td>2008</td>\n",
       "      <td>1578</td>\n",
       "      <td>287090</td>\n",
       "    </tr>\n",
       "    <tr>\n",
       "      <th>1452</th>\n",
       "      <td>2005</td>\n",
       "      <td>1072</td>\n",
       "      <td>145000</td>\n",
       "    </tr>\n",
       "    <tr>\n",
       "      <th>1453</th>\n",
       "      <td>2006</td>\n",
       "      <td>1140</td>\n",
       "      <td>84500</td>\n",
       "    </tr>\n",
       "    <tr>\n",
       "      <th>1454</th>\n",
       "      <td>2004</td>\n",
       "      <td>1221</td>\n",
       "      <td>185000</td>\n",
       "    </tr>\n",
       "    <tr>\n",
       "      <th>1455</th>\n",
       "      <td>1999</td>\n",
       "      <td>1647</td>\n",
       "      <td>175000</td>\n",
       "    </tr>\n",
       "    <tr>\n",
       "      <th>1456</th>\n",
       "      <td>1978</td>\n",
       "      <td>2073</td>\n",
       "      <td>210000</td>\n",
       "    </tr>\n",
       "    <tr>\n",
       "      <th>1457</th>\n",
       "      <td>1941</td>\n",
       "      <td>2340</td>\n",
       "      <td>266500</td>\n",
       "    </tr>\n",
       "    <tr>\n",
       "      <th>1458</th>\n",
       "      <td>1950</td>\n",
       "      <td>1078</td>\n",
       "      <td>142125</td>\n",
       "    </tr>\n",
       "    <tr>\n",
       "      <th>1459</th>\n",
       "      <td>1965</td>\n",
       "      <td>1256</td>\n",
       "      <td>147500</td>\n",
       "    </tr>\n",
       "  </tbody>\n",
       "</table>\n",
       "<p>1460 rows × 3 columns</p>\n",
       "</div>"
      ],
      "text/plain": [
       "      YearBuilt  GrLivArea  SalePrice\n",
       "0          2003       1710     208500\n",
       "1          1976       1262     181500\n",
       "2          2001       1786     223500\n",
       "3          1915       1717     140000\n",
       "4          2000       2198     250000\n",
       "5          1993       1362     143000\n",
       "6          2004       1694     307000\n",
       "7          1973       2090     200000\n",
       "8          1931       1774     129900\n",
       "9          1939       1077     118000\n",
       "10         1965       1040     129500\n",
       "11         2005       2324     345000\n",
       "12         1962        912     144000\n",
       "13         2006       1494     279500\n",
       "14         1960       1253     157000\n",
       "15         1929        854     132000\n",
       "16         1970       1004     149000\n",
       "17         1967       1296      90000\n",
       "18         2004       1114     159000\n",
       "19         1958       1339     139000\n",
       "20         2005       2376     325300\n",
       "21         1930       1108     139400\n",
       "22         2002       1795     230000\n",
       "23         1976       1060     129900\n",
       "24         1968       1060     154000\n",
       "25         2007       1600     256300\n",
       "26         1951        900     134800\n",
       "27         2007       1704     306000\n",
       "28         1957       1600     207500\n",
       "29         1927        520      68500\n",
       "...         ...        ...        ...\n",
       "1430       2005       1838     192140\n",
       "1431       1976        958     143750\n",
       "1432       1927        968      64500\n",
       "1433       2000       1792     186500\n",
       "1434       1977       1126     160000\n",
       "1435       1962       1537     174000\n",
       "1436       1971        864     120500\n",
       "1437       2008       1932     394617\n",
       "1438       1957       1236     149700\n",
       "1439       1979       1725     197000\n",
       "1440       1922       2555     191000\n",
       "1441       2004        848     149300\n",
       "1442       2008       2007     310000\n",
       "1443       1916        952     121000\n",
       "1444       2004       1422     179600\n",
       "1445       1966        913     129000\n",
       "1446       1962       1188     157900\n",
       "1447       1995       2090     240000\n",
       "1448       1910       1346     112000\n",
       "1449       1970        630      92000\n",
       "1450       1974       1792     136000\n",
       "1451       2008       1578     287090\n",
       "1452       2005       1072     145000\n",
       "1453       2006       1140      84500\n",
       "1454       2004       1221     185000\n",
       "1455       1999       1647     175000\n",
       "1456       1978       2073     210000\n",
       "1457       1941       2340     266500\n",
       "1458       1950       1078     142125\n",
       "1459       1965       1256     147500\n",
       "\n",
       "[1460 rows x 3 columns]"
      ]
     },
     "execution_count": 28,
     "metadata": {},
     "output_type": "execute_result"
    }
   ],
   "source": [
    "train = pd.read_csv('train.csv')\n",
    "train = train[['YearBuilt','GrLivArea','SalePrice']]\n",
    "train"
   ]
  },
  {
   "cell_type": "code",
   "execution_count": 29,
   "metadata": {
    "ExecuteTime": {
     "end_time": "2019-06-30T04:34:20.039649Z",
     "start_time": "2019-06-30T04:34:20.029840Z"
    },
    "hidden": true
   },
   "outputs": [],
   "source": [
    "#データをXとyにわける、そしてndarray型へ変更\n",
    "X = train.drop('SalePrice',axis=1).values\n",
    "y = train.SalePrice.values\n",
    "\n",
    "#それぞれ学習用検証用に分割\n",
    "X_train, X_test, y_train, y_test = train_test_split(X,y,test_size=0.25,random_state=0)\n",
    "len(X_train),len(X_test),len(y_train),len(y_test) #確認\n",
    "\n",
    "from sklearn.preprocessing import StandardScaler\n",
    "#対数変換\n",
    "y_train = y_train[:,np.newaxis]\n",
    "y_test = y_test[:,np.newaxis]\n",
    "X_train = np.log(X_train)\n",
    "X_test = np.log(X_test)\n",
    "y_train = np.log(y_train)\n",
    "y_test = np.log(y_test)\n",
    "#標準化\n",
    "ss = StandardScaler()\n",
    "ss.fit(X_train)\n",
    "X_train = ss.transform(X_train)\n",
    "X_test = ss.transform(X_test)\n",
    "#更にもう一回分ける。\n",
    "X_train, X_val, y_train, y_val = train_test_split(X_train,y_train,test_size=0.25,random_state=0)"
   ]
  },
  {
   "cell_type": "code",
   "execution_count": 30,
   "metadata": {
    "ExecuteTime": {
     "end_time": "2019-06-30T04:34:36.029416Z",
     "start_time": "2019-06-30T04:34:21.022276Z"
    },
    "hidden": true,
    "scrolled": true
   },
   "outputs": [
    {
     "name": "stdout",
     "output_type": "stream",
     "text": [
      "Epoch 0, loss : 0.2175, val_loss : 7.1226\n",
      "Epoch 1, loss : 0.0005, val_loss : 2.1343\n",
      "Epoch 2, loss : 0.1115, val_loss : 1.2820\n",
      "Epoch 3, loss : 0.1179, val_loss : 1.0899\n",
      "Epoch 4, loss : 0.1424, val_loss : 3.2288\n",
      "Epoch 5, loss : 1.4450, val_loss : 4.8799\n",
      "Epoch 6, loss : 2.8527, val_loss : 4.9572\n",
      "Epoch 7, loss : 0.6436, val_loss : 1.8609\n",
      "Epoch 8, loss : 0.7020, val_loss : 2.4275\n",
      "Epoch 9, loss : 0.7649, val_loss : 3.2327\n",
      "Epoch 10, loss : 0.6679, val_loss : 2.5382\n",
      "Epoch 11, loss : 0.4482, val_loss : 5.0503\n",
      "Epoch 12, loss : 0.0606, val_loss : 3.4072\n",
      "Epoch 13, loss : 0.2312, val_loss : 2.2926\n",
      "Epoch 14, loss : 9.4439, val_loss : 47.8436\n",
      "Epoch 15, loss : 0.4051, val_loss : 2.5311\n",
      "Epoch 16, loss : 0.2707, val_loss : 1.8679\n",
      "Epoch 17, loss : 0.2747, val_loss : 1.1802\n",
      "Epoch 18, loss : 0.0066, val_loss : 1.1210\n",
      "Epoch 19, loss : 0.3360, val_loss : 1.2455\n",
      "Epoch 20, loss : 0.0932, val_loss : 1.6575\n",
      "Epoch 21, loss : 0.1668, val_loss : 2.0577\n",
      "Epoch 22, loss : 0.0565, val_loss : 1.4526\n",
      "Epoch 23, loss : 0.0020, val_loss : 0.5997\n",
      "Epoch 24, loss : 0.0306, val_loss : 0.6327\n",
      "Epoch 25, loss : 0.0074, val_loss : 0.7864\n",
      "Epoch 26, loss : 0.0001, val_loss : 0.9225\n",
      "Epoch 27, loss : 0.0201, val_loss : 0.7757\n",
      "Epoch 28, loss : 0.0549, val_loss : 0.6328\n",
      "Epoch 29, loss : 0.1100, val_loss : 0.5168\n",
      "Epoch 30, loss : 0.0587, val_loss : 0.6063\n",
      "Epoch 31, loss : 0.0334, val_loss : 0.5816\n",
      "Epoch 32, loss : 0.0226, val_loss : 0.6082\n",
      "Epoch 33, loss : 0.0381, val_loss : 1.6742\n",
      "Epoch 34, loss : 0.0367, val_loss : 4.3296\n",
      "Epoch 35, loss : 0.6841, val_loss : 7.3447\n",
      "Epoch 36, loss : 2.8843, val_loss : 2.7876\n",
      "Epoch 37, loss : 0.1114, val_loss : 4.3419\n",
      "Epoch 38, loss : 0.3157, val_loss : 2.1822\n",
      "Epoch 39, loss : 0.1758, val_loss : 1.9005\n",
      "Epoch 40, loss : 0.0046, val_loss : 0.8476\n",
      "Epoch 41, loss : 0.0208, val_loss : 1.0712\n",
      "Epoch 42, loss : 0.0146, val_loss : 0.8659\n",
      "Epoch 43, loss : 0.0160, val_loss : 1.2082\n",
      "Epoch 44, loss : 0.0564, val_loss : 1.0556\n",
      "Epoch 45, loss : 0.2493, val_loss : 1.5497\n",
      "Epoch 46, loss : 0.0105, val_loss : 1.0589\n",
      "Epoch 47, loss : 0.0000, val_loss : 1.4845\n",
      "Epoch 48, loss : 0.0024, val_loss : 0.9071\n",
      "Epoch 49, loss : 0.0342, val_loss : 0.9760\n",
      "Epoch 50, loss : 0.0562, val_loss : 0.7227\n",
      "Epoch 51, loss : 0.0413, val_loss : 0.6177\n",
      "Epoch 52, loss : 0.0678, val_loss : 0.5990\n",
      "Epoch 53, loss : 0.0605, val_loss : 0.7955\n",
      "Epoch 54, loss : 0.0524, val_loss : 0.6456\n",
      "Epoch 55, loss : 0.0165, val_loss : 1.1233\n",
      "Epoch 56, loss : 0.0397, val_loss : 0.7594\n",
      "Epoch 57, loss : 0.0044, val_loss : 0.9086\n",
      "Epoch 58, loss : 0.0074, val_loss : 2.2767\n",
      "Epoch 59, loss : 0.0355, val_loss : 0.6796\n",
      "Epoch 60, loss : 0.0533, val_loss : 2.7298\n",
      "Epoch 61, loss : 0.0863, val_loss : 1.4814\n",
      "Epoch 62, loss : 0.0795, val_loss : 0.9719\n",
      "Epoch 63, loss : 0.5701, val_loss : 2.4658\n",
      "Epoch 64, loss : 0.9157, val_loss : 2.8863\n",
      "Epoch 65, loss : 0.1383, val_loss : 1.9205\n",
      "Epoch 66, loss : 0.0044, val_loss : 2.1482\n",
      "Epoch 67, loss : 0.0755, val_loss : 0.8281\n",
      "Epoch 68, loss : 0.0552, val_loss : 0.3834\n",
      "Epoch 69, loss : 0.0689, val_loss : 0.4212\n",
      "Epoch 70, loss : 0.0739, val_loss : 0.4721\n",
      "Epoch 71, loss : 0.0402, val_loss : 0.4785\n",
      "Epoch 72, loss : 0.0211, val_loss : 0.6049\n",
      "Epoch 73, loss : 0.0185, val_loss : 0.7014\n",
      "Epoch 74, loss : 0.0017, val_loss : 0.8292\n",
      "Epoch 75, loss : 0.0002, val_loss : 0.9522\n",
      "Epoch 76, loss : 0.0220, val_loss : 0.8629\n",
      "Epoch 77, loss : 0.0382, val_loss : 1.1551\n",
      "Epoch 78, loss : 0.0210, val_loss : 0.8618\n",
      "Epoch 79, loss : 0.0888, val_loss : 1.0126\n",
      "Epoch 80, loss : 0.0498, val_loss : 0.7250\n",
      "Epoch 81, loss : 0.0581, val_loss : 0.8789\n",
      "Epoch 82, loss : 0.0327, val_loss : 0.8648\n",
      "Epoch 83, loss : 0.0047, val_loss : 0.6354\n",
      "Epoch 84, loss : 0.0229, val_loss : 0.7500\n",
      "Epoch 85, loss : 0.0059, val_loss : 0.4868\n",
      "Epoch 86, loss : 0.0254, val_loss : 0.6549\n",
      "Epoch 87, loss : 0.0093, val_loss : 0.4941\n",
      "Epoch 88, loss : 0.0340, val_loss : 0.6387\n",
      "Epoch 89, loss : 0.0010, val_loss : 0.6037\n",
      "Epoch 90, loss : 0.0039, val_loss : 0.3319\n",
      "Epoch 91, loss : 0.0000, val_loss : 0.3962\n",
      "Epoch 92, loss : 0.0186, val_loss : 0.1800\n",
      "Epoch 93, loss : 0.0142, val_loss : 0.1643\n",
      "Epoch 94, loss : 0.0042, val_loss : 0.3326\n",
      "Epoch 95, loss : 0.0008, val_loss : 0.3649\n",
      "Epoch 96, loss : 0.0003, val_loss : 0.2787\n",
      "Epoch 97, loss : 0.0059, val_loss : 0.5393\n",
      "Epoch 98, loss : 0.0000, val_loss : 0.2773\n",
      "Epoch 99, loss : 0.0010, val_loss : 0.4566\n",
      "Epoch 100, loss : 0.1962, val_loss : 0.6235\n",
      "Epoch 101, loss : 0.0871, val_loss : 0.4177\n",
      "Epoch 102, loss : 0.0675, val_loss : 0.2350\n",
      "Epoch 103, loss : 0.0273, val_loss : 0.1463\n",
      "Epoch 104, loss : 0.0876, val_loss : 0.2957\n",
      "Epoch 105, loss : 0.0200, val_loss : 0.1939\n",
      "Epoch 106, loss : 0.0933, val_loss : 0.3303\n",
      "Epoch 107, loss : 0.0972, val_loss : 0.3019\n",
      "Epoch 108, loss : 0.1016, val_loss : 0.2997\n",
      "Epoch 109, loss : 0.0001, val_loss : 0.2148\n",
      "Epoch 110, loss : 0.0135, val_loss : 0.3013\n",
      "Epoch 111, loss : 0.0276, val_loss : 0.2847\n",
      "Epoch 112, loss : 0.1472, val_loss : 0.6316\n",
      "Epoch 113, loss : 0.0249, val_loss : 0.4061\n",
      "Epoch 114, loss : 0.0091, val_loss : 0.1054\n",
      "Epoch 115, loss : 0.0047, val_loss : 0.1199\n",
      "Epoch 116, loss : 0.0235, val_loss : 0.1293\n",
      "Epoch 117, loss : 0.0002, val_loss : 0.1320\n",
      "Epoch 118, loss : 0.0043, val_loss : 0.2852\n",
      "Epoch 119, loss : 0.0000, val_loss : 0.1308\n",
      "Epoch 120, loss : 0.0004, val_loss : 0.1658\n",
      "Epoch 121, loss : 0.0056, val_loss : 0.1730\n",
      "Epoch 122, loss : 0.0084, val_loss : 0.1710\n",
      "Epoch 123, loss : 0.0117, val_loss : 0.1678\n",
      "Epoch 124, loss : 0.0154, val_loss : 0.1545\n",
      "Epoch 125, loss : 0.0230, val_loss : 0.2207\n",
      "Epoch 126, loss : 0.0268, val_loss : 0.1316\n",
      "Epoch 127, loss : 0.0235, val_loss : 0.2242\n",
      "Epoch 128, loss : 0.0279, val_loss : 0.1492\n",
      "Epoch 129, loss : 0.0313, val_loss : 0.1920\n",
      "Epoch 130, loss : 0.0203, val_loss : 0.1424\n",
      "Epoch 131, loss : 0.0280, val_loss : 0.2102\n",
      "Epoch 132, loss : 0.0168, val_loss : 0.1340\n",
      "Epoch 133, loss : 0.0208, val_loss : 0.2238\n",
      "Epoch 134, loss : 0.0213, val_loss : 0.1231\n",
      "Epoch 135, loss : 0.0167, val_loss : 0.2321\n",
      "Epoch 136, loss : 0.0150, val_loss : 0.1377\n",
      "Epoch 137, loss : 0.0110, val_loss : 0.2429\n",
      "Epoch 138, loss : 0.0097, val_loss : 0.1330\n",
      "Epoch 139, loss : 0.0213, val_loss : 0.3230\n",
      "Epoch 140, loss : 0.0042, val_loss : 0.1287\n",
      "Epoch 141, loss : 0.0265, val_loss : 0.2619\n",
      "Epoch 142, loss : 0.0123, val_loss : 0.1237\n",
      "Epoch 143, loss : 0.0282, val_loss : 0.2016\n",
      "Epoch 144, loss : 0.0229, val_loss : 0.1145\n",
      "Epoch 145, loss : 0.0365, val_loss : 0.1932\n",
      "Epoch 146, loss : 0.0199, val_loss : 0.1089\n",
      "Epoch 147, loss : 0.0336, val_loss : 0.1915\n",
      "Epoch 148, loss : 0.0286, val_loss : 0.1570\n",
      "Epoch 149, loss : 0.0329, val_loss : 0.1880\n",
      "Epoch 150, loss : 0.0247, val_loss : 0.1548\n",
      "Epoch 151, loss : 0.0256, val_loss : 0.2132\n",
      "Epoch 152, loss : 0.0217, val_loss : 0.1952\n",
      "Epoch 153, loss : 0.0315, val_loss : 0.1882\n",
      "Epoch 154, loss : 0.0304, val_loss : 0.2291\n",
      "Epoch 155, loss : 0.0241, val_loss : 0.1631\n",
      "Epoch 156, loss : 0.0167, val_loss : 0.1173\n",
      "Epoch 157, loss : 0.0121, val_loss : 0.1368\n",
      "Epoch 158, loss : 0.0292, val_loss : 0.1827\n",
      "Epoch 159, loss : 0.0185, val_loss : 0.1758\n",
      "Epoch 160, loss : 0.0365, val_loss : 0.2173\n",
      "Epoch 161, loss : 0.0234, val_loss : 0.1047\n",
      "Epoch 162, loss : 0.0115, val_loss : 0.1489\n",
      "Epoch 163, loss : 0.0408, val_loss : 0.2133\n",
      "Epoch 164, loss : 0.0071, val_loss : 0.1101\n",
      "Epoch 165, loss : 0.0207, val_loss : 0.1432\n",
      "Epoch 166, loss : 0.0510, val_loss : 0.1609\n",
      "Epoch 167, loss : 0.0138, val_loss : 0.1302\n",
      "Epoch 168, loss : 0.0427, val_loss : 0.1288\n",
      "Epoch 169, loss : 0.0245, val_loss : 0.1505\n",
      "Epoch 170, loss : 0.0608, val_loss : 0.1082\n",
      "Epoch 171, loss : 0.0186, val_loss : 0.1036\n",
      "Epoch 172, loss : 0.0354, val_loss : 0.0789\n",
      "Epoch 173, loss : 0.0391, val_loss : 0.0783\n",
      "Epoch 174, loss : 0.0299, val_loss : 0.0882\n",
      "Epoch 175, loss : 0.0390, val_loss : 0.0969\n",
      "Epoch 176, loss : 0.0328, val_loss : 0.0908\n",
      "Epoch 177, loss : 0.0284, val_loss : 0.0804\n",
      "Epoch 178, loss : 0.0332, val_loss : 0.0841\n",
      "Epoch 179, loss : 0.0397, val_loss : 0.0720\n",
      "Epoch 180, loss : 0.0426, val_loss : 0.0758\n",
      "Epoch 181, loss : 0.0239, val_loss : 0.0807\n",
      "Epoch 182, loss : 0.0444, val_loss : 0.0715\n",
      "Epoch 183, loss : 0.0382, val_loss : 0.0692\n",
      "Epoch 184, loss : 0.0484, val_loss : 0.0688\n",
      "Epoch 185, loss : 0.0684, val_loss : 0.0784\n",
      "Epoch 186, loss : 0.0360, val_loss : 0.0581\n",
      "Epoch 187, loss : 0.0435, val_loss : 0.0672\n",
      "Epoch 188, loss : 0.0375, val_loss : 0.0656\n",
      "Epoch 189, loss : 0.0590, val_loss : 0.0766\n",
      "Epoch 190, loss : 0.0629, val_loss : 0.0748\n",
      "Epoch 191, loss : 0.0611, val_loss : 0.0745\n",
      "Epoch 192, loss : 0.0667, val_loss : 0.0638\n"
     ]
    },
    {
     "name": "stdout",
     "output_type": "stream",
     "text": [
      "Epoch 193, loss : 0.0650, val_loss : 0.0698\n",
      "Epoch 194, loss : 0.0628, val_loss : 0.0752\n",
      "Epoch 195, loss : 0.1165, val_loss : 0.0733\n",
      "Epoch 196, loss : 0.0633, val_loss : 0.0751\n",
      "Epoch 197, loss : 0.0670, val_loss : 0.0708\n",
      "Epoch 198, loss : 0.0906, val_loss : 0.0702\n",
      "Epoch 199, loss : 0.0714, val_loss : 0.0605\n",
      "Epoch 200, loss : 0.0870, val_loss : 0.0678\n",
      "Epoch 201, loss : 0.0881, val_loss : 0.0616\n",
      "Epoch 202, loss : 0.0697, val_loss : 0.0687\n",
      "Epoch 203, loss : 0.0857, val_loss : 0.0804\n",
      "Epoch 204, loss : 0.0740, val_loss : 0.0645\n",
      "Epoch 205, loss : 0.0624, val_loss : 0.0615\n",
      "Epoch 206, loss : 0.0726, val_loss : 0.0656\n",
      "Epoch 207, loss : 0.0783, val_loss : 0.0736\n",
      "Epoch 208, loss : 0.0605, val_loss : 0.0631\n",
      "Epoch 209, loss : 0.0791, val_loss : 0.0707\n",
      "Epoch 210, loss : 0.0684, val_loss : 0.0734\n",
      "Epoch 211, loss : 0.0613, val_loss : 0.0716\n",
      "Epoch 212, loss : 0.0781, val_loss : 0.0765\n",
      "Epoch 213, loss : 0.0535, val_loss : 0.0755\n",
      "Epoch 214, loss : 0.0670, val_loss : 0.0654\n",
      "Epoch 215, loss : 0.0670, val_loss : 0.0672\n",
      "Epoch 216, loss : 0.0640, val_loss : 0.0718\n",
      "Epoch 217, loss : 0.0667, val_loss : 0.0795\n",
      "Epoch 218, loss : 0.0647, val_loss : 0.0810\n",
      "Epoch 219, loss : 0.0516, val_loss : 0.0726\n",
      "Epoch 220, loss : 0.0691, val_loss : 0.0591\n",
      "Epoch 221, loss : 0.0565, val_loss : 0.0603\n",
      "Epoch 222, loss : 0.0606, val_loss : 0.0676\n",
      "Epoch 223, loss : 0.0625, val_loss : 0.0726\n",
      "Epoch 224, loss : 0.0466, val_loss : 0.0670\n",
      "Epoch 225, loss : 0.0528, val_loss : 0.0673\n",
      "Epoch 226, loss : 0.0691, val_loss : 0.0561\n",
      "Epoch 227, loss : 0.0388, val_loss : 0.0646\n",
      "Epoch 228, loss : 0.0360, val_loss : 0.0610\n",
      "Epoch 229, loss : 0.0478, val_loss : 0.0567\n",
      "Epoch 230, loss : 0.0334, val_loss : 0.0590\n",
      "Epoch 231, loss : 0.0530, val_loss : 0.0580\n",
      "Epoch 232, loss : 0.0329, val_loss : 0.0717\n",
      "Epoch 233, loss : 0.0461, val_loss : 0.0579\n",
      "Epoch 234, loss : 0.0486, val_loss : 0.0480\n",
      "Epoch 235, loss : 0.0474, val_loss : 0.0480\n",
      "Epoch 236, loss : 0.0284, val_loss : 0.0479\n",
      "Epoch 237, loss : 0.0325, val_loss : 0.0493\n",
      "Epoch 238, loss : 0.0378, val_loss : 0.0528\n",
      "Epoch 239, loss : 0.0303, val_loss : 0.0507\n",
      "Epoch 240, loss : 0.0312, val_loss : 0.0524\n",
      "Epoch 241, loss : 0.0377, val_loss : 0.0528\n",
      "Epoch 242, loss : 0.0401, val_loss : 0.0500\n",
      "Epoch 243, loss : 0.0396, val_loss : 0.0504\n",
      "Epoch 244, loss : 0.0373, val_loss : 0.0515\n",
      "Epoch 245, loss : 0.0349, val_loss : 0.0481\n",
      "Epoch 246, loss : 0.0363, val_loss : 0.0522\n",
      "Epoch 247, loss : 0.0328, val_loss : 0.0501\n",
      "Epoch 248, loss : 0.0345, val_loss : 0.0520\n",
      "Epoch 249, loss : 0.0351, val_loss : 0.0551\n",
      "Epoch 250, loss : 0.0240, val_loss : 0.0449\n",
      "Epoch 251, loss : 0.0328, val_loss : 0.0480\n",
      "Epoch 252, loss : 0.0366, val_loss : 0.0478\n",
      "Epoch 253, loss : 0.0301, val_loss : 0.0487\n",
      "Epoch 254, loss : 0.0365, val_loss : 0.0559\n",
      "Epoch 255, loss : 0.0232, val_loss : 0.0466\n",
      "Epoch 256, loss : 0.0254, val_loss : 0.0473\n",
      "Epoch 257, loss : 0.0254, val_loss : 0.0441\n",
      "Epoch 258, loss : 0.0203, val_loss : 0.0454\n",
      "Epoch 259, loss : 0.0306, val_loss : 0.0441\n",
      "Epoch 260, loss : 0.0237, val_loss : 0.0450\n",
      "Epoch 261, loss : 0.0298, val_loss : 0.0462\n",
      "Epoch 262, loss : 0.0284, val_loss : 0.0457\n",
      "Epoch 263, loss : 0.0328, val_loss : 0.0451\n",
      "Epoch 264, loss : 0.0277, val_loss : 0.0445\n",
      "Epoch 265, loss : 0.0292, val_loss : 0.0469\n",
      "Epoch 266, loss : 0.0320, val_loss : 0.0469\n",
      "Epoch 267, loss : 0.0324, val_loss : 0.0490\n",
      "Epoch 268, loss : 0.0415, val_loss : 0.0521\n",
      "Epoch 269, loss : 0.0333, val_loss : 0.0550\n",
      "Epoch 270, loss : 0.0443, val_loss : 0.0518\n",
      "Epoch 271, loss : 0.0382, val_loss : 0.0447\n",
      "Epoch 272, loss : 0.0364, val_loss : 0.0492\n",
      "Epoch 273, loss : 0.0435, val_loss : 0.0515\n",
      "Epoch 274, loss : 0.0464, val_loss : 0.0517\n",
      "Epoch 275, loss : 0.0374, val_loss : 0.0499\n",
      "Epoch 276, loss : 0.0418, val_loss : 0.0524\n",
      "Epoch 277, loss : 0.0449, val_loss : 0.0558\n",
      "Epoch 278, loss : 0.0430, val_loss : 0.0514\n",
      "Epoch 279, loss : 0.0495, val_loss : 0.0530\n",
      "Epoch 280, loss : 0.0571, val_loss : 0.0491\n",
      "Epoch 281, loss : 0.0361, val_loss : 0.0429\n",
      "Epoch 282, loss : 0.0506, val_loss : 0.0462\n",
      "Epoch 283, loss : 0.0427, val_loss : 0.0491\n",
      "Epoch 284, loss : 0.0473, val_loss : 0.0471\n",
      "Epoch 285, loss : 0.0393, val_loss : 0.0490\n",
      "Epoch 286, loss : 0.0487, val_loss : 0.0470\n",
      "Epoch 287, loss : 0.0357, val_loss : 0.0485\n",
      "Epoch 288, loss : 0.0392, val_loss : 0.0478\n",
      "Epoch 289, loss : 0.0381, val_loss : 0.0496\n",
      "Epoch 290, loss : 0.0368, val_loss : 0.0499\n",
      "Epoch 291, loss : 0.0412, val_loss : 0.0477\n",
      "Epoch 292, loss : 0.0390, val_loss : 0.0476\n",
      "Epoch 293, loss : 0.0365, val_loss : 0.0486\n",
      "Epoch 294, loss : 0.0398, val_loss : 0.0477\n",
      "Epoch 295, loss : 0.0402, val_loss : 0.0486\n",
      "Epoch 296, loss : 0.0422, val_loss : 0.0511\n",
      "Epoch 297, loss : 0.0390, val_loss : 0.0482\n",
      "Epoch 298, loss : 0.0443, val_loss : 0.0491\n",
      "Epoch 299, loss : 0.0392, val_loss : 0.0484\n"
     ]
    }
   ],
   "source": [
    "\"\"\"\n",
    "TensorFlowで実装したニューラルネットワークを使いIrisデータセットを2値分類する\n",
    "\"\"\"\n",
    "import pandas as pd\n",
    "import numpy as np\n",
    "from sklearn.model_selection import train_test_split\n",
    "import tensorflow as tf\n",
    "\n",
    "\n",
    "class GetMiniBatch:\n",
    "    \"\"\"\n",
    "    ミニバッチを取得するイテレータ\n",
    "\n",
    "    Parameters\n",
    "    ----------\n",
    "    X : 次の形のndarray, shape (n_samples, n_features)\n",
    "      学習データ\n",
    "    y : 次の形のndarray, shape (n_samples, 1)\n",
    "      正解値\n",
    "    batch_size : int\n",
    "      バッチサイズ\n",
    "    seed : int\n",
    "      NumPyの乱数のシード\n",
    "    \"\"\"\n",
    "    def __init__(self, X, y, batch_size = 10, seed=0):\n",
    "        self.batch_size = batch_size\n",
    "        np.random.seed(seed)\n",
    "        shuffle_index = np.random.permutation(np.arange(X.shape[0]))\n",
    "        self.X = X[shuffle_index]\n",
    "        self.y = y[shuffle_index]\n",
    "        self._stop = np.ceil(X.shape[0]/self.batch_size).astype(np.int)\n",
    "    def __len__(self):\n",
    "        return self._stop\n",
    "    def __getitem__(self,item):\n",
    "        p0 = item*self.batch_size\n",
    "        p1 = item*self.batch_size + self.batch_size\n",
    "        return self.X[p0:p1], self.y[p0:p1]        \n",
    "    def __iter__(self):\n",
    "        self._counter = 0\n",
    "        return self\n",
    "    def __next__(self):\n",
    "        if self._counter >= self._stop:\n",
    "            raise StopIteration()\n",
    "        p0 = self._counter*self.batch_size\n",
    "        p1 = self._counter*self.batch_size + self.batch_size\n",
    "        self._counter += 1\n",
    "        return self.X[p0:p1], self.y[p0:p1]\n",
    "\n",
    "\n",
    "# ハイパーパラメータの設定\n",
    "learning_rate = 0.01\n",
    "batch_size = 10\n",
    "num_epochs = 300\n",
    "\n",
    "n_hidden1 = 50\n",
    "n_hidden2 = 100\n",
    "n_input = X_train.shape[1]\n",
    "n_samples = X_train.shape[0]\n",
    "n_classes = 1\n",
    "\n",
    "# 計算グラフに渡す引数の形を決める\n",
    "X = tf.placeholder(\"float\", [None, n_input])\n",
    "Y = tf.placeholder(\"float\", [None, n_classes])\n",
    "\n",
    "# trainのミニバッチイテレータ\n",
    "get_mini_batch_train = GetMiniBatch(X_train, y_train, batch_size=batch_size)\n",
    "\n",
    "def example_net(x):\n",
    "    \"\"\"\n",
    "    単純な3層ニューラルネットワーク\n",
    "    \"\"\"\n",
    "\n",
    "    # 重みとバイアスの宣言\n",
    "    weights = {\n",
    "        'w1': tf.Variable(tf.random_normal([n_input, n_hidden1])),\n",
    "        'w2': tf.Variable(tf.random_normal([n_hidden1, n_hidden2])),\n",
    "        'w3': tf.Variable(tf.random_normal([n_hidden2, n_classes]))\n",
    "    }\n",
    "    biases = {\n",
    "        'b1': tf.Variable(tf.random_normal([n_hidden1])),\n",
    "        'b2': tf.Variable(tf.random_normal([n_hidden2])),\n",
    "        'b3': tf.Variable(tf.random_normal([n_classes]))\n",
    "    }\n",
    "\n",
    "    layer_1 = tf.add(tf.matmul(x, weights['w1']), biases['b1'])\n",
    "    layer_1 = tf.nn.relu(layer_1)\n",
    "    layer_2 = tf.add(tf.matmul(layer_1, weights['w2']), biases['b2'])\n",
    "    layer_2 = tf.nn.relu(layer_2)\n",
    "    layer_output = tf.matmul(layer_2, weights['w3']) + biases['b3'] # tf.addと+は等価である\n",
    "    return layer_output\n",
    "\n",
    "# ネットワーク構造の読み込み                               \n",
    "logits = example_net(X)\n",
    "\n",
    "# 目的関数\n",
    "loss_op = tf.reduce_mean(tf.square(logits - Y))\n",
    "# 最適化手法\n",
    "optimizer = tf.train.AdamOptimizer(learning_rate=learning_rate)\n",
    "train_op = optimizer.minimize(loss_op)\n",
    "\n",
    "# variableの初期化\n",
    "init = tf.global_variables_initializer()\n",
    "\n",
    "# 計算グラフの実行\n",
    "with tf.Session() as sess:\n",
    "    sess.run(init)\n",
    "    for epoch in range(num_epochs):\n",
    "        # エポックごとにループ\n",
    "        total_batch = np.ceil(X_train.shape[0]/batch_size).astype(np.int)\n",
    "        total_loss = 0\n",
    "        for i, (mini_batch_x, mini_batch_y) in enumerate(get_mini_batch_train):\n",
    "            # ミニバッチごとにループ\n",
    "            sess.run(train_op, feed_dict={X: mini_batch_x, Y: mini_batch_y})\n",
    "            loss = sess.run(loss_op, feed_dict={X: mini_batch_x, Y: mini_batch_y})\n",
    "        val_loss = sess.run(loss_op, feed_dict={X: X_val, Y: y_val})\n",
    "        print(\"Epoch {}, loss : {:.4f}, val_loss : {:.4f}\".format(epoch, loss, val_loss))\n",
    "        # テストデータを使って予測\n",
    "        pred_test = sess.run(logits, feed_dict={X: X_test})"
   ]
  },
  {
   "cell_type": "code",
   "execution_count": 31,
   "metadata": {
    "ExecuteTime": {
     "end_time": "2019-06-30T04:34:36.145476Z",
     "start_time": "2019-06-30T04:34:36.137799Z"
    },
    "hidden": true
   },
   "outputs": [
    {
     "name": "stdout",
     "output_type": "stream",
     "text": [
      "[[ 0.16987963]\n",
      " [ 0.16306484]\n",
      " [ 0.24818678]\n",
      " [ 0.20095647]\n",
      " [ 0.53027599]\n",
      " [ 0.1252185 ]\n",
      " [-0.2134938 ]\n",
      " [ 0.01119208]\n",
      " [-0.1988424 ]\n",
      " [ 0.18429187]\n",
      " [-0.03820329]\n",
      " [ 0.40314488]\n",
      " [ 0.09595366]\n",
      " [ 0.04486521]\n",
      " [ 0.08640058]\n",
      " [ 0.05849937]\n",
      " [ 0.23670682]\n",
      " [ 0.23775197]\n",
      " [ 0.03429736]\n",
      " [-0.02956193]\n",
      " [-0.073207  ]\n",
      " [ 0.05109603]\n",
      " [ 0.06197138]\n",
      " [ 0.19224742]\n",
      " [ 0.1862209 ]\n",
      " [-0.34224515]\n",
      " [ 0.26949436]\n",
      " [ 0.17301791]\n",
      " [-0.11260734]\n",
      " [ 0.16320082]\n",
      " [ 0.5420825 ]\n",
      " [ 0.1003068 ]\n",
      " [-0.12004968]\n",
      " [ 0.11190624]\n",
      " [ 0.04084313]\n",
      " [ 0.18065165]\n",
      " [-0.22225019]\n",
      " [ 0.15011139]\n",
      " [ 0.08285962]\n",
      " [ 0.02371342]\n",
      " [-0.15268592]\n",
      " [ 0.1749876 ]\n",
      " [ 0.14225223]\n",
      " [-0.1015201 ]\n",
      " [-0.09560709]\n",
      " [ 0.48319283]\n",
      " [-0.11280089]\n",
      " [ 0.05153941]\n",
      " [ 0.18963973]\n",
      " [ 0.30484148]\n",
      " [-0.08629394]\n",
      " [-0.08866235]\n",
      " [ 0.02907589]\n",
      " [-0.0217584 ]\n",
      " [-0.21038033]\n",
      " [ 0.04738577]\n",
      " [-0.05758792]\n",
      " [ 0.09059063]\n",
      " [ 0.04382769]\n",
      " [-0.11257396]\n",
      " [ 0.01417802]\n",
      " [-0.01210099]\n",
      " [ 0.10625925]\n",
      " [-0.19367599]\n",
      " [ 0.18452451]\n",
      " [ 0.04249224]\n",
      " [-0.07059413]\n",
      " [ 0.39513632]\n",
      " [-0.21110948]\n",
      " [ 0.02751418]\n",
      " [ 0.09268109]\n",
      " [ 0.03945942]\n",
      " [ 0.39304119]\n",
      " [-0.59595037]\n",
      " [ 0.11639684]\n",
      " [ 0.02542602]\n",
      " [-0.00481222]\n",
      " [ 0.26283722]\n",
      " [ 0.17925515]\n",
      " [-0.00290685]\n",
      " [ 0.01679702]\n",
      " [-0.02205028]\n",
      " [ 0.10421177]\n",
      " [ 0.07806877]\n",
      " [ 0.20334244]\n",
      " [ 0.10155274]\n",
      " [ 0.08212516]\n",
      " [-0.02611144]\n",
      " [ 0.06663995]\n",
      " [ 0.01197871]\n",
      " [ 0.15759754]\n",
      " [ 0.02499875]\n",
      " [ 0.13580486]\n",
      " [ 0.19984166]\n",
      " [ 0.0891854 ]\n",
      " [-0.03017082]\n",
      " [-0.00153608]\n",
      " [-0.24388907]\n",
      " [ 0.02318326]\n",
      " [-0.08620082]\n",
      " [-0.03420229]\n",
      " [ 0.26858819]\n",
      " [ 0.25634161]\n",
      " [ 0.13131625]\n",
      " [-0.23771574]\n",
      " [ 0.10419683]\n",
      " [ 0.31260379]\n",
      " [ 0.02557927]\n",
      " [ 0.17098074]\n",
      " [-0.03158447]\n",
      " [-0.28991576]\n",
      " [ 0.13544986]\n",
      " [ 0.19042596]\n",
      " [ 0.04848846]\n",
      " [ 0.15853706]\n",
      " [ 0.21588141]\n",
      " [-0.14753288]\n",
      " [ 0.0386647 ]\n",
      " [ 0.18635747]\n",
      " [ 0.15099592]\n",
      " [ 0.22273898]\n",
      " [ 0.3746255 ]\n",
      " [ 0.02771291]\n",
      " [ 0.23604028]\n",
      " [ 0.08257097]\n",
      " [ 0.19531037]\n",
      " [-0.18280912]\n",
      " [ 0.03435473]\n",
      " [-0.07033101]\n",
      " [ 0.05391948]\n",
      " [-0.0373873 ]\n",
      " [-0.04109005]\n",
      " [ 0.5331197 ]\n",
      " [ 0.02874717]\n",
      " [ 0.09346784]\n",
      " [ 0.09557372]\n",
      " [ 0.08537061]\n",
      " [ 0.12734636]\n",
      " [ 0.09614136]\n",
      " [ 0.23737061]\n",
      " [-0.14555463]\n",
      " [ 0.1789904 ]\n",
      " [ 0.02628074]\n",
      " [-0.00367046]\n",
      " [ 0.37354593]\n",
      " [ 0.24597419]\n",
      " [ 0.13095413]\n",
      " [-0.06633808]\n",
      " [-0.22945273]\n",
      " [ 0.02026316]\n",
      " [-0.08060169]\n",
      " [-0.16928365]\n",
      " [ 0.24924884]\n",
      " [ 0.05262923]\n",
      " [-0.06799036]\n",
      " [ 0.17960853]\n",
      " [ 0.33694425]\n",
      " [-0.46089539]\n",
      " [ 0.17449738]\n",
      " [ 0.2368008 ]\n",
      " [ 0.27869078]\n",
      " [ 0.03728322]\n",
      " [ 0.2084541 ]\n",
      " [ 0.05733008]\n",
      " [ 0.04343654]\n",
      " [ 0.17278161]\n",
      " [-0.03581239]\n",
      " [ 0.10238249]\n",
      " [-0.04255804]\n",
      " [ 0.26684797]\n",
      " [-0.09034426]\n",
      " [ 0.15237388]\n",
      " [-0.03237606]\n",
      " [-0.07296164]\n",
      " [ 0.11482829]\n",
      " [ 0.08078638]\n",
      " [ 0.06310386]\n",
      " [ 0.0901939 ]\n",
      " [ 0.13222115]\n",
      " [ 0.15241941]\n",
      " [-0.26640284]\n",
      " [ 0.24371588]\n",
      " [-0.04636954]\n",
      " [-0.06374585]\n",
      " [ 0.23155805]\n",
      " [ 0.13117407]\n",
      " [ 0.27193097]\n",
      " [-0.0555468 ]\n",
      " [ 0.06704627]\n",
      " [-0.02483924]\n",
      " [ 0.12754883]\n",
      " [-0.11793116]\n",
      " [ 0.02028459]\n",
      " [ 0.02949213]\n",
      " [-0.13381454]\n",
      " [ 0.06206284]\n",
      " [ 0.22774281]\n",
      " [-0.01772209]\n",
      " [ 0.10178813]\n",
      " [ 0.32147004]\n",
      " [ 0.11293665]\n",
      " [-0.07875683]\n",
      " [-0.22488053]\n",
      " [ 0.1938763 ]\n",
      " [-0.03346334]\n",
      " [ 0.22472684]\n",
      " [-0.03421865]\n",
      " [-0.13591591]\n",
      " [-0.14397027]\n",
      " [ 0.26251205]\n",
      " [ 0.12625914]\n",
      " [-0.06722235]\n",
      " [ 0.32114092]\n",
      " [-0.2336437 ]\n",
      " [-0.5073304 ]\n",
      " [ 0.61639113]\n",
      " [ 0.78248903]\n",
      " [ 0.06115126]\n",
      " [ 0.02929997]\n",
      " [ 0.22884339]\n",
      " [ 0.01397582]\n",
      " [ 0.42380686]\n",
      " [ 0.15097743]\n",
      " [ 0.00338277]\n",
      " [ 0.00730215]\n",
      " [-0.01983663]\n",
      " [ 0.06204807]\n",
      " [ 0.10117062]\n",
      " [ 0.11870212]\n",
      " [ 0.14216906]\n",
      " [ 0.3750491 ]\n",
      " [-0.21621984]\n",
      " [ 0.10846963]\n",
      " [ 0.1551682 ]\n",
      " [-0.03624769]\n",
      " [ 0.1026271 ]\n",
      " [ 0.45234737]\n",
      " [-0.04608125]\n",
      " [ 0.54278332]\n",
      " [ 0.05648374]\n",
      " [ 0.27339239]\n",
      " [ 0.26133573]\n",
      " [ 0.1915331 ]\n",
      " [ 0.06332742]\n",
      " [-0.0978949 ]\n",
      " [-0.06908453]\n",
      " [-0.01961354]\n",
      " [ 0.17190166]\n",
      " [-0.13034235]\n",
      " [ 0.10221113]\n",
      " [-0.11328756]\n",
      " [ 0.15342367]\n",
      " [-0.08137916]\n",
      " [ 0.02424827]\n",
      " [-0.06021767]\n",
      " [ 0.15412358]\n",
      " [-0.02134109]\n",
      " [ 0.39279473]\n",
      " [-0.22349355]\n",
      " [-0.21502577]\n",
      " [ 0.3211476 ]\n",
      " [ 0.34745042]\n",
      " [ 0.34449588]\n",
      " [ 0.01322665]\n",
      " [-0.04910038]\n",
      " [-0.05472662]\n",
      " [-0.25123675]\n",
      " [-0.01305849]\n",
      " [-0.3169611 ]\n",
      " [ 0.22845399]\n",
      " [ 0.10533113]\n",
      " [-0.31116981]\n",
      " [ 0.05139259]\n",
      " [ 0.09948957]\n",
      " [ 0.45560338]\n",
      " [ 0.23009062]\n",
      " [ 0.34890848]\n",
      " [-0.28718754]\n",
      " [ 0.32650644]\n",
      " [ 0.15749089]\n",
      " [-0.12802222]\n",
      " [-0.13484097]\n",
      " [-0.14618939]\n",
      " [ 0.12304493]\n",
      " [-0.00256617]\n",
      " [ 0.41264892]\n",
      " [ 0.2909977 ]\n",
      " [-0.32917243]\n",
      " [-0.25627776]\n",
      " [ 0.3106142 ]\n",
      " [ 0.08180639]\n",
      " [ 0.08719634]\n",
      " [-0.00746854]\n",
      " [ 0.12699205]\n",
      " [-0.49713152]\n",
      " [-0.15631365]\n",
      " [ 0.11971005]\n",
      " [ 0.02030446]\n",
      " [-0.00297819]\n",
      " [ 0.30671889]\n",
      " [ 0.44258745]\n",
      " [ 0.02868146]\n",
      " [ 0.31459312]\n",
      " [ 0.01007486]\n",
      " [ 0.28090388]\n",
      " [ 0.10178466]\n",
      " [-0.09931301]\n",
      " [-0.05456928]\n",
      " [ 0.23091393]\n",
      " [ 0.01619598]\n",
      " [ 0.15674002]\n",
      " [ 0.14362744]\n",
      " [ 0.19990225]\n",
      " [-0.05726203]\n",
      " [ 0.12634254]\n",
      " [ 0.01841783]\n",
      " [ 0.02357574]\n",
      " [ 0.33878241]\n",
      " [ 0.13592484]\n",
      " [ 0.21363311]\n",
      " [ 0.3803932 ]\n",
      " [-0.16806778]\n",
      " [-0.14413289]\n",
      " [ 0.13562676]\n",
      " [-0.02100663]\n",
      " [ 0.0924241 ]\n",
      " [ 0.06123573]\n",
      " [-0.08080674]\n",
      " [-0.25708825]\n",
      " [ 0.08401996]\n",
      " [ 0.13275037]\n",
      " [ 0.11385771]\n",
      " [-0.35634139]\n",
      " [ 0.00929087]\n",
      " [-0.05562613]\n",
      " [-0.01083472]\n",
      " [ 0.10623832]\n",
      " [ 0.16028156]\n",
      " [ 0.11124439]\n",
      " [ 0.03877746]\n",
      " [-0.44319234]\n",
      " [ 0.12232405]\n",
      " [-0.03811588]\n",
      " [ 0.23516603]\n",
      " [-0.02676037]\n",
      " [ 0.15592351]\n",
      " [-0.08619808]\n",
      " [ 0.2697694 ]\n",
      " [ 0.13836806]\n",
      " [ 0.04519562]\n",
      " [ 0.12555877]\n",
      " [ 0.02007094]\n",
      " [ 0.07190191]\n",
      " [ 0.19990297]\n",
      " [ 0.09611356]\n",
      " [-0.32196752]\n",
      " [ 0.10240893]\n",
      " [-0.06900598]\n",
      " [ 0.06787802]\n",
      " [-0.22485464]\n",
      " [-0.6267678 ]\n",
      " [ 0.27113889]\n",
      " [-0.03423666]\n",
      " [ 0.08834396]\n",
      " [-0.08831395]]\n"
     ]
    }
   ],
   "source": [
    "print(pred_test - y_test)"
   ]
  },
  {
   "cell_type": "code",
   "execution_count": 32,
   "metadata": {
    "ExecuteTime": {
     "end_time": "2019-06-30T04:34:36.314019Z",
     "start_time": "2019-06-30T04:34:36.309517Z"
    },
    "hidden": true
   },
   "outputs": [
    {
     "data": {
      "text/plain": [
       "0.1992282264565072"
      ]
     },
     "execution_count": 32,
     "metadata": {},
     "output_type": "execute_result"
    }
   ],
   "source": [
    "#RMSEを計測\n",
    "np.sqrt(mean_squared_error(y_test, pred_test))"
   ]
  },
  {
   "cell_type": "code",
   "execution_count": 33,
   "metadata": {
    "ExecuteTime": {
     "end_time": "2019-06-30T04:34:36.420754Z",
     "start_time": "2019-06-30T04:34:36.416958Z"
    },
    "hidden": true
   },
   "outputs": [
    {
     "data": {
      "text/plain": [
       "0.7331094180750903"
      ]
     },
     "execution_count": 33,
     "metadata": {},
     "output_type": "execute_result"
    }
   ],
   "source": [
    "#決定係数\n",
    "r2_score(y_test, pred_test)"
   ]
  },
  {
   "cell_type": "markdown",
   "metadata": {
    "ExecuteTime": {
     "end_time": "2019-05-30T01:36:03.010102Z",
     "start_time": "2019-05-30T01:36:02.994522Z"
    },
    "hidden": true
   },
   "source": [
    "まあまあいい感じ"
   ]
  },
  {
   "cell_type": "markdown",
   "metadata": {},
   "source": [
    "# 【問題5】MNISTのモデルを作成\n",
    "ニューラルネットワークのスクラッチで使用したMNISTを分類するモデルを作成してください。  \n",
    "\n",
    "3クラス以上の分類という点ではひとつ前のIrisと同様です。入力が画像であるという点で異なります。  \n",
    "\n",
    "スクラッチで実装したモデルの再現を目指してください。"
   ]
  },
  {
   "cell_type": "code",
   "execution_count": 34,
   "metadata": {
    "ExecuteTime": {
     "end_time": "2019-06-30T04:34:41.640593Z",
     "start_time": "2019-06-30T04:34:40.976371Z"
    }
   },
   "outputs": [
    {
     "name": "stderr",
     "output_type": "stream",
     "text": [
      "Using TensorFlow backend.\n"
     ]
    }
   ],
   "source": [
    "from keras.datasets import mnist\n",
    "(x_train, y_train), (x_test, y_test) = mnist.load_data()\n",
    "X_train = x_train.reshape(-1, 784)\n",
    "X_test = x_test.reshape(-1, 784)\n",
    "X_train = X_train.astype(np.float)\n",
    "X_test = X_test.astype(np.float)\n",
    "X_train /= 255\n",
    "X_test /= 255"
   ]
  },
  {
   "cell_type": "code",
   "execution_count": 35,
   "metadata": {
    "ExecuteTime": {
     "end_time": "2019-06-30T04:34:42.862124Z",
     "start_time": "2019-06-30T04:34:42.597062Z"
    }
   },
   "outputs": [],
   "source": [
    "from sklearn.preprocessing import OneHotEncoder\n",
    "enc = OneHotEncoder(handle_unknown='ignore', sparse=False)\n",
    "y_train_one_hot = enc.fit_transform(y_train[:, np.newaxis])\n",
    "y_test_one_hot = enc.fit_transform(y_test[:, np.newaxis])\n",
    "X_train, X_val, y_train, y_val = train_test_split(X_train,y_train_one_hot,test_size=0.25,random_state=0)"
   ]
  },
  {
   "cell_type": "code",
   "execution_count": 36,
   "metadata": {
    "ExecuteTime": {
     "end_time": "2019-06-30T04:36:39.373570Z",
     "start_time": "2019-06-30T04:34:43.585994Z"
    }
   },
   "outputs": [
    {
     "data": {
      "application/vnd.jupyter.widget-view+json": {
       "model_id": "6c6f418036f54059bcd1ec8051d07222",
       "version_major": 2,
       "version_minor": 0
      },
      "text/plain": [
       "HBox(children=(IntProgress(value=0, max=30), HTML(value='')))"
      ]
     },
     "metadata": {},
     "output_type": "display_data"
    },
    {
     "name": "stdout",
     "output_type": "stream",
     "text": [
      "Epoch 0, loss : 3.5330, val_loss : 1.2308, acc : 0.590, val_acc : 0.575\n",
      "Epoch 1, loss : 1.0770, val_loss : 1.0648, acc : 0.634, val_acc : 0.617\n",
      "Epoch 2, loss : 0.7735, val_loss : 0.6676, acc : 0.746, val_acc : 0.776\n",
      "Epoch 3, loss : 0.5573, val_loss : 0.5765, acc : 0.799, val_acc : 0.797\n",
      "Epoch 4, loss : 0.4950, val_loss : 0.5174, acc : 0.816, val_acc : 0.810\n",
      "Epoch 5, loss : 0.4418, val_loss : 0.4653, acc : 0.834, val_acc : 0.828\n",
      "Epoch 6, loss : 0.4314, val_loss : 0.4593, acc : 0.837, val_acc : 0.829\n",
      "Epoch 7, loss : 0.4219, val_loss : 0.4971, acc : 0.837, val_acc : 0.817\n",
      "Epoch 8, loss : 0.4129, val_loss : 0.4944, acc : 0.839, val_acc : 0.826\n",
      "Epoch 9, loss : 0.4129, val_loss : 0.4864, acc : 0.838, val_acc : 0.832\n",
      "Epoch 10, loss : 0.3826, val_loss : 0.3977, acc : 0.886, val_acc : 0.886\n",
      "Epoch 11, loss : 0.3557, val_loss : 0.4368, acc : 0.898, val_acc : 0.883\n",
      "Epoch 12, loss : 0.3457, val_loss : 0.4159, acc : 0.902, val_acc : 0.891\n",
      "Epoch 13, loss : 0.3388, val_loss : 0.4972, acc : 0.904, val_acc : 0.881\n",
      "Epoch 14, loss : 0.3228, val_loss : 0.4369, acc : 0.910, val_acc : 0.898\n",
      "Epoch 15, loss : 0.3183, val_loss : 0.4235, acc : 0.913, val_acc : 0.891\n",
      "Epoch 16, loss : 0.3097, val_loss : 0.4737, acc : 0.916, val_acc : 0.891\n",
      "Epoch 17, loss : 0.3038, val_loss : 0.4946, acc : 0.917, val_acc : 0.896\n",
      "Epoch 18, loss : 0.3052, val_loss : 0.4642, acc : 0.920, val_acc : 0.890\n",
      "Epoch 19, loss : 0.2966, val_loss : 0.4383, acc : 0.920, val_acc : 0.898\n",
      "Epoch 20, loss : 0.2845, val_loss : 0.4317, acc : 0.924, val_acc : 0.900\n",
      "Epoch 21, loss : 0.2898, val_loss : 0.4435, acc : 0.923, val_acc : 0.894\n",
      "Epoch 22, loss : 0.2826, val_loss : 0.4427, acc : 0.925, val_acc : 0.899\n",
      "Epoch 23, loss : 0.2716, val_loss : 0.4413, acc : 0.928, val_acc : 0.901\n",
      "Epoch 24, loss : 0.2712, val_loss : 0.4549, acc : 0.927, val_acc : 0.893\n",
      "Epoch 25, loss : 0.2781, val_loss : 0.4652, acc : 0.927, val_acc : 0.903\n",
      "Epoch 26, loss : 0.2666, val_loss : 0.4331, acc : 0.928, val_acc : 0.903\n",
      "Epoch 27, loss : 0.2709, val_loss : 0.4398, acc : 0.928, val_acc : 0.904\n",
      "Epoch 28, loss : 0.2665, val_loss : 0.4206, acc : 0.931, val_acc : 0.907\n",
      "Epoch 29, loss : 0.2650, val_loss : 0.4256, acc : 0.930, val_acc : 0.908\n",
      "\n",
      "test_acc : 0.913\n"
     ]
    }
   ],
   "source": [
    "\"\"\"\n",
    "TensorFlowで実装したニューラルネットワークを使いIrisデータセットを2値分類する\n",
    "\"\"\"\n",
    "class GetMiniBatch:\n",
    "    \"\"\"\n",
    "    ミニバッチを取得するイテレータ\n",
    "\n",
    "    Parameters\n",
    "    ----------\n",
    "    X : 次の形のndarray, shape (n_samples, n_features)\n",
    "      学習データ\n",
    "    y : 次の形のndarray, shape (n_samples, 1)\n",
    "      正解値\n",
    "    batch_size : int\n",
    "      バッチサイズ\n",
    "    seed : int\n",
    "      NumPyの乱数のシード\n",
    "    \"\"\"\n",
    "    def __init__(self, X, y, batch_size = 10, seed=0):\n",
    "        self.batch_size = batch_size\n",
    "        np.random.seed(seed)\n",
    "        shuffle_index = np.random.permutation(np.arange(X.shape[0]))\n",
    "        self.X = X[shuffle_index]\n",
    "        self.y = y[shuffle_index]\n",
    "        self._stop = np.ceil(X.shape[0]/self.batch_size).astype(np.int)\n",
    "    def __len__(self):\n",
    "        return self._stop\n",
    "    def __getitem__(self,item):\n",
    "        p0 = item*self.batch_size\n",
    "        p1 = item*self.batch_size + self.batch_size\n",
    "        return self.X[p0:p1], self.y[p0:p1]        \n",
    "    def __iter__(self):\n",
    "        self._counter = 0\n",
    "        return self\n",
    "    def __next__(self):\n",
    "        if self._counter >= self._stop:\n",
    "            raise StopIteration()\n",
    "        p0 = self._counter*self.batch_size\n",
    "        p1 = self._counter*self.batch_size + self.batch_size\n",
    "        self._counter += 1\n",
    "        return self.X[p0:p1], self.y[p0:p1]\n",
    "\n",
    "\n",
    "# ハイパーパラメータの設定\n",
    "learning_rate = 0.01\n",
    "batch_size = 10\n",
    "num_epochs = 30\n",
    "\n",
    "n_hidden1 = 50\n",
    "n_hidden2 = 100\n",
    "n_input = X_train.shape[1]\n",
    "n_classes = 10\n",
    "\n",
    "# 計算グラフに渡す引数の形を決める\n",
    "X = tf.placeholder(\"float\", [None, n_input])\n",
    "Y = tf.placeholder(\"float\", [None, n_classes])\n",
    "\n",
    "# trainのミニバッチイテレータ\n",
    "get_mini_batch_train = GetMiniBatch(X_train, y_train, batch_size=batch_size)\n",
    "n_samples = len(get_mini_batch_train)\n",
    "\n",
    "def example_net(x):\n",
    "    \"\"\"\n",
    "    単純な3層ニューラルネットワーク\n",
    "    \"\"\"\n",
    "\n",
    "    # 重みとバイアスの宣言\n",
    "    weights = {\n",
    "        'w1': tf.Variable(tf.random_normal([n_input, n_hidden1])),\n",
    "        'w2': tf.Variable(tf.random_normal([n_hidden1, n_hidden2])),\n",
    "        'w3': tf.Variable(tf.random_normal([n_hidden2, n_classes]))\n",
    "    }\n",
    "    biases = {\n",
    "        'b1': tf.Variable(tf.random_normal([n_hidden1])),\n",
    "        'b2': tf.Variable(tf.random_normal([n_hidden2])),\n",
    "        'b3': tf.Variable(tf.random_normal([n_classes]))\n",
    "    }\n",
    "\n",
    "    layer_1 = tf.add(tf.matmul(x, weights['w1']), biases['b1'])\n",
    "    layer_1 = tf.nn.relu(layer_1)\n",
    "    layer_2 = tf.add(tf.matmul(layer_1, weights['w2']), biases['b2'])\n",
    "    layer_2 = tf.nn.relu(layer_2)\n",
    "    layer_output = tf.matmul(layer_2, weights['w3']) + biases['b3'] # tf.addと+は等価である\n",
    "    return layer_output\n",
    "\n",
    "# ネットワーク構造の読み込み                               \n",
    "logits = example_net(X)\n",
    "\n",
    "# 目的関数\n",
    "entropy = tf.nn.softmax_cross_entropy_with_logits(labels=Y, logits=logits)  # クロスエントロピー\n",
    "loss_op = tf.reduce_mean(entropy)\n",
    "# 最適化手法\n",
    "optimizer = tf.train.AdamOptimizer(learning_rate=learning_rate)\n",
    "train_op = optimizer.minimize(loss_op)\n",
    "\n",
    "# 推定結果\n",
    "correct_pred = tf.equal(tf.argmax(Y, 1), tf.argmax(tf.nn.softmax(logits), 1))\n",
    "# 指標値計算\n",
    "accuracy = tf.reduce_mean(tf.cast(correct_pred, tf.float32))\n",
    "\n",
    "# variableの初期化\n",
    "init = tf.global_variables_initializer()\n",
    "\n",
    "# 計算グラフの実行\n",
    "with tf.Session() as sess:\n",
    "    sess.run(init)\n",
    "    for epoch in tqdm(range(num_epochs)):\n",
    "        # エポックごとにループ\n",
    "        total_batch = np.ceil(X_train.shape[0]/batch_size).astype(np.int)\n",
    "        total_loss = 0\n",
    "        total_acc = 0\n",
    "        for i, (mini_batch_x, mini_batch_y) in enumerate(get_mini_batch_train):\n",
    "            # ミニバッチごとにループ\n",
    "            sess.run(train_op, feed_dict={X: mini_batch_x, Y: mini_batch_y})\n",
    "            loss, acc = sess.run([loss_op, accuracy], feed_dict={X: mini_batch_x, Y: mini_batch_y})\n",
    "            total_loss += loss\n",
    "            total_acc += acc\n",
    "        total_loss /= n_samples\n",
    "        total_acc /= n_samples\n",
    "        val_loss, val_acc = sess.run([loss_op, accuracy], feed_dict={X: X_val, Y: y_val})\n",
    "        print(\"Epoch {}, loss : {:.4f}, val_loss : {:.4f}, acc : {:.3f}, val_acc : {:.3f}\".format(epoch, total_loss, val_loss, total_acc, val_acc))\n",
    "    test_acc, pred = sess.run([accuracy,correct_pred], feed_dict={X: X_test, Y: y_test_one_hot})\n",
    "    print(\"test_acc : {:.3f}\".format(test_acc))\n"
   ]
  },
  {
   "cell_type": "code",
   "execution_count": 37,
   "metadata": {
    "ExecuteTime": {
     "end_time": "2019-06-30T04:36:39.447854Z",
     "start_time": "2019-06-30T04:36:39.444794Z"
    }
   },
   "outputs": [],
   "source": [
    "error_number = y_test[np.where(pred < 1)]"
   ]
  },
  {
   "cell_type": "code",
   "execution_count": 38,
   "metadata": {
    "ExecuteTime": {
     "end_time": "2019-06-30T04:36:41.622678Z",
     "start_time": "2019-06-30T04:36:39.513185Z"
    },
    "scrolled": true
   },
   "outputs": [
    {
     "data": {
      "image/png": "[encoded data removed]",
      "text/plain": [
       "<Figure size 432x288 with 1 Axes>"
      ]
     },
     "metadata": {
      "needs_background": "light"
     },
     "output_type": "display_data"
    },
    {
     "data": {
      "image/png": "[encoded data removed]",
      "text/plain": [
       "<Figure size 432x288 with 1 Axes>"
      ]
     },
     "metadata": {
      "needs_background": "light"
     },
     "output_type": "display_data"
    },
    {
     "data": {
      "image/png": "[encoded data removed]",
      "text/plain": [
       "<Figure size 432x288 with 1 Axes>"
      ]
     },
     "metadata": {
      "needs_background": "light"
     },
     "output_type": "display_data"
    },
    {
     "data": {
      "image/png": "[encoded data removed]",
      "text/plain": [
       "<Figure size 432x288 with 1 Axes>"
      ]
     },
     "metadata": {
      "needs_background": "light"
     },
     "output_type": "display_data"
    },
    {
     "data": {
      "image/png": "[encoded data removed]",
      "text/plain": [
       "<Figure size 432x288 with 1 Axes>"
      ]
     },
     "metadata": {
      "needs_background": "light"
     },
     "output_type": "display_data"
    },
    {
     "data": {
      "image/png": "[encoded data removed]",
      "text/plain": [
       "<Figure size 432x288 with 1 Axes>"
      ]
     },
     "metadata": {
      "needs_background": "light"
     },
     "output_type": "display_data"
    },
    {
     "data": {
      "image/png": "[encoded data removed]",
      "text/plain": [
       "<Figure size 432x288 with 1 Axes>"
      ]
     },
     "metadata": {
      "needs_background": "light"
     },
     "output_type": "display_data"
    },
    {
     "data": {
      "image/png": "[encoded data removed]",
      "text/plain": [
       "<Figure size 432x288 with 1 Axes>"
      ]
     },
     "metadata": {
      "needs_background": "light"
     },
     "output_type": "display_data"
    },
    {
     "data": {
      "image/png": "[encoded data removed]",
      "text/plain": [
       "<Figure size 432x288 with 1 Axes>"
      ]
     },
     "metadata": {
      "needs_background": "light"
     },
     "output_type": "display_data"
    },
    {
     "data": {
      "image/png": "[encoded data removed]",
      "text/plain": [
       "<Figure size 432x288 with 1 Axes>"
      ]
     },
     "metadata": {
      "needs_background": "light"
     },
     "output_type": "display_data"
    },
    {
     "data": {
      "image/png": "[encoded data removed]",
      "text/plain": [
       "<Figure size 432x288 with 1 Axes>"
      ]
     },
     "metadata": {
      "needs_background": "light"
     },
     "output_type": "display_data"
    },
    {
     "data": {
      "image/png": "[encoded data removed]",
      "text/plain": [
       "<Figure size 432x288 with 1 Axes>"
      ]
     },
     "metadata": {
      "needs_background": "light"
     },
     "output_type": "display_data"
    },
    {
     "data": {
      "image/png": "[encoded data removed]",
      "text/plain": [
       "<Figure size 432x288 with 1 Axes>"
      ]
     },
     "metadata": {
      "needs_background": "light"
     },
     "output_type": "display_data"
    },
    {
     "data": {
      "image/png": "[encoded data removed]",
      "text/plain": [
       "<Figure size 432x288 with 1 Axes>"
      ]
     },
     "metadata": {
      "needs_background": "light"
     },
     "output_type": "display_data"
    },
    {
     "data": {
      "image/png": "[encoded data removed]",
      "text/plain": [
       "<Figure size 432x288 with 1 Axes>"
      ]
     },
     "metadata": {
      "needs_background": "light"
     },
     "output_type": "display_data"
    },
    {
     "data": {
      "image/png": "[encoded data removed]",
      "text/plain": [
       "<Figure size 432x288 with 1 Axes>"
      ]
     },
     "metadata": {
      "needs_background": "light"
     },
     "output_type": "display_data"
    },
    {
     "data": {
      "image/png": "[encoded data removed]",
      "text/plain": [
       "<Figure size 432x288 with 1 Axes>"
      ]
     },
     "metadata": {
      "needs_background": "light"
     },
     "output_type": "display_data"
    },
    {
     "data": {
      "image/png": "[encoded data removed]",
      "text/plain": [
       "<Figure size 432x288 with 1 Axes>"
      ]
     },
     "metadata": {
      "needs_background": "light"
     },
     "output_type": "display_data"
    },
    {
     "data": {
      "image/png": "[encoded data removed]",
      "text/plain": [
       "<Figure size 432x288 with 1 Axes>"
      ]
     },
     "metadata": {
      "needs_background": "light"
     },
     "output_type": "display_data"
    },
    {
     "data": {
      "image/png": "[encoded data removed]",
      "text/plain": [
       "<Figure size 432x288 with 1 Axes>"
      ]
     },
     "metadata": {
      "needs_background": "light"
     },
     "output_type": "display_data"
    }
   ],
   "source": [
    "import matplotlib.pyplot as plt\n",
    "%matplotlib inline\n",
    "import japanize_matplotlib\n",
    "index = np.where(pred < 1)\n",
    "for i in range(20):\n",
    "    image = X_test[index[0][i]].reshape(28,28)\n",
    "    # X_train[index]: (784,)\n",
    "    # image: (28, 28)\n",
    "    plt.imshow(image, 'gray')\n",
    "    plt.title('間違った文字達')\n",
    "    plt.show()"
   ]
  },
  {
   "cell_type": "markdown",
   "metadata": {},
   "source": [
    "まあまあ精度がいい感じ"
   ]
  }
 ],
 "metadata": {
  "kernelspec": {
   "display_name": "Python 3",
   "language": "python",
   "name": "python3"
  },
  "language_info": {
   "codemirror_mode": {
    "name": "ipython",
    "version": 3
   },
   "file_extension": ".py",
   "mimetype": "text/x-python",
   "name": "python",
   "nbconvert_exporter": "python",
   "pygments_lexer": "ipython3",
   "version": "3.7.3"
  },
  "nbTranslate": {
   "displayLangs": [
    "*"
   ],
   "hotkey": "alt-t",
   "langInMainMenu": true,
   "sourceLang": "en",
   "targetLang": "fr",
   "useGoogleTranslate": true
  },
  "varInspector": {
   "cols": {
    "lenName": 16,
    "lenType": 16,
    "lenVar": 40
   },
   "kernels_config": {
    "python": {
     "delete_cmd_postfix": "",
     "delete_cmd_prefix": "del ",
     "library": "var_list.py",
     "varRefreshCmd": "print(var_dic_list())"
    },
    "r": {
     "delete_cmd_postfix": ") ",
     "delete_cmd_prefix": "rm(",
     "library": "var_list.r",
     "varRefreshCmd": "cat(var_dic_list()) "
    }
   },
   "types_to_exclude": [
    "module",
    "function",
    "builtin_function_or_method",
    "instance",
    "_Feature"
   ],
   "window_display": false
  }
 },
 "nbformat": 4,
 "nbformat_minor": 2
}
