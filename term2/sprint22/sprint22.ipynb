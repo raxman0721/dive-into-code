{
 "cells": [
  {
   "cell_type": "markdown",
   "metadata": {},
   "source": [
    "# 【問題1】BoWとN-gram(手計算)"
   ]
  },
  {
   "cell_type": "code",
   "execution_count": 28,
   "metadata": {},
   "outputs": [],
   "source": [
    "import pandas as pd\n",
    "import numpy as np\n",
    "import re\n",
    "from janome.tokenizer import Tokenizer\n",
    "from janome.analyzer import Analyzer\n",
    "from janome.charfilter import *\n",
    "from janome.tokenfilter import *\n",
    "from sklearn.feature_extraction.text import TfidfVectorizer, TfidfTransformer, CountVectorizer\n",
    "from sklearn.datasets import load_files\n",
    "from sklearn.model_selection import train_test_split\n",
    "from tqdm import tqdm_notebook\n",
    "from __future__ import absolute_import, division, print_function, unicode_literals\n",
    "import tensorflow as tf\n",
    "from tensorflow import keras\n",
    "from nltk import word_tokenize, FreqDist\n",
    "from keras.models import Sequential, Model\n",
    "from keras.layers import Dense, Dropout, Activation, GRU, Embedding, Input\n",
    "from keras.optimizers import Adam, RMSprop\n",
    "from keras.utils import np_utils, to_categorical\n",
    "from sklearn.feature_selection import SelectKBest\n",
    "from sklearn.feature_selection import f_classif\n",
    "from tensorflow.python.keras import models\n"
   ]
  },
  {
   "cell_type": "code",
   "execution_count": 8,
   "metadata": {
    "ExecuteTime": {
     "end_time": "2019-06-22T02:54:51.677056Z",
     "start_time": "2019-06-22T02:54:51.667456Z"
    }
   },
   "outputs": [
    {
     "data": {
      "text/html": [
       "<div>\n",
       "<style scoped>\n",
       "    .dataframe tbody tr th:only-of-type {\n",
       "        vertical-align: middle;\n",
       "    }\n",
       "\n",
       "    .dataframe tbody tr th {\n",
       "        vertical-align: top;\n",
       "    }\n",
       "\n",
       "    .dataframe thead th {\n",
       "        text-align: right;\n",
       "    }\n",
       "</style>\n",
       "<table border=\"1\" class=\"dataframe\">\n",
       "  <thead>\n",
       "    <tr style=\"text-align: right;\">\n",
       "      <th></th>\n",
       "      <th>I</th>\n",
       "      <th>love</th>\n",
       "      <th>this</th>\n",
       "      <th>is</th>\n",
       "      <th>the</th>\n",
       "      <th>baseball</th>\n",
       "    </tr>\n",
       "  </thead>\n",
       "  <tbody>\n",
       "    <tr>\n",
       "      <th>I love baseball !!</th>\n",
       "      <td>1</td>\n",
       "      <td>1</td>\n",
       "      <td>0</td>\n",
       "      <td>0</td>\n",
       "      <td>0</td>\n",
       "      <td>1</td>\n",
       "    </tr>\n",
       "    <tr>\n",
       "      <th>I love this !</th>\n",
       "      <td>1</td>\n",
       "      <td>1</td>\n",
       "      <td>1</td>\n",
       "      <td>0</td>\n",
       "      <td>0</td>\n",
       "      <td>0</td>\n",
       "    </tr>\n",
       "  </tbody>\n",
       "</table>\n",
       "</div>"
      ],
      "text/plain": [
       "                    I  love  this  is  the  baseball\n",
       "I love baseball !!  1     1     0   0    0         1\n",
       "I love this !       1     1     1   0    0         0"
      ]
     },
     "execution_count": 8,
     "metadata": {},
     "output_type": "execute_result"
    }
   ],
   "source": [
    "# 例\n",
    "import pandas as pd\n",
    "\n",
    "vocabulary = [\"I\", \"love\", \"this\", \"is\", \"the\", \"baseball\"]\n",
    "ms_kk_texts = [\"I love baseball !!\", \"I love this !\"]\n",
    "texts_vec = [[1,1,0,0,0,1], [1,1,1,0,0,0]]\n",
    "\n",
    "df_bow_1gram = pd.DataFrame(data = texts_vec, columns = vocabulary, index = ms_kk_texts)\n",
    "df_bow_1gram"
   ]
  },
  {
   "cell_type": "code",
   "execution_count": 33,
   "metadata": {
    "ExecuteTime": {
     "end_time": "2019-06-22T03:27:10.578224Z",
     "start_time": "2019-06-22T03:27:10.564830Z"
    },
    "inputHidden": false,
    "outputExpanded": true,
    "tags": [
     "parameters"
    ]
   },
   "outputs": [
    {
     "data": {
      "text/html": [
       "<div>\n",
       "<style scoped>\n",
       "    .dataframe tbody tr th:only-of-type {\n",
       "        vertical-align: middle;\n",
       "    }\n",
       "\n",
       "    .dataframe tbody tr th {\n",
       "        vertical-align: top;\n",
       "    }\n",
       "\n",
       "    .dataframe thead th {\n",
       "        text-align: right;\n",
       "    }\n",
       "</style>\n",
       "<table border=\"1\" class=\"dataframe\">\n",
       "  <thead>\n",
       "    <tr style=\"text-align: right;\">\n",
       "      <th></th>\n",
       "      <th>今</th>\n",
       "      <th>撮影</th>\n",
       "      <th>中</th>\n",
       "      <th>です</th>\n",
       "      <th>休憩</th>\n",
       "      <th>ドラマ</th>\n",
       "      <th>映画</th>\n",
       "      <th>瞬</th>\n",
       "      <th>公開</th>\n",
       "      <th>今日</th>\n",
       "    </tr>\n",
       "  </thead>\n",
       "  <tbody>\n",
       "    <tr>\n",
       "      <th>今撮影中で〜す！</th>\n",
       "      <td>1</td>\n",
       "      <td>1</td>\n",
       "      <td>1</td>\n",
       "      <td>1</td>\n",
       "      <td>0</td>\n",
       "      <td>0</td>\n",
       "      <td>0</td>\n",
       "      <td>0</td>\n",
       "      <td>0</td>\n",
       "      <td>0</td>\n",
       "    </tr>\n",
       "    <tr>\n",
       "      <th>今休憩中で〜す(^^)</th>\n",
       "      <td>1</td>\n",
       "      <td>0</td>\n",
       "      <td>1</td>\n",
       "      <td>1</td>\n",
       "      <td>1</td>\n",
       "      <td>0</td>\n",
       "      <td>0</td>\n",
       "      <td>0</td>\n",
       "      <td>0</td>\n",
       "      <td>0</td>\n",
       "    </tr>\n",
       "    <tr>\n",
       "      <th>今日ドラマ撮影で〜す！</th>\n",
       "      <td>0</td>\n",
       "      <td>1</td>\n",
       "      <td>0</td>\n",
       "      <td>1</td>\n",
       "      <td>0</td>\n",
       "      <td>1</td>\n",
       "      <td>0</td>\n",
       "      <td>0</td>\n",
       "      <td>0</td>\n",
       "      <td>1</td>\n",
       "    </tr>\n",
       "    <tr>\n",
       "      <th>今日、映画瞬公開で〜す！！！</th>\n",
       "      <td>0</td>\n",
       "      <td>0</td>\n",
       "      <td>0</td>\n",
       "      <td>1</td>\n",
       "      <td>0</td>\n",
       "      <td>0</td>\n",
       "      <td>1</td>\n",
       "      <td>1</td>\n",
       "      <td>1</td>\n",
       "      <td>1</td>\n",
       "    </tr>\n",
       "  </tbody>\n",
       "</table>\n",
       "</div>"
      ],
      "text/plain": [
       "                今  撮影  中  です  休憩  ドラマ  映画  瞬  公開  今日\n",
       "今撮影中で〜す！        1   1  1   1   0    0   0  0   0   0\n",
       "今休憩中で〜す(^^)     1   0  1   1   1    0   0  0   0   0\n",
       "今日ドラマ撮影で〜す！     0   1  0   1   0    1   0  0   0   1\n",
       "今日、映画瞬公開で〜す！！！  0   0  0   1   0    0   1  1   1   1"
      ]
     },
     "execution_count": 33,
     "metadata": {},
     "output_type": "execute_result"
    }
   ],
   "source": [
    "vocabulary1 = [\"今\", \"撮影\", \"中\", \"です\", \"休憩\", \"ドラマ\", \"映画\", \"瞬\",\"公開\",\"今日\"]\n",
    "ms_kk_texts = [\"今撮影中で〜す！\", \"今休憩中で〜す(^^)\", \"今日ドラマ撮影で〜す！\", \"今日、映画瞬公開で〜す！！！\"]\n",
    "texts_vec = [[1,1,1,1,0,0,0,0,0,0], [1,0,1,1,1,0,0,0,0,0],[0,1,0,1,0,1,0,0,0,1],[0,0,0,1,0,0,1,1,1,1]]\n",
    "\n",
    "df_bow_1gram = pd.DataFrame(data = texts_vec, columns = vocabulary1, index = ms_kk_texts)\n",
    "df_bow_1gram"
   ]
  },
  {
   "cell_type": "code",
   "execution_count": 34,
   "metadata": {
    "ExecuteTime": {
     "end_time": "2019-06-22T03:27:11.291535Z",
     "start_time": "2019-06-22T03:27:11.277340Z"
    },
    "scrolled": true
   },
   "outputs": [
    {
     "data": {
      "text/html": [
       "<div>\n",
       "<style scoped>\n",
       "    .dataframe tbody tr th:only-of-type {\n",
       "        vertical-align: middle;\n",
       "    }\n",
       "\n",
       "    .dataframe tbody tr th {\n",
       "        vertical-align: top;\n",
       "    }\n",
       "\n",
       "    .dataframe thead th {\n",
       "        text-align: right;\n",
       "    }\n",
       "</style>\n",
       "<table border=\"1\" class=\"dataframe\">\n",
       "  <thead>\n",
       "    <tr style=\"text-align: right;\">\n",
       "      <th></th>\n",
       "      <th>今撮影</th>\n",
       "      <th>撮影中</th>\n",
       "      <th>中です</th>\n",
       "      <th>今休憩</th>\n",
       "      <th>休憩中</th>\n",
       "      <th>今日ドラマ</th>\n",
       "      <th>ドラマ撮影</th>\n",
       "      <th>撮影です</th>\n",
       "      <th>今日映画</th>\n",
       "      <th>映画瞬</th>\n",
       "      <th>瞬公開</th>\n",
       "      <th>公開です</th>\n",
       "    </tr>\n",
       "  </thead>\n",
       "  <tbody>\n",
       "    <tr>\n",
       "      <th>今撮影中で〜す！</th>\n",
       "      <td>1</td>\n",
       "      <td>1</td>\n",
       "      <td>1</td>\n",
       "      <td>0</td>\n",
       "      <td>0</td>\n",
       "      <td>0</td>\n",
       "      <td>0</td>\n",
       "      <td>0</td>\n",
       "      <td>0</td>\n",
       "      <td>0</td>\n",
       "      <td>0</td>\n",
       "      <td>0</td>\n",
       "    </tr>\n",
       "    <tr>\n",
       "      <th>今休憩中で〜す(^^)</th>\n",
       "      <td>0</td>\n",
       "      <td>0</td>\n",
       "      <td>1</td>\n",
       "      <td>1</td>\n",
       "      <td>1</td>\n",
       "      <td>0</td>\n",
       "      <td>0</td>\n",
       "      <td>0</td>\n",
       "      <td>0</td>\n",
       "      <td>0</td>\n",
       "      <td>0</td>\n",
       "      <td>0</td>\n",
       "    </tr>\n",
       "    <tr>\n",
       "      <th>今日ドラマ撮影で〜す！</th>\n",
       "      <td>0</td>\n",
       "      <td>0</td>\n",
       "      <td>0</td>\n",
       "      <td>0</td>\n",
       "      <td>0</td>\n",
       "      <td>1</td>\n",
       "      <td>1</td>\n",
       "      <td>1</td>\n",
       "      <td>0</td>\n",
       "      <td>0</td>\n",
       "      <td>0</td>\n",
       "      <td>0</td>\n",
       "    </tr>\n",
       "    <tr>\n",
       "      <th>今日、映画瞬公開で〜す！！！</th>\n",
       "      <td>0</td>\n",
       "      <td>0</td>\n",
       "      <td>0</td>\n",
       "      <td>0</td>\n",
       "      <td>0</td>\n",
       "      <td>0</td>\n",
       "      <td>0</td>\n",
       "      <td>0</td>\n",
       "      <td>1</td>\n",
       "      <td>1</td>\n",
       "      <td>1</td>\n",
       "      <td>1</td>\n",
       "    </tr>\n",
       "  </tbody>\n",
       "</table>\n",
       "</div>"
      ],
      "text/plain": [
       "                今撮影  撮影中  中です  今休憩  休憩中  今日ドラマ  ドラマ撮影  撮影です  今日映画  映画瞬  瞬公開  \\\n",
       "今撮影中で〜す！          1    1    1    0    0      0      0     0     0    0    0   \n",
       "今休憩中で〜す(^^)       0    0    1    1    1      0      0     0     0    0    0   \n",
       "今日ドラマ撮影で〜す！       0    0    0    0    0      1      1     1     0    0    0   \n",
       "今日、映画瞬公開で〜す！！！    0    0    0    0    0      0      0     0     1    1    1   \n",
       "\n",
       "                公開です  \n",
       "今撮影中で〜す！           0  \n",
       "今休憩中で〜す(^^)        0  \n",
       "今日ドラマ撮影で〜す！        0  \n",
       "今日、映画瞬公開で〜す！！！     1  "
      ]
     },
     "execution_count": 34,
     "metadata": {},
     "output_type": "execute_result"
    }
   ],
   "source": [
    "vocabulary2 = [\"今撮影\", \"撮影中\", \"中です\", \"今休憩\", \"休憩中\", \"今日ドラマ\",\"ドラマ撮影\",\"撮影です\", \"今日映画\",\"映画瞬\", \"瞬公開\",\"公開です\"]\n",
    "ms_kk_texts = [\"今撮影中で〜す！\", \"今休憩中で〜す(^^)\", \"今日ドラマ撮影で〜す！\", \"今日、映画瞬公開で〜す！！！\"]\n",
    "texts_vec = [[1,1,1,0,0,0,0,0,0,0,0,0], [0,0,1,1,1,0,0,0,0,0,0,0],[0,0,0,0,0,1,1,1,0,0,0,0],[0,0,0,0,0,0,0,0,1,1,1,1]]\n",
    "\n",
    "df_bow_2gram = pd.DataFrame(data = texts_vec, columns = vocabulary2, index = ms_kk_texts)\n",
    "df_bow_2gram"
   ]
  },
  {
   "cell_type": "markdown",
   "metadata": {},
   "source": [
    "# 【問題2】TF-IDF(手計算)"
   ]
  },
  {
   "cell_type": "code",
   "execution_count": 30,
   "metadata": {
    "ExecuteTime": {
     "end_time": "2019-06-22T03:25:23.197180Z",
     "start_time": "2019-06-22T03:25:23.188805Z"
    }
   },
   "outputs": [
    {
     "data": {
      "text/html": [
       "<div>\n",
       "<style scoped>\n",
       "    .dataframe tbody tr th:only-of-type {\n",
       "        vertical-align: middle;\n",
       "    }\n",
       "\n",
       "    .dataframe tbody tr th {\n",
       "        vertical-align: top;\n",
       "    }\n",
       "\n",
       "    .dataframe thead th {\n",
       "        text-align: right;\n",
       "    }\n",
       "</style>\n",
       "<table border=\"1\" class=\"dataframe\">\n",
       "  <thead>\n",
       "    <tr style=\"text-align: right;\">\n",
       "      <th></th>\n",
       "      <th>今</th>\n",
       "      <th>撮影</th>\n",
       "      <th>中</th>\n",
       "      <th>です</th>\n",
       "      <th>休憩</th>\n",
       "      <th>ドラマ</th>\n",
       "      <th>映画</th>\n",
       "      <th>瞬</th>\n",
       "      <th>公開</th>\n",
       "      <th>今日</th>\n",
       "    </tr>\n",
       "  </thead>\n",
       "  <tbody>\n",
       "    <tr>\n",
       "      <th>今撮影中で〜す！</th>\n",
       "      <td>1</td>\n",
       "      <td>1</td>\n",
       "      <td>1</td>\n",
       "      <td>1</td>\n",
       "      <td>0</td>\n",
       "      <td>0</td>\n",
       "      <td>0</td>\n",
       "      <td>0</td>\n",
       "      <td>0</td>\n",
       "      <td>0</td>\n",
       "    </tr>\n",
       "    <tr>\n",
       "      <th>今休憩中で〜す(^^)</th>\n",
       "      <td>1</td>\n",
       "      <td>0</td>\n",
       "      <td>1</td>\n",
       "      <td>1</td>\n",
       "      <td>1</td>\n",
       "      <td>0</td>\n",
       "      <td>0</td>\n",
       "      <td>0</td>\n",
       "      <td>0</td>\n",
       "      <td>0</td>\n",
       "    </tr>\n",
       "    <tr>\n",
       "      <th>今日ドラマ撮影で〜す！</th>\n",
       "      <td>0</td>\n",
       "      <td>1</td>\n",
       "      <td>0</td>\n",
       "      <td>1</td>\n",
       "      <td>0</td>\n",
       "      <td>1</td>\n",
       "      <td>0</td>\n",
       "      <td>0</td>\n",
       "      <td>0</td>\n",
       "      <td>1</td>\n",
       "    </tr>\n",
       "    <tr>\n",
       "      <th>今日、映画瞬公開で〜す！！！</th>\n",
       "      <td>0</td>\n",
       "      <td>0</td>\n",
       "      <td>0</td>\n",
       "      <td>1</td>\n",
       "      <td>0</td>\n",
       "      <td>0</td>\n",
       "      <td>1</td>\n",
       "      <td>1</td>\n",
       "      <td>1</td>\n",
       "      <td>1</td>\n",
       "    </tr>\n",
       "  </tbody>\n",
       "</table>\n",
       "</div>"
      ],
      "text/plain": [
       "                今  撮影  中  です  休憩  ドラマ  映画  瞬  公開  今日\n",
       "今撮影中で〜す！        1   1  1   1   0    0   0  0   0   0\n",
       "今休憩中で〜す(^^)     1   0  1   1   1    0   0  0   0   0\n",
       "今日ドラマ撮影で〜す！     0   1  0   1   0    1   0  0   0   1\n",
       "今日、映画瞬公開で〜す！！！  0   0  0   1   0    0   1  1   1   1"
      ]
     },
     "execution_count": 30,
     "metadata": {},
     "output_type": "execute_result"
    }
   ],
   "source": [
    "df_bow_1gram"
   ]
  },
  {
   "cell_type": "code",
   "execution_count": 38,
   "metadata": {
    "ExecuteTime": {
     "end_time": "2019-06-22T03:28:29.202146Z",
     "start_time": "2019-06-22T03:28:29.183124Z"
    }
   },
   "outputs": [
    {
     "data": {
      "text/html": [
       "<div>\n",
       "<style scoped>\n",
       "    .dataframe tbody tr th:only-of-type {\n",
       "        vertical-align: middle;\n",
       "    }\n",
       "\n",
       "    .dataframe tbody tr th {\n",
       "        vertical-align: top;\n",
       "    }\n",
       "\n",
       "    .dataframe thead th {\n",
       "        text-align: right;\n",
       "    }\n",
       "</style>\n",
       "<table border=\"1\" class=\"dataframe\">\n",
       "  <thead>\n",
       "    <tr style=\"text-align: right;\">\n",
       "      <th></th>\n",
       "      <th>今</th>\n",
       "      <th>撮影</th>\n",
       "      <th>中</th>\n",
       "      <th>です</th>\n",
       "      <th>休憩</th>\n",
       "      <th>ドラマ</th>\n",
       "      <th>映画</th>\n",
       "      <th>瞬</th>\n",
       "      <th>公開</th>\n",
       "      <th>今日</th>\n",
       "    </tr>\n",
       "  </thead>\n",
       "  <tbody>\n",
       "    <tr>\n",
       "      <th>今撮影中で〜す！</th>\n",
       "      <td>0.25</td>\n",
       "      <td>0.25</td>\n",
       "      <td>0.25</td>\n",
       "      <td>0.0</td>\n",
       "      <td>0.0</td>\n",
       "      <td>0.0</td>\n",
       "      <td>0.0</td>\n",
       "      <td>0.0</td>\n",
       "      <td>0.0</td>\n",
       "      <td>0.00</td>\n",
       "    </tr>\n",
       "    <tr>\n",
       "      <th>今休憩中で〜す(^^)</th>\n",
       "      <td>0.25</td>\n",
       "      <td>0.00</td>\n",
       "      <td>0.25</td>\n",
       "      <td>0.0</td>\n",
       "      <td>0.5</td>\n",
       "      <td>0.0</td>\n",
       "      <td>0.0</td>\n",
       "      <td>0.0</td>\n",
       "      <td>0.0</td>\n",
       "      <td>0.00</td>\n",
       "    </tr>\n",
       "    <tr>\n",
       "      <th>今日ドラマ撮影で〜す！</th>\n",
       "      <td>0.00</td>\n",
       "      <td>0.25</td>\n",
       "      <td>0.00</td>\n",
       "      <td>0.0</td>\n",
       "      <td>0.0</td>\n",
       "      <td>0.5</td>\n",
       "      <td>0.0</td>\n",
       "      <td>0.0</td>\n",
       "      <td>0.0</td>\n",
       "      <td>0.25</td>\n",
       "    </tr>\n",
       "    <tr>\n",
       "      <th>今日、映画瞬公開で〜す！！！</th>\n",
       "      <td>0.00</td>\n",
       "      <td>0.00</td>\n",
       "      <td>0.00</td>\n",
       "      <td>0.0</td>\n",
       "      <td>0.0</td>\n",
       "      <td>0.0</td>\n",
       "      <td>0.4</td>\n",
       "      <td>0.4</td>\n",
       "      <td>0.4</td>\n",
       "      <td>0.20</td>\n",
       "    </tr>\n",
       "  </tbody>\n",
       "</table>\n",
       "</div>"
      ],
      "text/plain": [
       "                   今    撮影     中   です   休憩  ドラマ   映画    瞬   公開    今日\n",
       "今撮影中で〜す！        0.25  0.25  0.25  0.0  0.0  0.0  0.0  0.0  0.0  0.00\n",
       "今休憩中で〜す(^^)     0.25  0.00  0.25  0.0  0.5  0.0  0.0  0.0  0.0  0.00\n",
       "今日ドラマ撮影で〜す！     0.00  0.25  0.00  0.0  0.0  0.5  0.0  0.0  0.0  0.25\n",
       "今日、映画瞬公開で〜す！！！  0.00  0.00  0.00  0.0  0.0  0.0  0.4  0.4  0.4  0.20"
      ]
     },
     "execution_count": 38,
     "metadata": {},
     "output_type": "execute_result"
    }
   ],
   "source": [
    "tf_arr = df_bow_1gram.values / df_bow_1gram.sum(axis=1).values.reshape(-1,1)\n",
    "idf_arr = np.log2(len(df_bow_1gram) / df_bow_1gram.sum(axis=0)).values\n",
    "tf_idf_df = pd.DataFrame(tf_arr * idf_arr, index=ms_kk_texts, columns=vocabulary1)\n",
    "tf_idf_df"
   ]
  },
  {
   "cell_type": "markdown",
   "metadata": {
    "ExecuteTime": {
     "end_time": "2019-06-22T03:28:21.924891Z",
     "start_time": "2019-06-22T03:28:21.920663Z"
    }
   },
   "source": [
    "# 【問題3】テキストクリーニング(プログラミング)"
   ]
  },
  {
   "cell_type": "markdown",
   "metadata": {
    "ExecuteTime": {
     "end_time": "2019-06-22T04:11:45.291646Z",
     "start_time": "2019-06-22T04:11:45.288472Z"
    }
   },
   "source": [
    "```<!everyone> *【スペシャル特典】有償のRubyMineやPyCharmの `6ヶ月間100%OFFクーポン` をご希望者の方先着100名様に贈呈いたします！*\\n\\nこの度、RubyMineやPyCharmのメーカーであるJetBrains社へのクーポンコードの提供交渉が実り、100クーポンをいただくことができました。\\n\\n```\\nRubyMine\\n<https://www.jetbrains.com/ruby/>\\n\\nPyCharm\\n<https://www.jetbrains.com/pycharm/>\\n```\\n\\n「ご希望の方は、手を挙げて！」方式で、ご希望の方はこの投稿の手あげスタンプをクリックしてください。\\n\\n期限は、 *`2019年3月20日（水）22:00まで`* とさせていただきます。\\nふるってのご希望をお待ちしております！ :smile:```"
   ]
  },
  {
   "cell_type": "markdown",
   "metadata": {},
   "source": [
    "【問】\n",
    "このテキストに以下の処理を施してください。\n",
    "\n",
    "urlを削除\n",
    "【〇〇】を削除\n",
    "改行等の特殊文字を削除\n",
    "絵文字除去"
   ]
  },
  {
   "cell_type": "code",
   "execution_count": 92,
   "metadata": {
    "ExecuteTime": {
     "end_time": "2019-06-22T06:42:44.625667Z",
     "start_time": "2019-06-22T06:42:44.620131Z"
    }
   },
   "outputs": [
    {
     "data": {
      "text/plain": [
       "'有償のRubyMineやPyCharmの6ヶ月間100%OFFクーポンをご希望者の方先着100名様に贈呈いたします！この度、RubyMineやPyCharmのメーカーであるJetBrains社へのクーポンコードの提供交渉が実り、100クーポンをいただくことができました。RubyMinePyCharm「ご希望の方は、手を挙げて！」方式で、ご希望の方はこの投稿の手あげスタンプをクリックしてください。期限は、2019年3月20日（水）22:00までとさせていただきます。ふるってのご希望をお待ちしております！'"
      ]
     },
     "execution_count": 92,
     "metadata": {},
     "output_type": "execute_result"
    }
   ],
   "source": [
    "# 正規表現操作のライブラリ\n",
    "import re\n",
    "# 対象テキストデータ\n",
    "text = '''\n",
    "<!everyone> *【スペシャル特典】有償のRubyMineやPyCharmの`6ヶ月間100%OFFクーポン` \n",
    "をご希望者の方先着100名様に贈呈いたします！*\\n\\n\n",
    "この度、RubyMineやPyCharmのメーカーであるJetBrains社へのクーポンコードの提供交渉が実り、\n",
    "100クーポンをいただくことができました。\\n\\n```\\nRubyMine\\n<https://www.jetbrains.com/ruby/>\\n\\n\n",
    "PyCharm\\n<https://www.jetbrains.com/pycharm/>\\n```\\n\\n「ご希望の方は、手を挙げて！」方式で、ご希望の方は\n",
    "この投稿の手あげスタンプをクリックしてください。\\n\\n期限は、 *`2019年3月20日（水）22:00まで`* とさせていただきます。\\n\n",
    "ふるってのご希望をお待ちしております！ :smile:\n",
    "'''\n",
    "\n",
    "# 正規表現一覧\n",
    "symbol_reg = r'[\\n*` ]+'\n",
    "mention_reg = r'<.*?>'\n",
    "phraze_reg = r'【.*?】'\n",
    "command_reg = r':[^0-9０-９]+:'\n",
    "\n",
    "reg_str = f'{symbol_reg}|{mention_reg}|{phraze_reg}|{command_reg}'\n",
    "reg_str = re.compile(reg_str)\n",
    "re.sub(reg_str,'',text)"
   ]
  },
  {
   "cell_type": "markdown",
   "metadata": {},
   "source": [
    "# 【問題4】形態素解析"
   ]
  },
  {
   "cell_type": "markdown",
   "metadata": {},
   "source": [
    "上記のクリーニングしたテキストをJanomeを用いて形態素解析をし、\n",
    "名詞または動詞の単語を抜き出してください。"
   ]
  },
  {
   "cell_type": "code",
   "execution_count": 114,
   "metadata": {
    "ExecuteTime": {
     "end_time": "2019-06-23T07:53:12.090393Z",
     "start_time": "2019-06-23T07:53:12.021216Z"
    },
    "scrolled": false
   },
   "outputs": [],
   "source": [
    "from janome.tokenizer import Tokenizer\n",
    "t = Tokenizer()\n",
    "token_list = []\n",
    "for token in t.tokenize(re.sub(reg_str,'',text)):\n",
    "    if token.part_of_speech.split(',')[0] == ('名詞' or '動詞'):\n",
    "        token_list.append(token.surface)"
   ]
  },
  {
   "cell_type": "code",
   "execution_count": 116,
   "metadata": {
    "ExecuteTime": {
     "end_time": "2019-06-23T07:53:15.456313Z",
     "start_time": "2019-06-23T07:53:15.452586Z"
    }
   },
   "outputs": [
    {
     "name": "stdout",
     "output_type": "stream",
     "text": [
      "['有償', 'RubyMine', 'PyCharm', '6', 'ヶ月', '間', '100', '%', 'OFF', 'クーポン', '希望', '者', '方', '先着', '100', '名', '様', '贈呈', '度', 'RubyMine', 'PyCharm', 'メーカー', 'JetBrains', '社', 'クーポン', 'コード', '提供', '交渉', '100', 'クーポン', 'こと', 'RubyMinePyCharm', '希望', '方', '手', '方式', '希望', '方', '投稿', '手', 'スタンプ', 'クリック', '期限', '2019', '年', '3', '月', '20', '日', '水', '22', ':', '00', '希望', 'お待ち']\n"
     ]
    }
   ],
   "source": [
    "print(token_list)"
   ]
  },
  {
   "cell_type": "markdown",
   "metadata": {},
   "source": [
    "# 【問題5】ニュースの分析"
   ]
  },
  {
   "cell_type": "markdown",
   "metadata": {},
   "source": [
    "**目的**  \n",
    "  \n",
    "日本語の自然言語処理の体験  \n",
    "類似度の理解\n",
    "\n",
    "- まずどんなニュースなのか読んでみる\n",
    "- 出現単語をカウントして分析する\n",
    "- テキストをクリーニングする\n",
    "- BoW + TFIDFでベクトル化する\n",
    "- あるニュースに一番cos類似度が近いニュースを出力する関数の作成\n",
    "- 別の類似度手法を1つ調べて上の関数に組み込む(切り替えられるようにする)\n",
    "- なぜそのような結果になったのか考察する"
   ]
  },
  {
   "cell_type": "code",
   "execution_count": 1,
   "metadata": {
    "ExecuteTime": {
     "end_time": "2019-06-23T23:05:01.197015Z",
     "start_time": "2019-06-23T23:05:00.834897Z"
    }
   },
   "outputs": [
    {
     "name": "stdout",
     "output_type": "stream",
     "text": [
      "--2019-07-30 12:11:02--  https://www.rondhuit.com/download/ldcc-20140209.tar.gz\n",
      "Resolving www.rondhuit.com (www.rondhuit.com)... 59.106.19.174\n",
      "Connecting to www.rondhuit.com (www.rondhuit.com)|59.106.19.174|:443... connected.\n",
      "HTTP request sent, awaiting response... 200 OK\n",
      "Length: 8855190 (8.4M) [application/x-gzip]\n",
      "Saving to: ‘ldcc-20140209.tar.gz’\n",
      "\n",
      "ldcc-20140209.tar.g 100%[===================>]   8.44M  4.50MB/s    in 1.9s    \n",
      "\n",
      "2019-07-30 12:11:05 (4.50 MB/s) - ‘ldcc-20140209.tar.gz’ saved [8855190/8855190]\n",
      "\n",
      "livedoor ニュースコーパス\n",
      "\n",
      "\n",
      "概要\n",
      "-----------------\n",
      "本コーパスは、NHN Japan株式会社が運営する「livedoor ニュース」のうち、下記のクリエイティブ・コモンズ\n",
      "ライセンスが適用されるニュース記事を収集し、可能な限りHTMLタグを取り除いて作成したものです。\n",
      "\n",
      "- トピックニュース\n",
      "  http://news.livedoor.com/category/vender/news/\n",
      "- Sports Watch\n",
      "  http://news.livedoor.com/category/vender/208/\n",
      "- ITライフハック\n",
      "  http://news.livedoor.com/category/vender/223/\n",
      "- 家電チャンネル\n",
      "  http://news.livedoor.com/category/vender/kadench/\n",
      "- MOVIE ENTER\n",
      "  http://news.livedoor.com/category/vender/movie_enter/\n",
      "- 独女通信\n",
      "  http://news.livedoor.com/category/vender/90/\n",
      "- エスマックス\n",
      "  http://news.livedoor.com/category/vender/smax/\n",
      "- livedoor HOMME\n",
      "  http://news.livedoor.com/category/vender/homme/\n",
      "- Peachy\n",
      "  http://news.livedoor.com/category/vender/ldgirls/\n",
      "\n",
      "収集時期：2012年9月上旬\n",
      "\n",
      "\n",
      "ライセンス\n",
      "-----------------\n",
      "各記事ファイルにはクリエイティブ・コモンズライセンス「表示 - 改変禁止」\n",
      "（http://creativecommons.org/licenses/by-nd/2.1/jp/）が適用されます。\n",
      "クレジット表示についてはニュースカテゴリにより異なるため、サブディレクトリにある\n",
      "それぞれの LICENSE.txt をご覧ください。\n",
      "\n",
      "livedoor はNHN Japan株式会社の登録商標です。\n",
      "\n",
      "\n",
      "記事ファイルのフォーマット\n",
      "-----------------\n",
      "記事ファイルは以下のフォーマットにしたがって作成されています：\n",
      "\n",
      "１行目：記事のURL\n",
      "２行目：記事の日付\n",
      "３行目：記事のタイトル\n",
      "４行目以降：記事の本文\n",
      "\n",
      "\n",
      "管理者／連絡先\n",
      "-----------------\n",
      "本コーパスに関するお問い合わせは、記事を収集した下記会社宛にお願いいたします：\n",
      "\n",
      "株式会社ロンウイット\n",
      "http://www.rondhuit.com/\n",
      "メール：sales@rondhuit.com\n",
      "\n",
      "\n",
      "謝辞\n",
      "-----------------\n",
      "「livedoor ニュース」の一部をクリエイティブ・コモンズライセンスのもと公開してくださいました\n",
      "NHN Japan株式会社様に感謝いたします。\n"
     ]
    }
   ],
   "source": [
    "# livedoorのnewsをダウンロード\n",
    "!wget https://www.rondhuit.com/download/ldcc-20140209.tar.gz\n",
    "# 圧縮ファイルを解凍\n",
    "!tar zxf ldcc-20140209.tar.gz\n",
    "# livedoorニュースの説明を表示\n",
    "!cat text/README.txt"
   ]
  },
  {
   "cell_type": "code",
   "execution_count": 62,
   "metadata": {
    "ExecuteTime": {
     "end_time": "2019-07-16T05:36:28.694853Z",
     "start_time": "2019-07-16T05:36:25.891591Z"
    }
   },
   "outputs": [],
   "source": [
    "# サブフォルダまで賢く読み込んでもらう\n",
    "from sklearn.datasets import load_files\n",
    "# encodingをutf-8指定して読み込み\n",
    "bin_data = load_files('./text', encoding='utf-8')\n",
    "documents = bin_data.data\n",
    "# 今回はラベルが無いと仮定してください\n",
    "# targets = bin_data.target"
   ]
  },
  {
   "cell_type": "markdown",
   "metadata": {},
   "source": [
    "とりあえずどんなデータか読んで見る。"
   ]
  },
  {
   "cell_type": "code",
   "execution_count": 67,
   "metadata": {},
   "outputs": [],
   "source": [
    "# textを抽出する\n",
    "news_text = \"\""
   ]
  },
  {
   "cell_type": "code",
   "execution_count": 68,
   "metadata": {},
   "outputs": [],
   "source": [
    "for i in range(len(documents)):\n",
    "    news_text += documents[i]"
   ]
  },
  {
   "cell_type": "code",
   "execution_count": 69,
   "metadata": {
    "ExecuteTime": {
     "end_time": "2019-07-16T05:36:43.493875Z",
     "start_time": "2019-07-16T05:36:43.432013Z"
    },
    "scrolled": true
   },
   "outputs": [
    {
     "data": {
      "text/plain": [
       "['http://news.livedoor.com/article/detail/4931238/\\n2010-08-08T10:00:00+0900\\nNY名物イベントが日本でも！名店グルメを気軽に楽しむ\\nニューヨークで20年続いている食の祭典「レストラン・ウィーク」。その日本版がダイナーズクラブ特別協賛のもと7月30日よりスタート。8月31日までの期間中、青山・六本木、丸の内、銀座、横浜のエリアから、ラグジュアリーレストラン81店舗がこのイベントのために特別用意したランチメニュー2010円（税・サ別）、ディナー5000円（税・サ別）を気軽に楽しめる、とっておきのイベントです。\\n\\u3000\\n\\u3000実行委員長には、学校法人服部学園、服部栄養専門学校 理事長・校長であり医学博士でもある服部幸應氏を迎え、実行委員に石田純一さん、LA BETTOLAオーナーシェフ落合務氏、フードアナリスト協会会長、高賀右近氏、つきぢ田村三代目、田村隆氏に、そして放送作家・脚本家の小山薫堂さんなど、食のスペシャリストたちが勢揃い。\\n\\n参加レストランには、ミシュランのフランス版、東京版ともに星を獲得している吉野建シェフの「レストラン タテル ヨシノ 汐留」や、日本料理の名門「つきぢ田村」、「金田中 庵」、「赤坂璃宮」に「mikuni MARUNOUCHI」など、日本を代表するレストランがずらり。\\n\\u3000イベント期間の〜8月19日までは、特別協賛のダイナーズクラブカード会員、またはシティバンクに口座を持つシティゴールドメンバーが楽しめる先行期間となりますが、その後は誰でも参加できるので、日程のチェックは必須。\\n\\n\\u3000予約方法は必ず事前に、各店舗に問合せを行い「ジャパンレストラン・ウィーク2010」での予約であることを伝えればOK！憧れていたレストランの料理をリーズナブルにいただけるチャンスです！極上の味とラグジュアリーな空間を満喫。そんな幸せを実感できる「ジャパンレストラン・ウィーク2010」にぜひ参加しててみてはいかがですか？\\n\\nJAPAN RESTAURANT WEEK 2010 -公式サイト\\n',\n",
       " 'http://news.livedoor.com/article/detail/6655079/\\n2012-06-13T19:25:00+0900\\n小沢一郎氏の妻が支援者に離婚を報告。「週刊文春」報じる\\n13日、Web版「週刊文春」は、民主党の元代表・小沢一郎氏の妻が、支援者宛に離婚したことを伝える手紙を送ったと報じ、ツイッターやネット掲示板で大きな話題になっている。\\n\\n記事によると、その手紙は「小沢は放射能が怖くて秘書と一緒に逃げだしました」「隠し子が発覚した際、小沢元代表は和子夫人に謝るどころか、『いつでも離婚してやる』と言い放ち、和子夫人は一時は自殺まで考えた」という小沢氏の支持者にとってはショッキングな内容となっている。\\n\\nツイッターやネット掲示板では、「これが小沢一郎の本性か」「こりゃすごいな。てか、がっかりだなあ」などと、手紙の内容に驚く声が相次ぎ、その他にも「小沢潰しですかね?」「元秘書が交番で暴れて逮捕された件といい、小沢氏を潰したい何者かによる工作活動では?」といった声が挙がっていた。\\n\\n【関連情報】\\n・小沢一郎夫人が支援者に「離婚しました」（週刊文春）\\n']"
      ]
     },
     "execution_count": 69,
     "metadata": {},
     "output_type": "execute_result"
    }
   ],
   "source": [
    "documents[:2]"
   ]
  },
  {
   "cell_type": "code",
   "execution_count": 64,
   "metadata": {},
   "outputs": [],
   "source": [
    "from janome.tokenizer import Tokenizer\n",
    "import collections\n",
    "\n",
    "t = Tokenizer()"
   ]
  },
  {
   "cell_type": "code",
   "execution_count": 70,
   "metadata": {},
   "outputs": [],
   "source": [
    "# 単語をカウントする\n",
    "c = collections.Counter(t.tokenize(news_text, wakati=True))"
   ]
  },
  {
   "cell_type": "code",
   "execution_count": 71,
   "metadata": {},
   "outputs": [
    {
     "name": "stdout",
     "output_type": "stream",
     "text": [
      "[('の', 207059), ('、', 206233), ('。', 136138), ('に', 131630), ('を', 126780), ('が', 116333), ('は', 112063), ('て', 101450), ('で', 84560), ('た', 83900), ('\\n', 83135), (' ', 79600), ('と', 76650), ('「', 63160), ('」', 62505), ('し', 62486), ('\\n\\n', 51576), ('も', 47548), ('・', 41657), ('な', 36142)]\n"
     ]
    }
   ],
   "source": [
    "# 出現頻度が高い順に表示\n",
    "mc = c.most_common()\n",
    "print(mc[:20])"
   ]
  },
  {
   "cell_type": "markdown",
   "metadata": {},
   "source": [
    "- （予想通りではあるが）助詞や改行文字の出現頻度が高い。"
   ]
  },
  {
   "cell_type": "code",
   "execution_count": 72,
   "metadata": {},
   "outputs": [],
   "source": [
    "# URLを削除\n",
    "regex_1 = re.compile(r\"http(s)?://([\\w-]+\\.)+[\\w-]+(/[\\w ./?%&=]*)?\")\n",
    "\n",
    "# \\\\n\\\\u3000\n",
    "regex_3 = re.compile(\"\\\\n(?:\\\\u3000)?\")\n",
    "\n",
    "# 時刻\n",
    "regex_2 = re.compile(r\"201(?:\\d-\\d-\\d\\S\\d\\d:\\d\\d|\\d-\\d\\d-\\d\\d\\S\\d\\d:\\d\\d):\\d\\d\\+0900\")\n",
    "\n",
    "# 正規表現まとめ\n",
    "regexes = [regex_1, regex_2, regex_3]"
   ]
  },
  {
   "cell_type": "code",
   "execution_count": 73,
   "metadata": {},
   "outputs": [],
   "source": [
    "# テキストクリーニング後のテキスト\n",
    "re_documents = []\n",
    "\n",
    "for i in range(len(documents)):\n",
    "    tmp = documents[i]\n",
    "    tmp = regex_1.sub(\"\", tmp)\n",
    "    tmp = regex_2.sub(\"\", tmp)\n",
    "    tmp = regex_3.sub(\"\", tmp)\n",
    "    re_documents.append(tmp)"
   ]
  },
  {
   "cell_type": "code",
   "execution_count": 74,
   "metadata": {},
   "outputs": [
    {
     "data": {
      "text/plain": [
       "['NY名物イベントが日本でも！名店グルメを気軽に楽しむニューヨークで20年続いている食の祭典「レストラン・ウィーク」。その日本版がダイナーズクラブ特別協賛のもと7月30日よりスタート。8月31日までの期間中、青山・六本木、丸の内、銀座、横浜のエリアから、ラグジュアリーレストラン81店舗がこのイベントのために特別用意したランチメニュー2010円（税・サ別）、ディナー5000円（税・サ別）を気軽に楽しめる、とっておきのイベントです。実行委員長には、学校法人服部学園、服部栄養専門学校 理事長・校長であり医学博士でもある服部幸應氏を迎え、実行委員に石田純一さん、LA BETTOLAオーナーシェフ落合務氏、フードアナリスト協会会長、高賀右近氏、つきぢ田村三代目、田村隆氏に、そして放送作家・脚本家の小山薫堂さんなど、食のスペシャリストたちが勢揃い。参加レストランには、ミシュランのフランス版、東京版ともに星を獲得している吉野建シェフの「レストラン タテル ヨシノ 汐留」や、日本料理の名門「つきぢ田村」、「金田中 庵」、「赤坂璃宮」に「mikuni MARUNOUCHI」など、日本を代表するレストランがずらり。イベント期間の〜8月19日までは、特別協賛のダイナーズクラブカード会員、またはシティバンクに口座を持つシティゴールドメンバーが楽しめる先行期間となりますが、その後は誰でも参加できるので、日程のチェックは必須。予約方法は必ず事前に、各店舗に問合せを行い「ジャパンレストラン・ウィーク2010」での予約であることを伝えればOK！憧れていたレストランの料理をリーズナブルにいただけるチャンスです！極上の味とラグジュアリーな空間を満喫。そんな幸せを実感できる「ジャパンレストラン・ウィーク2010」にぜひ参加しててみてはいかがですか？JAPAN RESTAURANT WEEK 2010 -公式サイト',\n",
       " '小沢一郎氏の妻が支援者に離婚を報告。「週刊文春」報じる13日、Web版「週刊文春」は、民主党の元代表・小沢一郎氏の妻が、支援者宛に離婚したことを伝える手紙を送ったと報じ、ツイッターやネット掲示板で大きな話題になっている。記事によると、その手紙は「小沢は放射能が怖くて秘書と一緒に逃げだしました」「隠し子が発覚した際、小沢元代表は和子夫人に謝るどころか、『いつでも離婚してやる』と言い放ち、和子夫人は一時は自殺まで考えた」という小沢氏の支持者にとってはショッキングな内容となっている。ツイッターやネット掲示板では、「これが小沢一郎の本性か」「こりゃすごいな。てか、がっかりだなあ」などと、手紙の内容に驚く声が相次ぎ、その他にも「小沢潰しですかね?」「元秘書が交番で暴れて逮捕された件といい、小沢氏を潰したい何者かによる工作活動では?」といった声が挙がっていた。【関連情報】・小沢一郎夫人が支援者に「離婚しました」（週刊文春）',\n",
       " '【Sports Watch】田中＆里田の交際、アプローチは里田からグラビアアイドル・ほしのあき＆騎手・三浦皇成がお互いのブログで交際を認めた日、東北楽天ゴールデンイーグルスのエース・田中将大とタレント・里田まいの交際もまた公のものとなったが、本日30日（火）発売の「週刊アサヒ芸能」（12.9号）では、「マー君を“ナンパ”した里田」との見出しで、両者の交際にまつわる関係者の証言を紹介した。同誌にコメントを寄せた芸能デスクによると、「周囲の事情はさておき、当人たちが盛り上がっているのは確か。結婚も完全に視野に入れているようで、すでに新居を探しているとの話まである」という。また、二人の交際は里田からのアプローチによるものとのことで、前出の芸能デスクは、「2人は昨年末の番組共演時に、里田から猛アタック。『一緒に食事でも』と誘い、春頃にはつきあい始めた。里田は仲のいいスザンヌ（24）、木下優樹菜（22）には、早くから相談していたし、周囲にも浮かれてしゃべりまくっていた。次世代エースをゲットしたわけですから、賞味期限切れ間近の里田にすれば、してやったりでしょう」とも語っている。ちなみに、同じく同誌にコメントする球団関係者は、「高校時代は同じ高校の女子生徒と在学中の3年間、ずっとつきあっていましたね。基本はオクテ。プロ入り後にキャバクラなども覚えましたが、まぁ、モテるタイプではないし、女あしらいも不慣れ。高校時代はかなりワガママで、元カノは苦労が絶えなかったと聞いています。同年代の女より、里田のような姉さんタイプのほうが勝負の世界では向いているケースも多いですからね」と明かしており、この交際も田中にとっては“吉”とした。・週刊アサヒ芸能 ［ライト版］＜デジタル＞（PC版）・週刊アサヒ芸能（モバイル版）']"
      ]
     },
     "execution_count": 74,
     "metadata": {},
     "output_type": "execute_result"
    }
   ],
   "source": [
    "re_documents[:3]"
   ]
  },
  {
   "cell_type": "code",
   "execution_count": 75,
   "metadata": {},
   "outputs": [],
   "source": [
    "from sklearn.feature_extraction.text import CountVectorizer as CV\n",
    "from sklearn.feature_extraction.text import TfidfVectorizer as TV"
   ]
  },
  {
   "cell_type": "code",
   "execution_count": 76,
   "metadata": {},
   "outputs": [],
   "source": [
    "# 200本に1本\n",
    "cv = CV(min_df=0.001)"
   ]
  },
  {
   "cell_type": "code",
   "execution_count": 77,
   "metadata": {},
   "outputs": [],
   "source": [
    "matrix = cv.fit_transform(re_documents)"
   ]
  },
  {
   "cell_type": "code",
   "execution_count": 78,
   "metadata": {},
   "outputs": [
    {
     "data": {
      "text/plain": [
       "(7376, 5244)"
      ]
     },
     "execution_count": 78,
     "metadata": {},
     "output_type": "execute_result"
    }
   ],
   "source": [
    "matrix.shape"
   ]
  },
  {
   "cell_type": "code",
   "execution_count": 79,
   "metadata": {},
   "outputs": [],
   "source": [
    "X1 = matrix.toarray()"
   ]
  },
  {
   "cell_type": "code",
   "execution_count": 80,
   "metadata": {},
   "outputs": [
    {
     "data": {
      "text/plain": [
       "(7376, 5244)"
      ]
     },
     "execution_count": 80,
     "metadata": {},
     "output_type": "execute_result"
    }
   ],
   "source": [
    "X1.shape"
   ]
  },
  {
   "cell_type": "code",
   "execution_count": 81,
   "metadata": {},
   "outputs": [],
   "source": [
    "tv = TV(min_df=0.001)"
   ]
  },
  {
   "cell_type": "code",
   "execution_count": 82,
   "metadata": {},
   "outputs": [],
   "source": [
    "tfidf = tv.fit_transform(re_documents)"
   ]
  },
  {
   "cell_type": "code",
   "execution_count": 83,
   "metadata": {},
   "outputs": [
    {
     "data": {
      "text/plain": [
       "(7376, 5244)"
      ]
     },
     "execution_count": 83,
     "metadata": {},
     "output_type": "execute_result"
    }
   ],
   "source": [
    "X2 = matrix.toarray()\n",
    "X2.shape"
   ]
  },
  {
   "cell_type": "markdown",
   "metadata": {},
   "source": [
    "**あるニュースに一番cos類似度が近いニュースを出力する関数の作成**"
   ]
  },
  {
   "cell_type": "code",
   "execution_count": 85,
   "metadata": {},
   "outputs": [],
   "source": [
    "from sklearn.metrics.pairwise import cosine_similarity\n",
    "cos = cosine_similarity(X1, X1)"
   ]
  },
  {
   "cell_type": "code",
   "execution_count": 86,
   "metadata": {},
   "outputs": [
    {
     "data": {
      "text/plain": [
       "3032"
      ]
     },
     "execution_count": 86,
     "metadata": {},
     "output_type": "execute_result"
    }
   ],
   "source": [
    "cos[0].argsort()[-2]"
   ]
  },
  {
   "cell_type": "code",
   "execution_count": 102,
   "metadata": {},
   "outputs": [],
   "source": [
    "import Levenshtein"
   ]
  },
  {
   "cell_type": "code",
   "execution_count": 89,
   "metadata": {},
   "outputs": [],
   "source": [
    "from sklearn.metrics.pairwise import cosine_similarity\n",
    "\n",
    "def find_similar_news(index, texts, mode=\"cos\"):\n",
    "    \"\"\"\n",
    "    最もコサイン類似度が近いテキストを出力する関数\n",
    "\n",
    "    Parameters\n",
    "    ---------\n",
    "    index : int\n",
    "    類似度を評価するテキストのインデックス\n",
    "\n",
    "    word_vec : 次の形のndarray, shape(samples)\n",
    "    単語ベクトル\n",
    "\n",
    "    texts : list\n",
    "    テキスト\n",
    "\n",
    "    mode : str\n",
    "    コサイン類似度（cos） or \n",
    "    \"\"\"\n",
    "\n",
    "    if mode == \"cos\":\n",
    "        word_vec = CV(min_df=0.001).fit_transform(texts).toarray() # 単語ベクトルに変換（BoW)\n",
    "        cos_matrix = cosine_similarity(word_vec, word_vec) # コサイン類似度のマトリックス\n",
    "        cos_similarity = cos_matrix[index]  #コサイン類似度\n",
    "        similar_text_index = cos_similarity.argsort()[-2] # 類似度が最も近いテキストのインデックス（自身との類似度が最大なので2番目のインデックスを取る）\n",
    "        return texts[similar_text_index]\n",
    "\n",
    "    elif mode == \"lev\":\n",
    "        distances = np.zeros(len(texts))\n",
    "\n",
    "    # 指定したテキストと他のテキスト間のレーベンシュタイン距離を計算する\n",
    "    for i in range(len(texts)):\n",
    "        distances[i] = Levenshtein.distance(texts[index], texts[i])\n",
    "\n",
    "    similar_text_index = distances.argsort()[-2]\n",
    "\n",
    "    return texts[similar_text_index]"
   ]
  },
  {
   "cell_type": "code",
   "execution_count": 97,
   "metadata": {
    "scrolled": true
   },
   "outputs": [
    {
     "name": "stdout",
     "output_type": "stream",
     "text": [
      "Requirement already satisfied: python-Levenshtein in /home/ubuntu/anaconda3/envs/tensorflow_p36/lib/python3.6/site-packages (0.12.0)\r\n",
      "Requirement already satisfied: setuptools in /home/ubuntu/anaconda3/envs/tensorflow_p36/lib/python3.6/site-packages (from python-Levenshtein) (39.1.0)\r\n"
     ]
    }
   ],
   "source": [
    "!pip install python-Levenshtein"
   ]
  },
  {
   "cell_type": "markdown",
   "metadata": {},
   "source": [
    "**類似テキストの探索（コサイン類似度）**"
   ]
  },
  {
   "cell_type": "code",
   "execution_count": 98,
   "metadata": {},
   "outputs": [],
   "source": [
    "# 類似度を測りたいテキストのインデックス\n",
    "target = 2"
   ]
  },
  {
   "cell_type": "code",
   "execution_count": 99,
   "metadata": {},
   "outputs": [],
   "source": [
    "# 類似度の高い記事\n",
    "similar_cos = find_similar_news(target, re_documents)"
   ]
  },
  {
   "cell_type": "code",
   "execution_count": 100,
   "metadata": {},
   "outputs": [
    {
     "name": "stdout",
     "output_type": "stream",
     "text": [
      "【Sports Watch】三浦ファン、ほしのあきを“さげまん”呼ばわり22日（月）発売の「週刊アサヒ芸能」（12.2号）では、「ほしのあき 三浦皇成結婚を阻む『さげまんボディ』『スランプの責任を押し付けられて…』」との見出しで、騎手・三浦皇成とグラビアタレント・ほしのあきの交際について、その周辺レポートを掲載した。新人年間最多勝（91勝）に最速100勝を挙げた次世代のスーパージョッキーだが、近年、失速感は否めない戦績に終始している。同誌にコメントを寄せるスポーツ紙のデスクは、「今の三浦は、もう『武豊2世』じゃない。G1制覇と言っても、そのクラスのお手馬は数頭だけ。代役で一発という寂しい状況です」と語っており、美浦TC関係者も「昨年9月、英国で初騎乗初勝利するも、ほしのとの交際が1年目を迎えて、状況が一変した。恩師の河野通文調教師と袂を分かち、フリー宣言をしてから急降下。今年1月の落馬事故も影響し、東西リーディング29位（11月14日現在）と低迷している。三浦ファンがほしのを“さげまん”と呼ぶ気持ちも納得できます」と話している。また、二人の来春結婚の噂について、前出のデスクは、「三浦の両親が最後の難関でしょう。父親との絆が深く、通常では考えられないフリー宣言を勧めたのも両親と聞いています。その父親が13歳の年の差婚をすんなりと認めてくれるかどうか…」という見解を示しており、すんなりとはいきそうにない現状をうかがわせた。・週刊アサヒ芸能 ［ライト版］＜デジタル＞（PC版）・週刊アサヒ芸能（モバイル版）\n",
      "【Sports Watch】田中＆里田の交際、アプローチは里田からグラビアアイドル・ほしのあき＆騎手・三浦皇成がお互いのブログで交際を認めた日、東北楽天ゴールデンイーグルスのエース・田中将大とタレント・里田まいの交際もまた公のものとなったが、本日30日（火）発売の「週刊アサヒ芸能」（12.9号）では、「マー君を“ナンパ”した里田」との見出しで、両者の交際にまつわる関係者の証言を紹介した。同誌にコメントを寄せた芸能デスクによると、「周囲の事情はさておき、当人たちが盛り上がっているのは確か。結婚も完全に視野に入れているようで、すでに新居を探しているとの話まである」という。また、二人の交際は里田からのアプローチによるものとのことで、前出の芸能デスクは、「2人は昨年末の番組共演時に、里田から猛アタック。『一緒に食事でも』と誘い、春頃にはつきあい始めた。里田は仲のいいスザンヌ（24）、木下優樹菜（22）には、早くから相談していたし、周囲にも浮かれてしゃべりまくっていた。次世代エースをゲットしたわけですから、賞味期限切れ間近の里田にすれば、してやったりでしょう」とも語っている。ちなみに、同じく同誌にコメントする球団関係者は、「高校時代は同じ高校の女子生徒と在学中の3年間、ずっとつきあっていましたね。基本はオクテ。プロ入り後にキャバクラなども覚えましたが、まぁ、モテるタイプではないし、女あしらいも不慣れ。高校時代はかなりワガママで、元カノは苦労が絶えなかったと聞いています。同年代の女より、里田のような姉さんタイプのほうが勝負の世界では向いているケースも多いですからね」と明かしており、この交際も田中にとっては“吉”とした。・週刊アサヒ芸能 ［ライト版］＜デジタル＞（PC版）・週刊アサヒ芸能（モバイル版）\n"
     ]
    }
   ],
   "source": [
    "print(similar_cos)\n",
    "print(re_documents[target])"
   ]
  },
  {
   "cell_type": "markdown",
   "metadata": {},
   "source": [
    "- **両記事ともに恋愛関係であり、＜交際＞という単語が含まれていることからも、類似度が高いと判定されていると思われる。**"
   ]
  },
  {
   "cell_type": "code",
   "execution_count": 103,
   "metadata": {},
   "outputs": [],
   "source": [
    "# 類似度の高い記事\n",
    "similar_lev = find_similar_news(target, re_documents, mode=\"lev\")"
   ]
  },
  {
   "cell_type": "code",
   "execution_count": 104,
   "metadata": {},
   "outputs": [
    {
     "data": {
      "text/plain": [
       "'iPhone女子部がフリーペーパー「iPhone♡」を大手量販店やソフトバンクショップで配布開始iPhone女子に向けた「iPhone♡」ができました！ iPhone女子部は、フリーペーパー「iPhone♡(アイフォーン ラブ)」を31日から大手量販店やソフトバンクショップの店舗で配布を開始した。iPhoneを利用する女性向けにiPhoneの便利な活用法やアプリの紹介、周辺機器やグッズの紹介などを32ページに渡って紹介している。発行部数は10万部。iPhone女子部発足のきっかけになったムック本『はじめまして。iPhone』以降、2011年2月配布のフリーペーパー『こんにちは、iPhone』、同年9月配布のフリーペーパー第2弾『ごきげんよう。iPhone』に続いてフリーペーパ第3弾となるiPhone♡は定期刊行していく予定だという。iPhone♡創刊号の表紙iPhone女子部のサイトで知らせている配布店舗は以下の通り。【ヨドバシカメラ】ソフトバンクヨドバシ梅田／ソフトバンクヨドバシＡＫＩＢＡ／ソフトバンクヨドバシ横浜／ソフトバンクヨドバシ京都／ソフトバンクステージヨドバシ新宿西口本店／ソフトバンクヨドバシ吉祥寺／ソフトバンクステージヨドバシ川崎／ソフトバンクステージヨドバシ町田／ソフトバンクヨドバシカメラ博多／ソフトバンクステージヨドバシ錦糸町／ソフトバンクヨドバシ札幌／ソフトバンクステージヨドバシ仙台／ソフトバンクステージヨドバシ千葉／ソフトバンクステージヨドバシ新宿東口ケータイ総合館／ソフトバンクステージヨドバシ上野／ソフトバンクステージヨドバシ京急上大岡（９階）／株式会社ヨドバシカメラマルチメディア宇都宮／株式会社ヨドバシカメラ八王子店Ｍ１【ヤマダ電機】ＬＡＢＩ\\u3000１\\u3000日本総本店\\u3000池袋／ソフトバンクステージＬＡＢＩ新宿東口館／ＬＡＢＩ\\u3000渋谷店／ソフトバンクステージＬＡＢＩ新宿西口／ソフトバンクステージＬＡＢＩ１モバイルドリーム館／ソフトバンクＬＡＢＩ１ＮＡＭＢＡ／ソフトバンクステージＬＡＢＩ品川大井町／ソフトバンクステージＬＡＢＩ１高崎／ソフトバンクステージＬＡＢＩ三宮／ソフトバンクステージＬＡＢＩ上大岡／テックランド坂戸店／ソフトバンクステージＬＡＢＩ千里／ソフトバンクステージＬＡＢＩ津田沼／テックランドＮｅｗ港北センター本店／ソフトバンクＹＡＭＡＤＡ横浜本店／テックランド横浜泉店／テックランド茅ヶ崎店／ソフトバンクステージＬＡＢＩ大船／ソフトバンクステージＹＡＭＡＤＡ久喜／ソフトバンクＬＡＢＩ仙台／テックランド熊本本店／ソフトバンクステージＹＡＭＡＤＡ星が丘／テックランド熊谷本店／ソフトバンクステージＹＡＭＡＤＡ清田／テックランド大宮宮前本店／テックランドＮｅｗ蘇我本店／テックランド平和台駅前店／テックランド青葉店／テックランド三郷店／テックランド南行徳店／テックランド横須賀店／テックランド向ヶ丘店／ソフトバンクＹＡＭＡＤＡ福岡香椎本店／ソフトバンクステージＹＡＭＡＤＡ堺本店／テックランド神戸本店／テックランド厚木店／テックランドＮｅｗ奈良本店／テックランド一宮店／テックランド千葉本店／ソフトバンクステージＹＡＭＡＤＡ金沢本店／テックランド鹿児島本店／テックランド札幌本店／ソフトバンクＬＡＢＩ広島【ビックカメラ】ソフトバンクステージ\\u3000ビックカメラ有楽町／ソフトバンクステージ\\u3000ビックカメラ池袋本店／ソフトバンクステージ\\u3000ビックカメラ新宿西口／ソフトバンクステージ\\u3000ビックカメラなんば／ビックカメラ\\u3000名古屋駅西店／ビックカメラ\\u3000ラゾーナ川崎店／ビックカメラ\\u3000立川店／ビックカメラ\\u3000札幌店／ソフトバンク池袋北口／ビックカメラ\\u3000新宿東口駅前店／ビックカメラ\\u3000大宮西口そごう店／ソフトバンクステージ\\u3000ビックカメラ藤沢／ビックカメラ\\u3000渋谷東口店／ビックカメラ\\u3000ＪＲ八王子駅店／ソフトバンクららぽーと豊洲／ビックカメラ\\u3000柏店／ビックカメラ\\u3000岡山駅前店／ソフトバンクステージ\\u3000ビックカメラ小倉南／ソフトバンクひばりヶ丘／ソフトバンク上野広小路／ソフトバンクラゾーナ川崎プラザ／ビックカメラ\\u3000鹿児島中央駅店／ビックカメラ\\u3000天神２号館／ソフトバンクステージ\\u3000ビックカメラ新宿東口新店【ノジマ】ソフトバンク湘南モールフィル／ノジマ\\u3000イオンモールむさし村山店／ソフトバンクアリオ橋本／ソフトバンク新百合ヶ丘／ソフトバンクイオン日の出／ソフトバンク相模原／ソフトバンクステージ\\u3000ノジマレイクタウン／ソフトバンク小田原シティモールフレスポ／ソフトバンクステージ\\u3000ノジマイオン新潟南【エイデン】ソフトバンクエイデン豊田本店／ソフトバンク豊川南／ソフトバンク津北／ソフトバンク緑徳重／ソフトバンクエイデン安城／ソフトバンクエイデンサントムーン柿田川【ソフトバンクショップ】ソフトバンク植田北／ソフトバンク大森／ソフトバンク香久山／ソフトバンク春日井神領／ソフトバンク金山／ソフトバンク刈谷／ソフトバンク刈谷北／ソフトバンク江南中央／ソフトバンク栄／ソフトバンク三郷西／ソフトバンク滝ノ水／ソフトバンク知立／ソフトバンク東海南／ソフトバンク東郷／ソフトバンク豊橋カルミア／ソフトバンク中川昭和橋通／ソフトバンク長久手／ソフトバンク名古屋駅前／ソフトバンク半田亀崎／ソフトバンク東浦／ソフトバンク一宮開明／ソフトバンク守山吉根／ソフトバンク守山城下／ソフトバンク港稲永／ソフトバンク西尾市役所北／ソフトバンク岡崎ウィングタウン／ソフトバンクエアポートウォーク名古屋／ソフトバンクｍｏｚｏワンダーシティ上小田井／ソフトバンクイオンモール扶桑／ソフトバンク岐阜西／ソフトバンク北方／ソフトバンク柳津／ソフトバンク正木／ソフトバンクイオンモール各務原／ソフトバンク久居／ソフトバンクアドバンスモール松阪／ソフトバンク四日市生桑／ソフトバンク桑名駅前／ソフトバンク三重川越／ソフトバンクイオンモール鈴鹿／ソフトバンク桑名大山田／ソフトバンク鈴鹿サーキット通り／ソフトバンク四日市羽津／ソフトバンク津中央／ソフトバンクジャズドリーム長島／ソフトバンク静岡南／ソフトバンク藤枝／ソフトバンク静岡本通／ソフトバンク函南／ソフトバンク熱海／ソフトバンク裾野南／ソフトバンク浜松／ソフトバンク富士市役所前／ソフトバンク静岡瀬名／ソフトバンク伊東川奈／ソフトバンクイオン浜松市野／ソフトバンクイオンモール富士宮／ソフトバンク澄川／ソフトバンク西岡／ソフトバンク末広／ソフトバンク函館美原／ソフトバンクウイングベイ小樽／ソフトバンク帯広白樺通／ソフトバンク函館東山／ソフトバンク函館昭和タウンプラザ／ソフトバンク湯川／ソフトバンク北栄／ソフトバンク平岸／ソフトバンク八幡通／ソフトバンク琴似／ソフトバンク滝川／ソフトバンク新発寒／ソフトバンク江別／ソフトバンクＡｒｉｏ札幌／ソフトバンク屯田／ソフトバンク網走新町／ソフトバンクインターヴィレッジ大曲／ソフトバンクドリームタウン／ソフトバンクイオンモール下田／ソフトバンク角館／ソフトバンク新国道／ソフトバンク茶畑／ソフトバンク月が丘／ソフトバンク一関／ソフトバンク中央通／ソフトバンク盛岡太田／ソフトバンク久慈／ソフトバンク南陽／ソフトバンク山形西バイパス／ソフトバンクゆたか／ソフトバンク山形大野目／ソフトバンク山形北／ソフトバンク成沢／ソフトバンク松見町／ソフトバンク中倉／ソフトバンク大河原／ソフトバンク西多賀一丁目／ソフトバンク富谷／ソフトバンク仙台卸町／ソフトバンク古川東／ソフトバンクイオンタウン塩釜／ソフトバンク仙台おおまち／ソフトバンク仙台六丁の目／ソフトバンク須賀川インター／ソフトバンク平谷川瀬／ソフトバンク南福島／ソフトバンク会津門田／ソフトバンク福島北／ソフトバンク会津ばんげ／ソフトバンクいわき神谷／ソフトバンク矢吹／ソフトバンク松原／ソフトバンク上本町／ソフトバンク藤井寺／ソフトバンク北花田／ソフトバンク枚方宮之阪／ソフトバンク尾崎駅前／ソフトバンク中百舌鳥／ソフトバンク梅田中央／ソフトバンク阪急高槻／ソフトバンク高槻西口／ソフトバンク寝屋川市駅前／ソフトバンク堺東一条通／ソフトバンク阪急茨木／ソフトバンク東岸和田／ソフトバンク香里園／ソフトバンク南海住ノ江／ソフトバンク熊取／ソフトバンク服部／ソフトバンク江坂西／ソフトバンク交野／ソフトバンク九条／ソフトバンクイオンモール寝屋川／ソフトバンク高槻東／ソフトバンク茨木園田／ソフトバンク阪急池田／ソフトバンク天王寺／ソフトバンク俊徳道／ソフトバンク藤阪東／ソフトバンク長吉出戸／ソフトバンク西長堀／ソフトバンク寝屋川池田／ソフトバンク長居公園東／ソフトバンク三国ヶ丘／ソフトバンクイオンタウン東大阪／ソフトバンク今福西／ソフトバンク岸和田Ｒ２６／ソフトバンク加西／ソフトバンク西鈴蘭台／ソフトバンク西神中央／ソフトバンク三木／ソフトバンクべふ駅前／ソフトバンク東加古川／ソフトバンク播磨太子／ソフトバンクＪＲ大久保駅前／ソフトバンク明石二見／ソフトバンクＪＲ西宮／ソフトバンク三田／ソフトバンク垂水／ソフトバンク三宮センター街／ソフトバンク阪急伊丹／ソフトバンク名谷／ソフトバンク福崎／ソフトバンク姫路東／ソフトバンク岡場／ソフトバンク中山寺／ソフトバンク浜甲子園／ソフトバンク芦屋南／ソフトバンク大久保インター／ソフトバンク川西加茂／ソフトバンク須磨北／ソフトバンク高砂／ソフトバンク加古川駅前／ソフトバンク京都外大前／ソフトバンク宇治槇島／ソフトバンク西院／ソフトバンク長岡天神／ソフトバンク四条烏丸／ソフトバンク五条西小路／ソフトバンク北山／ソフトバンク京丹後マイン／ソフトバンク洛西口／ソフトバンク八幡市役所前／ソフトバンク円町／ソフトバンク橿原／ソフトバンク天理／ソフトバンク生駒菜畑／ソフトバンク南草津駅前／ソフトバンク守山／ソフトバンク近江八幡／ソフトバンク大津美崎／ソフトバンク八日市／ソフトバンク彦根ソフトバンク栗東／ソフトバンク紀伊田辺／ソフトバンクアルパーク／ソフトバンク五日市城山／ソフトバンク西条中央／ソフトバンク廿日市／ソフトバンク五日市中央／ソフトバンク広国際通り／ソフトバンク高陽中央／ソフトバンク海田中央／ソフトバンク焼山／ソフトバンク八本松／ソフトバンク横川駅／ソフトバンク広島本通商店街／ソフトバンクゆめタウン呉／ソフトバンク長楽寺／ソフトバンク世羅／ソフトバンク本通駅前／ソフトバンクフォレオ広島東／ソフトバンクフレスポ西風新都／ソフトバンクフジグラン緑井／ソフトバンク白楽町／ソフトバンク児島ソフトバンク中庄／ソフトバンクザ・モール周南／ソフトバンクザ・ビッグ周東／ソフトバンクゆめタウン山口／ソフトバンクゆめシティ／ソフトバンク鳥大前／ソフトバンク米子中央／ソフトバンク松江学園北／ソフトバンク柳川／ソフトバンク大牟田日出町／ソフトバンク大川／ソフトバンクゆめタウン大牟田／ソフトバンク野間／ソフトバンク古賀駅前／ソフトバンク大橋／ソフトバンクチャチャタウン小倉／ソフトバンク鞘ヶ谷／ソフトバンク空港東／ソフトバンクゆめタウン筑紫野／ソフトバンク長住／ソフトバンク大野城／ソフトバンク平尾駅前／ソフトバンク田川バイパス／ソフトバンク門司／ソフトバンク津田／ソフトバンク七隈／ソフトバンク筑後北／ソフトバンク福重／ソフトバンクリバーウォーク北九州／ソフトバンク久留米花畑／ソフトバンク茶山／ソフトバンクイオンモール福岡／ソフトバンク小倉沼／ソフトバンク福岡天神西通り／ソフトバンクキャナルシティ博多／ソフトバンク鳥栖／ソフトバンク武雄／ソフトバンク佐賀中央／ソフトバンク大波止／ソフトバンク大分駅前／ソフトバンク大在／ソフトバンク猪野／ソフトバンク東バイパス／ソフトバンク下通／ソフトバンク麻生田／ソフトバンク山鹿／ソフトバンク玉名中央／ソフトバンク大津中央／ソフトバンク健軍東／ソフトバンク八代中央／ソフトバンク熊本西／ソフトバンク菊池中央／ソフトバンク光の森北郵便局前／ソフトバンク飛田バイパス／ソフトバンクフェニックスガーデンうきのじょう／ソフトバンク高鍋／ソフトバンク清武加納／ソフトバンク笠之原／ソフトバンク枕崎／ソフトバンク新都心／ソフトバンク北谷国体道路／ソフトバンク与那原／ソフトバンク首里石嶺／ソフトバンク美里公園通り／ソフトバンク西原坂田／ソフトバンク近見／ソフトバンク阿蘇一の宮／ソフトバンク高岡駅南ソフトバンク高岡野村／ソフトバンク杜の里／ソフトバンク金沢ベイ／ソフトバンク野々市中央／ソフトバンク金沢工大前／ソフトバンクイオンタウン金沢示野／ソフトバンク白山平松／ソフトバンクアピタ金沢／ソフトバンク金沢県庁前／ソフトバンク二の宮／ソフトバンク鯖江／ソフトバンク阿南中央／ソフトバンク二軒屋／ソフトバンクみなみかんじょうバイパス／ソフトバンク徳島城東／ソフトバンクゆめタウン徳島／ソフトバンク十川／ソフトバンク丸亀土器／ソフトバンク高松中央／ソフトバンク北条／ソフトバンク大街道中央／ソフトバンクエミフルＭＡＳＡＫＩ／ソフトバンク土佐道路／ソフトバンク南国バイパス／ソフトバンクやえもん公園／ソフトバンク高須／ソフトバンク市ヶ谷／ソフトバンク河辺／ソフトバンク西八王子／ソフトバンク赤羽／ソフトバンク町田中央／ソフトバンク板橋／ソフトバンク自由が丘／ソフトバンク成城学園／ソフトバンク大森／ソフトバンク立川南／ソフトバンク高田馬場／ソフトバンク三鷹／ソフトバンク高円寺／ソフトバンク船堀／ソフトバンク三軒茶屋／ソフトバンク豊田／ソフトバンク東大和／ソフトバンク府中駅前／ソフトバンク恵比寿／ソフトバンク新宿南口／ソフトバンク水道橋／ソフトバンク目黒／ソフトバンク中目黒／ソフトバンク下北沢／ソフトバンク田町／ソフトバンク国立／ソフトバンクひばりヶ丘／ソフトバンクららぽーと豊洲／ソフトバンク狛江／ソフトバンク押上／ソフトバンク西大島／ソフトバンク三軒茶屋茶沢通り／ソフトバンク三鷹東八道路／ソフトバンク矢野口／ソフトバンク竹ノ塚西口駅前／ソフトバンク東十条／ソフトバンク綾瀬／ソフトバンク池袋北口／ソフトバンクアリオ西新井／ソフトバンク西荻窪／ソフトバンク東久留米幸町／ソフトバンク蒲田東口／ソフトバンク新宿東口中央通り／ソフトバンク花小金井／ソフトバンク石神井公園／ソフトバンク高島平／ソフトバンク府中・分倍河原／ソフトバンク麻布十番／ソフトバンク葛西駅前／ソフトバンク自由が丘南口／ソフトバンク金沢文庫／ソフトバンクたまプラーザ／ソフトバンク青葉台／ソフトバンク橋本タワー／ソフトバンク新横浜／ソフトバンク川崎／ソフトバンク武蔵小杉／ソフトバンク日吉／ソフトバンクセンター北改札前／ソフトバンク飯泉橋／ソフトバンクセンター北請地／ソフトバンク鶴間／ソフトバンク本厚木駅南／ソフトバンク茅ヶ崎駅前／ソフトバンクラクアル・オダサガ／ソフトバンク相模原Ｒ１６／ソフトバンクダイエー金沢八景／ソフトバンク長津田／ソフトバンク鎌倉手広／ソフトバンク横浜モアーズ／ソフトバンク生田府中街道／ソフトバンクビナウォーク海老名／ソフトバンク能見台／ソフトバンク横浜ランドマーク／ソフトバンク稲田堤／ソフトバンクこどもの国／ソフトバンク野田中根／ソフトバンク柏・沼南／ソフトバンク柏／ソフトバンク船橋駅前／ソフトバンク津田沼／ソフトバンク北習志野／ソフトバンク南柏／ソフトバンク館山／ソフトバンク松戸／ソフトバンク八柱／ソフトバンク幕張／ソフトバンク佐倉臼井／ソフトバンク鎌ヶ谷／ソフトバンク千葉おゆみ野／ソフトバンク新松戸／ソフトバンク成田／ソフトバンクラパーク千城台／ソフトバンク柏西口駅前／ソフトバンクららぽーと柏の葉／ソフトバンク流山おおたかの森／ソフトバンク船橋市場通り／ソフトバンク勝田台Ｒ１６／ソフトバンク八街／ソフトバンク北小金／ソフトバンク習志野成田街道／ソフトバンク新検見川／ソフトバンクプレナ幕張／ソフトバンク新鎌ヶ谷／ソフトバンク五香／ソフトバンクイオンモール富津／ソフトバンク千葉都町／ソフトバンク津田沼パルコ／ソフトバンクイオンタウン野田七光台／ソフトバンク春日部／ソフトバンク北浦和／ソフトバンク大宮東／ソフトバンク朝霞台駅前／ソフトバンク南越谷／ソフトバンク志木／ソフトバンク久喜／ソフトバンク狭山／ソフトバンク川越／ソフトバンク東松山／ソフトバンク深谷／ソフトバンク武蔵浦和／ソフトバンク加須／ソフトバンク岩槻／ソフトバンク浦和南／ソフトバンク所沢プロぺ通り／ソフトバンク入間中央／ソフトバンク若葉／ソフトバンク久喜青葉／ソフトバンク東大宮駅前／ソフトバンク朝霞／ソフトバンク和光／ソフトバンクせんげん台／ソフトバンク本庄／ソフトバンク坂戸にっさい／ソフトバンク三郷インター／ソフトバンク武蔵藤沢／ソフトバンクみずほ台／ソフトバンク上尾駅前／ソフトバンクモラージュ菖蒲／ソフトバンクピオニウォーク東松山／ソフトバンクひたち野うしく／ソフトバンク水戸／ソフトバンク日立／ソフトバンクひたちなか／ソフトバンク石岡／ソフトバンク竜ヶ崎／ソフトバンク水戸赤塚／ソフトバンク東海／ソフトバンク鹿嶋中央／ソフトバンク牛久／ソフトバンク日立多賀／ソフトバンク境／ソフトバンク笠間ポレポレ／ソフトバンク矢板／ソフトバンク宇都宮北／ソフトバンク小山城南／ソフトバンク佐野堀米／ソフトバンクベルモール宇都宮／ソフトバンク群馬県央／ソフトバンク高崎／ソフトバンクけやきウォーク前橋／ソフトバンクアルプス通り／ソフトバンク甲府向町／ソフトバンク平林／ソフトバンクフォレストモール岡谷／ソフトバンクアピタ新潟亀田／ソフトバンクバロー上越／ソフトバンク県央／ソフトバンクプラント見附／ソフトバンクアコーレ上越／ソフトバンク燕吉田／ソフトバンク新宿／ソフトバンク都立大学／ソフトバンク大泉学園／ソフトバンク清瀬／ソフトバンクアルカード赤羽／ソフトバンク落合駅前／ソフトバンク北野駅前／ソフトバンクイオンモール羽生／ソフトバンク東所沢／ソフトバンク上江別／ソフトバンク北広島／ソフトバンク留萌／ソフトバンク札幌西／ソフトバンクサッポロファクトリー／ソフトバンク美園／ソフトバンク菊水元町／ソフトバンク長崎屋小樽／ソフトバンク余市／ソフトバンク環状永山／ソフトバンク星置／ソフトバンク八重洲通り八丁堀／ソフトバンクベストム東神楽／ソフトバンク深川／ソフトバンク札内／ソフトバンク石狩手稲通／ソフトバンク網走／ソフトバンクマックスバリュ静内／ソフトバンクフレスポ中標津／ソフトバンクふらの／ソフトバンク新道東／ソフトバンクフクハラ武佐／ソフトバンクフクハラ愛国／ソフトバンクフクハラ星が浦／ソフトバンク釧路昭和／ソフトバンク月寒なお、配布にあわせて、iPhone♡の電子ブックも配信を開始している。店舗に来店できない、近くに配布店がない、来店したが既になくなっていたという場合は電子ブックを活用しよう。・iPhone♡ 電子ブックiPhoneユーザーはもちろん、iPhoneの購入を検討している人やiPhoneを持ち始めた人などiPhoneに興味ある女性はチェックしてみよう。記事執筆：2106bpm(つとむびーぴーえむ)■関連リンク・エスマックス（S-MAX）・エスマックス（S-MAX） smaxjp on Twitter・S-MAX - Facebookページ・女子だらけの公開イベントに潜入！iPhone女子部がKDDIデザイニングスタジオで「公開リアル部室」を開催【レポート】 - S-MAX - ライブドアブログ・iPhone女子部が、「公開リアル部室」を8月25日にKDDIデザイニングスタジオで開催 - S-MAX - ライブドアブログ・日本Androidの会女子部が4/16(土)に勉強会@関東(東京)を開催！参加者募集中でもうすぐいっぱい - S-MAX - ライブドアブログ・本日より配布開始です！iPhoene女子部フリーペーパー第3弾は、『iPhone♡』（iPhone女子部）・iPhone女子部'"
      ]
     },
     "execution_count": 104,
     "metadata": {},
     "output_type": "execute_result"
    }
   ],
   "source": [
    "similar_lev"
   ]
  },
  {
   "cell_type": "markdown",
   "metadata": {},
   "source": [
    "# 【問題6】感情分析"
   ]
  },
  {
   "cell_type": "code",
   "execution_count": 43,
   "metadata": {},
   "outputs": [],
   "source": [
    "vocab_size = 10000 # 出現頻度の順に10000個を取得\n",
    "features = 16 # 埋め込む空間"
   ]
  },
  {
   "cell_type": "code",
   "execution_count": 44,
   "metadata": {},
   "outputs": [
    {
     "name": "stdout",
     "output_type": "stream",
     "text": [
      "Downloading data from https://storage.googleapis.com/tensorflow/tf-keras-datasets/imdb.npz\n",
      "17465344/17464789 [==============================] - 0s 0us/step\n"
     ]
    }
   ],
   "source": [
    "# IMDB datasetのダウンロード\n",
    "imdb = tf.keras.datasets.imdb\n",
    "\n",
    "# 訓練データ中に出てくる単語のうち、最も頻繁に出現吸える10,000個を保持する\n",
    "(train_data, train_labels), (test_data, test_labels) = imdb.load_data(num_words=vocab_size)"
   ]
  },
  {
   "cell_type": "code",
   "execution_count": 45,
   "metadata": {},
   "outputs": [
    {
     "name": "stdout",
     "output_type": "stream",
     "text": [
      "train_data_type : <class 'numpy.ndarray'>\n",
      "len : 25000\n",
      "\n",
      "test_data_type : <class 'numpy.ndarray'>\n",
      "len : 25000\n"
     ]
    }
   ],
   "source": [
    "print(\"train_data_type : {}\".format(type(train_data)))\n",
    "print(\"len : {}\".format(len(train_data)))\n",
    "print(\"\")\n",
    "print(\"test_data_type : {}\".format(type(test_data)))\n",
    "print(\"len : {}\".format(len(test_data)))"
   ]
  },
  {
   "cell_type": "code",
   "execution_count": 46,
   "metadata": {},
   "outputs": [
    {
     "name": "stdout",
     "output_type": "stream",
     "text": [
      "Downloading data from https://storage.googleapis.com/tensorflow/tf-keras-datasets/imdb_word_index.json\n",
      "1646592/1641221 [==============================] - 0s 0us/step\n"
     ]
    }
   ],
   "source": [
    "# 単語をIDに変換する辞書\n",
    "word_index = imdb.get_word_index()"
   ]
  },
  {
   "cell_type": "code",
   "execution_count": 47,
   "metadata": {},
   "outputs": [],
   "source": [
    "reverse_word_index = dict([(value, key) for (key, value) in word_index.items()])\n",
    "\n",
    "def decode_review(text):\n",
    "    return ' '.join([reverse_word_index.get(i, '?') for i in text])"
   ]
  },
  {
   "cell_type": "code",
   "execution_count": 48,
   "metadata": {},
   "outputs": [],
   "source": [
    "# インデックスの最初の方は予約済み\n",
    "word_index = {k:(v+3) for k,v in word_index.items()}\n",
    "word_index[\"<PAD>\"] = 0\n",
    "word_index[\"<START>\"] = 1\n",
    "word_index[\"<UNK>\"] = 2  # unknown\n",
    "word_index[\"<UNUSED>\"] = 3\n",
    "\n",
    "reverse_word_index = dict([(value, key) for (key, value) in word_index.items()])\n",
    "\n",
    "def decode_review(text):\n",
    "    return ' '.join([reverse_word_index.get(i, '?') for i in text])"
   ]
  },
  {
   "cell_type": "code",
   "execution_count": 49,
   "metadata": {},
   "outputs": [],
   "source": [
    "train_data = keras.preprocessing.sequence.pad_sequences(train_data,\n",
    "                                                       value=word_index[\"<PAD>\"],\n",
    "                                                       padding=\"post\",\n",
    "                                                       maxlen=256)\n",
    "\n",
    "test_data = keras.preprocessing.sequence.pad_sequences(test_data,\n",
    "                                                       value=word_index[\"<PAD>\"],\n",
    "                                                       padding=\"post\",\n",
    "                                                       maxlen=256)"
   ]
  },
  {
   "cell_type": "code",
   "execution_count": 50,
   "metadata": {},
   "outputs": [
    {
     "name": "stdout",
     "output_type": "stream",
     "text": [
      "WARNING:tensorflow:From /home/ubuntu/anaconda3/envs/tensorflow_p36/lib/python3.6/site-packages/tensorflow/python/ops/resource_variable_ops.py:435: colocate_with (from tensorflow.python.framework.ops) is deprecated and will be removed in a future version.\n",
      "Instructions for updating:\n",
      "Colocations handled automatically by placer.\n",
      "_________________________________________________________________\n",
      "Layer (type)                 Output Shape              Param #   \n",
      "=================================================================\n",
      "embedding (Embedding)        (None, None, 64)          640000    \n",
      "_________________________________________________________________\n",
      "global_average_pooling1d (Gl (None, 64)                0         \n",
      "_________________________________________________________________\n",
      "dense (Dense)                (None, 16)                1040      \n",
      "_________________________________________________________________\n",
      "dense_1 (Dense)              (None, 1)                 17        \n",
      "=================================================================\n",
      "Total params: 641,057\n",
      "Trainable params: 641,057\n",
      "Non-trainable params: 0\n",
      "_________________________________________________________________\n"
     ]
    }
   ],
   "source": [
    "model = keras.Sequential()\n",
    "\n",
    "model.add(keras.layers.Embedding(vocab_size, 64)) # 単語埋め込み\n",
    "model.add(keras.layers.GlobalAveragePooling1D())\n",
    "model.add(keras.layers.Dense(16, activation=\"relu\"))\n",
    "model.add(keras.layers.Dense(1, activation=\"sigmoid\"))\n",
    "\n",
    "model.summary()\n"
   ]
  },
  {
   "cell_type": "code",
   "execution_count": 51,
   "metadata": {},
   "outputs": [],
   "source": [
    "model.compile(optimizer=tf.train.AdamOptimizer(learning_rate=0.01),\n",
    "              loss=\"binary_crossentropy\",\n",
    "              metrics=[\"accuracy\"])"
   ]
  },
  {
   "cell_type": "code",
   "execution_count": 52,
   "metadata": {},
   "outputs": [],
   "source": [
    "x_val = train_data[:10000]\n",
    "partial_x_train = train_data[10000:]\n",
    "\n",
    "y_val = train_labels[:10000]\n",
    "partial_y_train = train_labels[10000:]"
   ]
  },
  {
   "cell_type": "code",
   "execution_count": 53,
   "metadata": {},
   "outputs": [
    {
     "name": "stdout",
     "output_type": "stream",
     "text": [
      "Train on 15000 samples, validate on 10000 samples\n",
      "WARNING:tensorflow:From /home/ubuntu/anaconda3/envs/tensorflow_p36/lib/python3.6/site-packages/tensorflow/python/ops/math_ops.py:3066: to_int32 (from tensorflow.python.ops.math_ops) is deprecated and will be removed in a future version.\n",
      "Instructions for updating:\n",
      "Use tf.cast instead.\n",
      "Epoch 1/40\n",
      "15000/15000 [==============================] - 12s 818us/sample - loss: 0.6030 - acc: 0.7008 - val_loss: 0.4188 - val_acc: 0.8347\n",
      "Epoch 2/40\n",
      "15000/15000 [==============================] - 1s 38us/sample - loss: 0.2932 - acc: 0.8869 - val_loss: 0.2896 - val_acc: 0.8838\n",
      "Epoch 3/40\n",
      "15000/15000 [==============================] - 1s 38us/sample - loss: 0.1796 - acc: 0.9347 - val_loss: 0.2900 - val_acc: 0.8864\n",
      "Epoch 4/40\n",
      "15000/15000 [==============================] - 1s 38us/sample - loss: 0.1192 - acc: 0.9619 - val_loss: 0.3291 - val_acc: 0.8793\n",
      "Epoch 5/40\n",
      "15000/15000 [==============================] - 1s 38us/sample - loss: 0.0844 - acc: 0.9762 - val_loss: 0.3748 - val_acc: 0.8766\n",
      "Epoch 6/40\n",
      "15000/15000 [==============================] - 1s 37us/sample - loss: 0.0578 - acc: 0.9868 - val_loss: 0.4211 - val_acc: 0.8719\n",
      "Epoch 7/40\n",
      "15000/15000 [==============================] - 1s 36us/sample - loss: 0.0430 - acc: 0.9908 - val_loss: 0.5032 - val_acc: 0.8654\n",
      "Epoch 8/40\n",
      "15000/15000 [==============================] - 1s 36us/sample - loss: 0.0309 - acc: 0.9945 - val_loss: 0.5436 - val_acc: 0.8661\n",
      "Epoch 9/40\n",
      "15000/15000 [==============================] - 1s 38us/sample - loss: 0.0217 - acc: 0.9967 - val_loss: 0.5910 - val_acc: 0.8623\n",
      "Epoch 10/40\n",
      "15000/15000 [==============================] - 1s 38us/sample - loss: 0.0155 - acc: 0.9979 - val_loss: 0.6312 - val_acc: 0.8618\n",
      "Epoch 11/40\n",
      "15000/15000 [==============================] - 1s 38us/sample - loss: 0.0089 - acc: 0.9991 - val_loss: 0.6821 - val_acc: 0.8617\n",
      "Epoch 12/40\n",
      "15000/15000 [==============================] - 1s 38us/sample - loss: 0.0063 - acc: 0.9995 - val_loss: 0.7160 - val_acc: 0.8613\n",
      "Epoch 13/40\n",
      "15000/15000 [==============================] - 1s 37us/sample - loss: 0.0036 - acc: 0.9998 - val_loss: 0.7529 - val_acc: 0.8613\n",
      "Epoch 14/40\n",
      "15000/15000 [==============================] - 1s 37us/sample - loss: 0.0028 - acc: 0.9999 - val_loss: 0.7815 - val_acc: 0.8592\n",
      "Epoch 15/40\n",
      "15000/15000 [==============================] - 1s 37us/sample - loss: 0.0025 - acc: 0.9999 - val_loss: 0.8133 - val_acc: 0.8582\n",
      "Epoch 16/40\n",
      "15000/15000 [==============================] - 1s 37us/sample - loss: 0.0017 - acc: 1.0000 - val_loss: 0.8332 - val_acc: 0.8584\n",
      "Epoch 17/40\n",
      "15000/15000 [==============================] - 1s 38us/sample - loss: 0.0014 - acc: 1.0000 - val_loss: 0.8437 - val_acc: 0.8591\n",
      "Epoch 18/40\n",
      "15000/15000 [==============================] - 1s 38us/sample - loss: 0.0011 - acc: 1.0000 - val_loss: 0.8601 - val_acc: 0.8583\n",
      "Epoch 19/40\n",
      "15000/15000 [==============================] - 1s 38us/sample - loss: 0.0010 - acc: 0.9999 - val_loss: 0.8730 - val_acc: 0.8580\n",
      "Epoch 20/40\n",
      "15000/15000 [==============================] - 1s 38us/sample - loss: 8.9487e-04 - acc: 1.0000 - val_loss: 0.8948 - val_acc: 0.8591\n",
      "Epoch 21/40\n",
      "15000/15000 [==============================] - 1s 37us/sample - loss: 8.0978e-04 - acc: 1.0000 - val_loss: 0.9021 - val_acc: 0.8585\n",
      "Epoch 22/40\n",
      "15000/15000 [==============================] - 1s 37us/sample - loss: 6.8374e-04 - acc: 1.0000 - val_loss: 0.9171 - val_acc: 0.8579\n",
      "Epoch 23/40\n",
      "15000/15000 [==============================] - 1s 37us/sample - loss: 6.6746e-04 - acc: 1.0000 - val_loss: 0.9374 - val_acc: 0.8580\n",
      "Epoch 24/40\n",
      "15000/15000 [==============================] - 1s 37us/sample - loss: 5.5003e-04 - acc: 1.0000 - val_loss: 0.9429 - val_acc: 0.8572\n",
      "Epoch 25/40\n",
      "15000/15000 [==============================] - 1s 37us/sample - loss: 4.8027e-04 - acc: 1.0000 - val_loss: 0.9538 - val_acc: 0.8573\n",
      "Epoch 26/40\n",
      "15000/15000 [==============================] - 1s 36us/sample - loss: 4.3219e-04 - acc: 1.0000 - val_loss: 0.9654 - val_acc: 0.8572\n",
      "Epoch 27/40\n",
      "15000/15000 [==============================] - 1s 36us/sample - loss: 4.3189e-04 - acc: 1.0000 - val_loss: 0.9744 - val_acc: 0.8570\n",
      "Epoch 28/40\n",
      "15000/15000 [==============================] - 1s 38us/sample - loss: 3.5763e-04 - acc: 1.0000 - val_loss: 0.9809 - val_acc: 0.8569\n",
      "Epoch 29/40\n",
      "15000/15000 [==============================] - 1s 35us/sample - loss: 3.3803e-04 - acc: 1.0000 - val_loss: 0.9909 - val_acc: 0.8565\n",
      "Epoch 30/40\n",
      "15000/15000 [==============================] - 1s 36us/sample - loss: 3.0510e-04 - acc: 1.0000 - val_loss: 0.9981 - val_acc: 0.8564\n",
      "Epoch 31/40\n",
      "15000/15000 [==============================] - 1s 36us/sample - loss: 2.8500e-04 - acc: 1.0000 - val_loss: 1.0072 - val_acc: 0.8564\n",
      "Epoch 32/40\n",
      "15000/15000 [==============================] - 1s 35us/sample - loss: 2.6181e-04 - acc: 1.0000 - val_loss: 1.0116 - val_acc: 0.8564\n",
      "Epoch 33/40\n",
      "15000/15000 [==============================] - 1s 36us/sample - loss: 2.4600e-04 - acc: 1.0000 - val_loss: 1.0245 - val_acc: 0.8565\n",
      "Epoch 34/40\n",
      "15000/15000 [==============================] - 1s 36us/sample - loss: 2.3958e-04 - acc: 1.0000 - val_loss: 1.0265 - val_acc: 0.8563\n",
      "Epoch 35/40\n",
      "15000/15000 [==============================] - 1s 36us/sample - loss: 2.1688e-04 - acc: 1.0000 - val_loss: 1.0394 - val_acc: 0.8568\n",
      "Epoch 36/40\n",
      "15000/15000 [==============================] - 1s 37us/sample - loss: 2.0920e-04 - acc: 1.0000 - val_loss: 1.0404 - val_acc: 0.8566\n",
      "Epoch 37/40\n",
      "15000/15000 [==============================] - 1s 36us/sample - loss: 1.9331e-04 - acc: 1.0000 - val_loss: 1.0490 - val_acc: 0.8563\n",
      "Epoch 38/40\n",
      "15000/15000 [==============================] - 1s 37us/sample - loss: 1.7668e-04 - acc: 1.0000 - val_loss: 1.0575 - val_acc: 0.8566\n",
      "Epoch 39/40\n",
      "15000/15000 [==============================] - 1s 37us/sample - loss: 1.7491e-04 - acc: 1.0000 - val_loss: 1.0624 - val_acc: 0.8564\n",
      "Epoch 40/40\n",
      "15000/15000 [==============================] - 1s 37us/sample - loss: 1.5824e-04 - acc: 1.0000 - val_loss: 1.0645 - val_acc: 0.8562\n"
     ]
    }
   ],
   "source": [
    "history = model.fit(partial_x_train, partial_y_train,\n",
    "                     epochs=40,\n",
    "                     batch_size=512,\n",
    "                     validation_data=(x_val, y_val),\n",
    "                     verbose=1)"
   ]
  },
  {
   "cell_type": "code",
   "execution_count": 54,
   "metadata": {},
   "outputs": [
    {
     "data": {
      "text/plain": [
       "dict_keys(['loss', 'acc', 'val_loss', 'val_acc'])"
      ]
     },
     "execution_count": 54,
     "metadata": {},
     "output_type": "execute_result"
    }
   ],
   "source": [
    "history_dict = history.history\n",
    "history_dict.keys()"
   ]
  },
  {
   "cell_type": "code",
   "execution_count": 57,
   "metadata": {},
   "outputs": [],
   "source": [
    "import matplotlib.pyplot as plt"
   ]
  },
  {
   "cell_type": "code",
   "execution_count": 61,
   "metadata": {},
   "outputs": [
    {
     "data": {
      "image/png": "[encoded data removed]",
      "text/plain": [
       "<Figure size 432x288 with 1 Axes>"
      ]
     },
     "metadata": {},
     "output_type": "display_data"
    }
   ],
   "source": [
    "# ロス、正解率を可視化する\n",
    "\n",
    "acc = history.history[\"acc\"]\n",
    "val_acc = history.history[\"val_acc\"]\n",
    "loss = history.history[\"loss\"]\n",
    "val_loss = history.history[\"val_loss\"]\n",
    "\n",
    "epochs = range(1, len(acc) + 1)\n",
    "\n",
    "plt.plot(epochs, loss, \"ro\", label=\"Training loss\")\n",
    "plt.plot(epochs, val_loss, \"r\", label=\"validation loss\")\n",
    "plt.title(\"Training and validation loss\")\n",
    "plt.xlabel(\"Epochs\")\n",
    "plt.ylabel(\"Loss\")\n",
    "plt.legend()\n",
    "plt.show()"
   ]
  },
  {
   "cell_type": "code",
   "execution_count": 60,
   "metadata": {},
   "outputs": [
    {
     "data": {
      "image/png": "[encoded data removed]",
      "text/plain": [
       "<Figure size 432x288 with 1 Axes>"
      ]
     },
     "metadata": {},
     "output_type": "display_data"
    }
   ],
   "source": [
    "plt.clf()\n",
    "acc_values = history_dict[\"acc\"]\n",
    "val_acc_values = history_dict[\"val_acc\"]\n",
    "\n",
    "plt.plot(epochs, acc, \"ro\", label=\"Traing acc\")\n",
    "plt.plot(epochs, val_acc, \"r\", label=\"Validation acc\")\n",
    "plt.title(\"Training and validation accuracy\")\n",
    "plt.xlabel(\"Epochs\")\n",
    "plt.ylabel(\"Accuracy\")\n",
    "plt.legend()\n",
    "plt.show()"
   ]
  },
  {
   "cell_type": "markdown",
   "metadata": {},
   "source": [
    "# 【問題8】自然言語処理の応用事例\n",
    "目的\n",
    "\n",
    "NLPの情報共有 現在自然言語処理はどのような企業でどのように活用されているか？\n",
    "1つ例をあげて3~5分で発表してください。\n",
    "\n",
    "Gunosyでは自然言語処理を用いて記事を政治やスポーツ等に、分類しており各ユーザーに適している記事を配信しているらしい。"
   ]
  }
 ],
 "metadata": {
  "kernelspec": {
   "display_name": "Python 3",
   "language": "python",
   "name": "python3"
  },
  "language_info": {
   "codemirror_mode": {
    "name": "ipython",
    "version": 3
   },
   "file_extension": ".py",
   "mimetype": "text/x-python",
   "name": "python",
   "nbconvert_exporter": "python",
   "pygments_lexer": "ipython3",
   "version": "3.6.5"
  },
  "nbTranslate": {
   "displayLangs": [
    "*"
   ],
   "hotkey": "alt-t",
   "langInMainMenu": true,
   "sourceLang": "en",
   "targetLang": "fr",
   "useGoogleTranslate": true
  },
  "nteract": {
   "version": "nteract-on-jupyter@2.0.12"
  },
  "varInspector": {
   "cols": {
    "lenName": 16,
    "lenType": 16,
    "lenVar": 40
   },
   "kernels_config": {
    "python": {
     "delete_cmd_postfix": "",
     "delete_cmd_prefix": "del ",
     "library": "var_list.py",
     "varRefreshCmd": "print(var_dic_list())"
    },
    "r": {
     "delete_cmd_postfix": ") ",
     "delete_cmd_prefix": "rm(",
     "library": "var_list.r",
     "varRefreshCmd": "cat(var_dic_list()) "
    }
   },
   "types_to_exclude": [
    "module",
    "function",
    "builtin_function_or_method",
    "instance",
    "_Feature"
   ],
   "window_display": false
  }
 },
 "nbformat": 4,
 "nbformat_minor": 2
}
