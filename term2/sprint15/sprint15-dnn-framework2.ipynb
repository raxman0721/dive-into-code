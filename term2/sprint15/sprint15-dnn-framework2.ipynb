{
 "cells": [
  {
   "cell_type": "markdown",
   "metadata": {},
   "source": [
    "# 【問題1】公式Exampleを分担して実行\n",
    "\n",
    "## TensorFLowの公式Exampleを分担して実行してください。\n",
    "\n",
    "以下の中から1人ひとつ選び実行し、その結果を簡単に発表してください。\n",
    "\n",
    "**research**\n",
    "\n",
    "定番のモデルから最新のモデルまで多様なコードが公開されています。\n",
    "\n",
    "[models/research at master · tensorflow/models](https://github.com/tensorflow/models/tree/master/research)\n",
    "\n",
    "**tutorials**\n",
    "\n",
    "TensorFLowのチュートリアルとして用意された簡単なモデルが含まれています。\n",
    "\n",
    "[models/tutorials at master · tensorflow/models](https://github.com/tensorflow/models/tree/master/tutorials)\n",
    "\n"
   ]
  },
  {
   "cell_type": "markdown",
   "metadata": {},
   "source": [
    "## インポート"
   ]
  },
  {
   "cell_type": "code",
   "execution_count": 1,
   "metadata": {
    "ExecuteTime": {
     "end_time": "2019-06-30T07:27:25.312536Z",
     "start_time": "2019-06-30T07:27:23.446050Z"
    }
   },
   "outputs": [
    {
     "name": "stderr",
     "output_type": "stream",
     "text": [
      "Using TensorFlow backend.\n"
     ]
    }
   ],
   "source": [
    "from tqdm import tqdm_notebook as tqdm\n",
    "import pyprind\n",
    "import numpy as np\n",
    "import pandas as pd\n",
    "import seaborn as sns\n",
    "from sklearn.model_selection import train_test_split\n",
    "from sklearn.metrics import accuracy_score\n",
    "from sklearn.metrics import mean_squared_error\n",
    "from sklearn.metrics import r2_score\n",
    "import matplotlib.pyplot as plt\n",
    "from keras.datasets import fashion_mnist\n",
    "import tensorflow as tf\n",
    "from tensorflow.keras import models\n",
    "from tensorflow.keras import layers\n",
    "from tensorflow.keras import optimizers\n",
    "%matplotlib inline\n",
    "from tensorflow import keras\n",
    "import os"
   ]
  },
  {
   "cell_type": "markdown",
   "metadata": {},
   "source": [
    "## **Save and restore models**"
   ]
  },
  {
   "cell_type": "markdown",
   "metadata": {},
   "source": [
    "### 重みの保存"
   ]
  },
  {
   "cell_type": "code",
   "execution_count": 2,
   "metadata": {
    "ExecuteTime": {
     "end_time": "2019-06-30T07:27:25.616030Z",
     "start_time": "2019-06-30T07:27:25.314654Z"
    }
   },
   "outputs": [],
   "source": [
    "(train_images, train_labels), (test_images, test_labels) = tf.keras.datasets.mnist.load_data()\n",
    "\n",
    "train_labels = train_labels[:1000]\n",
    "test_labels = test_labels[:1000]\n",
    "\n",
    "train_images = train_images[:1000].reshape(-1, 28 * 28) / 255.0\n",
    "test_images = test_images[:1000].reshape(-1, 28 * 28) / 255.0"
   ]
  },
  {
   "cell_type": "code",
   "execution_count": 3,
   "metadata": {
    "ExecuteTime": {
     "end_time": "2019-06-30T07:27:25.754555Z",
     "start_time": "2019-06-30T07:27:25.618337Z"
    }
   },
   "outputs": [
    {
     "name": "stdout",
     "output_type": "stream",
     "text": [
      "WARNING:tensorflow:From /Users/takahashiakira/.pyenv/versions/anaconda3-2019.03/lib/python3.7/site-packages/tensorflow/python/ops/resource_variable_ops.py:435: colocate_with (from tensorflow.python.framework.ops) is deprecated and will be removed in a future version.\n",
      "Instructions for updating:\n",
      "Colocations handled automatically by placer.\n",
      "WARNING:tensorflow:From /Users/takahashiakira/.pyenv/versions/anaconda3-2019.03/lib/python3.7/site-packages/tensorflow/python/keras/layers/core.py:143: calling dropout (from tensorflow.python.ops.nn_ops) with keep_prob is deprecated and will be removed in a future version.\n",
      "Instructions for updating:\n",
      "Please use `rate` instead of `keep_prob`. Rate should be set to `rate = 1 - keep_prob`.\n",
      "_________________________________________________________________\n",
      "Layer (type)                 Output Shape              Param #   \n",
      "=================================================================\n",
      "dense (Dense)                (None, 512)               401920    \n",
      "_________________________________________________________________\n",
      "dropout (Dropout)            (None, 512)               0         \n",
      "_________________________________________________________________\n",
      "dense_1 (Dense)              (None, 10)                5130      \n",
      "=================================================================\n",
      "Total params: 407,050\n",
      "Trainable params: 407,050\n",
      "Non-trainable params: 0\n",
      "_________________________________________________________________\n"
     ]
    }
   ],
   "source": [
    "# 短いシーケンシャルモデルを返す関数\n",
    "def create_model():\n",
    "    model = tf.keras.models.Sequential([\n",
    "        keras.layers.Dense(512, activation=tf.nn.relu, input_shape=(784,)),\n",
    "        keras.layers.Dropout(rate=0.2, seed=0),\n",
    "        keras.layers.Dense(10, activation=tf.keras.activations.softmax)\n",
    "    ])\n",
    "    model.compile(optimizer=tf.keras.optimizers.Adam(),\n",
    "                  loss=tf.keras.losses.sparse_categorical_crossentropy,\n",
    "                  metrics=['accuracy'])\n",
    "    \n",
    "    return model\n",
    "\n",
    "\n",
    "# 基本的なモデルのインスタンスを作る\n",
    "model = create_model()\n",
    "model.summary()"
   ]
  },
  {
   "cell_type": "code",
   "execution_count": 4,
   "metadata": {
    "ExecuteTime": {
     "end_time": "2019-06-30T07:27:27.846993Z",
     "start_time": "2019-06-30T07:27:25.756556Z"
    },
    "scrolled": true
   },
   "outputs": [
    {
     "name": "stdout",
     "output_type": "stream",
     "text": [
      "Train on 1000 samples, validate on 1000 samples\n",
      "Epoch 1/10\n",
      " 544/1000 [===============>..............] - ETA: 0s - loss: 1.5004 - acc: 0.5312\n",
      "Epoch 00001: saving model to training_1/cp.ckpt\n",
      "WARNING:tensorflow:This model was compiled with a Keras optimizer (<tensorflow.python.keras.optimizers.Adam object at 0x1a3a284d30>) but is being saved in TensorFlow format with `save_weights`. The model's weights will be saved, but unlike with TensorFlow optimizers in the TensorFlow format the optimizer's state will not be saved.\n",
      "\n",
      "Consider using a TensorFlow optimizer from `tf.train`.\n",
      "WARNING:tensorflow:From /Users/takahashiakira/.pyenv/versions/anaconda3-2019.03/lib/python3.7/site-packages/tensorflow/python/keras/engine/network.py:1436: update_checkpoint_state (from tensorflow.python.training.checkpoint_management) is deprecated and will be removed in a future version.\n",
      "Instructions for updating:\n",
      "Use tf.train.CheckpointManager to manage checkpoints rather than manually editing the Checkpoint proto.\n",
      "1000/1000 [==============================] - 0s 378us/sample - loss: 1.1330 - acc: 0.6620 - val_loss: 0.7281 - val_acc: 0.7800\n",
      "Epoch 2/10\n",
      " 576/1000 [================>.............] - ETA: 0s - loss: 0.4971 - acc: 0.8559\n",
      "Epoch 00002: saving model to training_1/cp.ckpt\n",
      "WARNING:tensorflow:This model was compiled with a Keras optimizer (<tensorflow.python.keras.optimizers.Adam object at 0x1a3a284d30>) but is being saved in TensorFlow format with `save_weights`. The model's weights will be saved, but unlike with TensorFlow optimizers in the TensorFlow format the optimizer's state will not be saved.\n",
      "\n",
      "Consider using a TensorFlow optimizer from `tf.train`.\n",
      "1000/1000 [==============================] - 0s 126us/sample - loss: 0.4337 - acc: 0.8800 - val_loss: 0.5721 - val_acc: 0.8160\n",
      "Epoch 3/10\n",
      " 576/1000 [================>.............] - ETA: 0s - loss: 0.3351 - acc: 0.9062\n",
      "Epoch 00003: saving model to training_1/cp.ckpt\n",
      "WARNING:tensorflow:This model was compiled with a Keras optimizer (<tensorflow.python.keras.optimizers.Adam object at 0x1a3a284d30>) but is being saved in TensorFlow format with `save_weights`. The model's weights will be saved, but unlike with TensorFlow optimizers in the TensorFlow format the optimizer's state will not be saved.\n",
      "\n",
      "Consider using a TensorFlow optimizer from `tf.train`.\n",
      "1000/1000 [==============================] - 0s 128us/sample - loss: 0.2961 - acc: 0.9230 - val_loss: 0.4648 - val_acc: 0.8520\n",
      "Epoch 4/10\n",
      " 608/1000 [=================>............] - ETA: 0s - loss: 0.2283 - acc: 0.9474\n",
      "Epoch 00004: saving model to training_1/cp.ckpt\n",
      "WARNING:tensorflow:This model was compiled with a Keras optimizer (<tensorflow.python.keras.optimizers.Adam object at 0x1a3a284d30>) but is being saved in TensorFlow format with `save_weights`. The model's weights will be saved, but unlike with TensorFlow optimizers in the TensorFlow format the optimizer's state will not be saved.\n",
      "\n",
      "Consider using a TensorFlow optimizer from `tf.train`.\n",
      "1000/1000 [==============================] - 0s 119us/sample - loss: 0.2069 - acc: 0.9510 - val_loss: 0.4681 - val_acc: 0.8440\n",
      "Epoch 5/10\n",
      " 672/1000 [===================>..........] - ETA: 0s - loss: 0.1539 - acc: 0.9643\n",
      "Epoch 00005: saving model to training_1/cp.ckpt\n",
      "WARNING:tensorflow:This model was compiled with a Keras optimizer (<tensorflow.python.keras.optimizers.Adam object at 0x1a3a284d30>) but is being saved in TensorFlow format with `save_weights`. The model's weights will be saved, but unlike with TensorFlow optimizers in the TensorFlow format the optimizer's state will not be saved.\n",
      "\n",
      "Consider using a TensorFlow optimizer from `tf.train`.\n",
      "1000/1000 [==============================] - 0s 115us/sample - loss: 0.1552 - acc: 0.9650 - val_loss: 0.4115 - val_acc: 0.8640\n",
      "Epoch 6/10\n",
      " 544/1000 [===============>..............] - ETA: 0s - loss: 0.1202 - acc: 0.9724\n",
      "Epoch 00006: saving model to training_1/cp.ckpt\n",
      "WARNING:tensorflow:This model was compiled with a Keras optimizer (<tensorflow.python.keras.optimizers.Adam object at 0x1a3a284d30>) but is being saved in TensorFlow format with `save_weights`. The model's weights will be saved, but unlike with TensorFlow optimizers in the TensorFlow format the optimizer's state will not be saved.\n",
      "\n",
      "Consider using a TensorFlow optimizer from `tf.train`.\n",
      "1000/1000 [==============================] - 0s 137us/sample - loss: 0.1202 - acc: 0.9750 - val_loss: 0.4252 - val_acc: 0.8660\n",
      "Epoch 7/10\n",
      " 576/1000 [================>.............] - ETA: 0s - loss: 0.0848 - acc: 0.9931\n",
      "Epoch 00007: saving model to training_1/cp.ckpt\n",
      "WARNING:tensorflow:This model was compiled with a Keras optimizer (<tensorflow.python.keras.optimizers.Adam object at 0x1a3a284d30>) but is being saved in TensorFlow format with `save_weights`. The model's weights will be saved, but unlike with TensorFlow optimizers in the TensorFlow format the optimizer's state will not be saved.\n",
      "\n",
      "Consider using a TensorFlow optimizer from `tf.train`.\n",
      "1000/1000 [==============================] - 0s 123us/sample - loss: 0.0850 - acc: 0.9890 - val_loss: 0.3992 - val_acc: 0.8650\n",
      "Epoch 8/10\n",
      " 640/1000 [==================>...........] - ETA: 0s - loss: 0.0636 - acc: 0.9969\n",
      "Epoch 00008: saving model to training_1/cp.ckpt\n",
      "WARNING:tensorflow:This model was compiled with a Keras optimizer (<tensorflow.python.keras.optimizers.Adam object at 0x1a3a284d30>) but is being saved in TensorFlow format with `save_weights`. The model's weights will be saved, but unlike with TensorFlow optimizers in the TensorFlow format the optimizer's state will not be saved.\n",
      "\n",
      "Consider using a TensorFlow optimizer from `tf.train`.\n",
      "1000/1000 [==============================] - 0s 137us/sample - loss: 0.0657 - acc: 0.9940 - val_loss: 0.4070 - val_acc: 0.8630\n",
      "Epoch 9/10\n",
      " 608/1000 [=================>............] - ETA: 0s - loss: 0.0470 - acc: 1.0000\n",
      "Epoch 00009: saving model to training_1/cp.ckpt\n",
      "WARNING:tensorflow:This model was compiled with a Keras optimizer (<tensorflow.python.keras.optimizers.Adam object at 0x1a3a284d30>) but is being saved in TensorFlow format with `save_weights`. The model's weights will be saved, but unlike with TensorFlow optimizers in the TensorFlow format the optimizer's state will not be saved.\n",
      "\n",
      "Consider using a TensorFlow optimizer from `tf.train`.\n",
      "1000/1000 [==============================] - 0s 135us/sample - loss: 0.0464 - acc: 0.9970 - val_loss: 0.4074 - val_acc: 0.8650\n",
      "Epoch 10/10\n",
      " 608/1000 [=================>............] - ETA: 0s - loss: 0.0344 - acc: 1.0000\n",
      "Epoch 00010: saving model to training_1/cp.ckpt\n",
      "WARNING:tensorflow:This model was compiled with a Keras optimizer (<tensorflow.python.keras.optimizers.Adam object at 0x1a3a284d30>) but is being saved in TensorFlow format with `save_weights`. The model's weights will be saved, but unlike with TensorFlow optimizers in the TensorFlow format the optimizer's state will not be saved.\n",
      "\n",
      "Consider using a TensorFlow optimizer from `tf.train`.\n",
      "1000/1000 [==============================] - 0s 121us/sample - loss: 0.0356 - acc: 1.0000 - val_loss: 0.4071 - val_acc: 0.8690\n"
     ]
    },
    {
     "data": {
      "text/plain": [
       "<tensorflow.python.keras.callbacks.History at 0x1a3a7fce10>"
      ]
     },
     "execution_count": 4,
     "metadata": {},
     "output_type": "execute_result"
    }
   ],
   "source": [
    "# まずは重み等を保存するファイルを作成する。\n",
    "checkpoint_path = \"training_1/cp.ckpt\"\n",
    "checkpoint_dir = os.path.dirname(checkpoint_path)\n",
    "\n",
    "# チェックポイントコールバックを作る\n",
    "cp_callback = tf.keras.callbacks.ModelCheckpoint(checkpoint_path,\n",
    "                                                 save_weights_only=True,\n",
    "                                                 verbose=1)\n",
    "#モデルを作成\n",
    "model = create_model()\n",
    "# 学習\n",
    "model.fit(train_images, train_labels,  epochs = 10,\n",
    "          validation_data = (test_images,test_labels),\n",
    "          callbacks = [cp_callback])  # 訓練にコールバックを渡す\n",
    "\n",
    "# オプティマイザの状態保存についての警告が表示されるかもしれません。\n",
    "# これらの警告は（このノートブックで発生する同様な警告を含めて）\n",
    "# 古い用法を非推奨にするためのもので、無視して構いません。\n"
   ]
  },
  {
   "cell_type": "code",
   "execution_count": 5,
   "metadata": {
    "ExecuteTime": {
     "end_time": "2019-06-30T07:27:27.975203Z",
     "start_time": "2019-06-30T07:27:27.849054Z"
    }
   },
   "outputs": [
    {
     "name": "stdout",
     "output_type": "stream",
     "text": [
      "checkpoint                  cp.ckpt.index\r\n",
      "cp.ckpt.data-00000-of-00001\r\n"
     ]
    }
   ],
   "source": [
    "# ファイルを確認すると新しいファイルが出来ている。\n",
    "!ls {checkpoint_dir}"
   ]
  },
  {
   "cell_type": "code",
   "execution_count": 6,
   "metadata": {
    "ExecuteTime": {
     "end_time": "2019-06-30T07:27:28.329031Z",
     "start_time": "2019-06-30T07:27:27.977673Z"
    }
   },
   "outputs": [
    {
     "name": "stdout",
     "output_type": "stream",
     "text": [
      "1000/1000 [==============================] - 0s 79us/sample - loss: 2.3193 - acc: 0.0870\n",
      "Untrained model, accuracy:  8.70%\n"
     ]
    }
   ],
   "source": [
    "# また0からファイルを作成する。\n",
    "model = create_model()\n",
    "\n",
    "#このmodelは学習していないので当たり前だけどそのまま予測しても精度が出ない。\n",
    "loss, acc = model.evaluate(test_images, test_labels)\n",
    "print(\"Untrained model, accuracy: {:5.2f}%\".format(100*acc))"
   ]
  },
  {
   "cell_type": "code",
   "execution_count": 7,
   "metadata": {
    "ExecuteTime": {
     "end_time": "2019-06-30T07:27:28.429626Z",
     "start_time": "2019-06-30T07:27:28.330982Z"
    }
   },
   "outputs": [
    {
     "name": "stdout",
     "output_type": "stream",
     "text": [
      "1000/1000 [==============================] - 0s 29us/sample - loss: 0.4071 - acc: 0.8690\n",
      "Restored model, accuracy: 86.90%\n"
     ]
    }
   ],
   "source": [
    "# 学習はせずにモデルをロードする。\n",
    "model.load_weights(checkpoint_path)\n",
    "loss,acc = model.evaluate(test_images, test_labels)\n",
    "print(\"Restored model, accuracy: {:5.2f}%\".format(100*acc))"
   ]
  },
  {
   "cell_type": "markdown",
   "metadata": {},
   "source": [
    "### エポックごとに重みをセーブする。"
   ]
  },
  {
   "cell_type": "code",
   "execution_count": 8,
   "metadata": {
    "ExecuteTime": {
     "end_time": "2019-06-30T07:27:35.267643Z",
     "start_time": "2019-06-30T07:27:28.432678Z"
    },
    "scrolled": true
   },
   "outputs": [
    {
     "name": "stdout",
     "output_type": "stream",
     "text": [
      "\n",
      "Epoch 00005: saving model to training_2/cp-0005.ckpt\n",
      "WARNING:tensorflow:This model was compiled with a Keras optimizer (<tensorflow.python.keras.optimizers.Adam object at 0x1a3c293d68>) but is being saved in TensorFlow format with `save_weights`. The model's weights will be saved, but unlike with TensorFlow optimizers in the TensorFlow format the optimizer's state will not be saved.\n",
      "\n",
      "Consider using a TensorFlow optimizer from `tf.train`.\n",
      "\n",
      "Epoch 00010: saving model to training_2/cp-0010.ckpt\n",
      "WARNING:tensorflow:This model was compiled with a Keras optimizer (<tensorflow.python.keras.optimizers.Adam object at 0x1a3c293d68>) but is being saved in TensorFlow format with `save_weights`. The model's weights will be saved, but unlike with TensorFlow optimizers in the TensorFlow format the optimizer's state will not be saved.\n",
      "\n",
      "Consider using a TensorFlow optimizer from `tf.train`.\n",
      "\n",
      "Epoch 00015: saving model to training_2/cp-0015.ckpt\n",
      "WARNING:tensorflow:This model was compiled with a Keras optimizer (<tensorflow.python.keras.optimizers.Adam object at 0x1a3c293d68>) but is being saved in TensorFlow format with `save_weights`. The model's weights will be saved, but unlike with TensorFlow optimizers in the TensorFlow format the optimizer's state will not be saved.\n",
      "\n",
      "Consider using a TensorFlow optimizer from `tf.train`.\n",
      "\n",
      "Epoch 00020: saving model to training_2/cp-0020.ckpt\n",
      "WARNING:tensorflow:This model was compiled with a Keras optimizer (<tensorflow.python.keras.optimizers.Adam object at 0x1a3c293d68>) but is being saved in TensorFlow format with `save_weights`. The model's weights will be saved, but unlike with TensorFlow optimizers in the TensorFlow format the optimizer's state will not be saved.\n",
      "\n",
      "Consider using a TensorFlow optimizer from `tf.train`.\n",
      "\n",
      "Epoch 00025: saving model to training_2/cp-0025.ckpt\n",
      "WARNING:tensorflow:This model was compiled with a Keras optimizer (<tensorflow.python.keras.optimizers.Adam object at 0x1a3c293d68>) but is being saved in TensorFlow format with `save_weights`. The model's weights will be saved, but unlike with TensorFlow optimizers in the TensorFlow format the optimizer's state will not be saved.\n",
      "\n",
      "Consider using a TensorFlow optimizer from `tf.train`.\n",
      "\n",
      "Epoch 00030: saving model to training_2/cp-0030.ckpt\n",
      "WARNING:tensorflow:This model was compiled with a Keras optimizer (<tensorflow.python.keras.optimizers.Adam object at 0x1a3c293d68>) but is being saved in TensorFlow format with `save_weights`. The model's weights will be saved, but unlike with TensorFlow optimizers in the TensorFlow format the optimizer's state will not be saved.\n",
      "\n",
      "Consider using a TensorFlow optimizer from `tf.train`.\n",
      "\n",
      "Epoch 00035: saving model to training_2/cp-0035.ckpt\n",
      "WARNING:tensorflow:This model was compiled with a Keras optimizer (<tensorflow.python.keras.optimizers.Adam object at 0x1a3c293d68>) but is being saved in TensorFlow format with `save_weights`. The model's weights will be saved, but unlike with TensorFlow optimizers in the TensorFlow format the optimizer's state will not be saved.\n",
      "\n",
      "Consider using a TensorFlow optimizer from `tf.train`.\n",
      "\n",
      "Epoch 00040: saving model to training_2/cp-0040.ckpt\n",
      "WARNING:tensorflow:This model was compiled with a Keras optimizer (<tensorflow.python.keras.optimizers.Adam object at 0x1a3c293d68>) but is being saved in TensorFlow format with `save_weights`. The model's weights will be saved, but unlike with TensorFlow optimizers in the TensorFlow format the optimizer's state will not be saved.\n",
      "\n",
      "Consider using a TensorFlow optimizer from `tf.train`.\n",
      "\n",
      "Epoch 00045: saving model to training_2/cp-0045.ckpt\n",
      "WARNING:tensorflow:This model was compiled with a Keras optimizer (<tensorflow.python.keras.optimizers.Adam object at 0x1a3c293d68>) but is being saved in TensorFlow format with `save_weights`. The model's weights will be saved, but unlike with TensorFlow optimizers in the TensorFlow format the optimizer's state will not be saved.\n",
      "\n",
      "Consider using a TensorFlow optimizer from `tf.train`.\n",
      "\n",
      "Epoch 00050: saving model to training_2/cp-0050.ckpt\n",
      "WARNING:tensorflow:This model was compiled with a Keras optimizer (<tensorflow.python.keras.optimizers.Adam object at 0x1a3c293d68>) but is being saved in TensorFlow format with `save_weights`. The model's weights will be saved, but unlike with TensorFlow optimizers in the TensorFlow format the optimizer's state will not be saved.\n",
      "\n",
      "Consider using a TensorFlow optimizer from `tf.train`.\n"
     ]
    },
    {
     "data": {
      "text/plain": [
       "<tensorflow.python.keras.callbacks.History at 0x1a3c8c09b0>"
      ]
     },
     "execution_count": 8,
     "metadata": {},
     "output_type": "execute_result"
    }
   ],
   "source": [
    "# ファイル名に(`str.format`を使って)エポック数を埋め込みます\n",
    "checkpoint_path = \"training_2/cp-{epoch:04d}.ckpt\"\n",
    "checkpoint_dir = os.path.dirname(checkpoint_path)\n",
    "\n",
    "cp_callback = tf.keras.callbacks.ModelCheckpoint(\n",
    "    checkpoint_path, verbose=1, save_weights_only=True,\n",
    "    # 重みを5エポックごとに保存します\n",
    "    period=5)\n",
    "\n",
    "model = create_model()\n",
    "model.fit(train_images, train_labels,\n",
    "          epochs = 50, callbacks = [cp_callback],\n",
    "          validation_data = (test_images,test_labels),\n",
    "          verbose=0)\n"
   ]
  },
  {
   "cell_type": "code",
   "execution_count": 9,
   "metadata": {
    "ExecuteTime": {
     "end_time": "2019-06-30T07:27:35.397870Z",
     "start_time": "2019-06-30T07:27:35.270495Z"
    }
   },
   "outputs": [
    {
     "name": "stdout",
     "output_type": "stream",
     "text": [
      "checkpoint                       cp-0030.ckpt.data-00000-of-00001\r\n",
      "cp-0005.ckpt.data-00000-of-00001 cp-0030.ckpt.index\r\n",
      "cp-0005.ckpt.index               cp-0035.ckpt.data-00000-of-00001\r\n",
      "cp-0010.ckpt.data-00000-of-00001 cp-0035.ckpt.index\r\n",
      "cp-0010.ckpt.index               cp-0040.ckpt.data-00000-of-00001\r\n",
      "cp-0015.ckpt.data-00000-of-00001 cp-0040.ckpt.index\r\n",
      "cp-0015.ckpt.index               cp-0045.ckpt.data-00000-of-00001\r\n",
      "cp-0020.ckpt.data-00000-of-00001 cp-0045.ckpt.index\r\n",
      "cp-0020.ckpt.index               cp-0050.ckpt.data-00000-of-00001\r\n",
      "cp-0025.ckpt.data-00000-of-00001 cp-0050.ckpt.index\r\n",
      "cp-0025.ckpt.index\r\n"
     ]
    }
   ],
   "source": [
    "# いっぱいチェックポイントがある。\n",
    "! ls {checkpoint_dir}"
   ]
  },
  {
   "cell_type": "code",
   "execution_count": 10,
   "metadata": {
    "ExecuteTime": {
     "end_time": "2019-06-30T07:27:35.410223Z",
     "start_time": "2019-06-30T07:27:35.400935Z"
    }
   },
   "outputs": [
    {
     "data": {
      "text/plain": [
       "'training_2/cp-0050.ckpt'"
      ]
     },
     "execution_count": 10,
     "metadata": {},
     "output_type": "execute_result"
    }
   ],
   "source": [
    "#最新のモデルを選択\n",
    "latest = tf.train.latest_checkpoint(checkpoint_dir)\n",
    "latest"
   ]
  },
  {
   "cell_type": "code",
   "execution_count": 11,
   "metadata": {
    "ExecuteTime": {
     "end_time": "2019-06-30T07:27:35.984055Z",
     "start_time": "2019-06-30T07:27:35.412767Z"
    }
   },
   "outputs": [
    {
     "name": "stdout",
     "output_type": "stream",
     "text": [
      "1000/1000 [==============================] - 0s 110us/sample - loss: 0.5064 - acc: 0.8730\n",
      "Restored model, accuracy: 87.30%\n"
     ]
    }
   ],
   "source": [
    "model = create_model()\n",
    "model.load_weights(latest)\n",
    "loss, acc = model.evaluate(test_images, test_labels)\n",
    "print(\"Restored model, accuracy: {:5.2f}%\".format(100*acc))"
   ]
  },
  {
   "cell_type": "markdown",
   "metadata": {},
   "source": [
    "### 手動で重みを保存す"
   ]
  },
  {
   "cell_type": "code",
   "execution_count": 12,
   "metadata": {
    "ExecuteTime": {
     "end_time": "2019-06-30T07:27:36.711049Z",
     "start_time": "2019-06-30T07:27:35.986859Z"
    }
   },
   "outputs": [
    {
     "name": "stdout",
     "output_type": "stream",
     "text": [
      "WARNING:tensorflow:This model was compiled with a Keras optimizer (<tensorflow.python.keras.optimizers.Adam object at 0x1a3c226e80>) but is being saved in TensorFlow format with `save_weights`. The model's weights will be saved, but unlike with TensorFlow optimizers in the TensorFlow format the optimizer's state will not be saved.\n",
      "\n",
      "Consider using a TensorFlow optimizer from `tf.train`.\n",
      "1000/1000 [==============================] - 0s 93us/sample - loss: 0.5064 - acc: 0.8730\n",
      "Restored model, accuracy: 87.30%\n"
     ]
    }
   ],
   "source": [
    "# 重みの保存\n",
    "model.save_weights('./checkpoints/my_checkpoint')\n",
    "\n",
    "# 重みの復元\n",
    "model = create_model()\n",
    "model.load_weights('./checkpoints/my_checkpoint')\n",
    "\n",
    "loss,acc = model.evaluate(test_images, test_labels)\n",
    "print(\"Restored model, accuracy: {:5.2f}%\".format(100*acc))"
   ]
  },
  {
   "cell_type": "markdown",
   "metadata": {},
   "source": [
    "### モデル全体の保存"
   ]
  },
  {
   "cell_type": "code",
   "execution_count": 13,
   "metadata": {
    "ExecuteTime": {
     "end_time": "2019-06-30T07:27:38.331637Z",
     "start_time": "2019-06-30T07:27:36.712370Z"
    }
   },
   "outputs": [
    {
     "name": "stdout",
     "output_type": "stream",
     "text": [
      "Epoch 1/5\n",
      "1000/1000 [==============================] - 0s 262us/sample - loss: 1.1737 - acc: 0.6540\n",
      "Epoch 2/5\n",
      "1000/1000 [==============================] - 0s 105us/sample - loss: 0.4226 - acc: 0.8860\n",
      "Epoch 3/5\n",
      "1000/1000 [==============================] - 0s 117us/sample - loss: 0.2832 - acc: 0.9290\n",
      "Epoch 4/5\n",
      "1000/1000 [==============================] - 0s 109us/sample - loss: 0.2066 - acc: 0.9500\n",
      "Epoch 5/5\n",
      "1000/1000 [==============================] - 0s 102us/sample - loss: 0.1522 - acc: 0.9710\n"
     ]
    }
   ],
   "source": [
    "model = create_model()\n",
    "\n",
    "model.fit(train_images, train_labels, epochs=5)\n",
    "\n",
    "# モデル全体を１つのHDF5ファイルに保存します。\n",
    "model.save('my_model.h5')"
   ]
  },
  {
   "cell_type": "code",
   "execution_count": 14,
   "metadata": {
    "ExecuteTime": {
     "end_time": "2019-06-30T07:27:38.460124Z",
     "start_time": "2019-06-30T07:27:38.333391Z"
    }
   },
   "outputs": [
    {
     "name": "stdout",
     "output_type": "stream",
     "text": [
      "\u001b[31mIris.csv\u001b[m\u001b[m                      sprint15-dnn-framework2.ipynb\r\n",
      "\u001b[34mcheckpoints\u001b[m\u001b[m                   train.csv\r\n",
      "my_model.h5                   \u001b[34mtraining_1\u001b[m\u001b[m\r\n",
      "\u001b[34msaved_models\u001b[m\u001b[m                  \u001b[34mtraining_2\u001b[m\u001b[m\r\n"
     ]
    }
   ],
   "source": [
    "# なんか出来てる\n",
    "!ls"
   ]
  },
  {
   "cell_type": "code",
   "execution_count": 15,
   "metadata": {
    "ExecuteTime": {
     "end_time": "2019-06-30T07:27:39.496638Z",
     "start_time": "2019-06-30T07:27:38.462237Z"
    }
   },
   "outputs": [
    {
     "name": "stdout",
     "output_type": "stream",
     "text": [
      "_________________________________________________________________\n",
      "Layer (type)                 Output Shape              Param #   \n",
      "=================================================================\n",
      "dense_12 (Dense)             (None, 512)               401920    \n",
      "_________________________________________________________________\n",
      "dropout_6 (Dropout)          (None, 512)               0         \n",
      "_________________________________________________________________\n",
      "dense_13 (Dense)             (None, 10)                5130      \n",
      "=================================================================\n",
      "Total params: 407,050\n",
      "Trainable params: 407,050\n",
      "Non-trainable params: 0\n",
      "_________________________________________________________________\n"
     ]
    }
   ],
   "source": [
    "# 重みとオプティマイザを含む全く同じモデルを再作成\n",
    "new_model = keras.models.load_model('my_model.h5')\n",
    "new_model.summary()"
   ]
  },
  {
   "cell_type": "code",
   "execution_count": 16,
   "metadata": {
    "ExecuteTime": {
     "end_time": "2019-06-30T07:27:39.796343Z",
     "start_time": "2019-06-30T07:27:39.498743Z"
    }
   },
   "outputs": [
    {
     "name": "stdout",
     "output_type": "stream",
     "text": [
      "1000/1000 [==============================] - 0s 105us/sample - loss: 0.4453 - acc: 0.8680\n",
      "Restored model, accuracy: 86.80%\n"
     ]
    }
   ],
   "source": [
    "loss, acc = new_model.evaluate(test_images, test_labels)\n",
    "print(\"Restored model, accuracy: {:5.2f}%\".format(100*acc))"
   ]
  },
  {
   "cell_type": "markdown",
   "metadata": {},
   "source": [
    "この方法では、次のすべてが保存されます。  \n",
    "\n",
    "- 重みの値\n",
    "- モデルの設定（アーキテクチャ）\n",
    "- オプティマイザの設定  \n",
    "Kerasは保存する際にアーキテクチャを調べます。いまのところ、TensorFlowのオプティマイザ（tf.trainに含まれるもの）を保存することはできません。TensorFlowのオプティマイザを使用している場合には、モデルをロードしたあと再コンパイルする必要があり、オプティマイザの状態は失われます。"
   ]
  },
  {
   "cell_type": "code",
   "execution_count": 17,
   "metadata": {
    "ExecuteTime": {
     "end_time": "2019-06-30T07:27:41.405928Z",
     "start_time": "2019-06-30T07:27:39.797656Z"
    }
   },
   "outputs": [
    {
     "name": "stdout",
     "output_type": "stream",
     "text": [
      "Epoch 1/5\n",
      "1000/1000 [==============================] - 0s 282us/sample - loss: 1.1591 - acc: 0.6780\n",
      "Epoch 2/5\n",
      "1000/1000 [==============================] - 0s 98us/sample - loss: 0.4104 - acc: 0.8860\n",
      "Epoch 3/5\n",
      "1000/1000 [==============================] - 0s 108us/sample - loss: 0.2874 - acc: 0.9230\n",
      "Epoch 4/5\n",
      "1000/1000 [==============================] - 0s 103us/sample - loss: 0.2071 - acc: 0.9460\n",
      "Epoch 5/5\n",
      "1000/1000 [==============================] - 0s 102us/sample - loss: 0.1475 - acc: 0.9690\n"
     ]
    },
    {
     "data": {
      "text/plain": [
       "<tensorflow.python.keras.callbacks.History at 0x1a3f659c50>"
      ]
     },
     "execution_count": 17,
     "metadata": {},
     "output_type": "execute_result"
    }
   ],
   "source": [
    "np.random.seed(0)\n",
    "model = create_model()\n",
    "\n",
    "model.fit(train_images, train_labels, epochs=5)"
   ]
  },
  {
   "cell_type": "code",
   "execution_count": 18,
   "metadata": {
    "ExecuteTime": {
     "end_time": "2019-06-30T07:27:42.320695Z",
     "start_time": "2019-06-30T07:27:41.407426Z"
    }
   },
   "outputs": [
    {
     "name": "stdout",
     "output_type": "stream",
     "text": [
      "\n",
      "WARNING: The TensorFlow contrib module will not be included in TensorFlow 2.0.\n",
      "For more information, please see:\n",
      "  * https://github.com/tensorflow/community/blob/master/rfcs/20180907-contrib-sunset.md\n",
      "  * https://github.com/tensorflow/addons\n",
      "If you depend on functionality not listed there, please file an issue.\n",
      "\n",
      "WARNING:tensorflow:This model was compiled with a Keras optimizer (<tensorflow.python.keras.optimizers.Adam object at 0x1a3ec47a58>) but is being saved in TensorFlow format with `save_weights`. The model's weights will be saved, but unlike with TensorFlow optimizers in the TensorFlow format the optimizer's state will not be saved.\n",
      "\n",
      "Consider using a TensorFlow optimizer from `tf.train`.\n",
      "WARNING:tensorflow:Model was compiled with an optimizer, but the optimizer is not from `tf.train` (e.g. `tf.train.AdagradOptimizer`). Only the serving graph was exported. The train and evaluate graphs were not added to the SavedModel.\n",
      "WARNING:tensorflow:From /Users/takahashiakira/.pyenv/versions/anaconda3-2019.03/lib/python3.7/site-packages/tensorflow/python/saved_model/signature_def_utils_impl.py:205: build_tensor_info (from tensorflow.python.saved_model.utils_impl) is deprecated and will be removed in a future version.\n",
      "Instructions for updating:\n",
      "This function will only be available through the v1 compatibility library as tf.compat.v1.saved_model.utils.build_tensor_info or tf.compat.v1.saved_model.build_tensor_info.\n",
      "INFO:tensorflow:Signatures INCLUDED in export for Classify: None\n",
      "INFO:tensorflow:Signatures INCLUDED in export for Regress: None\n",
      "INFO:tensorflow:Signatures INCLUDED in export for Predict: ['serving_default']\n",
      "INFO:tensorflow:Signatures INCLUDED in export for Train: None\n",
      "INFO:tensorflow:Signatures INCLUDED in export for Eval: None\n",
      "INFO:tensorflow:No assets to save.\n",
      "INFO:tensorflow:No assets to write.\n",
      "INFO:tensorflow:SavedModel written to: ./saved_models/1561879662/saved_model.pb\n"
     ]
    }
   ],
   "source": [
    "saved_model_path = tf.contrib.saved_model.save_keras_model(model, \"./saved_models\")"
   ]
  },
  {
   "cell_type": "code",
   "execution_count": 19,
   "metadata": {
    "ExecuteTime": {
     "end_time": "2019-06-30T07:27:42.447662Z",
     "start_time": "2019-06-30T07:27:42.322817Z"
    }
   },
   "outputs": [
    {
     "name": "stdout",
     "output_type": "stream",
     "text": [
      "\u001b[34m1559544252\u001b[m\u001b[m \u001b[34m1559544326\u001b[m\u001b[m \u001b[34m1561871047\u001b[m\u001b[m \u001b[34m1561879214\u001b[m\u001b[m\r\n",
      "\u001b[34m1559544288\u001b[m\u001b[m \u001b[34m1561870725\u001b[m\u001b[m \u001b[34m1561879166\u001b[m\u001b[m \u001b[34m1561879662\u001b[m\u001b[m\r\n"
     ]
    }
   ],
   "source": [
    "!ls saved_models/"
   ]
  },
  {
   "cell_type": "code",
   "execution_count": 20,
   "metadata": {
    "ExecuteTime": {
     "end_time": "2019-06-30T07:27:42.837499Z",
     "start_time": "2019-06-30T07:27:42.450929Z"
    }
   },
   "outputs": [
    {
     "data": {
      "text/plain": [
       "<tensorflow.python.keras.engine.sequential.Sequential at 0x1a36b85b70>"
      ]
     },
     "execution_count": 20,
     "metadata": {},
     "output_type": "execute_result"
    }
   ],
   "source": [
    "new_model = tf.contrib.saved_model.load_keras_model(saved_model_path)\n",
    "new_model"
   ]
  },
  {
   "cell_type": "code",
   "execution_count": 21,
   "metadata": {
    "ExecuteTime": {
     "end_time": "2019-06-30T07:27:43.641202Z",
     "start_time": "2019-06-30T07:27:42.839781Z"
    }
   },
   "outputs": [
    {
     "name": "stdout",
     "output_type": "stream",
     "text": [
      "1000/1000 [==============================] - 0s 122us/sample - loss: 0.4062 - acc: 0.8650\n",
      "Restored model, accuracy: 86.50%\n"
     ]
    }
   ],
   "source": [
    "# モデルを評価する前にコンパイルする必要があります。\n",
    "# モデルをデプロイするだけであればこのステップは不要です。\n",
    "\n",
    "new_model.compile(optimizer=tf.keras.optimizers.Nadam(),\n",
    "              loss=tf.keras.losses.sparse_categorical_crossentropy,\n",
    "              metrics=['accuracy',])\n",
    "\n",
    "# モデルを評価します。\n",
    "loss, acc = new_model.evaluate(test_images, test_labels)\n",
    "print(\"Restored model, accuracy: {:5.2f}%\".format(100*acc))\n"
   ]
  },
  {
   "cell_type": "markdown",
   "metadata": {},
   "source": [
    "なんでコンパイルしてるのかは不明"
   ]
  },
  {
   "cell_type": "markdown",
   "metadata": {},
   "source": [
    "# 【問題2】Iris（2値分類）をKerasで学習"
   ]
  },
  {
   "cell_type": "code",
   "execution_count": 22,
   "metadata": {
    "ExecuteTime": {
     "end_time": "2019-06-30T07:27:43.658853Z",
     "start_time": "2019-06-30T07:27:43.643631Z"
    }
   },
   "outputs": [],
   "source": [
    "\"\"\"\n",
    "tf.kerasで実装したニューラルネットワークを使いIrisデータセットを2値分類する\n",
    "\"\"\"\n",
    "# データセットの読み込み\n",
    "dataset_path =\"Iris.csv\"\n",
    "df = pd.read_csv(dataset_path)\n",
    "# データフレームから条件抽出\n",
    "df = df[(df[\"Species\"] == \"Iris-versicolor\")|(df[\"Species\"] == \"Iris-virginica\")]\n",
    "y = df[\"Species\"]\n",
    "X = df.loc[:, [\"SepalLengthCm\", \"SepalWidthCm\", \"PetalLengthCm\", \"PetalWidthCm\"]]\n",
    "y = np.array(y)\n",
    "X = np.array(X)\n",
    "# ラベルを数値に変換\n",
    "y[y=='Iris-versicolor'] = 0\n",
    "y[y=='Iris-virginica'] = 1\n",
    "y = y.astype(np.int64)[:, np.newaxis]\n",
    "\n",
    "# trainとtestに分割\n",
    "X_train, X_test, y_train, y_test = train_test_split(X, y, test_size=0.2, random_state=0)\n",
    "# さらにtrainとvalに分割\n",
    "X_train, X_val, y_train, y_val = train_test_split(X_train, y_train, test_size=0.2, random_state=0)"
   ]
  },
  {
   "cell_type": "code",
   "execution_count": 23,
   "metadata": {
    "ExecuteTime": {
     "end_time": "2019-06-30T07:27:43.721963Z",
     "start_time": "2019-06-30T07:27:43.663730Z"
    }
   },
   "outputs": [],
   "source": [
    "from tensorflow.keras import backend as K\n",
    "K.clear_session()\n",
    "model = models.Sequential()\n",
    "model.add(layers.Dense(50, activation='relu', input_shape=(4,)))\n",
    "model.add(layers.Dense(100, activation='relu'))\n",
    "model.add(layers.Dense(1, activation='sigmoid'))"
   ]
  },
  {
   "cell_type": "code",
   "execution_count": 24,
   "metadata": {
    "ExecuteTime": {
     "end_time": "2019-06-30T07:27:43.830491Z",
     "start_time": "2019-06-30T07:27:43.725173Z"
    }
   },
   "outputs": [],
   "source": [
    "model.compile(optimizer=optimizers.Adam(lr=1e-2),\n",
    "                     loss='binary_crossentropy',\n",
    "                    metrics=['accuracy'])"
   ]
  },
  {
   "cell_type": "code",
   "execution_count": 25,
   "metadata": {
    "ExecuteTime": {
     "end_time": "2019-06-30T07:27:43.838988Z",
     "start_time": "2019-06-30T07:27:43.832403Z"
    }
   },
   "outputs": [
    {
     "name": "stdout",
     "output_type": "stream",
     "text": [
      "_________________________________________________________________\n",
      "Layer (type)                 Output Shape              Param #   \n",
      "=================================================================\n",
      "dense (Dense)                (None, 50)                250       \n",
      "_________________________________________________________________\n",
      "dense_1 (Dense)              (None, 100)               5100      \n",
      "_________________________________________________________________\n",
      "dense_2 (Dense)              (None, 1)                 101       \n",
      "=================================================================\n",
      "Total params: 5,451\n",
      "Trainable params: 5,451\n",
      "Non-trainable params: 0\n",
      "_________________________________________________________________\n"
     ]
    }
   ],
   "source": [
    "model.summary()"
   ]
  },
  {
   "cell_type": "code",
   "execution_count": 26,
   "metadata": {
    "ExecuteTime": {
     "end_time": "2019-06-30T07:27:44.699291Z",
     "start_time": "2019-06-30T07:27:43.841320Z"
    },
    "scrolled": false
   },
   "outputs": [
    {
     "name": "stdout",
     "output_type": "stream",
     "text": [
      "Train on 64 samples, validate on 16 samples\n",
      "WARNING:tensorflow:From /Users/takahashiakira/.pyenv/versions/anaconda3-2019.03/lib/python3.7/site-packages/tensorflow/python/ops/math_ops.py:3066: to_int32 (from tensorflow.python.ops.math_ops) is deprecated and will be removed in a future version.\n",
      "Instructions for updating:\n",
      "Use tf.cast instead.\n",
      "Epoch 1/30\n",
      "64/64 [==============================] - 0s 4ms/sample - loss: 0.6885 - acc: 0.5312 - val_loss: 1.2984 - val_acc: 0.3750\n",
      "Epoch 2/30\n",
      "64/64 [==============================] - 0s 51us/sample - loss: 1.0182 - acc: 0.5312 - val_loss: 0.6723 - val_acc: 0.3750\n",
      "Epoch 3/30\n",
      "64/64 [==============================] - 0s 58us/sample - loss: 0.6039 - acc: 0.5312 - val_loss: 0.6359 - val_acc: 0.6250\n",
      "Epoch 4/30\n",
      "64/64 [==============================] - 0s 51us/sample - loss: 0.7714 - acc: 0.4688 - val_loss: 0.6069 - val_acc: 0.6250\n",
      "Epoch 5/30\n",
      "64/64 [==============================] - 0s 53us/sample - loss: 0.7227 - acc: 0.4688 - val_loss: 0.5612 - val_acc: 0.8750\n",
      "Epoch 6/30\n",
      "64/64 [==============================] - 0s 56us/sample - loss: 0.5779 - acc: 0.8750 - val_loss: 0.6349 - val_acc: 0.4375\n",
      "Epoch 7/30\n",
      "64/64 [==============================] - 0s 66us/sample - loss: 0.5597 - acc: 0.5625 - val_loss: 0.7260 - val_acc: 0.3750\n",
      "Epoch 8/30\n",
      "64/64 [==============================] - 0s 60us/sample - loss: 0.6033 - acc: 0.5312 - val_loss: 0.7224 - val_acc: 0.3750\n",
      "Epoch 9/30\n",
      "64/64 [==============================] - 0s 56us/sample - loss: 0.5972 - acc: 0.5312 - val_loss: 0.6327 - val_acc: 0.4375\n",
      "Epoch 10/30\n",
      "64/64 [==============================] - 0s 61us/sample - loss: 0.5400 - acc: 0.5625 - val_loss: 0.5338 - val_acc: 0.8125\n",
      "Epoch 11/30\n",
      "64/64 [==============================] - 0s 59us/sample - loss: 0.4927 - acc: 0.8906 - val_loss: 0.4844 - val_acc: 0.8750\n",
      "Epoch 12/30\n",
      "64/64 [==============================] - 0s 55us/sample - loss: 0.4944 - acc: 0.9062 - val_loss: 0.4702 - val_acc: 0.8750\n",
      "Epoch 13/30\n",
      "64/64 [==============================] - 0s 68us/sample - loss: 0.5064 - acc: 0.8438 - val_loss: 0.4523 - val_acc: 0.8750\n",
      "Epoch 14/30\n",
      "64/64 [==============================] - 0s 62us/sample - loss: 0.4824 - acc: 0.8750 - val_loss: 0.4465 - val_acc: 1.0000\n",
      "Epoch 15/30\n",
      "64/64 [==============================] - 0s 55us/sample - loss: 0.4378 - acc: 0.9844 - val_loss: 0.4722 - val_acc: 0.8125\n",
      "Epoch 16/30\n",
      "64/64 [==============================] - 0s 73us/sample - loss: 0.4250 - acc: 0.9062 - val_loss: 0.4999 - val_acc: 0.8125\n",
      "Epoch 17/30\n",
      "64/64 [==============================] - 0s 58us/sample - loss: 0.4301 - acc: 0.7812 - val_loss: 0.4808 - val_acc: 0.8125\n",
      "Epoch 18/30\n",
      "64/64 [==============================] - 0s 48us/sample - loss: 0.4139 - acc: 0.7969 - val_loss: 0.4207 - val_acc: 0.9375\n",
      "Epoch 19/30\n",
      "64/64 [==============================] - 0s 65us/sample - loss: 0.3790 - acc: 0.9219 - val_loss: 0.3682 - val_acc: 1.0000\n",
      "Epoch 20/30\n",
      "64/64 [==============================] - 0s 61us/sample - loss: 0.3607 - acc: 0.9688 - val_loss: 0.3449 - val_acc: 0.9375\n",
      "Epoch 21/30\n",
      "64/64 [==============================] - 0s 58us/sample - loss: 0.3621 - acc: 0.9219 - val_loss: 0.3284 - val_acc: 0.9375\n",
      "Epoch 22/30\n",
      "64/64 [==============================] - 0s 52us/sample - loss: 0.3445 - acc: 0.9219 - val_loss: 0.3193 - val_acc: 1.0000\n",
      "Epoch 23/30\n",
      "64/64 [==============================] - 0s 46us/sample - loss: 0.3133 - acc: 0.9688 - val_loss: 0.3323 - val_acc: 0.9375\n",
      "Epoch 24/30\n",
      "64/64 [==============================] - 0s 57us/sample - loss: 0.3026 - acc: 0.9375 - val_loss: 0.3364 - val_acc: 0.9375\n",
      "Epoch 25/30\n",
      "64/64 [==============================] - 0s 61us/sample - loss: 0.2981 - acc: 0.9219 - val_loss: 0.3016 - val_acc: 0.9375\n",
      "Epoch 26/30\n",
      "64/64 [==============================] - 0s 62us/sample - loss: 0.2750 - acc: 0.9375 - val_loss: 0.2577 - val_acc: 1.0000\n",
      "Epoch 27/30\n",
      "64/64 [==============================] - 0s 50us/sample - loss: 0.2540 - acc: 0.9688 - val_loss: 0.2357 - val_acc: 1.0000\n",
      "Epoch 28/30\n",
      "64/64 [==============================] - 0s 57us/sample - loss: 0.2506 - acc: 0.9844 - val_loss: 0.2217 - val_acc: 1.0000\n",
      "Epoch 29/30\n",
      "64/64 [==============================] - 0s 59us/sample - loss: 0.2366 - acc: 0.9844 - val_loss: 0.2146 - val_acc: 1.0000\n",
      "Epoch 30/30\n",
      "64/64 [==============================] - 0s 58us/sample - loss: 0.2153 - acc: 0.9688 - val_loss: 0.2210 - val_acc: 1.0000\n"
     ]
    }
   ],
   "source": [
    "hist = model.fit(X_train, y_train,validation_data=(X_val, y_val), epochs=30, batch_size=64, verbose=1)"
   ]
  },
  {
   "cell_type": "code",
   "execution_count": 27,
   "metadata": {
    "ExecuteTime": {
     "end_time": "2019-06-30T07:27:45.126571Z",
     "start_time": "2019-06-30T07:27:44.701625Z"
    },
    "scrolled": true
   },
   "outputs": [
    {
     "data": {
      "image/png": "[encoded data removed]",
      "text/plain": [
       "<Figure size 576x288 with 1 Axes>"
      ]
     },
     "metadata": {
      "needs_background": "light"
     },
     "output_type": "display_data"
    }
   ],
   "source": [
    "train_loss = hist.history['loss']\n",
    "val_loss = hist.history['val_loss']\n",
    "\n",
    "plt.figure(figsize=(8, 4))\n",
    "plt.plot(range(len(train_loss)), train_loss, label='train_loss')\n",
    "plt.plot(range(len(val_loss)), val_loss, label='valid_loss')\n",
    "plt.xlabel('epoch', fontsize=16)\n",
    "plt.ylabel('loss', fontsize=16)\n",
    "plt.yscale('log')\n",
    "plt.legend(fontsize=16)\n",
    "plt.show()"
   ]
  },
  {
   "cell_type": "code",
   "execution_count": 28,
   "metadata": {
    "ExecuteTime": {
     "end_time": "2019-06-30T07:27:45.160378Z",
     "start_time": "2019-06-30T07:27:45.128083Z"
    },
    "scrolled": true
   },
   "outputs": [
    {
     "name": "stdout",
     "output_type": "stream",
     "text": [
      "y_pred_proba [[0.22190037]\n",
      " [0.9668453 ]\n",
      " [0.19762173]\n",
      " [0.9745737 ]\n",
      " [0.83750224]\n",
      " [0.9671133 ]\n",
      " [0.5050224 ]\n",
      " [0.7536666 ]\n",
      " [0.975723  ]\n",
      " [0.8820793 ]\n",
      " [0.9353236 ]\n",
      " [0.9431972 ]\n",
      " [0.9685073 ]\n",
      " [0.39341718]\n",
      " [0.09749576]\n",
      " [0.15006939]\n",
      " [0.661341  ]\n",
      " [0.0904719 ]\n",
      " [0.8423634 ]\n",
      " [0.13467616]]\n",
      "y_pred [[0]\n",
      " [1]\n",
      " [0]\n",
      " [1]\n",
      " [1]\n",
      " [1]\n",
      " [1]\n",
      " [1]\n",
      " [1]\n",
      " [1]\n",
      " [1]\n",
      " [1]\n",
      " [1]\n",
      " [0]\n",
      " [0]\n",
      " [0]\n",
      " [1]\n",
      " [0]\n",
      " [1]\n",
      " [0]]\n"
     ]
    }
   ],
   "source": [
    "y_pred_proba = model.predict(X_test)\n",
    "\n",
    "y_pred = np.where(y_pred_proba > 0.5 , 1, 0)\n",
    "print('y_pred_proba', y_pred_proba)\n",
    "print('y_pred', y_pred)"
   ]
  },
  {
   "cell_type": "code",
   "execution_count": 29,
   "metadata": {
    "ExecuteTime": {
     "end_time": "2019-06-30T07:27:45.168204Z",
     "start_time": "2019-06-30T07:27:45.161876Z"
    }
   },
   "outputs": [
    {
     "name": "stdout",
     "output_type": "stream",
     "text": [
      " - 0s - loss: 0.2985 - acc: 0.8500\n"
     ]
    },
    {
     "data": {
      "text/plain": [
       "[0.29847803711891174, 0.85]"
      ]
     },
     "execution_count": 29,
     "metadata": {},
     "output_type": "execute_result"
    }
   ],
   "source": [
    "evaluation = model.evaluate(X_test, y_test, verbose=2)\n",
    "evaluation"
   ]
  },
  {
   "cell_type": "markdown",
   "metadata": {},
   "source": [
    "数も少ないので、普通に間違えてる。"
   ]
  },
  {
   "cell_type": "markdown",
   "metadata": {},
   "source": [
    "# 【問題3】Iris（多値分類）をKerasで学習"
   ]
  },
  {
   "cell_type": "code",
   "execution_count": 30,
   "metadata": {
    "ExecuteTime": {
     "end_time": "2019-06-30T07:27:45.179465Z",
     "start_time": "2019-06-30T07:27:45.169875Z"
    }
   },
   "outputs": [],
   "source": [
    "# データセットの読み込み\n",
    "dataset_path =\"Iris.csv\"\n",
    "df = pd.read_csv(dataset_path)\n",
    "# データフレームから条件抽出\n",
    "y = df[\"Species\"]\n",
    "X = df.loc[:, [\"SepalLengthCm\", \"SepalWidthCm\", \"PetalLengthCm\", \"PetalWidthCm\"]]\n",
    "y = np.array(y)\n",
    "X = np.array(X)\n",
    "# ラベルを数値に変換\n",
    "y = np.array(pd.get_dummies(y))\n",
    "\n",
    "# trainとtestに分割\n",
    "X_train, X_test, y_train, y_test = train_test_split(X, y, test_size=0.2, random_state=0)\n",
    "# さらにtrainとvalに分割\n",
    "X_train, X_val, y_train, y_val = train_test_split(X_train, y_train, test_size=0.2, random_state=0)"
   ]
  },
  {
   "cell_type": "code",
   "execution_count": 31,
   "metadata": {
    "ExecuteTime": {
     "end_time": "2019-06-30T07:27:45.309635Z",
     "start_time": "2019-06-30T07:27:45.180900Z"
    }
   },
   "outputs": [],
   "source": [
    "K.clear_session()\n",
    "model = models.Sequential()\n",
    "model.add(layers.Dense(50, activation='relu', input_shape=(4,)))\n",
    "model.add(layers.Dense(100, activation='relu'))\n",
    "model.add(layers.Dense(3, activation='softmax'))\n",
    "model.compile(optimizer=optimizers.Adam(lr=1e-2),\n",
    "                     loss='categorical_crossentropy',\n",
    "                    metrics=['accuracy'])"
   ]
  },
  {
   "cell_type": "code",
   "execution_count": 32,
   "metadata": {
    "ExecuteTime": {
     "end_time": "2019-06-30T07:27:46.266916Z",
     "start_time": "2019-06-30T07:27:45.311335Z"
    },
    "scrolled": true
   },
   "outputs": [
    {
     "name": "stdout",
     "output_type": "stream",
     "text": [
      "Train on 96 samples, validate on 24 samples\n",
      "Epoch 1/40\n",
      " - 0s - loss: 1.2265 - acc: 0.3125 - val_loss: 0.6794 - val_acc: 0.7083\n",
      "Epoch 2/40\n",
      " - 0s - loss: 0.6005 - acc: 0.7708 - val_loss: 0.5174 - val_acc: 0.7083\n",
      "Epoch 3/40\n",
      " - 0s - loss: 0.4469 - acc: 0.7083 - val_loss: 0.3865 - val_acc: 0.9167\n",
      "Epoch 4/40\n",
      " - 0s - loss: 0.3283 - acc: 0.9062 - val_loss: 0.3308 - val_acc: 0.9167\n",
      "Epoch 5/40\n",
      " - 0s - loss: 0.2217 - acc: 0.9896 - val_loss: 0.2753 - val_acc: 0.9167\n",
      "Epoch 6/40\n",
      " - 0s - loss: 0.1638 - acc: 0.9688 - val_loss: 0.2417 - val_acc: 0.9167\n",
      "Epoch 7/40\n",
      " - 0s - loss: 0.1195 - acc: 0.9688 - val_loss: 0.2583 - val_acc: 0.9167\n",
      "Epoch 8/40\n",
      " - 0s - loss: 0.0928 - acc: 0.9792 - val_loss: 0.2088 - val_acc: 0.9167\n",
      "Epoch 9/40\n",
      " - 0s - loss: 0.0846 - acc: 0.9792 - val_loss: 0.2684 - val_acc: 0.9167\n",
      "Epoch 10/40\n",
      " - 0s - loss: 0.0674 - acc: 0.9792 - val_loss: 0.1979 - val_acc: 0.9167\n",
      "Epoch 11/40\n",
      " - 0s - loss: 0.0616 - acc: 0.9792 - val_loss: 0.3169 - val_acc: 0.9167\n",
      "Epoch 12/40\n",
      " - 0s - loss: 0.0880 - acc: 0.9479 - val_loss: 0.2645 - val_acc: 0.9167\n",
      "Epoch 13/40\n",
      " - 0s - loss: 0.1549 - acc: 0.9479 - val_loss: 0.1962 - val_acc: 0.9583\n",
      "Epoch 14/40\n",
      " - 0s - loss: 0.1090 - acc: 0.9479 - val_loss: 0.2121 - val_acc: 0.9167\n",
      "Epoch 15/40\n",
      " - 0s - loss: 0.0457 - acc: 1.0000 - val_loss: 0.2710 - val_acc: 0.9167\n",
      "Epoch 16/40\n",
      " - 0s - loss: 0.0517 - acc: 0.9792 - val_loss: 0.2066 - val_acc: 0.8333\n",
      "Epoch 17/40\n",
      " - 0s - loss: 0.1328 - acc: 0.9375 - val_loss: 0.4925 - val_acc: 0.9167\n",
      "Epoch 18/40\n",
      " - 0s - loss: 0.2021 - acc: 0.9062 - val_loss: 0.3073 - val_acc: 0.9167\n",
      "Epoch 19/40\n",
      " - 0s - loss: 0.0647 - acc: 0.9792 - val_loss: 0.2029 - val_acc: 0.8333\n",
      "Epoch 20/40\n",
      " - 0s - loss: 0.0588 - acc: 0.9688 - val_loss: 0.6312 - val_acc: 0.8750\n",
      "Epoch 21/40\n",
      " - 0s - loss: 0.1674 - acc: 0.9271 - val_loss: 0.2063 - val_acc: 0.8333\n",
      "Epoch 22/40\n",
      " - 0s - loss: 0.0941 - acc: 0.9583 - val_loss: 0.2482 - val_acc: 0.9167\n",
      "Epoch 23/40\n",
      " - 0s - loss: 0.0580 - acc: 0.9583 - val_loss: 0.2838 - val_acc: 0.9167\n",
      "Epoch 24/40\n",
      " - 0s - loss: 0.0374 - acc: 0.9792 - val_loss: 0.1892 - val_acc: 0.9583\n",
      "Epoch 25/40\n",
      " - 0s - loss: 0.0537 - acc: 0.9792 - val_loss: 0.2705 - val_acc: 0.9167\n",
      "Epoch 26/40\n",
      " - 0s - loss: 0.0452 - acc: 0.9792 - val_loss: 0.2116 - val_acc: 0.9167\n",
      "Epoch 27/40\n",
      " - 0s - loss: 0.0483 - acc: 0.9896 - val_loss: 0.1925 - val_acc: 0.9583\n",
      "Epoch 28/40\n",
      " - 0s - loss: 0.0453 - acc: 0.9688 - val_loss: 0.3147 - val_acc: 0.9167\n",
      "Epoch 29/40\n",
      " - 0s - loss: 0.0510 - acc: 0.9792 - val_loss: 0.2033 - val_acc: 0.9167\n",
      "Epoch 30/40\n",
      " - 0s - loss: 0.0539 - acc: 0.9688 - val_loss: 0.2949 - val_acc: 0.9167\n",
      "Epoch 31/40\n",
      " - 0s - loss: 0.0815 - acc: 0.9583 - val_loss: 0.1999 - val_acc: 0.8750\n",
      "Epoch 32/40\n",
      " - 0s - loss: 0.2878 - acc: 0.9062 - val_loss: 0.4129 - val_acc: 0.9167\n",
      "Epoch 33/40\n",
      " - 0s - loss: 0.2302 - acc: 0.9271 - val_loss: 0.4802 - val_acc: 0.9167\n",
      "Epoch 34/40\n",
      " - 0s - loss: 0.0940 - acc: 0.9583 - val_loss: 0.2859 - val_acc: 0.8333\n",
      "Epoch 35/40\n",
      " - 0s - loss: 0.0715 - acc: 0.9583 - val_loss: 0.4776 - val_acc: 0.9167\n",
      "Epoch 36/40\n",
      " - 0s - loss: 0.1248 - acc: 0.9479 - val_loss: 0.3195 - val_acc: 0.9167\n",
      "Epoch 37/40\n",
      " - 0s - loss: 0.0361 - acc: 1.0000 - val_loss: 0.1919 - val_acc: 0.8750\n",
      "Epoch 38/40\n",
      " - 0s - loss: 0.0675 - acc: 0.9792 - val_loss: 0.2126 - val_acc: 0.9167\n",
      "Epoch 39/40\n",
      " - 0s - loss: 0.0384 - acc: 0.9792 - val_loss: 0.2938 - val_acc: 0.9167\n",
      "Epoch 40/40\n",
      " - 0s - loss: 0.0448 - acc: 0.9792 - val_loss: 0.2133 - val_acc: 0.9167\n"
     ]
    }
   ],
   "source": [
    "hist = model.fit(X_train, y_train,\n",
    "                 epochs=40, batch_size=30,\n",
    "                 validation_data=(X_val, y_val), verbose=2)"
   ]
  },
  {
   "cell_type": "code",
   "execution_count": 33,
   "metadata": {
    "ExecuteTime": {
     "end_time": "2019-06-30T07:27:46.411477Z",
     "start_time": "2019-06-30T07:27:46.268271Z"
    }
   },
   "outputs": [
    {
     "data": {
      "image/png": "[encoded data removed]",
      "text/plain": [
       "<Figure size 432x288 with 1 Axes>"
      ]
     },
     "metadata": {
      "needs_background": "light"
     },
     "output_type": "display_data"
    }
   ],
   "source": [
    "train_loss = hist.history['loss'] #訓練誤差を取得\n",
    "val_loss = hist.history['val_loss'] #検証誤差を取得\n",
    "\n",
    "#誤差の履歴をプロット\n",
    "plt.figure()\n",
    "plt.title('Loss')\n",
    "plt.plot(range(len(train_loss)), train_loss, label='train_loss')\n",
    "plt.plot(range(len(val_loss)), val_loss, label='val_loss')\n",
    "plt.xlabel('epoch')\n",
    "plt.ylabel('loss')\n",
    "plt.legend()\n",
    "plt.show()"
   ]
  },
  {
   "cell_type": "code",
   "execution_count": 34,
   "metadata": {
    "ExecuteTime": {
     "end_time": "2019-06-30T07:27:46.558870Z",
     "start_time": "2019-06-30T07:27:46.412914Z"
    }
   },
   "outputs": [
    {
     "data": {
      "image/png": "[encoded data removed]",
      "text/plain": [
       "<Figure size 432x288 with 1 Axes>"
      ]
     },
     "metadata": {
      "needs_background": "light"
     },
     "output_type": "display_data"
    }
   ],
   "source": [
    "train_acc = hist.history['acc'] #訓練精度を取得\n",
    "val_acc = hist.history['val_acc'] #検証精度を取得\n",
    "\n",
    "#精度の履歴をプロット\n",
    "plt.figure()\n",
    "plt.title('Accuracy')\n",
    "plt.plot(range(len(train_acc)), train_acc, label='train_acc')\n",
    "plt.plot(range(len(val_acc)), val_acc, label='val_acc')\n",
    "plt.xlabel('epoch')\n",
    "plt.ylabel('accuracy')\n",
    "plt.legend(loc='lower right')\n",
    "plt.show()"
   ]
  },
  {
   "cell_type": "code",
   "execution_count": 35,
   "metadata": {
    "ExecuteTime": {
     "end_time": "2019-06-30T07:27:46.566272Z",
     "start_time": "2019-06-30T07:27:46.560201Z"
    }
   },
   "outputs": [
    {
     "name": "stdout",
     "output_type": "stream",
     "text": [
      " - 0s - loss: 0.0241 - acc: 1.0000\n",
      "test_loss:0.024\n",
      "test_accuracy:1.000\n"
     ]
    }
   ],
   "source": [
    "evaluation = model.evaluate(X_test, y_test, verbose=2)\n",
    "print('test_loss:%.3f' % evaluation[0])\n",
    "print('test_accuracy:%.3f' % evaluation[1])"
   ]
  },
  {
   "cell_type": "markdown",
   "metadata": {},
   "source": [
    "# 【問題4】House PricesをKerasで学習"
   ]
  },
  {
   "cell_type": "code",
   "execution_count": 36,
   "metadata": {
    "ExecuteTime": {
     "end_time": "2019-06-30T07:27:46.608315Z",
     "start_time": "2019-06-30T07:27:46.567722Z"
    }
   },
   "outputs": [
    {
     "data": {
      "text/html": [
       "<div>\n",
       "<style scoped>\n",
       "    .dataframe tbody tr th:only-of-type {\n",
       "        vertical-align: middle;\n",
       "    }\n",
       "\n",
       "    .dataframe tbody tr th {\n",
       "        vertical-align: top;\n",
       "    }\n",
       "\n",
       "    .dataframe thead th {\n",
       "        text-align: right;\n",
       "    }\n",
       "</style>\n",
       "<table border=\"1\" class=\"dataframe\">\n",
       "  <thead>\n",
       "    <tr style=\"text-align: right;\">\n",
       "      <th></th>\n",
       "      <th>YearBuilt</th>\n",
       "      <th>GrLivArea</th>\n",
       "      <th>SalePrice</th>\n",
       "    </tr>\n",
       "  </thead>\n",
       "  <tbody>\n",
       "    <tr>\n",
       "      <th>0</th>\n",
       "      <td>2003</td>\n",
       "      <td>1710</td>\n",
       "      <td>208500</td>\n",
       "    </tr>\n",
       "    <tr>\n",
       "      <th>1</th>\n",
       "      <td>1976</td>\n",
       "      <td>1262</td>\n",
       "      <td>181500</td>\n",
       "    </tr>\n",
       "    <tr>\n",
       "      <th>2</th>\n",
       "      <td>2001</td>\n",
       "      <td>1786</td>\n",
       "      <td>223500</td>\n",
       "    </tr>\n",
       "    <tr>\n",
       "      <th>3</th>\n",
       "      <td>1915</td>\n",
       "      <td>1717</td>\n",
       "      <td>140000</td>\n",
       "    </tr>\n",
       "    <tr>\n",
       "      <th>4</th>\n",
       "      <td>2000</td>\n",
       "      <td>2198</td>\n",
       "      <td>250000</td>\n",
       "    </tr>\n",
       "    <tr>\n",
       "      <th>5</th>\n",
       "      <td>1993</td>\n",
       "      <td>1362</td>\n",
       "      <td>143000</td>\n",
       "    </tr>\n",
       "    <tr>\n",
       "      <th>6</th>\n",
       "      <td>2004</td>\n",
       "      <td>1694</td>\n",
       "      <td>307000</td>\n",
       "    </tr>\n",
       "    <tr>\n",
       "      <th>7</th>\n",
       "      <td>1973</td>\n",
       "      <td>2090</td>\n",
       "      <td>200000</td>\n",
       "    </tr>\n",
       "    <tr>\n",
       "      <th>8</th>\n",
       "      <td>1931</td>\n",
       "      <td>1774</td>\n",
       "      <td>129900</td>\n",
       "    </tr>\n",
       "    <tr>\n",
       "      <th>9</th>\n",
       "      <td>1939</td>\n",
       "      <td>1077</td>\n",
       "      <td>118000</td>\n",
       "    </tr>\n",
       "    <tr>\n",
       "      <th>10</th>\n",
       "      <td>1965</td>\n",
       "      <td>1040</td>\n",
       "      <td>129500</td>\n",
       "    </tr>\n",
       "    <tr>\n",
       "      <th>11</th>\n",
       "      <td>2005</td>\n",
       "      <td>2324</td>\n",
       "      <td>345000</td>\n",
       "    </tr>\n",
       "    <tr>\n",
       "      <th>12</th>\n",
       "      <td>1962</td>\n",
       "      <td>912</td>\n",
       "      <td>144000</td>\n",
       "    </tr>\n",
       "    <tr>\n",
       "      <th>13</th>\n",
       "      <td>2006</td>\n",
       "      <td>1494</td>\n",
       "      <td>279500</td>\n",
       "    </tr>\n",
       "    <tr>\n",
       "      <th>14</th>\n",
       "      <td>1960</td>\n",
       "      <td>1253</td>\n",
       "      <td>157000</td>\n",
       "    </tr>\n",
       "    <tr>\n",
       "      <th>15</th>\n",
       "      <td>1929</td>\n",
       "      <td>854</td>\n",
       "      <td>132000</td>\n",
       "    </tr>\n",
       "    <tr>\n",
       "      <th>16</th>\n",
       "      <td>1970</td>\n",
       "      <td>1004</td>\n",
       "      <td>149000</td>\n",
       "    </tr>\n",
       "    <tr>\n",
       "      <th>17</th>\n",
       "      <td>1967</td>\n",
       "      <td>1296</td>\n",
       "      <td>90000</td>\n",
       "    </tr>\n",
       "    <tr>\n",
       "      <th>18</th>\n",
       "      <td>2004</td>\n",
       "      <td>1114</td>\n",
       "      <td>159000</td>\n",
       "    </tr>\n",
       "    <tr>\n",
       "      <th>19</th>\n",
       "      <td>1958</td>\n",
       "      <td>1339</td>\n",
       "      <td>139000</td>\n",
       "    </tr>\n",
       "    <tr>\n",
       "      <th>20</th>\n",
       "      <td>2005</td>\n",
       "      <td>2376</td>\n",
       "      <td>325300</td>\n",
       "    </tr>\n",
       "    <tr>\n",
       "      <th>21</th>\n",
       "      <td>1930</td>\n",
       "      <td>1108</td>\n",
       "      <td>139400</td>\n",
       "    </tr>\n",
       "    <tr>\n",
       "      <th>22</th>\n",
       "      <td>2002</td>\n",
       "      <td>1795</td>\n",
       "      <td>230000</td>\n",
       "    </tr>\n",
       "    <tr>\n",
       "      <th>23</th>\n",
       "      <td>1976</td>\n",
       "      <td>1060</td>\n",
       "      <td>129900</td>\n",
       "    </tr>\n",
       "    <tr>\n",
       "      <th>24</th>\n",
       "      <td>1968</td>\n",
       "      <td>1060</td>\n",
       "      <td>154000</td>\n",
       "    </tr>\n",
       "    <tr>\n",
       "      <th>25</th>\n",
       "      <td>2007</td>\n",
       "      <td>1600</td>\n",
       "      <td>256300</td>\n",
       "    </tr>\n",
       "    <tr>\n",
       "      <th>26</th>\n",
       "      <td>1951</td>\n",
       "      <td>900</td>\n",
       "      <td>134800</td>\n",
       "    </tr>\n",
       "    <tr>\n",
       "      <th>27</th>\n",
       "      <td>2007</td>\n",
       "      <td>1704</td>\n",
       "      <td>306000</td>\n",
       "    </tr>\n",
       "    <tr>\n",
       "      <th>28</th>\n",
       "      <td>1957</td>\n",
       "      <td>1600</td>\n",
       "      <td>207500</td>\n",
       "    </tr>\n",
       "    <tr>\n",
       "      <th>29</th>\n",
       "      <td>1927</td>\n",
       "      <td>520</td>\n",
       "      <td>68500</td>\n",
       "    </tr>\n",
       "    <tr>\n",
       "      <th>...</th>\n",
       "      <td>...</td>\n",
       "      <td>...</td>\n",
       "      <td>...</td>\n",
       "    </tr>\n",
       "    <tr>\n",
       "      <th>1430</th>\n",
       "      <td>2005</td>\n",
       "      <td>1838</td>\n",
       "      <td>192140</td>\n",
       "    </tr>\n",
       "    <tr>\n",
       "      <th>1431</th>\n",
       "      <td>1976</td>\n",
       "      <td>958</td>\n",
       "      <td>143750</td>\n",
       "    </tr>\n",
       "    <tr>\n",
       "      <th>1432</th>\n",
       "      <td>1927</td>\n",
       "      <td>968</td>\n",
       "      <td>64500</td>\n",
       "    </tr>\n",
       "    <tr>\n",
       "      <th>1433</th>\n",
       "      <td>2000</td>\n",
       "      <td>1792</td>\n",
       "      <td>186500</td>\n",
       "    </tr>\n",
       "    <tr>\n",
       "      <th>1434</th>\n",
       "      <td>1977</td>\n",
       "      <td>1126</td>\n",
       "      <td>160000</td>\n",
       "    </tr>\n",
       "    <tr>\n",
       "      <th>1435</th>\n",
       "      <td>1962</td>\n",
       "      <td>1537</td>\n",
       "      <td>174000</td>\n",
       "    </tr>\n",
       "    <tr>\n",
       "      <th>1436</th>\n",
       "      <td>1971</td>\n",
       "      <td>864</td>\n",
       "      <td>120500</td>\n",
       "    </tr>\n",
       "    <tr>\n",
       "      <th>1437</th>\n",
       "      <td>2008</td>\n",
       "      <td>1932</td>\n",
       "      <td>394617</td>\n",
       "    </tr>\n",
       "    <tr>\n",
       "      <th>1438</th>\n",
       "      <td>1957</td>\n",
       "      <td>1236</td>\n",
       "      <td>149700</td>\n",
       "    </tr>\n",
       "    <tr>\n",
       "      <th>1439</th>\n",
       "      <td>1979</td>\n",
       "      <td>1725</td>\n",
       "      <td>197000</td>\n",
       "    </tr>\n",
       "    <tr>\n",
       "      <th>1440</th>\n",
       "      <td>1922</td>\n",
       "      <td>2555</td>\n",
       "      <td>191000</td>\n",
       "    </tr>\n",
       "    <tr>\n",
       "      <th>1441</th>\n",
       "      <td>2004</td>\n",
       "      <td>848</td>\n",
       "      <td>149300</td>\n",
       "    </tr>\n",
       "    <tr>\n",
       "      <th>1442</th>\n",
       "      <td>2008</td>\n",
       "      <td>2007</td>\n",
       "      <td>310000</td>\n",
       "    </tr>\n",
       "    <tr>\n",
       "      <th>1443</th>\n",
       "      <td>1916</td>\n",
       "      <td>952</td>\n",
       "      <td>121000</td>\n",
       "    </tr>\n",
       "    <tr>\n",
       "      <th>1444</th>\n",
       "      <td>2004</td>\n",
       "      <td>1422</td>\n",
       "      <td>179600</td>\n",
       "    </tr>\n",
       "    <tr>\n",
       "      <th>1445</th>\n",
       "      <td>1966</td>\n",
       "      <td>913</td>\n",
       "      <td>129000</td>\n",
       "    </tr>\n",
       "    <tr>\n",
       "      <th>1446</th>\n",
       "      <td>1962</td>\n",
       "      <td>1188</td>\n",
       "      <td>157900</td>\n",
       "    </tr>\n",
       "    <tr>\n",
       "      <th>1447</th>\n",
       "      <td>1995</td>\n",
       "      <td>2090</td>\n",
       "      <td>240000</td>\n",
       "    </tr>\n",
       "    <tr>\n",
       "      <th>1448</th>\n",
       "      <td>1910</td>\n",
       "      <td>1346</td>\n",
       "      <td>112000</td>\n",
       "    </tr>\n",
       "    <tr>\n",
       "      <th>1449</th>\n",
       "      <td>1970</td>\n",
       "      <td>630</td>\n",
       "      <td>92000</td>\n",
       "    </tr>\n",
       "    <tr>\n",
       "      <th>1450</th>\n",
       "      <td>1974</td>\n",
       "      <td>1792</td>\n",
       "      <td>136000</td>\n",
       "    </tr>\n",
       "    <tr>\n",
       "      <th>1451</th>\n",
       "      <td>2008</td>\n",
       "      <td>1578</td>\n",
       "      <td>287090</td>\n",
       "    </tr>\n",
       "    <tr>\n",
       "      <th>1452</th>\n",
       "      <td>2005</td>\n",
       "      <td>1072</td>\n",
       "      <td>145000</td>\n",
       "    </tr>\n",
       "    <tr>\n",
       "      <th>1453</th>\n",
       "      <td>2006</td>\n",
       "      <td>1140</td>\n",
       "      <td>84500</td>\n",
       "    </tr>\n",
       "    <tr>\n",
       "      <th>1454</th>\n",
       "      <td>2004</td>\n",
       "      <td>1221</td>\n",
       "      <td>185000</td>\n",
       "    </tr>\n",
       "    <tr>\n",
       "      <th>1455</th>\n",
       "      <td>1999</td>\n",
       "      <td>1647</td>\n",
       "      <td>175000</td>\n",
       "    </tr>\n",
       "    <tr>\n",
       "      <th>1456</th>\n",
       "      <td>1978</td>\n",
       "      <td>2073</td>\n",
       "      <td>210000</td>\n",
       "    </tr>\n",
       "    <tr>\n",
       "      <th>1457</th>\n",
       "      <td>1941</td>\n",
       "      <td>2340</td>\n",
       "      <td>266500</td>\n",
       "    </tr>\n",
       "    <tr>\n",
       "      <th>1458</th>\n",
       "      <td>1950</td>\n",
       "      <td>1078</td>\n",
       "      <td>142125</td>\n",
       "    </tr>\n",
       "    <tr>\n",
       "      <th>1459</th>\n",
       "      <td>1965</td>\n",
       "      <td>1256</td>\n",
       "      <td>147500</td>\n",
       "    </tr>\n",
       "  </tbody>\n",
       "</table>\n",
       "<p>1460 rows × 3 columns</p>\n",
       "</div>"
      ],
      "text/plain": [
       "      YearBuilt  GrLivArea  SalePrice\n",
       "0          2003       1710     208500\n",
       "1          1976       1262     181500\n",
       "2          2001       1786     223500\n",
       "3          1915       1717     140000\n",
       "4          2000       2198     250000\n",
       "5          1993       1362     143000\n",
       "6          2004       1694     307000\n",
       "7          1973       2090     200000\n",
       "8          1931       1774     129900\n",
       "9          1939       1077     118000\n",
       "10         1965       1040     129500\n",
       "11         2005       2324     345000\n",
       "12         1962        912     144000\n",
       "13         2006       1494     279500\n",
       "14         1960       1253     157000\n",
       "15         1929        854     132000\n",
       "16         1970       1004     149000\n",
       "17         1967       1296      90000\n",
       "18         2004       1114     159000\n",
       "19         1958       1339     139000\n",
       "20         2005       2376     325300\n",
       "21         1930       1108     139400\n",
       "22         2002       1795     230000\n",
       "23         1976       1060     129900\n",
       "24         1968       1060     154000\n",
       "25         2007       1600     256300\n",
       "26         1951        900     134800\n",
       "27         2007       1704     306000\n",
       "28         1957       1600     207500\n",
       "29         1927        520      68500\n",
       "...         ...        ...        ...\n",
       "1430       2005       1838     192140\n",
       "1431       1976        958     143750\n",
       "1432       1927        968      64500\n",
       "1433       2000       1792     186500\n",
       "1434       1977       1126     160000\n",
       "1435       1962       1537     174000\n",
       "1436       1971        864     120500\n",
       "1437       2008       1932     394617\n",
       "1438       1957       1236     149700\n",
       "1439       1979       1725     197000\n",
       "1440       1922       2555     191000\n",
       "1441       2004        848     149300\n",
       "1442       2008       2007     310000\n",
       "1443       1916        952     121000\n",
       "1444       2004       1422     179600\n",
       "1445       1966        913     129000\n",
       "1446       1962       1188     157900\n",
       "1447       1995       2090     240000\n",
       "1448       1910       1346     112000\n",
       "1449       1970        630      92000\n",
       "1450       1974       1792     136000\n",
       "1451       2008       1578     287090\n",
       "1452       2005       1072     145000\n",
       "1453       2006       1140      84500\n",
       "1454       2004       1221     185000\n",
       "1455       1999       1647     175000\n",
       "1456       1978       2073     210000\n",
       "1457       1941       2340     266500\n",
       "1458       1950       1078     142125\n",
       "1459       1965       1256     147500\n",
       "\n",
       "[1460 rows x 3 columns]"
      ]
     },
     "execution_count": 36,
     "metadata": {},
     "output_type": "execute_result"
    }
   ],
   "source": [
    "train = pd.read_csv('train.csv')\n",
    "train = train[['YearBuilt','GrLivArea','SalePrice']]\n",
    "train"
   ]
  },
  {
   "cell_type": "code",
   "execution_count": 37,
   "metadata": {
    "ExecuteTime": {
     "end_time": "2019-06-30T07:27:46.619769Z",
     "start_time": "2019-06-30T07:27:46.609988Z"
    }
   },
   "outputs": [],
   "source": [
    "#データをXとyにわける、そしてndarray型へ変更\n",
    "X = train.drop('SalePrice',axis=1).values\n",
    "y = train.SalePrice.values\n",
    "\n",
    "#それぞれ学習用検証用に分割\n",
    "X_train, X_test, y_train, y_test = train_test_split(X,y,test_size=0.25,random_state=0)\n",
    "len(X_train),len(X_test),len(y_train),len(y_test) #確認\n",
    "\n",
    "from sklearn.preprocessing import StandardScaler\n",
    "#対数変換\n",
    "y_train = y_train[:,np.newaxis]\n",
    "y_test = y_test[:,np.newaxis]\n",
    "X_train = np.log(X_train)\n",
    "X_test = np.log(X_test)\n",
    "y_train = np.log(y_train)\n",
    "y_test = np.log(y_test)\n",
    "#標準化\n",
    "ss = StandardScaler()\n",
    "ss.fit(X_train)\n",
    "X_train = ss.transform(X_train)\n",
    "X_test = ss.transform(X_test)\n",
    "#更にもう一回分ける。\n",
    "X_train, X_val, y_train, y_val = train_test_split(X_train,y_train,test_size=0.25,random_state=0)"
   ]
  },
  {
   "cell_type": "code",
   "execution_count": 38,
   "metadata": {
    "ExecuteTime": {
     "end_time": "2019-06-30T07:27:46.734180Z",
     "start_time": "2019-06-30T07:27:46.621507Z"
    }
   },
   "outputs": [
    {
     "name": "stdout",
     "output_type": "stream",
     "text": [
      "WARNING:tensorflow:From /Users/takahashiakira/.pyenv/versions/anaconda3-2019.03/lib/python3.7/site-packages/tensorflow/python/keras/utils/losses_utils.py:170: to_float (from tensorflow.python.ops.math_ops) is deprecated and will be removed in a future version.\n",
      "Instructions for updating:\n",
      "Use tf.cast instead.\n"
     ]
    }
   ],
   "source": [
    "K.clear_session()\n",
    "model = models.Sequential()\n",
    "model.add(layers.Dense(50, activation='relu', input_shape=(2,)))\n",
    "model.add(layers.Dense(100, activation='relu'))\n",
    "model.add(layers.Dense(1, activation='linear'))\n",
    "model.compile(optimizer=optimizers.Adam(lr=1e-2),\n",
    "                     loss='mse')"
   ]
  },
  {
   "cell_type": "code",
   "execution_count": 39,
   "metadata": {
    "ExecuteTime": {
     "end_time": "2019-06-30T07:27:49.131035Z",
     "start_time": "2019-06-30T07:27:46.735625Z"
    },
    "scrolled": true
   },
   "outputs": [
    {
     "name": "stdout",
     "output_type": "stream",
     "text": [
      "Train on 821 samples, validate on 274 samples\n",
      "Epoch 1/100\n",
      " - 0s - loss: 70.6743 - val_loss: 31.1171\n",
      "Epoch 2/100\n",
      " - 0s - loss: 18.2277 - val_loss: 15.2927\n",
      "Epoch 3/100\n",
      " - 0s - loss: 8.5101 - val_loss: 8.0754\n",
      "Epoch 4/100\n",
      " - 0s - loss: 3.8447 - val_loss: 3.7552\n",
      "Epoch 5/100\n",
      " - 0s - loss: 2.0255 - val_loss: 1.8156\n",
      "Epoch 6/100\n",
      " - 0s - loss: 0.9829 - val_loss: 1.0413\n",
      "Epoch 7/100\n",
      " - 0s - loss: 0.5572 - val_loss: 0.6634\n",
      "Epoch 8/100\n",
      " - 0s - loss: 0.3584 - val_loss: 0.4364\n",
      "Epoch 9/100\n",
      " - 0s - loss: 0.2618 - val_loss: 0.3466\n",
      "Epoch 10/100\n",
      " - 0s - loss: 0.2129 - val_loss: 0.2310\n",
      "Epoch 11/100\n",
      " - 0s - loss: 0.1495 - val_loss: 0.1900\n",
      "Epoch 12/100\n",
      " - 0s - loss: 0.1198 - val_loss: 0.1388\n",
      "Epoch 13/100\n",
      " - 0s - loss: 0.1067 - val_loss: 0.1096\n",
      "Epoch 14/100\n",
      " - 0s - loss: 0.0920 - val_loss: 0.1079\n",
      "Epoch 15/100\n",
      " - 0s - loss: 0.0834 - val_loss: 0.0882\n",
      "Epoch 16/100\n",
      " - 0s - loss: 0.0800 - val_loss: 0.0849\n",
      "Epoch 17/100\n",
      " - 0s - loss: 0.0733 - val_loss: 0.0834\n",
      "Epoch 18/100\n",
      " - 0s - loss: 0.0684 - val_loss: 0.0706\n",
      "Epoch 19/100\n",
      " - 0s - loss: 0.0657 - val_loss: 0.0725\n",
      "Epoch 20/100\n",
      " - 0s - loss: 0.0664 - val_loss: 0.0665\n",
      "Epoch 21/100\n",
      " - 0s - loss: 0.0624 - val_loss: 0.0631\n",
      "Epoch 22/100\n",
      " - 0s - loss: 0.0585 - val_loss: 0.0586\n",
      "Epoch 23/100\n",
      " - 0s - loss: 0.0579 - val_loss: 0.0550\n",
      "Epoch 24/100\n",
      " - 0s - loss: 0.0578 - val_loss: 0.0538\n",
      "Epoch 25/100\n",
      " - 0s - loss: 0.0562 - val_loss: 0.0590\n",
      "Epoch 26/100\n",
      " - 0s - loss: 0.0552 - val_loss: 0.0489\n",
      "Epoch 27/100\n",
      " - 0s - loss: 0.0519 - val_loss: 0.0509\n",
      "Epoch 28/100\n",
      " - 0s - loss: 0.0511 - val_loss: 0.0513\n",
      "Epoch 29/100\n",
      " - 0s - loss: 0.0535 - val_loss: 0.0501\n",
      "Epoch 30/100\n",
      " - 0s - loss: 0.0506 - val_loss: 0.0483\n",
      "Epoch 31/100\n",
      " - 0s - loss: 0.0521 - val_loss: 0.0478\n",
      "Epoch 32/100\n",
      " - 0s - loss: 0.0495 - val_loss: 0.0552\n",
      "Epoch 33/100\n",
      " - 0s - loss: 0.0523 - val_loss: 0.0487\n",
      "Epoch 34/100\n",
      " - 0s - loss: 0.0526 - val_loss: 0.0531\n",
      "Epoch 35/100\n",
      " - 0s - loss: 0.0491 - val_loss: 0.0494\n",
      "Epoch 36/100\n",
      " - 0s - loss: 0.0490 - val_loss: 0.0486\n",
      "Epoch 37/100\n",
      " - 0s - loss: 0.0488 - val_loss: 0.0463\n",
      "Epoch 38/100\n",
      " - 0s - loss: 0.0488 - val_loss: 0.0453\n",
      "Epoch 39/100\n",
      " - 0s - loss: 0.0499 - val_loss: 0.0478\n",
      "Epoch 40/100\n",
      " - 0s - loss: 0.0493 - val_loss: 0.0437\n",
      "Epoch 41/100\n",
      " - 0s - loss: 0.0498 - val_loss: 0.0483\n",
      "Epoch 42/100\n",
      " - 0s - loss: 0.0493 - val_loss: 0.0459\n",
      "Epoch 43/100\n",
      " - 0s - loss: 0.0489 - val_loss: 0.0438\n",
      "Epoch 44/100\n",
      " - 0s - loss: 0.0474 - val_loss: 0.0435\n",
      "Epoch 45/100\n",
      " - 0s - loss: 0.0499 - val_loss: 0.0447\n",
      "Epoch 46/100\n",
      " - 0s - loss: 0.0497 - val_loss: 0.0471\n",
      "Epoch 47/100\n",
      " - 0s - loss: 0.0504 - val_loss: 0.0443\n",
      "Epoch 48/100\n",
      " - 0s - loss: 0.0500 - val_loss: 0.0441\n",
      "Epoch 49/100\n",
      " - 0s - loss: 0.0524 - val_loss: 0.0450\n",
      "Epoch 50/100\n",
      " - 0s - loss: 0.0500 - val_loss: 0.0452\n",
      "Epoch 51/100\n",
      " - 0s - loss: 0.0476 - val_loss: 0.0435\n",
      "Epoch 52/100\n",
      " - 0s - loss: 0.0474 - val_loss: 0.0444\n",
      "Epoch 53/100\n",
      " - 0s - loss: 0.0492 - val_loss: 0.0470\n",
      "Epoch 54/100\n",
      " - 0s - loss: 0.0503 - val_loss: 0.0465\n",
      "Epoch 55/100\n",
      " - 0s - loss: 0.0510 - val_loss: 0.0460\n",
      "Epoch 56/100\n",
      " - 0s - loss: 0.0478 - val_loss: 0.0435\n",
      "Epoch 57/100\n",
      " - 0s - loss: 0.0507 - val_loss: 0.0435\n",
      "Epoch 58/100\n",
      " - 0s - loss: 0.0482 - val_loss: 0.0525\n",
      "Epoch 59/100\n",
      " - 0s - loss: 0.0486 - val_loss: 0.0423\n",
      "Epoch 60/100\n",
      " - 0s - loss: 0.0464 - val_loss: 0.0452\n",
      "Epoch 61/100\n",
      " - 0s - loss: 0.0469 - val_loss: 0.0436\n",
      "Epoch 62/100\n",
      " - 0s - loss: 0.0478 - val_loss: 0.0454\n",
      "Epoch 63/100\n",
      " - 0s - loss: 0.0476 - val_loss: 0.0486\n",
      "Epoch 64/100\n",
      " - 0s - loss: 0.0503 - val_loss: 0.0438\n",
      "Epoch 65/100\n",
      " - 0s - loss: 0.0461 - val_loss: 0.0553\n",
      "Epoch 66/100\n",
      " - 0s - loss: 0.0505 - val_loss: 0.0492\n",
      "Epoch 67/100\n",
      " - 0s - loss: 0.0503 - val_loss: 0.0477\n",
      "Epoch 68/100\n",
      " - 0s - loss: 0.0469 - val_loss: 0.0427\n",
      "Epoch 69/100\n",
      " - 0s - loss: 0.0486 - val_loss: 0.0413\n",
      "Epoch 70/100\n",
      " - 0s - loss: 0.0487 - val_loss: 0.0453\n",
      "Epoch 71/100\n",
      " - 0s - loss: 0.0463 - val_loss: 0.0440\n",
      "Epoch 72/100\n",
      " - 0s - loss: 0.0516 - val_loss: 0.0417\n",
      "Epoch 73/100\n",
      " - 0s - loss: 0.0477 - val_loss: 0.0413\n",
      "Epoch 74/100\n",
      " - 0s - loss: 0.0472 - val_loss: 0.0436\n",
      "Epoch 75/100\n",
      " - 0s - loss: 0.0476 - val_loss: 0.0430\n",
      "Epoch 76/100\n",
      " - 0s - loss: 0.0493 - val_loss: 0.0459\n",
      "Epoch 77/100\n",
      " - 0s - loss: 0.0479 - val_loss: 0.0420\n",
      "Epoch 78/100\n",
      " - 0s - loss: 0.0493 - val_loss: 0.0472\n",
      "Epoch 79/100\n",
      " - 0s - loss: 0.0537 - val_loss: 0.0541\n",
      "Epoch 80/100\n",
      " - 0s - loss: 0.0551 - val_loss: 0.0598\n",
      "Epoch 81/100\n",
      " - 0s - loss: 0.0570 - val_loss: 0.0489\n",
      "Epoch 82/100\n",
      " - 0s - loss: 0.0512 - val_loss: 0.0435\n",
      "Epoch 83/100\n",
      " - 0s - loss: 0.0511 - val_loss: 0.0487\n",
      "Epoch 84/100\n",
      " - 0s - loss: 0.0502 - val_loss: 0.0417\n",
      "Epoch 85/100\n",
      " - 0s - loss: 0.0495 - val_loss: 0.0591\n",
      "Epoch 86/100\n",
      " - 0s - loss: 0.0548 - val_loss: 0.0498\n",
      "Epoch 87/100\n",
      " - 0s - loss: 0.0485 - val_loss: 0.0474\n",
      "Epoch 88/100\n",
      " - 0s - loss: 0.0513 - val_loss: 0.0574\n",
      "Epoch 89/100\n",
      " - 0s - loss: 0.0504 - val_loss: 0.0440\n",
      "Epoch 90/100\n",
      " - 0s - loss: 0.0489 - val_loss: 0.0433\n",
      "Epoch 91/100\n",
      " - 0s - loss: 0.0499 - val_loss: 0.0454\n",
      "Epoch 92/100\n",
      " - 0s - loss: 0.0474 - val_loss: 0.0443\n",
      "Epoch 93/100\n",
      " - 0s - loss: 0.0454 - val_loss: 0.0471\n",
      "Epoch 94/100\n",
      " - 0s - loss: 0.0472 - val_loss: 0.0438\n",
      "Epoch 95/100\n",
      " - 0s - loss: 0.0456 - val_loss: 0.0434\n",
      "Epoch 96/100\n",
      " - 0s - loss: 0.0449 - val_loss: 0.0435\n",
      "Epoch 97/100\n",
      " - 0s - loss: 0.0456 - val_loss: 0.0466\n",
      "Epoch 98/100\n",
      " - 0s - loss: 0.0477 - val_loss: 0.0589\n",
      "Epoch 99/100\n",
      " - 0s - loss: 0.0503 - val_loss: 0.0721\n",
      "Epoch 100/100\n",
      " - 0s - loss: 0.0529 - val_loss: 0.0475\n"
     ]
    }
   ],
   "source": [
    "hist = model.fit(X_train, y_train,\n",
    "                 epochs=100, batch_size=64,\n",
    "                 validation_data=(X_val, y_val), verbose=2)"
   ]
  },
  {
   "cell_type": "code",
   "execution_count": 40,
   "metadata": {
    "ExecuteTime": {
     "end_time": "2019-06-30T07:27:49.410204Z",
     "start_time": "2019-06-30T07:27:49.132393Z"
    }
   },
   "outputs": [
    {
     "data": {
      "image/png": "[encoded data removed]",
      "text/plain": [
       "<Figure size 576x288 with 1 Axes>"
      ]
     },
     "metadata": {
      "needs_background": "light"
     },
     "output_type": "display_data"
    }
   ],
   "source": [
    "train_loss = hist.history[\"loss\"]\n",
    "val_loss = hist.history[\"val_loss\"]\n",
    "\n",
    "plt.figure(figsize=(8, 4))\n",
    "plt.plot(range(len(train_loss)), train_loss, label='train_loss')\n",
    "plt.plot(range(len(val_loss)), val_loss, label='valid_loss')\n",
    "plt.xlabel('epoch', fontsize=16)\n",
    "plt.ylabel('loss', fontsize=16)\n",
    "plt.yscale('log')\n",
    "plt.legend(fontsize=16)\n",
    "plt.show()"
   ]
  },
  {
   "cell_type": "code",
   "execution_count": 41,
   "metadata": {
    "ExecuteTime": {
     "end_time": "2019-06-30T07:27:49.440289Z",
     "start_time": "2019-06-30T07:27:49.412314Z"
    }
   },
   "outputs": [
    {
     "name": "stdout",
     "output_type": "stream",
     "text": [
      "rmse=0.2169\n"
     ]
    }
   ],
   "source": [
    "#テストデータに対する推定値を計算\n",
    "prediction = model.predict(X_test)\n",
    "print('rmse={:.4f}'.format(np.sqrt(mean_squared_error(y_test, prediction))))"
   ]
  },
  {
   "cell_type": "code",
   "execution_count": 42,
   "metadata": {
    "ExecuteTime": {
     "end_time": "2019-06-30T07:27:49.445222Z",
     "start_time": "2019-06-30T07:27:49.441589Z"
    }
   },
   "outputs": [
    {
     "name": "stdout",
     "output_type": "stream",
     "text": [
      "決定係数=0.6836\n"
     ]
    }
   ],
   "source": [
    "print('決定係数={:.4f}'.format(r2_score(y_test, prediction)))"
   ]
  },
  {
   "cell_type": "code",
   "execution_count": 43,
   "metadata": {
    "ExecuteTime": {
     "end_time": "2019-06-30T07:27:49.556706Z",
     "start_time": "2019-06-30T07:27:49.446653Z"
    }
   },
   "outputs": [
    {
     "data": {
      "image/png": "[encoded data removed]",
      "text/plain": [
       "<Figure size 360x360 with 1 Axes>"
      ]
     },
     "metadata": {
      "needs_background": "light"
     },
     "output_type": "display_data"
    }
   ],
   "source": [
    "#結果の表示\n",
    "plt.figure(figsize=(5,5))\n",
    "plt.scatter(y_test, prediction)\n",
    "plt.plot((11.,14.), (11,14), color='k', lw=1)\n",
    "plt.xlabel('target', fontsize=16)\n",
    "plt.ylabel('prediction', fontsize=16)\n",
    "plt.show()"
   ]
  },
  {
   "cell_type": "markdown",
   "metadata": {},
   "source": [
    "# 【問題5】MNISTをKerasで学習"
   ]
  },
  {
   "cell_type": "code",
   "execution_count": 44,
   "metadata": {
    "ExecuteTime": {
     "end_time": "2019-06-30T07:27:50.160162Z",
     "start_time": "2019-06-30T07:27:49.558602Z"
    }
   },
   "outputs": [],
   "source": [
    "from keras.datasets import mnist\n",
    "(x_train, y_train), (x_test, y_test) = mnist.load_data()\n",
    "X_train = x_train.reshape(-1, 784)\n",
    "X_test = x_test.reshape(-1, 784)\n",
    "X_train = X_train.astype(np.float)\n",
    "X_test = X_test.astype(np.float)\n",
    "X_train /= 255\n",
    "X_test /= 255"
   ]
  },
  {
   "cell_type": "code",
   "execution_count": 45,
   "metadata": {
    "ExecuteTime": {
     "end_time": "2019-06-30T07:27:50.436226Z",
     "start_time": "2019-06-30T07:27:50.161895Z"
    }
   },
   "outputs": [],
   "source": [
    "from sklearn.preprocessing import OneHotEncoder\n",
    "enc = OneHotEncoder(handle_unknown='ignore', sparse=False)\n",
    "y_train_one_hot = enc.fit_transform(y_train[:, np.newaxis])\n",
    "y_test_one_hot = enc.fit_transform(y_test[:, np.newaxis])\n",
    "X_train, X_val, y_train, y_val = train_test_split(X_train,y_train_one_hot,test_size=0.25,random_state=0)"
   ]
  },
  {
   "cell_type": "code",
   "execution_count": 46,
   "metadata": {
    "ExecuteTime": {
     "end_time": "2019-06-30T07:27:50.552539Z",
     "start_time": "2019-06-30T07:27:50.437749Z"
    }
   },
   "outputs": [],
   "source": [
    "model = models.Sequential()\n",
    "model.add(layers.Dense(50, activation='relu', input_shape=(784,)))\n",
    "model.add(layers.Dense(100, activation='relu'))\n",
    "model.add(layers.Dense(10, activation='softmax'))\n",
    "model.compile(optimizer=optimizers.Adam(lr=1e-2),\n",
    "                     loss='categorical_crossentropy',\n",
    "                    metrics=['accuracy'])"
   ]
  },
  {
   "cell_type": "code",
   "execution_count": 47,
   "metadata": {
    "ExecuteTime": {
     "end_time": "2019-06-30T07:28:35.204784Z",
     "start_time": "2019-06-30T07:27:50.554491Z"
    },
    "scrolled": false
   },
   "outputs": [
    {
     "name": "stdout",
     "output_type": "stream",
     "text": [
      "Train on 45000 samples, validate on 15000 samples\n",
      "Epoch 1/20\n",
      " - 2s - loss: 0.3157 - acc: 0.9066 - val_loss: 0.2559 - val_acc: 0.9261\n",
      "Epoch 2/20\n",
      " - 2s - loss: 0.2126 - acc: 0.9392 - val_loss: 0.2414 - val_acc: 0.9335\n",
      "Epoch 3/20\n",
      " - 2s - loss: 0.1880 - acc: 0.9479 - val_loss: 0.2100 - val_acc: 0.9465\n",
      "Epoch 4/20\n",
      " - 2s - loss: 0.1668 - acc: 0.9552 - val_loss: 0.2522 - val_acc: 0.9373\n",
      "Epoch 5/20\n",
      " - 2s - loss: 0.1640 - acc: 0.9569 - val_loss: 0.2019 - val_acc: 0.9506\n",
      "Epoch 6/20\n",
      " - 2s - loss: 0.1552 - acc: 0.9598 - val_loss: 0.2162 - val_acc: 0.9482\n",
      "Epoch 7/20\n",
      " - 2s - loss: 0.1478 - acc: 0.9616 - val_loss: 0.2626 - val_acc: 0.9464\n",
      "Epoch 8/20\n",
      " - 2s - loss: 0.1393 - acc: 0.9646 - val_loss: 0.1831 - val_acc: 0.9529\n",
      "Epoch 9/20\n",
      " - 2s - loss: 0.1320 - acc: 0.9658 - val_loss: 0.2327 - val_acc: 0.9503\n",
      "Epoch 10/20\n",
      " - 2s - loss: 0.1324 - acc: 0.9663 - val_loss: 0.1871 - val_acc: 0.9599\n",
      "Epoch 11/20\n",
      " - 2s - loss: 0.1326 - acc: 0.9671 - val_loss: 0.1735 - val_acc: 0.9589\n",
      "Epoch 12/20\n",
      " - 2s - loss: 0.1186 - acc: 0.9699 - val_loss: 0.2137 - val_acc: 0.9581\n",
      "Epoch 13/20\n",
      " - 2s - loss: 0.1303 - acc: 0.9683 - val_loss: 0.2068 - val_acc: 0.9529\n",
      "Epoch 14/20\n",
      " - 2s - loss: 0.1127 - acc: 0.9711 - val_loss: 0.2132 - val_acc: 0.9551\n",
      "Epoch 15/20\n",
      " - 2s - loss: 0.1189 - acc: 0.9706 - val_loss: 0.2497 - val_acc: 0.9481\n",
      "Epoch 16/20\n",
      " - 2s - loss: 0.1215 - acc: 0.9707 - val_loss: 0.2233 - val_acc: 0.9533\n",
      "Epoch 17/20\n",
      " - 3s - loss: 0.1132 - acc: 0.9720 - val_loss: 0.2537 - val_acc: 0.9533\n",
      "Epoch 18/20\n",
      " - 2s - loss: 0.1132 - acc: 0.9730 - val_loss: 0.2477 - val_acc: 0.9544\n",
      "Epoch 19/20\n",
      " - 2s - loss: 0.1175 - acc: 0.9717 - val_loss: 0.2489 - val_acc: 0.9533\n",
      "Epoch 20/20\n",
      " - 2s - loss: 0.1033 - acc: 0.9744 - val_loss: 0.2245 - val_acc: 0.9569\n"
     ]
    }
   ],
   "source": [
    "hist = model.fit(X_train, y_train,\n",
    "                 epochs=20, batch_size=30,\n",
    "                 validation_data=(X_val, y_val), verbose=2)"
   ]
  },
  {
   "cell_type": "code",
   "execution_count": 48,
   "metadata": {
    "ExecuteTime": {
     "end_time": "2019-06-30T07:28:35.347335Z",
     "start_time": "2019-06-30T07:28:35.206811Z"
    }
   },
   "outputs": [
    {
     "data": {
      "image/png": "[encoded data removed]",
      "text/plain": [
       "<Figure size 432x288 with 1 Axes>"
      ]
     },
     "metadata": {
      "needs_background": "light"
     },
     "output_type": "display_data"
    }
   ],
   "source": [
    "train_loss = hist.history['loss'] #訓練誤差を取得\n",
    "val_loss = hist.history['val_loss'] #検証誤差を取得\n",
    "\n",
    "#誤差の履歴をプロット\n",
    "plt.figure()\n",
    "plt.title('Loss')\n",
    "plt.plot(range(len(train_loss)), train_loss, label='train_loss')\n",
    "plt.plot(range(len(val_loss)), val_loss, label='val_loss')\n",
    "plt.xlabel('epoch')\n",
    "plt.ylabel('loss')\n",
    "plt.legend()\n",
    "plt.show()"
   ]
  },
  {
   "cell_type": "code",
   "execution_count": 49,
   "metadata": {
    "ExecuteTime": {
     "end_time": "2019-06-30T07:28:35.473780Z",
     "start_time": "2019-06-30T07:28:35.349253Z"
    }
   },
   "outputs": [
    {
     "data": {
      "image/png": "[encoded data removed]",
      "text/plain": [
       "<Figure size 432x288 with 1 Axes>"
      ]
     },
     "metadata": {
      "needs_background": "light"
     },
     "output_type": "display_data"
    }
   ],
   "source": [
    "train_acc = hist.history['acc'] #訓練精度を取得\n",
    "val_acc = hist.history['val_acc'] #検証精度を取得\n",
    "\n",
    "#精度の履歴をプロット\n",
    "plt.figure()\n",
    "plt.title('Accuracy')\n",
    "plt.plot(range(len(train_acc)), train_acc, label='train_acc')\n",
    "plt.plot(range(len(val_acc)), val_acc, label='val_acc')\n",
    "plt.xlabel('epoch')\n",
    "plt.ylabel('accuracy')\n",
    "plt.legend(loc='lower right')\n",
    "plt.show()"
   ]
  },
  {
   "cell_type": "markdown",
   "metadata": {},
   "source": [
    "# 【問題6】（アドバンス課題）PyTorchへの書き換え"
   ]
  },
  {
   "cell_type": "code",
   "execution_count": 50,
   "metadata": {
    "ExecuteTime": {
     "end_time": "2019-06-30T07:28:35.600149Z",
     "start_time": "2019-06-30T07:28:35.476217Z"
    }
   },
   "outputs": [],
   "source": [
    "import torch\n",
    "import torch.nn as nn\n",
    "import torch.optim as optim"
   ]
  },
  {
   "cell_type": "code",
   "execution_count": 51,
   "metadata": {
    "ExecuteTime": {
     "end_time": "2019-06-30T07:28:35.642399Z",
     "start_time": "2019-06-30T07:28:35.601887Z"
    }
   },
   "outputs": [],
   "source": [
    "\"\"\"\n",
    "tf.kerasで実装したニューラルネットワークを使いIrisデータセットを2値分類する\n",
    "\"\"\"\n",
    "# データセットの読み込み\n",
    "dataset_path =\"Iris.csv\"\n",
    "df = pd.read_csv(dataset_path)\n",
    "# データフレームから条件抽出\n",
    "df = df[(df[\"Species\"] == \"Iris-versicolor\")|(df[\"Species\"] == \"Iris-virginica\")]\n",
    "y = df[\"Species\"]\n",
    "X = df.loc[:, [\"SepalLengthCm\", \"SepalWidthCm\", \"PetalLengthCm\", \"PetalWidthCm\"]]\n",
    "y = np.array(y)\n",
    "X = np.array(X)\n",
    "# ラベルを数値に変換\n",
    "y[y=='Iris-versicolor'] = 0\n",
    "y[y=='Iris-virginica'] = 1\n",
    "y = y.astype(np.int)[:, np.newaxis]\n",
    "# trainとtestに分割\n",
    "X_train, X_test, y_train, y_test = train_test_split(X, y, test_size=0.2, random_state=0)\n",
    "# さらにtrainとvalに分割\n",
    "X_train, X_val, y_train, y_val = train_test_split(X_train, y_train, test_size=0.2, random_state=0)"
   ]
  },
  {
   "cell_type": "code",
   "execution_count": 52,
   "metadata": {
    "ExecuteTime": {
     "end_time": "2019-06-30T07:28:35.649422Z",
     "start_time": "2019-06-30T07:28:35.644183Z"
    }
   },
   "outputs": [],
   "source": [
    "#tensorに変換\n",
    "X_train =  torch.tensor(data=X_train, dtype=torch.float32)\n",
    "y_train =  torch.tensor(data=y_train, dtype=torch.float32)\n",
    "X_val =  torch.tensor(data=X_val, dtype=torch.float32)\n",
    "y_val =  torch.tensor(data=y_val, dtype=torch.float32)\n",
    "X_test =  torch.tensor(data=X_test, dtype=torch.float32)\n",
    "y_test =  torch.tensor(data=y_test, dtype=torch.float32)\n"
   ]
  },
  {
   "cell_type": "code",
   "execution_count": 53,
   "metadata": {
    "ExecuteTime": {
     "end_time": "2019-06-30T07:28:35.654745Z",
     "start_time": "2019-06-30T07:28:35.650993Z"
    }
   },
   "outputs": [],
   "source": [
    "net = nn.Linear(4,1)\n",
    "loss_fn = nn.BCEWithLogitsLoss()\n",
    "optimizer = optim.SGD(net.parameters(), lr=0.25)"
   ]
  },
  {
   "cell_type": "code",
   "execution_count": 54,
   "metadata": {
    "ExecuteTime": {
     "end_time": "2019-06-30T07:28:35.693284Z",
     "start_time": "2019-06-30T07:28:35.656186Z"
    }
   },
   "outputs": [],
   "source": [
    "losses = []\n",
    "\n",
    "for epoc in range(200):\n",
    "    #１つ前のbackwardの勾配を初期化\n",
    "    optimizer.zero_grad()\n",
    "    \n",
    "    y_pred = net(X_train)\n",
    "    \n",
    "    #MSEロスとwによる微分を計算\n",
    "    #y_pred(n,1)の様なshapeを持っているので(n,)に直す\n",
    "    loss = loss_fn(y_pred.view_as(y_train), y_train)\n",
    "    loss.backward()\n",
    "    \n",
    "    \n",
    "    optimizer.step()\n",
    "    \n",
    "    losses.append(loss.item())"
   ]
  },
  {
   "cell_type": "code",
   "execution_count": 55,
   "metadata": {
    "ExecuteTime": {
     "end_time": "2019-06-30T07:28:35.815381Z",
     "start_time": "2019-06-30T07:28:35.694656Z"
    }
   },
   "outputs": [
    {
     "data": {
      "text/plain": [
       "[<matplotlib.lines.Line2D at 0x1c41087c18>]"
      ]
     },
     "execution_count": 55,
     "metadata": {},
     "output_type": "execute_result"
    },
    {
     "data": {
      "image/png": "[encoded data removed]",
      "text/plain": [
       "<Figure size 432x288 with 1 Axes>"
      ]
     },
     "metadata": {
      "needs_background": "light"
     },
     "output_type": "display_data"
    }
   ],
   "source": [
    "plt.plot(losses)"
   ]
  },
  {
   "cell_type": "code",
   "execution_count": 56,
   "metadata": {
    "ExecuteTime": {
     "end_time": "2019-06-30T07:28:35.823453Z",
     "start_time": "2019-06-30T07:28:35.817397Z"
    }
   },
   "outputs": [
    {
     "name": "stderr",
     "output_type": "stream",
     "text": [
      "/Users/takahashiakira/.pyenv/versions/anaconda3-2019.03/lib/python3.7/site-packages/torch/nn/functional.py:1332: UserWarning: nn.functional.sigmoid is deprecated. Use torch.sigmoid instead.\n",
      "  warnings.warn(\"nn.functional.sigmoid is deprecated. Use torch.sigmoid instead.\")\n"
     ]
    },
    {
     "data": {
      "text/plain": [
       "63"
      ]
     },
     "execution_count": 56,
     "metadata": {},
     "output_type": "execute_result"
    }
   ],
   "source": [
    "h = net(X_train)\n",
    "prob = nn.functional.sigmoid(h)\n",
    "\n",
    "y_pred = prob > 0.5\n",
    "\n",
    "(y_train.byte() == y_pred.view_as(y_train)).sum().item()"
   ]
  },
  {
   "cell_type": "markdown",
   "metadata": {
    "ExecuteTime": {
     "end_time": "2019-05-31T06:49:00.787677Z",
     "start_time": "2019-05-31T06:49:00.783103Z"
    }
   },
   "source": [
    "## 多クラス分類"
   ]
  },
  {
   "cell_type": "code",
   "execution_count": 57,
   "metadata": {
    "ExecuteTime": {
     "end_time": "2019-06-30T07:28:35.910051Z",
     "start_time": "2019-06-30T07:28:35.825248Z"
    }
   },
   "outputs": [],
   "source": [
    "from sklearn.datasets import load_digits\n",
    "digits = load_digits()\n",
    "\n",
    "X = digits.data\n",
    "Y = digits.target\n",
    "\n",
    "X = torch.tensor(X, dtype=torch.float32)\n",
    "# クロスエントロピーはint64のtensorとなる。\n",
    "Y = torch.tensor(Y, dtype=torch.int64)"
   ]
  },
  {
   "cell_type": "code",
   "execution_count": 58,
   "metadata": {
    "ExecuteTime": {
     "end_time": "2019-06-30T07:28:35.916394Z",
     "start_time": "2019-06-30T07:28:35.911866Z"
    }
   },
   "outputs": [],
   "source": [
    "net = nn.Sequential(\n",
    "    nn.Linear(64, 32),\n",
    "    nn.ReLU(),\n",
    "    nn.Linear(32, 16),\n",
    "    nn.ReLU(),\n",
    "    nn.Linear(16,10)\n",
    ")"
   ]
  },
  {
   "cell_type": "code",
   "execution_count": 59,
   "metadata": {
    "ExecuteTime": {
     "end_time": "2019-06-30T07:28:36.680105Z",
     "start_time": "2019-06-30T07:28:35.918000Z"
    }
   },
   "outputs": [],
   "source": [
    "loss_fn = nn.CrossEntropyLoss()\n",
    "\n",
    "optimizer = optim.Adam(net.parameters())\n",
    "\n",
    "losses = []\n",
    "\n",
    "for epoc in range(500):\n",
    "    \n",
    "    #backwardで計算された　勾配を初期化\n",
    "    optimizer.zero_grad()\n",
    "    \n",
    "    y_pred = net(X)\n",
    "    #lossを計算バックワード\n",
    "    loss = loss_fn(y_pred , Y)\n",
    "    loss.backward()\n",
    "    \n",
    "    #勾配を更新\n",
    "    optimizer.step()\n",
    "    #勾配を貯める\n",
    "    losses.append(loss.item())"
   ]
  },
  {
   "cell_type": "code",
   "execution_count": 60,
   "metadata": {
    "ExecuteTime": {
     "end_time": "2019-06-30T07:28:36.815084Z",
     "start_time": "2019-06-30T07:28:36.682355Z"
    },
    "scrolled": true
   },
   "outputs": [
    {
     "data": {
      "text/plain": [
       "[<matplotlib.lines.Line2D at 0x1c41650278>]"
      ]
     },
     "execution_count": 60,
     "metadata": {},
     "output_type": "execute_result"
    },
    {
     "data": {
      "image/png": "[encoded data removed]",
      "text/plain": [
       "<Figure size 432x288 with 1 Axes>"
      ]
     },
     "metadata": {
      "needs_background": "light"
     },
     "output_type": "display_data"
    }
   ],
   "source": [
    "plt.plot(losses)"
   ]
  },
  {
   "cell_type": "code",
   "execution_count": 61,
   "metadata": {
    "ExecuteTime": {
     "end_time": "2019-06-30T07:28:36.821129Z",
     "start_time": "2019-06-30T07:28:36.816935Z"
    }
   },
   "outputs": [
    {
     "data": {
      "text/plain": [
       "<bound method Module.parameters of Sequential(\n",
       "  (0): Linear(in_features=64, out_features=32, bias=True)\n",
       "  (1): ReLU()\n",
       "  (2): Linear(in_features=32, out_features=16, bias=True)\n",
       "  (3): ReLU()\n",
       "  (4): Linear(in_features=16, out_features=10, bias=True)\n",
       ")>"
      ]
     },
     "execution_count": 61,
     "metadata": {},
     "output_type": "execute_result"
    }
   ],
   "source": [
    "net.parameters"
   ]
  },
  {
   "cell_type": "markdown",
   "metadata": {},
   "source": [
    "### DataLoaderを使って、バッチ処理をしてみる。"
   ]
  },
  {
   "cell_type": "code",
   "execution_count": 62,
   "metadata": {
    "ExecuteTime": {
     "end_time": "2019-06-30T07:28:37.198530Z",
     "start_time": "2019-06-30T07:28:36.822949Z"
    }
   },
   "outputs": [],
   "source": [
    "from torch.utils.data import TensorDataset, DataLoader\n",
    "# datasetを作成\n",
    "ds = TensorDataset(X, Y)\n",
    "\n",
    "# 異なる順番で64個ずつデータを返す。\n",
    "loader = DataLoader(ds, batch_size=64, shuffle=True)\n",
    "\n",
    "#モデルを作成\n",
    "net = nn.Sequential(\n",
    "    nn.Linear(64, 32),\n",
    "    nn.ReLU(),\n",
    "    nn.Linear(32,16),\n",
    "    nn.ReLU(),\n",
    "    nn.Linear(16, 10)\n",
    ")\n",
    "\n",
    "# ソフトマックスクロスエントロピー\n",
    "loss_fn = nn.CrossEntropyLoss()\n",
    "#optimizerを初期化\n",
    "optimizer = optim.Adam(net.parameters())\n",
    "\n",
    "# 学習\n",
    "losses = []\n",
    "for epoch in range(10):\n",
    "    running_loss = 0.0\n",
    "    for xx, yy in loader:\n",
    "        # xx, yyは64個分のみ受け取れる。\n",
    "        y_pred = net(xx)\n",
    "        loss = loss_fn(y_pred, yy)\n",
    "        optimizer.zero_grad()\n",
    "        loss.backward()\n",
    "        optimizer.step()\n",
    "        running_loss += loss.item()\n",
    "    losses.append(running_loss)\n",
    "    "
   ]
  },
  {
   "cell_type": "code",
   "execution_count": 63,
   "metadata": {
    "ExecuteTime": {
     "end_time": "2019-06-30T07:28:37.341233Z",
     "start_time": "2019-06-30T07:28:37.200267Z"
    }
   },
   "outputs": [
    {
     "data": {
      "text/plain": [
       "[<matplotlib.lines.Line2D at 0x1c415286a0>]"
      ]
     },
     "execution_count": 63,
     "metadata": {},
     "output_type": "execute_result"
    },
    {
     "data": {
      "image/png": "[encoded data removed]",
      "text/plain": [
       "<Figure size 432x288 with 1 Axes>"
      ]
     },
     "metadata": {
      "needs_background": "light"
     },
     "output_type": "display_data"
    }
   ],
   "source": [
    "plt.plot(losses)"
   ]
  },
  {
   "cell_type": "code",
   "execution_count": 64,
   "metadata": {
    "ExecuteTime": {
     "end_time": "2019-06-30T07:28:37.350303Z",
     "start_time": "2019-06-30T07:28:37.343233Z"
    }
   },
   "outputs": [
    {
     "name": "stdout",
     "output_type": "stream",
     "text": [
      "accuracy=0.9727\n"
     ]
    },
    {
     "name": "stderr",
     "output_type": "stream",
     "text": [
      "/Users/takahashiakira/.pyenv/versions/anaconda3-2019.03/lib/python3.7/site-packages/ipykernel_launcher.py:3: UserWarning: Implicit dimension choice for softmax has been deprecated. Change the call to include dim=X as an argument.\n",
      "  This is separate from the ipykernel package so we can avoid doing imports until\n"
     ]
    }
   ],
   "source": [
    "soft = nn.Softmax()\n",
    "pred = net(X)\n",
    "pred = soft(pred)\n",
    "print('accuracy={:.4f}'.format((torch.argmax(pred,1) == Y).sum().item() / len(Y)))"
   ]
  },
  {
   "cell_type": "code",
   "execution_count": null,
   "metadata": {},
   "outputs": [],
   "source": []
  }
 ],
 "metadata": {
  "kernelspec": {
   "display_name": "Python 3",
   "language": "python",
   "name": "python3"
  },
  "language_info": {
   "codemirror_mode": {
    "name": "ipython",
    "version": 3
   },
   "file_extension": ".py",
   "mimetype": "text/x-python",
   "name": "python",
   "nbconvert_exporter": "python",
   "pygments_lexer": "ipython3",
   "version": "3.7.3"
  },
  "nbTranslate": {
   "displayLangs": [
    "*"
   ],
   "hotkey": "alt-t",
   "langInMainMenu": true,
   "sourceLang": "en",
   "targetLang": "fr",
   "useGoogleTranslate": true
  },
  "varInspector": {
   "cols": {
    "lenName": 16,
    "lenType": 16,
    "lenVar": 40
   },
   "kernels_config": {
    "python": {
     "delete_cmd_postfix": "",
     "delete_cmd_prefix": "del ",
     "library": "var_list.py",
     "varRefreshCmd": "print(var_dic_list())"
    },
    "r": {
     "delete_cmd_postfix": ") ",
     "delete_cmd_prefix": "rm(",
     "library": "var_list.r",
     "varRefreshCmd": "cat(var_dic_list()) "
    }
   },
   "types_to_exclude": [
    "module",
    "function",
    "builtin_function_or_method",
    "instance",
    "_Feature"
   ],
   "window_display": false
  }
 },
 "nbformat": 4,
 "nbformat_minor": 2
}
