{
 "cells": [
  {
   "cell_type": "markdown",
   "metadata": {
    "heading_collapsed": true
   },
   "source": [
    "# べき乗の算術演算子を使用"
   ]
  },
  {
   "cell_type": "code",
   "execution_count": 3,
   "metadata": {
    "hidden": true
   },
   "outputs": [
    {
     "name": "stdout",
     "output_type": "stream",
     "text": [
      "厚さ： 70.37万キロメートル\n"
     ]
    }
   ],
   "source": [
    "\"\"\"\n",
    "紙を43回折った時の厚さを計算するコード\n",
    "\"\"\"\n",
    "\n",
    "thickness = 0.00008\n",
    "#折る回数\n",
    "fold = 43\n",
    "\n",
    "folded_thickness = thickness*2**fold\n",
    "\n",
    "print(\"厚さ： {:.2f}万キロメートル\".format(folded_thickness/10000000))"
   ]
  },
  {
   "cell_type": "code",
   "execution_count": 32,
   "metadata": {
    "hidden": true
   },
   "outputs": [
    {
     "name": "stdout",
     "output_type": "stream",
     "text": [
      "紙を43回折ったときの厚さは月に到達する\n"
     ]
    }
   ],
   "source": [
    "#月までの距離は38.44万km\n",
    "tuki = 384400000\n",
    "\n",
    "if tuki - folded_thickness <=0:\n",
    "    print(f'紙を{fold}回折ったときの厚さは月に到達する')\n",
    "else:\n",
    "    print(f'紙を{fold}回折った時の厚さは月に到達しない')"
   ]
  },
  {
   "cell_type": "markdown",
   "metadata": {
    "heading_collapsed": true
   },
   "source": [
    "# for分を使った場合"
   ]
  },
  {
   "cell_type": "code",
   "execution_count": 8,
   "metadata": {
    "hidden": true,
    "scrolled": true
   },
   "outputs": [
    {
     "name": "stdout",
     "output_type": "stream",
     "text": [
      "厚さ： 70.37万キロメートル\n"
     ]
    }
   ],
   "source": [
    "folded_thickness2 = thickness\n",
    "for i in range(fold):\n",
    "    folded_thickness2 = folded_thickness2*2\n",
    "\n",
    "print(\"厚さ： {:.2f}万キロメートル\".format(folded_thickness2/10000000))"
   ]
  },
  {
   "cell_type": "markdown",
   "metadata": {
    "heading_collapsed": true
   },
   "source": [
    "# べき乗とfor分の時間を比較"
   ]
  },
  {
   "cell_type": "code",
   "execution_count": 12,
   "metadata": {
    "hidden": true
   },
   "outputs": [
    {
     "name": "stdout",
     "output_type": "stream",
     "text": [
      "厚さ： 70.37万キロメートル\n",
      "time : 0.00011706352233886719[s]\n"
     ]
    }
   ],
   "source": [
    "import time\n",
    "\n",
    "#べき乗\n",
    "start = time.time()\n",
    "\n",
    "folded_thickness = thickness*2**fold\n",
    "print(\"厚さ： {:.2f}万キロメートル\".format(folded_thickness/10000000))\n",
    "\n",
    "elapsed_time = time.time() - start\n",
    "print(\"time : {}[s]\".format(elapsed_time))"
   ]
  },
  {
   "cell_type": "code",
   "execution_count": 23,
   "metadata": {
    "hidden": true
   },
   "outputs": [
    {
     "name": "stdout",
     "output_type": "stream",
     "text": [
      "厚さ： 70.37万キロメートル\n",
      "time : 0.0004208087921142578[s]\n"
     ]
    }
   ],
   "source": [
    "#for分\n",
    "start = time.time()\n",
    "\n",
    "folded_thickness2 = thickness\n",
    "for i in range(fold):\n",
    "    folded_thickness2 = folded_thickness2*2\n",
    "\n",
    "print(\"厚さ： {:.2f}万キロメートル\".format(folded_thickness2/10000000))\n",
    "elapsed_time = time.time() - start\n",
    "print(\"time : {}[s]\".format(elapsed_time))"
   ]
  },
  {
   "cell_type": "markdown",
   "metadata": {
    "hidden": true
   },
   "source": [
    "**説明**\n",
    "\n",
    "べき乗は2の４３乗の計算を１回行うのに対して、\n",
    "for文は2の掛け算を43回計算するのでfor文の方が長くかかると予想した。\n",
    "\n",
    "予想通りだった。\n",
    "\n",
    "個人的には早いし、わかりやすいし、for文が苦手なので、今回の場合はべき乗のほうが良いと思いました。"
   ]
  },
  {
   "cell_type": "markdown",
   "metadata": {
    "heading_collapsed": true
   },
   "source": [
    "# 可視化"
   ]
  },
  {
   "cell_type": "code",
   "execution_count": 26,
   "metadata": {
    "hidden": true
   },
   "outputs": [],
   "source": [
    "rireki = []\n",
    "folded_thickness2 = thickness\n",
    "rireki.append(folded_thickness2)\n",
    "for i in range(fold):\n",
    "    folded_thickness2 = folded_thickness2*2\n",
    "    rireki.append(folded_thickness2)"
   ]
  },
  {
   "cell_type": "code",
   "execution_count": 27,
   "metadata": {
    "hidden": true,
    "scrolled": true
   },
   "outputs": [
    {
     "data": {
      "text/plain": [
       "[<matplotlib.lines.Line2D at 0x121f98358>]"
      ]
     },
     "execution_count": 27,
     "metadata": {},
     "output_type": "execute_result"
    },
    {
     "data": {
      "image/png": "[encoded data removed]",
      "text/plain": [
       "<Figure size 432x288 with 1 Axes>"
      ]
     },
     "metadata": {
      "needs_background": "light"
     },
     "output_type": "display_data"
    }
   ],
   "source": [
    "\"\"\"\n",
    "グラフを表示する。タイトルと軸ラベル名付き。\n",
    "\"\"\"\n",
    "import matplotlib.pyplot as plt\n",
    "%matplotlib inline\n",
    "\n",
    "plt.title(\"thickness of folded paper\")\n",
    "plt.xlabel(\"number of folds\")\n",
    "plt.ylabel(\"thickness[m]\")\n",
    "plt.plot(rireki) # 「配列名」のところにlist型変数を入れる"
   ]
  },
  {
   "cell_type": "markdown",
   "metadata": {
    "hidden": true
   },
   "source": [
    "**考察**\n",
    "\n",
    "厚さの変化は当たり前だが、指数関数的に伸びている。\n",
    "特に40回を超えた辺りから凄い\n",
    "最後の35万キロメートルの厚さの紙を折るのは想像つかない。"
   ]
  },
  {
   "cell_type": "markdown",
   "metadata": {
    "heading_collapsed": true
   },
   "source": [
    "# グラフのカスタマイズ"
   ]
  },
  {
   "cell_type": "code",
   "execution_count": 38,
   "metadata": {
    "hidden": true
   },
   "outputs": [
    {
     "data": {
      "text/plain": [
       "<matplotlib.legend.Legend at 0x1263d7c18>"
      ]
     },
     "execution_count": 38,
     "metadata": {},
     "output_type": "execute_result"
    },
    {
     "data": {
      "image/png": "[encoded data removed]",
      "text/plain": [
       "<Figure size 432x288 with 1 Axes>"
      ]
     },
     "metadata": {
      "needs_background": "light"
     },
     "output_type": "display_data"
    }
   ],
   "source": [
    "plt.title(\"thickness of folded paper\")\n",
    "plt.xlabel(\"number of folds\")\n",
    "plt.ylabel(\"thickness[m]\")\n",
    "plt.plot(rireki,label = 'kami') # 「配列名」のところにlist型変数を入れる\n",
    "plt.plot([0, len(rireki)],[tuki, tuki], \"red\", label='tuki') \n",
    "plt.legend()"
   ]
  },
  {
   "cell_type": "code",
   "execution_count": 41,
   "metadata": {
    "hidden": true
   },
   "outputs": [
    {
     "data": {
      "text/plain": [
       "<matplotlib.legend.Legend at 0x12674be10>"
      ]
     },
     "execution_count": 41,
     "metadata": {},
     "output_type": "execute_result"
    },
    {
     "data": {
      "image/png": "[encoded data removed]",
      "text/plain": [
       "<Figure size 432x288 with 1 Axes>"
      ]
     },
     "metadata": {
      "needs_background": "light"
     },
     "output_type": "display_data"
    }
   ],
   "source": [
    "plt.title(\"thickness of folded paper\")\n",
    "plt.xlabel(\"number of folds\")\n",
    "plt.ylabel(\"thickness[m]\")\n",
    "plt.plot(rireki,label = 'kami') # 「配列名」のところにlist型変数を入れる\n",
    "plt.plot([0, len(rireki)],[tuki, tuki], \"red\", label='tuki',lw=5) \n",
    "plt.legend()"
   ]
  },
  {
   "cell_type": "code",
   "execution_count": 53,
   "metadata": {
    "hidden": true
   },
   "outputs": [
    {
     "data": {
      "text/plain": [
       "Text(41, 703687441.77664, 'kami')"
      ]
     },
     "execution_count": 53,
     "metadata": {},
     "output_type": "execute_result"
    },
    {
     "data": {
      "image/png": "[encoded data removed]",
      "text/plain": [
       "<Figure size 432x288 with 1 Axes>"
      ]
     },
     "metadata": {
      "needs_background": "light"
     },
     "output_type": "display_data"
    }
   ],
   "source": [
    "plt.title(\"thickness of folded paper\")\n",
    "plt.xlabel(\"number of folds\")\n",
    "plt.ylabel(\"thickness[m]\")\n",
    "plt.plot(rireki,label = 'kami') # 「配列名」のところにlist型変数を入れる\n",
    "plt.plot([0, len(rireki)],[tuki, tuki], \"red\", label='tuki',lw=5) \n",
    "plt.text(47,tuki,'tuki',fontsize=13,color='r')\n",
    "plt.text(41,max(rireki),'kami',fontsize=13,color='b')"
   ]
  },
  {
   "cell_type": "markdown",
   "metadata": {
    "heading_collapsed": true
   },
   "source": [
    "# なぜパイソンか"
   ]
  },
  {
   "cell_type": "markdown",
   "metadata": {
    "hidden": true
   },
   "source": [
    "- 開発と解析を行うことができる**汎用性の高さ**\n",
    "\n",
    "- 複数の言語をまたぐ必要が無いので余計なことを考えずにすむ。\n",
    "\n",
    "- Numpy等の**科学技術計算ライブラリ**の早期開発、成長。\n",
    "\n",
    "- 民間企業やコミュニティの本格的なサポート\n",
    "\n",
    "- **機械学習向けライブラリ**の充足\n",
    "\n",
    "- 比較的書きやすい言語ということもあり、教育向き言語としても利用されている。\n",
    "\n",
    "- 拡張性が高く、C++等多言語を呼び出しやすい。動作を早くするために、ライブラリの中身は多言語を使って書かれていることが多い。\n",
    "\n",
    "やはり汎用性の高さと、機械学習ライブラリの多さがpythonが選ばれる理由です。\n",
    "はじめてのプログラミング言語としても、pythonはシンプルなので始めやすかったので個人的にも助かりました。"
   ]
  }
 ],
 "metadata": {
  "hide_input": false,
  "kernelspec": {
   "display_name": "Python 3",
   "language": "python",
   "name": "python3"
  },
  "language_info": {
   "codemirror_mode": {
    "name": "ipython",
    "version": 3
   },
   "file_extension": ".py",
   "mimetype": "text/x-python",
   "name": "python",
   "nbconvert_exporter": "python",
   "pygments_lexer": "ipython3",
   "version": "3.7.1"
  },
  "toc": {
   "base_numbering": 1,
   "nav_menu": {},
   "number_sections": true,
   "sideBar": true,
   "skip_h1_title": false,
   "title_cell": "Table of Contents",
   "title_sidebar": "Contents",
   "toc_cell": false,
   "toc_position": {},
   "toc_section_display": true,
   "toc_window_display": false
  }
 },
 "nbformat": 4,
 "nbformat_minor": 2
}
