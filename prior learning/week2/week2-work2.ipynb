{
 "cells": [
  {
   "cell_type": "markdown",
   "metadata": {},
   "source": [
    "# 【課題1】1次元配列を作ろう"
   ]
  },
  {
   "cell_type": "code",
   "execution_count": 1,
   "metadata": {},
   "outputs": [
    {
     "data": {
      "text/plain": [
       "array([0.  , 0.01, 0.02, 0.03, 0.04, 0.05, 0.06, 0.07, 0.08, 0.09, 0.1 ,\n",
       "       0.11, 0.12, 0.13, 0.14, 0.15, 0.16, 0.17, 0.18, 0.19, 0.2 , 0.21,\n",
       "       0.22, 0.23, 0.24, 0.25, 0.26, 0.27, 0.28, 0.29, 0.3 , 0.31, 0.32,\n",
       "       0.33, 0.34, 0.35, 0.36, 0.37, 0.38, 0.39, 0.4 , 0.41, 0.42, 0.43,\n",
       "       0.44, 0.45, 0.46, 0.47, 0.48, 0.49, 0.5 , 0.51, 0.52, 0.53, 0.54,\n",
       "       0.55, 0.56, 0.57, 0.58, 0.59, 0.6 , 0.61, 0.62, 0.63, 0.64, 0.65,\n",
       "       0.66, 0.67, 0.68, 0.69, 0.7 , 0.71, 0.72, 0.73, 0.74, 0.75, 0.76,\n",
       "       0.77, 0.78, 0.79, 0.8 , 0.81, 0.82, 0.83, 0.84, 0.85, 0.86, 0.87,\n",
       "       0.88, 0.89, 0.9 , 0.91, 0.92, 0.93, 0.94, 0.95, 0.96, 0.97, 0.98,\n",
       "       0.99, 1.  ])"
      ]
     },
     "execution_count": 1,
     "metadata": {},
     "output_type": "execute_result"
    }
   ],
   "source": [
    "# 0から1まで0.01刻みで１０１個配列を作成する。\n",
    "import numpy as  np\n",
    "data = np.arange(0, 1.01, 0.01) # 最後の数字は配列に含まれないので、少しオーバーする\n",
    "data"
   ]
  },
  {
   "cell_type": "markdown",
   "metadata": {},
   "source": [
    "# 【課題2】2次元配列を作ろう"
   ]
  },
  {
   "cell_type": "code",
   "execution_count": 2,
   "metadata": {},
   "outputs": [],
   "source": [
    "# y= x/2+1のリストを作成して、dataに結合した。\n",
    "y = data/2 + 1\n",
    "data = np.stack([data, y],axis=1)"
   ]
  },
  {
   "cell_type": "code",
   "execution_count": 3,
   "metadata": {
    "scrolled": true
   },
   "outputs": [
    {
     "data": {
      "text/plain": [
       "array([[0.   , 1.   ],\n",
       "       [0.01 , 1.005],\n",
       "       [0.02 , 1.01 ],\n",
       "       [0.03 , 1.015],\n",
       "       [0.04 , 1.02 ],\n",
       "       [0.05 , 1.025],\n",
       "       [0.06 , 1.03 ],\n",
       "       [0.07 , 1.035],\n",
       "       [0.08 , 1.04 ],\n",
       "       [0.09 , 1.045],\n",
       "       [0.1  , 1.05 ],\n",
       "       [0.11 , 1.055],\n",
       "       [0.12 , 1.06 ],\n",
       "       [0.13 , 1.065],\n",
       "       [0.14 , 1.07 ],\n",
       "       [0.15 , 1.075],\n",
       "       [0.16 , 1.08 ],\n",
       "       [0.17 , 1.085],\n",
       "       [0.18 , 1.09 ],\n",
       "       [0.19 , 1.095],\n",
       "       [0.2  , 1.1  ],\n",
       "       [0.21 , 1.105],\n",
       "       [0.22 , 1.11 ],\n",
       "       [0.23 , 1.115],\n",
       "       [0.24 , 1.12 ],\n",
       "       [0.25 , 1.125],\n",
       "       [0.26 , 1.13 ],\n",
       "       [0.27 , 1.135],\n",
       "       [0.28 , 1.14 ],\n",
       "       [0.29 , 1.145],\n",
       "       [0.3  , 1.15 ],\n",
       "       [0.31 , 1.155],\n",
       "       [0.32 , 1.16 ],\n",
       "       [0.33 , 1.165],\n",
       "       [0.34 , 1.17 ],\n",
       "       [0.35 , 1.175],\n",
       "       [0.36 , 1.18 ],\n",
       "       [0.37 , 1.185],\n",
       "       [0.38 , 1.19 ],\n",
       "       [0.39 , 1.195],\n",
       "       [0.4  , 1.2  ],\n",
       "       [0.41 , 1.205],\n",
       "       [0.42 , 1.21 ],\n",
       "       [0.43 , 1.215],\n",
       "       [0.44 , 1.22 ],\n",
       "       [0.45 , 1.225],\n",
       "       [0.46 , 1.23 ],\n",
       "       [0.47 , 1.235],\n",
       "       [0.48 , 1.24 ],\n",
       "       [0.49 , 1.245],\n",
       "       [0.5  , 1.25 ],\n",
       "       [0.51 , 1.255],\n",
       "       [0.52 , 1.26 ],\n",
       "       [0.53 , 1.265],\n",
       "       [0.54 , 1.27 ],\n",
       "       [0.55 , 1.275],\n",
       "       [0.56 , 1.28 ],\n",
       "       [0.57 , 1.285],\n",
       "       [0.58 , 1.29 ],\n",
       "       [0.59 , 1.295],\n",
       "       [0.6  , 1.3  ],\n",
       "       [0.61 , 1.305],\n",
       "       [0.62 , 1.31 ],\n",
       "       [0.63 , 1.315],\n",
       "       [0.64 , 1.32 ],\n",
       "       [0.65 , 1.325],\n",
       "       [0.66 , 1.33 ],\n",
       "       [0.67 , 1.335],\n",
       "       [0.68 , 1.34 ],\n",
       "       [0.69 , 1.345],\n",
       "       [0.7  , 1.35 ],\n",
       "       [0.71 , 1.355],\n",
       "       [0.72 , 1.36 ],\n",
       "       [0.73 , 1.365],\n",
       "       [0.74 , 1.37 ],\n",
       "       [0.75 , 1.375],\n",
       "       [0.76 , 1.38 ],\n",
       "       [0.77 , 1.385],\n",
       "       [0.78 , 1.39 ],\n",
       "       [0.79 , 1.395],\n",
       "       [0.8  , 1.4  ],\n",
       "       [0.81 , 1.405],\n",
       "       [0.82 , 1.41 ],\n",
       "       [0.83 , 1.415],\n",
       "       [0.84 , 1.42 ],\n",
       "       [0.85 , 1.425],\n",
       "       [0.86 , 1.43 ],\n",
       "       [0.87 , 1.435],\n",
       "       [0.88 , 1.44 ],\n",
       "       [0.89 , 1.445],\n",
       "       [0.9  , 1.45 ],\n",
       "       [0.91 , 1.455],\n",
       "       [0.92 , 1.46 ],\n",
       "       [0.93 , 1.465],\n",
       "       [0.94 , 1.47 ],\n",
       "       [0.95 , 1.475],\n",
       "       [0.96 , 1.48 ],\n",
       "       [0.97 , 1.485],\n",
       "       [0.98 , 1.49 ],\n",
       "       [0.99 , 1.495],\n",
       "       [1.   , 1.5  ]])"
      ]
     },
     "execution_count": 3,
     "metadata": {},
     "output_type": "execute_result"
    }
   ],
   "source": [
    "data"
   ]
  },
  {
   "cell_type": "markdown",
   "metadata": {},
   "source": [
    "# 【課題3】勾配を求めよう"
   ]
  },
  {
   "cell_type": "code",
   "execution_count": 4,
   "metadata": {
    "scrolled": true
   },
   "outputs": [
    {
     "data": {
      "text/plain": [
       "array([[0.01 , 0.005],\n",
       "       [0.01 , 0.005],\n",
       "       [0.01 , 0.005],\n",
       "       [0.01 , 0.005],\n",
       "       [0.01 , 0.005],\n",
       "       [0.01 , 0.005],\n",
       "       [0.01 , 0.005],\n",
       "       [0.01 , 0.005],\n",
       "       [0.01 , 0.005],\n",
       "       [0.01 , 0.005],\n",
       "       [0.01 , 0.005],\n",
       "       [0.01 , 0.005],\n",
       "       [0.01 , 0.005],\n",
       "       [0.01 , 0.005],\n",
       "       [0.01 , 0.005],\n",
       "       [0.01 , 0.005],\n",
       "       [0.01 , 0.005],\n",
       "       [0.01 , 0.005],\n",
       "       [0.01 , 0.005],\n",
       "       [0.01 , 0.005],\n",
       "       [0.01 , 0.005],\n",
       "       [0.01 , 0.005],\n",
       "       [0.01 , 0.005],\n",
       "       [0.01 , 0.005],\n",
       "       [0.01 , 0.005],\n",
       "       [0.01 , 0.005],\n",
       "       [0.01 , 0.005],\n",
       "       [0.01 , 0.005],\n",
       "       [0.01 , 0.005],\n",
       "       [0.01 , 0.005],\n",
       "       [0.01 , 0.005],\n",
       "       [0.01 , 0.005],\n",
       "       [0.01 , 0.005],\n",
       "       [0.01 , 0.005],\n",
       "       [0.01 , 0.005],\n",
       "       [0.01 , 0.005],\n",
       "       [0.01 , 0.005],\n",
       "       [0.01 , 0.005],\n",
       "       [0.01 , 0.005],\n",
       "       [0.01 , 0.005],\n",
       "       [0.01 , 0.005],\n",
       "       [0.01 , 0.005],\n",
       "       [0.01 , 0.005],\n",
       "       [0.01 , 0.005],\n",
       "       [0.01 , 0.005],\n",
       "       [0.01 , 0.005],\n",
       "       [0.01 , 0.005],\n",
       "       [0.01 , 0.005],\n",
       "       [0.01 , 0.005],\n",
       "       [0.01 , 0.005],\n",
       "       [0.01 , 0.005],\n",
       "       [0.01 , 0.005],\n",
       "       [0.01 , 0.005],\n",
       "       [0.01 , 0.005],\n",
       "       [0.01 , 0.005],\n",
       "       [0.01 , 0.005],\n",
       "       [0.01 , 0.005],\n",
       "       [0.01 , 0.005],\n",
       "       [0.01 , 0.005],\n",
       "       [0.01 , 0.005],\n",
       "       [0.01 , 0.005],\n",
       "       [0.01 , 0.005],\n",
       "       [0.01 , 0.005],\n",
       "       [0.01 , 0.005],\n",
       "       [0.01 , 0.005],\n",
       "       [0.01 , 0.005],\n",
       "       [0.01 , 0.005],\n",
       "       [0.01 , 0.005],\n",
       "       [0.01 , 0.005],\n",
       "       [0.01 , 0.005],\n",
       "       [0.01 , 0.005],\n",
       "       [0.01 , 0.005],\n",
       "       [0.01 , 0.005],\n",
       "       [0.01 , 0.005],\n",
       "       [0.01 , 0.005],\n",
       "       [0.01 , 0.005],\n",
       "       [0.01 , 0.005],\n",
       "       [0.01 , 0.005],\n",
       "       [0.01 , 0.005],\n",
       "       [0.01 , 0.005],\n",
       "       [0.01 , 0.005],\n",
       "       [0.01 , 0.005],\n",
       "       [0.01 , 0.005],\n",
       "       [0.01 , 0.005],\n",
       "       [0.01 , 0.005],\n",
       "       [0.01 , 0.005],\n",
       "       [0.01 , 0.005],\n",
       "       [0.01 , 0.005],\n",
       "       [0.01 , 0.005],\n",
       "       [0.01 , 0.005],\n",
       "       [0.01 , 0.005],\n",
       "       [0.01 , 0.005],\n",
       "       [0.01 , 0.005],\n",
       "       [0.01 , 0.005],\n",
       "       [0.01 , 0.005],\n",
       "       [0.01 , 0.005],\n",
       "       [0.01 , 0.005],\n",
       "       [0.01 , 0.005],\n",
       "       [0.01 , 0.005],\n",
       "       [0.01 , 0.005]])"
      ]
     },
     "execution_count": 4,
     "metadata": {},
     "output_type": "execute_result"
    }
   ],
   "source": [
    "# x,yそれぞれの変化量を計算。\n",
    "henka = np.diff(data,axis=0) #axis=0で行方向での差分の計算\n",
    "henka"
   ]
  },
  {
   "cell_type": "code",
   "execution_count": 5,
   "metadata": {},
   "outputs": [
    {
     "data": {
      "text/plain": [
       "array([0.5, 0.5, 0.5, 0.5, 0.5, 0.5, 0.5, 0.5, 0.5, 0.5, 0.5, 0.5, 0.5,\n",
       "       0.5, 0.5, 0.5, 0.5, 0.5, 0.5, 0.5, 0.5, 0.5, 0.5, 0.5, 0.5, 0.5,\n",
       "       0.5, 0.5, 0.5, 0.5, 0.5, 0.5, 0.5, 0.5, 0.5, 0.5, 0.5, 0.5, 0.5,\n",
       "       0.5, 0.5, 0.5, 0.5, 0.5, 0.5, 0.5, 0.5, 0.5, 0.5, 0.5, 0.5, 0.5,\n",
       "       0.5, 0.5, 0.5, 0.5, 0.5, 0.5, 0.5, 0.5, 0.5, 0.5, 0.5, 0.5, 0.5,\n",
       "       0.5, 0.5, 0.5, 0.5, 0.5, 0.5, 0.5, 0.5, 0.5, 0.5, 0.5, 0.5, 0.5,\n",
       "       0.5, 0.5, 0.5, 0.5, 0.5, 0.5, 0.5, 0.5, 0.5, 0.5, 0.5, 0.5, 0.5,\n",
       "       0.5, 0.5, 0.5, 0.5, 0.5, 0.5, 0.5, 0.5, 0.5])"
      ]
     },
     "execution_count": 5,
     "metadata": {},
     "output_type": "execute_result"
    }
   ],
   "source": [
    "# 勾配の計算 yの変化量/xの変化量\n",
    "koubai = henka[:,1]/henka[:,0]\n",
    "koubai"
   ]
  },
  {
   "cell_type": "code",
   "execution_count": 6,
   "metadata": {},
   "outputs": [],
   "source": [
    "# 元々の式が1次式で勾配変わらないので、0.5の同じ数字を追加\n",
    "koubai = np.insert(koubai,100,0.5)"
   ]
  },
  {
   "cell_type": "code",
   "execution_count": 7,
   "metadata": {
    "scrolled": true
   },
   "outputs": [],
   "source": [
    "# dataと勾配を結合\n",
    "data = np.insert(data,2,koubai,axis=1)"
   ]
  },
  {
   "cell_type": "markdown",
   "metadata": {},
   "source": [
    "# 【課題4】配列、勾配、グラフを作ろう"
   ]
  },
  {
   "cell_type": "code",
   "execution_count": 8,
   "metadata": {},
   "outputs": [],
   "source": [
    "data2 = np.arange(0, 1.01, 0.01) # 最後の数字は配列に含まれないので、少しオーバーする\n",
    "y = data2**2\n",
    "data2 = np.stack([data2, y],axis=1)"
   ]
  },
  {
   "cell_type": "code",
   "execution_count": 9,
   "metadata": {},
   "outputs": [
    {
     "data": {
      "text/plain": [
       "array([[0.000e+00, 0.000e+00],\n",
       "       [1.000e-02, 1.000e-04],\n",
       "       [2.000e-02, 4.000e-04],\n",
       "       [3.000e-02, 9.000e-04],\n",
       "       [4.000e-02, 1.600e-03],\n",
       "       [5.000e-02, 2.500e-03],\n",
       "       [6.000e-02, 3.600e-03],\n",
       "       [7.000e-02, 4.900e-03],\n",
       "       [8.000e-02, 6.400e-03],\n",
       "       [9.000e-02, 8.100e-03],\n",
       "       [1.000e-01, 1.000e-02],\n",
       "       [1.100e-01, 1.210e-02],\n",
       "       [1.200e-01, 1.440e-02],\n",
       "       [1.300e-01, 1.690e-02],\n",
       "       [1.400e-01, 1.960e-02],\n",
       "       [1.500e-01, 2.250e-02],\n",
       "       [1.600e-01, 2.560e-02],\n",
       "       [1.700e-01, 2.890e-02],\n",
       "       [1.800e-01, 3.240e-02],\n",
       "       [1.900e-01, 3.610e-02],\n",
       "       [2.000e-01, 4.000e-02],\n",
       "       [2.100e-01, 4.410e-02],\n",
       "       [2.200e-01, 4.840e-02],\n",
       "       [2.300e-01, 5.290e-02],\n",
       "       [2.400e-01, 5.760e-02],\n",
       "       [2.500e-01, 6.250e-02],\n",
       "       [2.600e-01, 6.760e-02],\n",
       "       [2.700e-01, 7.290e-02],\n",
       "       [2.800e-01, 7.840e-02],\n",
       "       [2.900e-01, 8.410e-02],\n",
       "       [3.000e-01, 9.000e-02],\n",
       "       [3.100e-01, 9.610e-02],\n",
       "       [3.200e-01, 1.024e-01],\n",
       "       [3.300e-01, 1.089e-01],\n",
       "       [3.400e-01, 1.156e-01],\n",
       "       [3.500e-01, 1.225e-01],\n",
       "       [3.600e-01, 1.296e-01],\n",
       "       [3.700e-01, 1.369e-01],\n",
       "       [3.800e-01, 1.444e-01],\n",
       "       [3.900e-01, 1.521e-01],\n",
       "       [4.000e-01, 1.600e-01],\n",
       "       [4.100e-01, 1.681e-01],\n",
       "       [4.200e-01, 1.764e-01],\n",
       "       [4.300e-01, 1.849e-01],\n",
       "       [4.400e-01, 1.936e-01],\n",
       "       [4.500e-01, 2.025e-01],\n",
       "       [4.600e-01, 2.116e-01],\n",
       "       [4.700e-01, 2.209e-01],\n",
       "       [4.800e-01, 2.304e-01],\n",
       "       [4.900e-01, 2.401e-01],\n",
       "       [5.000e-01, 2.500e-01],\n",
       "       [5.100e-01, 2.601e-01],\n",
       "       [5.200e-01, 2.704e-01],\n",
       "       [5.300e-01, 2.809e-01],\n",
       "       [5.400e-01, 2.916e-01],\n",
       "       [5.500e-01, 3.025e-01],\n",
       "       [5.600e-01, 3.136e-01],\n",
       "       [5.700e-01, 3.249e-01],\n",
       "       [5.800e-01, 3.364e-01],\n",
       "       [5.900e-01, 3.481e-01],\n",
       "       [6.000e-01, 3.600e-01],\n",
       "       [6.100e-01, 3.721e-01],\n",
       "       [6.200e-01, 3.844e-01],\n",
       "       [6.300e-01, 3.969e-01],\n",
       "       [6.400e-01, 4.096e-01],\n",
       "       [6.500e-01, 4.225e-01],\n",
       "       [6.600e-01, 4.356e-01],\n",
       "       [6.700e-01, 4.489e-01],\n",
       "       [6.800e-01, 4.624e-01],\n",
       "       [6.900e-01, 4.761e-01],\n",
       "       [7.000e-01, 4.900e-01],\n",
       "       [7.100e-01, 5.041e-01],\n",
       "       [7.200e-01, 5.184e-01],\n",
       "       [7.300e-01, 5.329e-01],\n",
       "       [7.400e-01, 5.476e-01],\n",
       "       [7.500e-01, 5.625e-01],\n",
       "       [7.600e-01, 5.776e-01],\n",
       "       [7.700e-01, 5.929e-01],\n",
       "       [7.800e-01, 6.084e-01],\n",
       "       [7.900e-01, 6.241e-01],\n",
       "       [8.000e-01, 6.400e-01],\n",
       "       [8.100e-01, 6.561e-01],\n",
       "       [8.200e-01, 6.724e-01],\n",
       "       [8.300e-01, 6.889e-01],\n",
       "       [8.400e-01, 7.056e-01],\n",
       "       [8.500e-01, 7.225e-01],\n",
       "       [8.600e-01, 7.396e-01],\n",
       "       [8.700e-01, 7.569e-01],\n",
       "       [8.800e-01, 7.744e-01],\n",
       "       [8.900e-01, 7.921e-01],\n",
       "       [9.000e-01, 8.100e-01],\n",
       "       [9.100e-01, 8.281e-01],\n",
       "       [9.200e-01, 8.464e-01],\n",
       "       [9.300e-01, 8.649e-01],\n",
       "       [9.400e-01, 8.836e-01],\n",
       "       [9.500e-01, 9.025e-01],\n",
       "       [9.600e-01, 9.216e-01],\n",
       "       [9.700e-01, 9.409e-01],\n",
       "       [9.800e-01, 9.604e-01],\n",
       "       [9.900e-01, 9.801e-01],\n",
       "       [1.000e+00, 1.000e+00]])"
      ]
     },
     "execution_count": 9,
     "metadata": {},
     "output_type": "execute_result"
    }
   ],
   "source": [
    "data2"
   ]
  },
  {
   "cell_type": "code",
   "execution_count": 10,
   "metadata": {},
   "outputs": [
    {
     "data": {
      "text/plain": [
       "array([0.01, 0.03, 0.05, 0.07, 0.09, 0.11, 0.13, 0.15, 0.17, 0.19, 0.21,\n",
       "       0.23, 0.25, 0.27, 0.29, 0.31, 0.33, 0.35, 0.37, 0.39, 0.41, 0.43,\n",
       "       0.45, 0.47, 0.49, 0.51, 0.53, 0.55, 0.57, 0.59, 0.61, 0.63, 0.65,\n",
       "       0.67, 0.69, 0.71, 0.73, 0.75, 0.77, 0.79, 0.81, 0.83, 0.85, 0.87,\n",
       "       0.89, 0.91, 0.93, 0.95, 0.97, 0.99, 1.01, 1.03, 1.05, 1.07, 1.09,\n",
       "       1.11, 1.13, 1.15, 1.17, 1.19, 1.21, 1.23, 1.25, 1.27, 1.29, 1.31,\n",
       "       1.33, 1.35, 1.37, 1.39, 1.41, 1.43, 1.45, 1.47, 1.49, 1.51, 1.53,\n",
       "       1.55, 1.57, 1.59, 1.61, 1.63, 1.65, 1.67, 1.69, 1.71, 1.73, 1.75,\n",
       "       1.77, 1.79, 1.81, 1.83, 1.85, 1.87, 1.89, 1.91, 1.93, 1.95, 1.97,\n",
       "       1.99])"
      ]
     },
     "execution_count": 10,
     "metadata": {},
     "output_type": "execute_result"
    }
   ],
   "source": [
    "henka2 = np.diff(data2,axis=0) #axis=0で行方向での差分の計算\n",
    "koubai2 = henka2[:,1]/henka2[:,0]\n",
    "koubai2"
   ]
  },
  {
   "cell_type": "code",
   "execution_count": 11,
   "metadata": {},
   "outputs": [
    {
     "data": {
      "text/plain": [
       "array([0.01, 0.03, 0.05, 0.07, 0.09, 0.11, 0.13, 0.15, 0.17, 0.19, 0.21,\n",
       "       0.23, 0.25, 0.27, 0.29, 0.31, 0.33, 0.35, 0.37, 0.39, 0.41, 0.43,\n",
       "       0.45, 0.47, 0.49, 0.51, 0.53, 0.55, 0.57, 0.59, 0.61, 0.63, 0.65,\n",
       "       0.67, 0.69, 0.71, 0.73, 0.75, 0.77, 0.79, 0.81, 0.83, 0.85, 0.87,\n",
       "       0.89, 0.91, 0.93, 0.95, 0.97, 0.99, 1.01, 1.03, 1.05, 1.07, 1.09,\n",
       "       1.11, 1.13, 1.15, 1.17, 1.19, 1.21, 1.23, 1.25, 1.27, 1.29, 1.31,\n",
       "       1.33, 1.35, 1.37, 1.39, 1.41, 1.43, 1.45, 1.47, 1.49, 1.51, 1.53,\n",
       "       1.55, 1.57, 1.59, 1.61, 1.63, 1.65, 1.67, 1.69, 1.71, 1.73, 1.75,\n",
       "       1.77, 1.79, 1.81, 1.83, 1.85, 1.87, 1.89, 1.91, 1.93, 1.95, 1.97,\n",
       "       1.99, 2.01])"
      ]
     },
     "execution_count": 11,
     "metadata": {},
     "output_type": "execute_result"
    }
   ],
   "source": [
    "# x=1の時のyの勾配を調べる。xの変化量は一定として0.01とする。\n",
    "koubaiy = (1.01**2 - 1**2)/0.01\n",
    "# koubaiのリストに追加\n",
    "koubai2 = np.insert(koubai2,100,koubaiy)\n",
    "koubai2"
   ]
  },
  {
   "cell_type": "code",
   "execution_count": 12,
   "metadata": {
    "scrolled": true
   },
   "outputs": [],
   "source": [
    "data2 = np.insert(data2,2,koubai2,axis=1)"
   ]
  },
  {
   "cell_type": "code",
   "execution_count": 13,
   "metadata": {},
   "outputs": [
    {
     "name": "stderr",
     "output_type": "stream",
     "text": [
      "/Users/takahashiakira/.pyenv/versions/anaconda3-2018.12/lib/python3.7/site-packages/matplotlib/mathtext.py:843: MathTextWarning: Font 'default' does not have a glyph for '\\u306e' [U+306e], substituting with a dummy symbol.\n",
      "  MathTextWarning)\n",
      "/Users/takahashiakira/.pyenv/versions/anaconda3-2018.12/lib/python3.7/site-packages/matplotlib/mathtext.py:843: MathTextWarning: Font 'default' does not have a glyph for '\\u52fe' [U+52fe], substituting with a dummy symbol.\n",
      "  MathTextWarning)\n",
      "/Users/takahashiakira/.pyenv/versions/anaconda3-2018.12/lib/python3.7/site-packages/matplotlib/mathtext.py:843: MathTextWarning: Font 'default' does not have a glyph for '\\u914d' [U+914d], substituting with a dummy symbol.\n",
      "  MathTextWarning)\n",
      "/Users/takahashiakira/.pyenv/versions/anaconda3-2018.12/lib/python3.7/site-packages/matplotlib/mathtext.py:843: MathTextWarning: Font 'default' does not have a glyph for '\\u30b0' [U+30b0], substituting with a dummy symbol.\n",
      "  MathTextWarning)\n",
      "/Users/takahashiakira/.pyenv/versions/anaconda3-2018.12/lib/python3.7/site-packages/matplotlib/mathtext.py:843: MathTextWarning: Font 'default' does not have a glyph for '\\u30e9' [U+30e9], substituting with a dummy symbol.\n",
      "  MathTextWarning)\n",
      "/Users/takahashiakira/.pyenv/versions/anaconda3-2018.12/lib/python3.7/site-packages/matplotlib/mathtext.py:843: MathTextWarning: Font 'default' does not have a glyph for '\\u30d5' [U+30d5], substituting with a dummy symbol.\n",
      "  MathTextWarning)\n"
     ]
    },
    {
     "data": {
      "image/png": "[encoded data removed]",
      "text/plain": [
       "<Figure size 432x288 with 1 Axes>"
      ]
     },
     "metadata": {
      "needs_background": "light"
     },
     "output_type": "display_data"
    }
   ],
   "source": [
    "import matplotlib.pyplot as plt\n",
    "%matplotlib inline\n",
    "plt.plot(data2[:,0], data2[:,2])\n",
    "plt.title(r\"$y = x^2$の勾配グラフ\")\n",
    "plt.xlabel('x')\n",
    "plt.ylabel('koubai')\n",
    "plt.show()"
   ]
  },
  {
   "cell_type": "markdown",
   "metadata": {},
   "source": [
    "# 【課題5】最小値の求め方を説明しよう"
   ]
  },
  {
   "cell_type": "markdown",
   "metadata": {},
   "source": [
    "勾配降下法とは\n",
    "\n",
    "1. 初期値xを定める\n",
    "1. その地点での勾配を求めて、0もしくは0に十分近い値かどうかを判断する。\n",
    "1. 0でなければ、xの勾配に学習率をかけて反対方向へxを移動する。\n",
    "1. 2に戻る\n",
    "\n",
    "上記を繰り返してyの最小値を探索していく方法である。"
   ]
  },
  {
   "cell_type": "markdown",
   "metadata": {},
   "source": [
    "# 【課題6】最小値を求めよう ($y = x^2 + 5x$)"
   ]
  },
  {
   "cell_type": "markdown",
   "metadata": {},
   "source": [
    "$y = f(x)$\n",
    "\n",
    "$ f'(x) = \\frac{dy}{dx}$ \n",
    "\n",
    "$\\frac{dy}{dx}= 2x +5$ \n",
    "\n",
    "導関数が0となるのは\n",
    "\n",
    "$x= -\\frac{5}{2}$  \n",
    "\n",
    "その時のｙの値は\n",
    "\n",
    "$y= -\\frac{25}{4}$"
   ]
  }
 ],
 "metadata": {
  "hide_input": false,
  "kernelspec": {
   "display_name": "Python 3",
   "language": "python",
   "name": "python3"
  },
  "language_info": {
   "codemirror_mode": {
    "name": "ipython",
    "version": 3
   },
   "file_extension": ".py",
   "mimetype": "text/x-python",
   "name": "python",
   "nbconvert_exporter": "python",
   "pygments_lexer": "ipython3",
   "version": "3.7.1"
  },
  "toc": {
   "base_numbering": 1,
   "nav_menu": {},
   "number_sections": true,
   "sideBar": true,
   "skip_h1_title": false,
   "title_cell": "Table of Contents",
   "title_sidebar": "Contents",
   "toc_cell": false,
   "toc_position": {},
   "toc_section_display": true,
   "toc_window_display": false
  }
 },
 "nbformat": 4,
 "nbformat_minor": 2
}
