{
 "cells": [
  {
   "cell_type": "markdown",
   "metadata": {
    "heading_collapsed": true
   },
   "source": [
    "# 【課題1】内積を手計算しよう"
   ]
  },
  {
   "cell_type": "markdown",
   "metadata": {
    "hidden": true
   },
   "source": [
    "$$\n",
    "% <![CDATA[\n",
    "A = \\left[\n",
    "    \\begin{array}{ccc}\n",
    "      -1 & 2 & 3 \\\\\n",
    "      4 & -5 & 6 \\\\\n",
    "      7 & 8 & -9\n",
    "    \\end{array}\n",
    "  \\right],\n",
    "  B = \\left[\n",
    "    \\begin{array}{ccc}\n",
    "      0 & 2 & 1 \\\\\n",
    "      0 & 2 & -8 \\\\\n",
    "      2 & 9 & -1\n",
    "    \\end{array}\n",
    "  \\right] %]]>\n",
    "  $$"
   ]
  },
  {
   "cell_type": "markdown",
   "metadata": {
    "hidden": true
   },
   "source": [
    "$$\n",
    "AB =\\begin{bmatrix}\n",
    "6 & 29 & -20 \\\\\n",
    "12 & 52 & 38 \\\\\n",
    "-18 & -51 & -48 \n",
    "    \\end{bmatrix}$$"
   ]
  },
  {
   "cell_type": "markdown",
   "metadata": {
    "heading_collapsed": true
   },
   "source": [
    "# 【課題2】1次元配列の内積をfor文で計算しよう"
   ]
  },
  {
   "cell_type": "code",
   "execution_count": 5,
   "metadata": {
    "hidden": true
   },
   "outputs": [],
   "source": [
    "import numpy as np\n",
    "A = np.array([[-1,2,3],[4,-5,6],[7,8,-9]])\n",
    "B = np.array([[0,2,1],[0,2,-8],[2,9,-1]])"
   ]
  },
  {
   "cell_type": "code",
   "execution_count": 40,
   "metadata": {
    "code_folding": [],
    "hidden": true
   },
   "outputs": [
    {
     "data": {
      "text/plain": [
       "29"
      ]
     },
     "execution_count": 40,
     "metadata": {},
     "output_type": "execute_result"
    }
   ],
   "source": [
    "# ０行目１列目の要素を作成\n",
    "zeroiti = 0\n",
    "# 0行1列をそれぞれ固定して、要素をかけたものを増やしていく\n",
    "for i in range(3):\n",
    "    zeroiti += (A[0,i]*B[i,1])\n",
    "zeroiti"
   ]
  },
  {
   "cell_type": "markdown",
   "metadata": {
    "heading_collapsed": true
   },
   "source": [
    "# 【課題3】多次元配列の内積をfor文で計算しよう"
   ]
  },
  {
   "cell_type": "code",
   "execution_count": 45,
   "metadata": {
    "hidden": true
   },
   "outputs": [
    {
     "data": {
      "text/plain": [
       "array([[  6.,  29., -20.],\n",
       "       [ 12.,  52.,  38.],\n",
       "       [-18., -51., -48.]])"
      ]
     },
     "execution_count": 45,
     "metadata": {},
     "output_type": "execute_result"
    }
   ],
   "source": [
    "# 3×3の全て０行列を作成\n",
    "AB = np.zeros((3,3))\n",
    "# kでインデックス移動、jは列の移動、iは行の移動\n",
    "for i in range(3):\n",
    "    for j in range(3):\n",
    "        for k in range(3):\n",
    "            AB[i,j]+= A[i,k]*B[k,j]\n",
    "AB"
   ]
  },
  {
   "cell_type": "markdown",
   "metadata": {
    "heading_collapsed": true
   },
   "source": [
    "# 【課題4】内積をnp.dotで計算しよう"
   ]
  },
  {
   "cell_type": "code",
   "execution_count": 46,
   "metadata": {
    "hidden": true
   },
   "outputs": [
    {
     "data": {
      "text/plain": [
       "array([[  6,  29, -20],\n",
       "       [ 12,  52,  38],\n",
       "       [-18, -51, -48]])"
      ]
     },
     "execution_count": 46,
     "metadata": {},
     "output_type": "execute_result"
    }
   ],
   "source": [
    "dotAB = np.dot(A,B)\n",
    "dotAB"
   ]
  },
  {
   "cell_type": "markdown",
   "metadata": {
    "heading_collapsed": true
   },
   "source": [
    "# 【課題5】内積ができないときはどうするか"
   ]
  },
  {
   "cell_type": "markdown",
   "metadata": {
    "hidden": true
   },
   "source": [
    "- エラーの理由はAの列数とBの行数が一致していないから。\n",
    "- 内積はAの行とBの列を掛け合わせたものとなるので、それぞれの要素の数が一致していないと掛け算ができない。\n",
    "- $[m \\times n][n \\times p]$としてnの数が一致する必要がある。\n",
    "- 結果は$[m \\times p]$となり m行p列の成分はm行とp列の積となる。"
   ]
  },
  {
   "cell_type": "code",
   "execution_count": 48,
   "metadata": {
    "hidden": true
   },
   "outputs": [
    {
     "data": {
      "text/plain": [
       "array([[ 46,  -4],\n",
       "       [-34,  73]])"
      ]
     },
     "execution_count": 48,
     "metadata": {},
     "output_type": "execute_result"
    }
   ],
   "source": [
    "A = np.array([[-1,2,3],[4,-5,6]])\n",
    "B = np.array([[-9,8,7],[6,-5,4]])\n",
    "# どちらかの行列を転置すればnの数が一致する。\n",
    "np.dot(A,B.T)"
   ]
  }
 ],
 "metadata": {
  "hide_input": false,
  "kernelspec": {
   "display_name": "Python 3",
   "language": "python",
   "name": "python3"
  },
  "language_info": {
   "codemirror_mode": {
    "name": "ipython",
    "version": 3
   },
   "file_extension": ".py",
   "mimetype": "text/x-python",
   "name": "python",
   "nbconvert_exporter": "python",
   "pygments_lexer": "ipython3",
   "version": "3.7.1"
  },
  "toc": {
   "base_numbering": 1,
   "nav_menu": {},
   "number_sections": true,
   "sideBar": true,
   "skip_h1_title": false,
   "title_cell": "Table of Contents",
   "title_sidebar": "Contents",
   "toc_cell": false,
   "toc_position": {},
   "toc_section_display": true,
   "toc_window_display": false
  }
 },
 "nbformat": 4,
 "nbformat_minor": 2
}
